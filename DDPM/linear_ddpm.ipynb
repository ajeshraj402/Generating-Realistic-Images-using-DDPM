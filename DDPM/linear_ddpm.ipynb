{
 "cells": [
  {
   "cell_type": "code",
   "execution_count": 1,
   "id": "a6968b91-1ca9-4c50-af52-3729843c2252",
   "metadata": {},
   "outputs": [],
   "source": [
    "!pip install -q torch torchvision matplotlib tqdm pytorch-fid --quiet"
   ]
  },
  {
   "cell_type": "code",
   "execution_count": 2,
   "id": "5e878f44-ece5-488d-9f0f-6e6d68c65dfa",
   "metadata": {},
   "outputs": [],
   "source": [
    "import torch\n",
    "import torch.nn as nn\n",
    "import torch.nn.functional as F\n",
    "from torchvision import transforms, datasets\n",
    "from torch.utils.data import DataLoader\n",
    "from torchvision.utils import make_grid\n",
    "import matplotlib.pyplot as plt\n",
    "from tqdm.notebook import tqdm\n",
    "import numpy as np\n",
    "import os"
   ]
  },
  {
   "cell_type": "code",
   "execution_count": 14,
   "id": "bf7ee75b-2010-4c50-a57b-8974e96bcdb5",
   "metadata": {},
   "outputs": [],
   "source": [
    "transform = transforms.Compose([\n",
    "    transforms.ToTensor(),\n",
    "    transforms.Lambda(lambda t: (t * 2) - 1)  # scale to [-1, 1]\n",
    "])\n",
    "\n",
    "dataset = datasets.CIFAR10(root='./data', train=True, download=True, transform=transform)\n",
    "\n",
    "# Use all CPU cores and larger batch size\n",
    "dataloader = DataLoader(\n",
    "    dataset,\n",
    "    batch_size=256,\n",
    "    shuffle=True,\n",
    "    num_workers=32,\n",
    "    pin_memory=True\n",
    ")"
   ]
  },
  {
   "cell_type": "code",
   "execution_count": 15,
   "id": "b7d2c763-df40-4b76-9f23-35e27375d44c",
   "metadata": {},
   "outputs": [],
   "source": [
    "class SinusoidalPositionEmbeddings(nn.Module):\n",
    "    def __init__(self, dim):\n",
    "        super().__init__()\n",
    "        self.dim = dim\n",
    "\n",
    "    def forward(self, time):\n",
    "        device = time.device\n",
    "        half_dim = self.dim // 2\n",
    "        embeddings = np.log(10000) / (half_dim - 1)\n",
    "        embeddings = torch.exp(torch.arange(half_dim, device=device) * -embeddings)\n",
    "        embeddings = time[:, None] * embeddings[None, :]\n",
    "        embeddings = torch.cat([torch.sin(embeddings), torch.cos(embeddings)], dim=-1)\n",
    "        return embeddings\n",
    "\n",
    "class ResidualBlock(nn.Module):\n",
    "    def __init__(self, in_channels, out_channels, time_emb_dim):\n",
    "        super().__init__()\n",
    "        self.time_mlp = nn.Linear(time_emb_dim, out_channels)\n",
    "        self.block1 = nn.Sequential(\n",
    "            nn.Conv2d(in_channels, out_channels, 3, padding=1),\n",
    "            nn.GroupNorm(8, out_channels),\n",
    "            nn.ReLU()\n",
    "        )\n",
    "        self.block2 = nn.Sequential(\n",
    "            nn.Conv2d(out_channels, out_channels, 3, padding=1),\n",
    "            nn.GroupNorm(8, out_channels),\n",
    "            nn.ReLU()\n",
    "        )\n",
    "\n",
    "        self.res_conv = nn.Conv2d(in_channels, out_channels, 1) if in_channels != out_channels else nn.Identity()\n",
    "\n",
    "    def forward(self, x, t_emb):\n",
    "        h = self.block1(x)\n",
    "        t = self.time_mlp(t_emb).unsqueeze(-1).unsqueeze(-1)\n",
    "        h = h + t\n",
    "        h = self.block2(h)\n",
    "        return h + self.res_conv(x)\n",
    "\n",
    "class SimpleUnet(nn.Module):\n",
    "    def __init__(self):\n",
    "        super().__init__()\n",
    "        self.time_mlp = nn.Sequential(\n",
    "            SinusoidalPositionEmbeddings(32),\n",
    "            nn.Linear(32, 128),\n",
    "            nn.ReLU()\n",
    "        )\n",
    "\n",
    "        self.conv1 = ResidualBlock(3, 64, 128)\n",
    "        self.conv2 = ResidualBlock(64, 128, 128)\n",
    "        self.conv3 = ResidualBlock(128, 128, 128)\n",
    "        self.deconv1 = ResidualBlock(128, 128, 128)\n",
    "        self.deconv2 = ResidualBlock(128, 64, 128)\n",
    "        self.output = nn.Conv2d(64, 3, 1)\n",
    "\n",
    "    def forward(self, x, t):\n",
    "        t_emb = self.time_mlp(t)\n",
    "        x1 = self.conv1(x, t_emb)\n",
    "        x2 = self.conv2(x1, t_emb)\n",
    "        x3 = self.conv3(x2, t_emb)\n",
    "        x = self.deconv1(x3, t_emb)\n",
    "        x = self.deconv2(x + x2, t_emb)\n",
    "        return self.output(x + x1)"
   ]
  },
  {
   "cell_type": "code",
   "execution_count": 16,
   "id": "bfc9d96b-0fd5-4ef4-b79f-a5435bcbf176",
   "metadata": {},
   "outputs": [],
   "source": [
    "device = torch.device(\"cuda\" if torch.cuda.is_available() else \"cpu\")"
   ]
  },
  {
   "cell_type": "code",
   "execution_count": 17,
   "id": "d3320fe1-cef9-40de-a76a-00d4c83ba550",
   "metadata": {},
   "outputs": [
    {
     "name": "stdout",
     "output_type": "stream",
     "text": [
      "Using 2 GPUs\n"
     ]
    }
   ],
   "source": [
    "model = SimpleUnet()\n",
    "\n",
    "if torch.cuda.device_count() > 1:\n",
    "    print(f\"Using {torch.cuda.device_count()} GPUs\")\n",
    "    model = nn.DataParallel(model)\n",
    "\n",
    "model = model.to(device)"
   ]
  },
  {
   "cell_type": "code",
   "execution_count": 18,
   "id": "76799b4e-d5be-4ab7-9217-6bf7a61d2e5a",
   "metadata": {},
   "outputs": [],
   "source": [
    "# Define diffusion hyperparameters\n",
    "T = 300\n",
    "betas = torch.linspace(1e-4, 0.02, T, device=device)\n",
    "alphas = 1. - betas\n",
    "alpha_hat = torch.cumprod(alphas, dim=0)  # Already on GPU\n",
    "\n",
    "# Noise images efficiently using vectorized operations\n",
    "def noise_images(x, t):\n",
    "    batch_size = x.shape[0]\n",
    "    sqrt_alpha_hat_t = torch.sqrt(alpha_hat[t]).reshape(batch_size, 1, 1, 1)\n",
    "    sqrt_one_minus_alpha_hat_t = torch.sqrt(1 - alpha_hat[t]).reshape(batch_size, 1, 1, 1)\n",
    "    ε = torch.randn_like(x)\n",
    "    return sqrt_alpha_hat_t * x + sqrt_one_minus_alpha_hat_t * ε, ε"
   ]
  },
  {
   "cell_type": "code",
   "execution_count": 19,
   "id": "6c47133f-8804-4283-9eb2-1e6005d1e517",
   "metadata": {},
   "outputs": [],
   "source": [
    "def get_loss(model, x0, t):\n",
    "    x0 = x0.to(device, non_blocking=True)\n",
    "    t = t.to(device)\n",
    "    \n",
    "    x_noisy, noise = noise_images(x0, t)\n",
    "    noise_pred = model(x_noisy, t)\n",
    "    return F.mse_loss(noise_pred, noise)"
   ]
  },
  {
   "cell_type": "code",
   "execution_count": null,
   "id": "2c20faec-bf36-4435-b9f7-4b87d33bfac0",
   "metadata": {},
   "outputs": [
    {
     "name": "stdout",
     "output_type": "stream",
     "text": [
      "Using 2 GPUs\n",
      "Starting training...\n"
     ]
    },
    {
     "data": {
      "application/vnd.jupyter.widget-view+json": {
       "model_id": "90926edc015046fa9bf83c32e2d23421",
       "version_major": 2,
       "version_minor": 0
      },
      "text/plain": [
       "Epoch 1:   0%|          | 0/196 [00:00<?, ?it/s]"
      ]
     },
     "metadata": {},
     "output_type": "display_data"
    },
    {
     "data": {
      "application/vnd.jupyter.widget-view+json": {
       "model_id": "45925e849ca94fdb948d523b8e1294c3",
       "version_major": 2,
       "version_minor": 0
      },
      "text/plain": [
       "Epoch 2:   0%|          | 0/196 [00:00<?, ?it/s]"
      ]
     },
     "metadata": {},
     "output_type": "display_data"
    },
    {
     "data": {
      "application/vnd.jupyter.widget-view+json": {
       "model_id": "9b51f4f825584ce3b0c9b2c6c0084775",
       "version_major": 2,
       "version_minor": 0
      },
      "text/plain": [
       "Epoch 3:   0%|          | 0/196 [00:00<?, ?it/s]"
      ]
     },
     "metadata": {},
     "output_type": "display_data"
    },
    {
     "data": {
      "application/vnd.jupyter.widget-view+json": {
       "model_id": "f69c084bd2d44ba284883bf44d49d632",
       "version_major": 2,
       "version_minor": 0
      },
      "text/plain": [
       "Epoch 4:   0%|          | 0/196 [00:00<?, ?it/s]"
      ]
     },
     "metadata": {},
     "output_type": "display_data"
    },
    {
     "data": {
      "application/vnd.jupyter.widget-view+json": {
       "model_id": "f0754e833e6b465ab3348610e573e978",
       "version_major": 2,
       "version_minor": 0
      },
      "text/plain": [
       "Epoch 5:   0%|          | 0/196 [00:00<?, ?it/s]"
      ]
     },
     "metadata": {},
     "output_type": "display_data"
    },
    {
     "data": {
      "application/vnd.jupyter.widget-view+json": {
       "model_id": "21419448f7da49e58933ba903f471f44",
       "version_major": 2,
       "version_minor": 0
      },
      "text/plain": [
       "Epoch 6:   0%|          | 0/196 [00:00<?, ?it/s]"
      ]
     },
     "metadata": {},
     "output_type": "display_data"
    },
    {
     "data": {
      "application/vnd.jupyter.widget-view+json": {
       "model_id": "1602ebb5262c4ab9b5001a9bfeb701f4",
       "version_major": 2,
       "version_minor": 0
      },
      "text/plain": [
       "Epoch 7:   0%|          | 0/196 [00:00<?, ?it/s]"
      ]
     },
     "metadata": {},
     "output_type": "display_data"
    },
    {
     "data": {
      "application/vnd.jupyter.widget-view+json": {
       "model_id": "53c2f340109b44d49438ed7e9efc5dd4",
       "version_major": 2,
       "version_minor": 0
      },
      "text/plain": [
       "Epoch 8:   0%|          | 0/196 [00:00<?, ?it/s]"
      ]
     },
     "metadata": {},
     "output_type": "display_data"
    },
    {
     "data": {
      "application/vnd.jupyter.widget-view+json": {
       "model_id": "7d400ad4b0dd4500b0630e42b9ecd0fb",
       "version_major": 2,
       "version_minor": 0
      },
      "text/plain": [
       "Epoch 9:   0%|          | 0/196 [00:00<?, ?it/s]"
      ]
     },
     "metadata": {},
     "output_type": "display_data"
    },
    {
     "data": {
      "application/vnd.jupyter.widget-view+json": {
       "model_id": "6c995704019e48f2971c21fc417bf35b",
       "version_major": 2,
       "version_minor": 0
      },
      "text/plain": [
       "Epoch 10:   0%|          | 0/196 [00:00<?, ?it/s]"
      ]
     },
     "metadata": {},
     "output_type": "display_data"
    },
    {
     "data": {
      "application/vnd.jupyter.widget-view+json": {
       "model_id": "a06488b6488140699cc3b6b1eda8bb93",
       "version_major": 2,
       "version_minor": 0
      },
      "text/plain": [
       "Epoch 11:   0%|          | 0/196 [00:00<?, ?it/s]"
      ]
     },
     "metadata": {},
     "output_type": "display_data"
    },
    {
     "data": {
      "application/vnd.jupyter.widget-view+json": {
       "model_id": "24759b31fc624f7cbb86e3a8690e80a3",
       "version_major": 2,
       "version_minor": 0
      },
      "text/plain": [
       "Epoch 12:   0%|          | 0/196 [00:00<?, ?it/s]"
      ]
     },
     "metadata": {},
     "output_type": "display_data"
    },
    {
     "data": {
      "application/vnd.jupyter.widget-view+json": {
       "model_id": "e457cf3266b348b3a4aeb963f8597651",
       "version_major": 2,
       "version_minor": 0
      },
      "text/plain": [
       "Epoch 13:   0%|          | 0/196 [00:00<?, ?it/s]"
      ]
     },
     "metadata": {},
     "output_type": "display_data"
    },
    {
     "data": {
      "application/vnd.jupyter.widget-view+json": {
       "model_id": "41b90813f8bd416d999061e1c5929205",
       "version_major": 2,
       "version_minor": 0
      },
      "text/plain": [
       "Epoch 14:   0%|          | 0/196 [00:00<?, ?it/s]"
      ]
     },
     "metadata": {},
     "output_type": "display_data"
    },
    {
     "data": {
      "application/vnd.jupyter.widget-view+json": {
       "model_id": "617dd42e6150481084a6634afc4d229a",
       "version_major": 2,
       "version_minor": 0
      },
      "text/plain": [
       "Epoch 15:   0%|          | 0/196 [00:00<?, ?it/s]"
      ]
     },
     "metadata": {},
     "output_type": "display_data"
    },
    {
     "data": {
      "application/vnd.jupyter.widget-view+json": {
       "model_id": "5077ef990db4411d828a65d5cc57ea29",
       "version_major": 2,
       "version_minor": 0
      },
      "text/plain": [
       "Epoch 16:   0%|          | 0/196 [00:00<?, ?it/s]"
      ]
     },
     "metadata": {},
     "output_type": "display_data"
    },
    {
     "data": {
      "application/vnd.jupyter.widget-view+json": {
       "model_id": "ef883aff647c40108894bab87934540e",
       "version_major": 2,
       "version_minor": 0
      },
      "text/plain": [
       "Epoch 17:   0%|          | 0/196 [00:00<?, ?it/s]"
      ]
     },
     "metadata": {},
     "output_type": "display_data"
    },
    {
     "data": {
      "application/vnd.jupyter.widget-view+json": {
       "model_id": "8c4326c0b9d74554a6cac24dd6ebb9dd",
       "version_major": 2,
       "version_minor": 0
      },
      "text/plain": [
       "Epoch 18:   0%|          | 0/196 [00:00<?, ?it/s]"
      ]
     },
     "metadata": {},
     "output_type": "display_data"
    },
    {
     "data": {
      "application/vnd.jupyter.widget-view+json": {
       "model_id": "1954e01f54954c6d832b2598aeaec9dc",
       "version_major": 2,
       "version_minor": 0
      },
      "text/plain": [
       "Epoch 19:   0%|          | 0/196 [00:00<?, ?it/s]"
      ]
     },
     "metadata": {},
     "output_type": "display_data"
    },
    {
     "data": {
      "application/vnd.jupyter.widget-view+json": {
       "model_id": "c50554999a8b4c67a5cae10b7d2cc967",
       "version_major": 2,
       "version_minor": 0
      },
      "text/plain": [
       "Epoch 20:   0%|          | 0/196 [00:00<?, ?it/s]"
      ]
     },
     "metadata": {},
     "output_type": "display_data"
    },
    {
     "data": {
      "application/vnd.jupyter.widget-view+json": {
       "model_id": "a465f5e5c64d49b18ed785ab78cfbb4a",
       "version_major": 2,
       "version_minor": 0
      },
      "text/plain": [
       "Epoch 21:   0%|          | 0/196 [00:00<?, ?it/s]"
      ]
     },
     "metadata": {},
     "output_type": "display_data"
    },
    {
     "data": {
      "application/vnd.jupyter.widget-view+json": {
       "model_id": "921d278cb5be49148a095de600a8a6cc",
       "version_major": 2,
       "version_minor": 0
      },
      "text/plain": [
       "Epoch 22:   0%|          | 0/196 [00:00<?, ?it/s]"
      ]
     },
     "metadata": {},
     "output_type": "display_data"
    },
    {
     "data": {
      "application/vnd.jupyter.widget-view+json": {
       "model_id": "d0b29448e7f541ffa4551cc2e8bb8d3d",
       "version_major": 2,
       "version_minor": 0
      },
      "text/plain": [
       "Epoch 23:   0%|          | 0/196 [00:00<?, ?it/s]"
      ]
     },
     "metadata": {},
     "output_type": "display_data"
    },
    {
     "data": {
      "application/vnd.jupyter.widget-view+json": {
       "model_id": "d090307dee814d4196d22304bdf088da",
       "version_major": 2,
       "version_minor": 0
      },
      "text/plain": [
       "Epoch 24:   0%|          | 0/196 [00:00<?, ?it/s]"
      ]
     },
     "metadata": {},
     "output_type": "display_data"
    },
    {
     "data": {
      "application/vnd.jupyter.widget-view+json": {
       "model_id": "d1b475d0ceeb434086db2025d124f4f7",
       "version_major": 2,
       "version_minor": 0
      },
      "text/plain": [
       "Epoch 25:   0%|          | 0/196 [00:00<?, ?it/s]"
      ]
     },
     "metadata": {},
     "output_type": "display_data"
    },
    {
     "data": {
      "application/vnd.jupyter.widget-view+json": {
       "model_id": "cebd79260f7747b998e11c53ef74e4e5",
       "version_major": 2,
       "version_minor": 0
      },
      "text/plain": [
       "Epoch 26:   0%|          | 0/196 [00:00<?, ?it/s]"
      ]
     },
     "metadata": {},
     "output_type": "display_data"
    },
    {
     "data": {
      "application/vnd.jupyter.widget-view+json": {
       "model_id": "757e1d3dc07545f5b125ad4ead8f7089",
       "version_major": 2,
       "version_minor": 0
      },
      "text/plain": [
       "Epoch 27:   0%|          | 0/196 [00:00<?, ?it/s]"
      ]
     },
     "metadata": {},
     "output_type": "display_data"
    },
    {
     "data": {
      "application/vnd.jupyter.widget-view+json": {
       "model_id": "a894c0bdb114447abd5d2f16becb8fc9",
       "version_major": 2,
       "version_minor": 0
      },
      "text/plain": [
       "Epoch 28:   0%|          | 0/196 [00:00<?, ?it/s]"
      ]
     },
     "metadata": {},
     "output_type": "display_data"
    },
    {
     "data": {
      "application/vnd.jupyter.widget-view+json": {
       "model_id": "894b7712c2084a2c90b173baae0cf404",
       "version_major": 2,
       "version_minor": 0
      },
      "text/plain": [
       "Epoch 29:   0%|          | 0/196 [00:00<?, ?it/s]"
      ]
     },
     "metadata": {},
     "output_type": "display_data"
    },
    {
     "data": {
      "application/vnd.jupyter.widget-view+json": {
       "model_id": "7c7ad40c95c84e9ebd1f1ebbfa6803e4",
       "version_major": 2,
       "version_minor": 0
      },
      "text/plain": [
       "Epoch 30:   0%|          | 0/196 [00:00<?, ?it/s]"
      ]
     },
     "metadata": {},
     "output_type": "display_data"
    },
    {
     "data": {
      "application/vnd.jupyter.widget-view+json": {
       "model_id": "ec1f2473f1c34c8c92a0cd047dfd4d77",
       "version_major": 2,
       "version_minor": 0
      },
      "text/plain": [
       "Epoch 31:   0%|          | 0/196 [00:00<?, ?it/s]"
      ]
     },
     "metadata": {},
     "output_type": "display_data"
    },
    {
     "data": {
      "application/vnd.jupyter.widget-view+json": {
       "model_id": "7c0e1006b9344838b66e4c99f542795a",
       "version_major": 2,
       "version_minor": 0
      },
      "text/plain": [
       "Epoch 32:   0%|          | 0/196 [00:00<?, ?it/s]"
      ]
     },
     "metadata": {},
     "output_type": "display_data"
    },
    {
     "data": {
      "application/vnd.jupyter.widget-view+json": {
       "model_id": "1b7a4acbf7a549d190ba835e813f2bc5",
       "version_major": 2,
       "version_minor": 0
      },
      "text/plain": [
       "Epoch 33:   0%|          | 0/196 [00:00<?, ?it/s]"
      ]
     },
     "metadata": {},
     "output_type": "display_data"
    },
    {
     "data": {
      "application/vnd.jupyter.widget-view+json": {
       "model_id": "1e3bef5604ba4fac9b677e791f30e368",
       "version_major": 2,
       "version_minor": 0
      },
      "text/plain": [
       "Epoch 34:   0%|          | 0/196 [00:00<?, ?it/s]"
      ]
     },
     "metadata": {},
     "output_type": "display_data"
    },
    {
     "data": {
      "application/vnd.jupyter.widget-view+json": {
       "model_id": "b2b1a60f1ae248bb8e497022672e2bea",
       "version_major": 2,
       "version_minor": 0
      },
      "text/plain": [
       "Epoch 35:   0%|          | 0/196 [00:00<?, ?it/s]"
      ]
     },
     "metadata": {},
     "output_type": "display_data"
    },
    {
     "data": {
      "application/vnd.jupyter.widget-view+json": {
       "model_id": "470b5e28eda84f1795273d7b3a0ce66e",
       "version_major": 2,
       "version_minor": 0
      },
      "text/plain": [
       "Epoch 36:   0%|          | 0/196 [00:00<?, ?it/s]"
      ]
     },
     "metadata": {},
     "output_type": "display_data"
    },
    {
     "data": {
      "application/vnd.jupyter.widget-view+json": {
       "model_id": "2d6a434b48834fc28ed359a0b6eee754",
       "version_major": 2,
       "version_minor": 0
      },
      "text/plain": [
       "Epoch 37:   0%|          | 0/196 [00:00<?, ?it/s]"
      ]
     },
     "metadata": {},
     "output_type": "display_data"
    },
    {
     "data": {
      "application/vnd.jupyter.widget-view+json": {
       "model_id": "89dec9588b8f40cc9cd7dd401b43d49c",
       "version_major": 2,
       "version_minor": 0
      },
      "text/plain": [
       "Epoch 38:   0%|          | 0/196 [00:00<?, ?it/s]"
      ]
     },
     "metadata": {},
     "output_type": "display_data"
    },
    {
     "data": {
      "application/vnd.jupyter.widget-view+json": {
       "model_id": "a4cc3a510c164270a635055ecdbddf40",
       "version_major": 2,
       "version_minor": 0
      },
      "text/plain": [
       "Epoch 39:   0%|          | 0/196 [00:00<?, ?it/s]"
      ]
     },
     "metadata": {},
     "output_type": "display_data"
    },
    {
     "data": {
      "application/vnd.jupyter.widget-view+json": {
       "model_id": "306b6b5a78c1463f80a98debaae8ef74",
       "version_major": 2,
       "version_minor": 0
      },
      "text/plain": [
       "Epoch 40:   0%|          | 0/196 [00:00<?, ?it/s]"
      ]
     },
     "metadata": {},
     "output_type": "display_data"
    },
    {
     "data": {
      "application/vnd.jupyter.widget-view+json": {
       "model_id": "3581305e08f6401098f8d74d747ca2d6",
       "version_major": 2,
       "version_minor": 0
      },
      "text/plain": [
       "Epoch 41:   0%|          | 0/196 [00:00<?, ?it/s]"
      ]
     },
     "metadata": {},
     "output_type": "display_data"
    },
    {
     "data": {
      "application/vnd.jupyter.widget-view+json": {
       "model_id": "e8ba3f97e36e43b7922f65618d259f9a",
       "version_major": 2,
       "version_minor": 0
      },
      "text/plain": [
       "Epoch 42:   0%|          | 0/196 [00:00<?, ?it/s]"
      ]
     },
     "metadata": {},
     "output_type": "display_data"
    },
    {
     "data": {
      "application/vnd.jupyter.widget-view+json": {
       "model_id": "0d388f15785b4478a7e548833cf57029",
       "version_major": 2,
       "version_minor": 0
      },
      "text/plain": [
       "Epoch 43:   0%|          | 0/196 [00:00<?, ?it/s]"
      ]
     },
     "metadata": {},
     "output_type": "display_data"
    },
    {
     "data": {
      "application/vnd.jupyter.widget-view+json": {
       "model_id": "4e84df02c11648f79175d8274d924934",
       "version_major": 2,
       "version_minor": 0
      },
      "text/plain": [
       "Epoch 44:   0%|          | 0/196 [00:00<?, ?it/s]"
      ]
     },
     "metadata": {},
     "output_type": "display_data"
    },
    {
     "data": {
      "application/vnd.jupyter.widget-view+json": {
       "model_id": "d525d8b794a04f748a9d20eecae5505a",
       "version_major": 2,
       "version_minor": 0
      },
      "text/plain": [
       "Epoch 45:   0%|          | 0/196 [00:00<?, ?it/s]"
      ]
     },
     "metadata": {},
     "output_type": "display_data"
    },
    {
     "data": {
      "application/vnd.jupyter.widget-view+json": {
       "model_id": "a33a3de32551467381d173d2aa512654",
       "version_major": 2,
       "version_minor": 0
      },
      "text/plain": [
       "Epoch 46:   0%|          | 0/196 [00:00<?, ?it/s]"
      ]
     },
     "metadata": {},
     "output_type": "display_data"
    },
    {
     "data": {
      "application/vnd.jupyter.widget-view+json": {
       "model_id": "30b6956664a0472891d38f5c17bfb2fb",
       "version_major": 2,
       "version_minor": 0
      },
      "text/plain": [
       "Epoch 47:   0%|          | 0/196 [00:00<?, ?it/s]"
      ]
     },
     "metadata": {},
     "output_type": "display_data"
    },
    {
     "data": {
      "application/vnd.jupyter.widget-view+json": {
       "model_id": "626ebf75831442df89f075904d745269",
       "version_major": 2,
       "version_minor": 0
      },
      "text/plain": [
       "Epoch 48:   0%|          | 0/196 [00:00<?, ?it/s]"
      ]
     },
     "metadata": {},
     "output_type": "display_data"
    },
    {
     "data": {
      "application/vnd.jupyter.widget-view+json": {
       "model_id": "54d931abaf174bd5ad8bb91fa8e621d4",
       "version_major": 2,
       "version_minor": 0
      },
      "text/plain": [
       "Epoch 49:   0%|          | 0/196 [00:00<?, ?it/s]"
      ]
     },
     "metadata": {},
     "output_type": "display_data"
    },
    {
     "data": {
      "application/vnd.jupyter.widget-view+json": {
       "model_id": "c81b210c6a044edfbe2356641a483b06",
       "version_major": 2,
       "version_minor": 0
      },
      "text/plain": [
       "Epoch 50:   0%|          | 0/196 [00:00<?, ?it/s]"
      ]
     },
     "metadata": {},
     "output_type": "display_data"
    },
    {
     "data": {
      "application/vnd.jupyter.widget-view+json": {
       "model_id": "9f24daa6611446498c0f381082ac167d",
       "version_major": 2,
       "version_minor": 0
      },
      "text/plain": [
       "Epoch 51:   0%|          | 0/196 [00:00<?, ?it/s]"
      ]
     },
     "metadata": {},
     "output_type": "display_data"
    },
    {
     "data": {
      "application/vnd.jupyter.widget-view+json": {
       "model_id": "620b8581dbac4ec49e8402c05230984e",
       "version_major": 2,
       "version_minor": 0
      },
      "text/plain": [
       "Epoch 52:   0%|          | 0/196 [00:00<?, ?it/s]"
      ]
     },
     "metadata": {},
     "output_type": "display_data"
    },
    {
     "data": {
      "application/vnd.jupyter.widget-view+json": {
       "model_id": "caf5aed426334357860880f9b962ba0c",
       "version_major": 2,
       "version_minor": 0
      },
      "text/plain": [
       "Epoch 53:   0%|          | 0/196 [00:00<?, ?it/s]"
      ]
     },
     "metadata": {},
     "output_type": "display_data"
    },
    {
     "data": {
      "application/vnd.jupyter.widget-view+json": {
       "model_id": "2c5dcc8c3980469681e9d05f006b9b19",
       "version_major": 2,
       "version_minor": 0
      },
      "text/plain": [
       "Epoch 54:   0%|          | 0/196 [00:00<?, ?it/s]"
      ]
     },
     "metadata": {},
     "output_type": "display_data"
    },
    {
     "data": {
      "application/vnd.jupyter.widget-view+json": {
       "model_id": "d566fe708c9743d4b5898cc99e87644a",
       "version_major": 2,
       "version_minor": 0
      },
      "text/plain": [
       "Epoch 55:   0%|          | 0/196 [00:00<?, ?it/s]"
      ]
     },
     "metadata": {},
     "output_type": "display_data"
    },
    {
     "data": {
      "application/vnd.jupyter.widget-view+json": {
       "model_id": "d8b5a59f8fb542d4a4b050e45f3acbac",
       "version_major": 2,
       "version_minor": 0
      },
      "text/plain": [
       "Epoch 56:   0%|          | 0/196 [00:00<?, ?it/s]"
      ]
     },
     "metadata": {},
     "output_type": "display_data"
    },
    {
     "data": {
      "application/vnd.jupyter.widget-view+json": {
       "model_id": "4d1a13125f0d4cb8912c1d315eed74d9",
       "version_major": 2,
       "version_minor": 0
      },
      "text/plain": [
       "Epoch 57:   0%|          | 0/196 [00:00<?, ?it/s]"
      ]
     },
     "metadata": {},
     "output_type": "display_data"
    },
    {
     "data": {
      "application/vnd.jupyter.widget-view+json": {
       "model_id": "1e13c13278774ba8b221020e759e1926",
       "version_major": 2,
       "version_minor": 0
      },
      "text/plain": [
       "Epoch 58:   0%|          | 0/196 [00:00<?, ?it/s]"
      ]
     },
     "metadata": {},
     "output_type": "display_data"
    },
    {
     "data": {
      "application/vnd.jupyter.widget-view+json": {
       "model_id": "acb33f95862442d8ac27097b4ed5c924",
       "version_major": 2,
       "version_minor": 0
      },
      "text/plain": [
       "Epoch 59:   0%|          | 0/196 [00:00<?, ?it/s]"
      ]
     },
     "metadata": {},
     "output_type": "display_data"
    },
    {
     "data": {
      "application/vnd.jupyter.widget-view+json": {
       "model_id": "f76b3e59200243ad97223ce453273291",
       "version_major": 2,
       "version_minor": 0
      },
      "text/plain": [
       "Epoch 60:   0%|          | 0/196 [00:00<?, ?it/s]"
      ]
     },
     "metadata": {},
     "output_type": "display_data"
    },
    {
     "data": {
      "application/vnd.jupyter.widget-view+json": {
       "model_id": "2fbd0c9c6ecd4ffa959eb9f0329a1d09",
       "version_major": 2,
       "version_minor": 0
      },
      "text/plain": [
       "Epoch 61:   0%|          | 0/196 [00:00<?, ?it/s]"
      ]
     },
     "metadata": {},
     "output_type": "display_data"
    },
    {
     "data": {
      "application/vnd.jupyter.widget-view+json": {
       "model_id": "bbe465a4133743b0ad3d96814f6e8a1d",
       "version_major": 2,
       "version_minor": 0
      },
      "text/plain": [
       "Epoch 62:   0%|          | 0/196 [00:00<?, ?it/s]"
      ]
     },
     "metadata": {},
     "output_type": "display_data"
    },
    {
     "data": {
      "application/vnd.jupyter.widget-view+json": {
       "model_id": "1ebf1363fd4b48b6964177808d77803d",
       "version_major": 2,
       "version_minor": 0
      },
      "text/plain": [
       "Epoch 63:   0%|          | 0/196 [00:00<?, ?it/s]"
      ]
     },
     "metadata": {},
     "output_type": "display_data"
    },
    {
     "data": {
      "application/vnd.jupyter.widget-view+json": {
       "model_id": "b3d1b59ec05c47bb98b161b1e0b9fa32",
       "version_major": 2,
       "version_minor": 0
      },
      "text/plain": [
       "Epoch 64:   0%|          | 0/196 [00:00<?, ?it/s]"
      ]
     },
     "metadata": {},
     "output_type": "display_data"
    },
    {
     "data": {
      "application/vnd.jupyter.widget-view+json": {
       "model_id": "064aa560bf60421e9f8cb917a058eacf",
       "version_major": 2,
       "version_minor": 0
      },
      "text/plain": [
       "Epoch 65:   0%|          | 0/196 [00:00<?, ?it/s]"
      ]
     },
     "metadata": {},
     "output_type": "display_data"
    },
    {
     "data": {
      "application/vnd.jupyter.widget-view+json": {
       "model_id": "9404ea37dbeb49a39f2cce359c0eee76",
       "version_major": 2,
       "version_minor": 0
      },
      "text/plain": [
       "Epoch 66:   0%|          | 0/196 [00:00<?, ?it/s]"
      ]
     },
     "metadata": {},
     "output_type": "display_data"
    },
    {
     "data": {
      "application/vnd.jupyter.widget-view+json": {
       "model_id": "8e7fcb1b8b24445e9dd76a22d46959f4",
       "version_major": 2,
       "version_minor": 0
      },
      "text/plain": [
       "Epoch 67:   0%|          | 0/196 [00:00<?, ?it/s]"
      ]
     },
     "metadata": {},
     "output_type": "display_data"
    },
    {
     "data": {
      "application/vnd.jupyter.widget-view+json": {
       "model_id": "29463d571c8447afa62140962d5f5d5f",
       "version_major": 2,
       "version_minor": 0
      },
      "text/plain": [
       "Epoch 68:   0%|          | 0/196 [00:00<?, ?it/s]"
      ]
     },
     "metadata": {},
     "output_type": "display_data"
    },
    {
     "data": {
      "application/vnd.jupyter.widget-view+json": {
       "model_id": "b55db773854245c5ab2197694321741b",
       "version_major": 2,
       "version_minor": 0
      },
      "text/plain": [
       "Epoch 69:   0%|          | 0/196 [00:00<?, ?it/s]"
      ]
     },
     "metadata": {},
     "output_type": "display_data"
    },
    {
     "data": {
      "application/vnd.jupyter.widget-view+json": {
       "model_id": "459d95cc9f91499483d402e3470a579f",
       "version_major": 2,
       "version_minor": 0
      },
      "text/plain": [
       "Epoch 70:   0%|          | 0/196 [00:00<?, ?it/s]"
      ]
     },
     "metadata": {},
     "output_type": "display_data"
    },
    {
     "data": {
      "application/vnd.jupyter.widget-view+json": {
       "model_id": "a55b2825aca046aea6503c09c591b117",
       "version_major": 2,
       "version_minor": 0
      },
      "text/plain": [
       "Epoch 71:   0%|          | 0/196 [00:00<?, ?it/s]"
      ]
     },
     "metadata": {},
     "output_type": "display_data"
    },
    {
     "data": {
      "application/vnd.jupyter.widget-view+json": {
       "model_id": "5f8a474aeb1940d9976e35f44d8cd0e1",
       "version_major": 2,
       "version_minor": 0
      },
      "text/plain": [
       "Epoch 72:   0%|          | 0/196 [00:00<?, ?it/s]"
      ]
     },
     "metadata": {},
     "output_type": "display_data"
    },
    {
     "data": {
      "application/vnd.jupyter.widget-view+json": {
       "model_id": "a0e5dd957bf149b1b9e55585bb77801e",
       "version_major": 2,
       "version_minor": 0
      },
      "text/plain": [
       "Epoch 73:   0%|          | 0/196 [00:00<?, ?it/s]"
      ]
     },
     "metadata": {},
     "output_type": "display_data"
    },
    {
     "data": {
      "application/vnd.jupyter.widget-view+json": {
       "model_id": "a1a05546c8534812a0c4cc7ed8d9f5ed",
       "version_major": 2,
       "version_minor": 0
      },
      "text/plain": [
       "Epoch 74:   0%|          | 0/196 [00:00<?, ?it/s]"
      ]
     },
     "metadata": {},
     "output_type": "display_data"
    },
    {
     "data": {
      "application/vnd.jupyter.widget-view+json": {
       "model_id": "69c185ce2dcd41c68a00fb4bc400fc14",
       "version_major": 2,
       "version_minor": 0
      },
      "text/plain": [
       "Epoch 75:   0%|          | 0/196 [00:00<?, ?it/s]"
      ]
     },
     "metadata": {},
     "output_type": "display_data"
    },
    {
     "data": {
      "application/vnd.jupyter.widget-view+json": {
       "model_id": "2bee9766d81345368553d10f397a00d4",
       "version_major": 2,
       "version_minor": 0
      },
      "text/plain": [
       "Epoch 76:   0%|          | 0/196 [00:00<?, ?it/s]"
      ]
     },
     "metadata": {},
     "output_type": "display_data"
    },
    {
     "data": {
      "application/vnd.jupyter.widget-view+json": {
       "model_id": "f3a072ab4dd6419ba46b7fef06900bfe",
       "version_major": 2,
       "version_minor": 0
      },
      "text/plain": [
       "Epoch 77:   0%|          | 0/196 [00:00<?, ?it/s]"
      ]
     },
     "metadata": {},
     "output_type": "display_data"
    },
    {
     "data": {
      "application/vnd.jupyter.widget-view+json": {
       "model_id": "10e2fcc7096c4b6dac99900c3c8dfaa4",
       "version_major": 2,
       "version_minor": 0
      },
      "text/plain": [
       "Epoch 78:   0%|          | 0/196 [00:00<?, ?it/s]"
      ]
     },
     "metadata": {},
     "output_type": "display_data"
    },
    {
     "data": {
      "application/vnd.jupyter.widget-view+json": {
       "model_id": "36cc6003b97441ab89e507bc04072c06",
       "version_major": 2,
       "version_minor": 0
      },
      "text/plain": [
       "Epoch 79:   0%|          | 0/196 [00:00<?, ?it/s]"
      ]
     },
     "metadata": {},
     "output_type": "display_data"
    },
    {
     "data": {
      "application/vnd.jupyter.widget-view+json": {
       "model_id": "c20cf4f943c44aaba7b586e508a7f9e4",
       "version_major": 2,
       "version_minor": 0
      },
      "text/plain": [
       "Epoch 80:   0%|          | 0/196 [00:00<?, ?it/s]"
      ]
     },
     "metadata": {},
     "output_type": "display_data"
    },
    {
     "data": {
      "application/vnd.jupyter.widget-view+json": {
       "model_id": "b9e2ad65f26445c993f2e621d4eba380",
       "version_major": 2,
       "version_minor": 0
      },
      "text/plain": [
       "Epoch 81:   0%|          | 0/196 [00:00<?, ?it/s]"
      ]
     },
     "metadata": {},
     "output_type": "display_data"
    },
    {
     "data": {
      "application/vnd.jupyter.widget-view+json": {
       "model_id": "e416fb017dee446096b279f4cf0fb50a",
       "version_major": 2,
       "version_minor": 0
      },
      "text/plain": [
       "Epoch 82:   0%|          | 0/196 [00:00<?, ?it/s]"
      ]
     },
     "metadata": {},
     "output_type": "display_data"
    },
    {
     "data": {
      "application/vnd.jupyter.widget-view+json": {
       "model_id": "38637d60e3b84dab8566f422b2bc5d0a",
       "version_major": 2,
       "version_minor": 0
      },
      "text/plain": [
       "Epoch 83:   0%|          | 0/196 [00:00<?, ?it/s]"
      ]
     },
     "metadata": {},
     "output_type": "display_data"
    },
    {
     "data": {
      "application/vnd.jupyter.widget-view+json": {
       "model_id": "73ca0b94286c40b5a9426e8baad2c105",
       "version_major": 2,
       "version_minor": 0
      },
      "text/plain": [
       "Epoch 84:   0%|          | 0/196 [00:00<?, ?it/s]"
      ]
     },
     "metadata": {},
     "output_type": "display_data"
    },
    {
     "data": {
      "application/vnd.jupyter.widget-view+json": {
       "model_id": "ff5e6bac472441c698f569740a01cecc",
       "version_major": 2,
       "version_minor": 0
      },
      "text/plain": [
       "Epoch 85:   0%|          | 0/196 [00:00<?, ?it/s]"
      ]
     },
     "metadata": {},
     "output_type": "display_data"
    },
    {
     "data": {
      "application/vnd.jupyter.widget-view+json": {
       "model_id": "4e9a11ab46da451aad11c2f4a5a17510",
       "version_major": 2,
       "version_minor": 0
      },
      "text/plain": [
       "Epoch 86:   0%|          | 0/196 [00:00<?, ?it/s]"
      ]
     },
     "metadata": {},
     "output_type": "display_data"
    },
    {
     "data": {
      "application/vnd.jupyter.widget-view+json": {
       "model_id": "0690da608f1e49dcbd7c07b5a7f86458",
       "version_major": 2,
       "version_minor": 0
      },
      "text/plain": [
       "Epoch 87:   0%|          | 0/196 [00:00<?, ?it/s]"
      ]
     },
     "metadata": {},
     "output_type": "display_data"
    },
    {
     "data": {
      "application/vnd.jupyter.widget-view+json": {
       "model_id": "d34dc9976a074bb791ec828d0408978a",
       "version_major": 2,
       "version_minor": 0
      },
      "text/plain": [
       "Epoch 88:   0%|          | 0/196 [00:00<?, ?it/s]"
      ]
     },
     "metadata": {},
     "output_type": "display_data"
    },
    {
     "data": {
      "application/vnd.jupyter.widget-view+json": {
       "model_id": "1e426be003934aaa85b9a12e9032aadd",
       "version_major": 2,
       "version_minor": 0
      },
      "text/plain": [
       "Epoch 89:   0%|          | 0/196 [00:00<?, ?it/s]"
      ]
     },
     "metadata": {},
     "output_type": "display_data"
    },
    {
     "data": {
      "application/vnd.jupyter.widget-view+json": {
       "model_id": "e0da800a8f0645998fefd71645b2359c",
       "version_major": 2,
       "version_minor": 0
      },
      "text/plain": [
       "Epoch 90:   0%|          | 0/196 [00:00<?, ?it/s]"
      ]
     },
     "metadata": {},
     "output_type": "display_data"
    },
    {
     "data": {
      "application/vnd.jupyter.widget-view+json": {
       "model_id": "0cabd6b494ed4e7f84f2c824e5c8024f",
       "version_major": 2,
       "version_minor": 0
      },
      "text/plain": [
       "Epoch 91:   0%|          | 0/196 [00:00<?, ?it/s]"
      ]
     },
     "metadata": {},
     "output_type": "display_data"
    },
    {
     "data": {
      "application/vnd.jupyter.widget-view+json": {
       "model_id": "6f68fd9b48084ed5be5177d5695f4850",
       "version_major": 2,
       "version_minor": 0
      },
      "text/plain": [
       "Epoch 92:   0%|          | 0/196 [00:00<?, ?it/s]"
      ]
     },
     "metadata": {},
     "output_type": "display_data"
    },
    {
     "data": {
      "application/vnd.jupyter.widget-view+json": {
       "model_id": "7ff60ef257064fb3b095fed950032c7f",
       "version_major": 2,
       "version_minor": 0
      },
      "text/plain": [
       "Epoch 93:   0%|          | 0/196 [00:00<?, ?it/s]"
      ]
     },
     "metadata": {},
     "output_type": "display_data"
    },
    {
     "data": {
      "application/vnd.jupyter.widget-view+json": {
       "model_id": "60aebbe3f87d4090b01579ba7add1efc",
       "version_major": 2,
       "version_minor": 0
      },
      "text/plain": [
       "Epoch 94:   0%|          | 0/196 [00:00<?, ?it/s]"
      ]
     },
     "metadata": {},
     "output_type": "display_data"
    },
    {
     "data": {
      "application/vnd.jupyter.widget-view+json": {
       "model_id": "b36dfab2b7cf4314bfa8dcecfd7c4978",
       "version_major": 2,
       "version_minor": 0
      },
      "text/plain": [
       "Epoch 95:   0%|          | 0/196 [00:00<?, ?it/s]"
      ]
     },
     "metadata": {},
     "output_type": "display_data"
    },
    {
     "data": {
      "application/vnd.jupyter.widget-view+json": {
       "model_id": "0c8dbee52a974d8992c8e3a5a758c619",
       "version_major": 2,
       "version_minor": 0
      },
      "text/plain": [
       "Epoch 96:   0%|          | 0/196 [00:00<?, ?it/s]"
      ]
     },
     "metadata": {},
     "output_type": "display_data"
    },
    {
     "data": {
      "application/vnd.jupyter.widget-view+json": {
       "model_id": "711cc42280bf49f6aa7f65f8f00235e5",
       "version_major": 2,
       "version_minor": 0
      },
      "text/plain": [
       "Epoch 97:   0%|          | 0/196 [00:00<?, ?it/s]"
      ]
     },
     "metadata": {},
     "output_type": "display_data"
    },
    {
     "data": {
      "application/vnd.jupyter.widget-view+json": {
       "model_id": "70a5b86629c44ece960166957e07c4a9",
       "version_major": 2,
       "version_minor": 0
      },
      "text/plain": [
       "Epoch 98:   0%|          | 0/196 [00:00<?, ?it/s]"
      ]
     },
     "metadata": {},
     "output_type": "display_data"
    },
    {
     "data": {
      "application/vnd.jupyter.widget-view+json": {
       "model_id": "ab1845a1beca4e2a9f659b74beac86d8",
       "version_major": 2,
       "version_minor": 0
      },
      "text/plain": [
       "Epoch 99:   0%|          | 0/196 [00:00<?, ?it/s]"
      ]
     },
     "metadata": {},
     "output_type": "display_data"
    },
    {
     "data": {
      "application/vnd.jupyter.widget-view+json": {
       "model_id": "93e696b8db2c4d41a6b1a23a15a40185",
       "version_major": 2,
       "version_minor": 0
      },
      "text/plain": [
       "Epoch 100:   0%|          | 0/196 [00:00<?, ?it/s]"
      ]
     },
     "metadata": {},
     "output_type": "display_data"
    },
    {
     "data": {
      "application/vnd.jupyter.widget-view+json": {
       "model_id": "eda5572056fe443ca2df56f73b9fb3f1",
       "version_major": 2,
       "version_minor": 0
      },
      "text/plain": [
       "Epoch 101:   0%|          | 0/196 [00:00<?, ?it/s]"
      ]
     },
     "metadata": {},
     "output_type": "display_data"
    },
    {
     "data": {
      "application/vnd.jupyter.widget-view+json": {
       "model_id": "0aa90570034d461298d9198619ceb30d",
       "version_major": 2,
       "version_minor": 0
      },
      "text/plain": [
       "Epoch 102:   0%|          | 0/196 [00:00<?, ?it/s]"
      ]
     },
     "metadata": {},
     "output_type": "display_data"
    },
    {
     "data": {
      "application/vnd.jupyter.widget-view+json": {
       "model_id": "4899864a6ac349338e62e90cec9f4bae",
       "version_major": 2,
       "version_minor": 0
      },
      "text/plain": [
       "Epoch 103:   0%|          | 0/196 [00:00<?, ?it/s]"
      ]
     },
     "metadata": {},
     "output_type": "display_data"
    },
    {
     "data": {
      "application/vnd.jupyter.widget-view+json": {
       "model_id": "443d879d2ac145e8af1ae451f58d864b",
       "version_major": 2,
       "version_minor": 0
      },
      "text/plain": [
       "Epoch 104:   0%|          | 0/196 [00:00<?, ?it/s]"
      ]
     },
     "metadata": {},
     "output_type": "display_data"
    },
    {
     "data": {
      "application/vnd.jupyter.widget-view+json": {
       "model_id": "0626c57e68bc4afb82fa600aeb19ffb3",
       "version_major": 2,
       "version_minor": 0
      },
      "text/plain": [
       "Epoch 105:   0%|          | 0/196 [00:00<?, ?it/s]"
      ]
     },
     "metadata": {},
     "output_type": "display_data"
    },
    {
     "data": {
      "application/vnd.jupyter.widget-view+json": {
       "model_id": "6aaca12025cf4df0bb884801082783e4",
       "version_major": 2,
       "version_minor": 0
      },
      "text/plain": [
       "Epoch 106:   0%|          | 0/196 [00:00<?, ?it/s]"
      ]
     },
     "metadata": {},
     "output_type": "display_data"
    },
    {
     "data": {
      "application/vnd.jupyter.widget-view+json": {
       "model_id": "770114fa0b17483b810d99acfca64994",
       "version_major": 2,
       "version_minor": 0
      },
      "text/plain": [
       "Epoch 107:   0%|          | 0/196 [00:00<?, ?it/s]"
      ]
     },
     "metadata": {},
     "output_type": "display_data"
    },
    {
     "data": {
      "application/vnd.jupyter.widget-view+json": {
       "model_id": "fd8d7edcb4a649ce80b575085ecc8757",
       "version_major": 2,
       "version_minor": 0
      },
      "text/plain": [
       "Epoch 108:   0%|          | 0/196 [00:00<?, ?it/s]"
      ]
     },
     "metadata": {},
     "output_type": "display_data"
    },
    {
     "data": {
      "application/vnd.jupyter.widget-view+json": {
       "model_id": "5995ad32135e4191abe3346e0bf0e47c",
       "version_major": 2,
       "version_minor": 0
      },
      "text/plain": [
       "Epoch 109:   0%|          | 0/196 [00:00<?, ?it/s]"
      ]
     },
     "metadata": {},
     "output_type": "display_data"
    },
    {
     "data": {
      "application/vnd.jupyter.widget-view+json": {
       "model_id": "8134fcf2e7044d1b8eda627fd5bef432",
       "version_major": 2,
       "version_minor": 0
      },
      "text/plain": [
       "Epoch 110:   0%|          | 0/196 [00:00<?, ?it/s]"
      ]
     },
     "metadata": {},
     "output_type": "display_data"
    },
    {
     "data": {
      "application/vnd.jupyter.widget-view+json": {
       "model_id": "11e64d550afa4dadb128e69fd5ecedc5",
       "version_major": 2,
       "version_minor": 0
      },
      "text/plain": [
       "Epoch 111:   0%|          | 0/196 [00:00<?, ?it/s]"
      ]
     },
     "metadata": {},
     "output_type": "display_data"
    },
    {
     "data": {
      "application/vnd.jupyter.widget-view+json": {
       "model_id": "1acc86d4da3e48b58da440d6085a2d1f",
       "version_major": 2,
       "version_minor": 0
      },
      "text/plain": [
       "Epoch 112:   0%|          | 0/196 [00:00<?, ?it/s]"
      ]
     },
     "metadata": {},
     "output_type": "display_data"
    },
    {
     "data": {
      "application/vnd.jupyter.widget-view+json": {
       "model_id": "cca24b1a896d4891aca27ec772de45fc",
       "version_major": 2,
       "version_minor": 0
      },
      "text/plain": [
       "Epoch 113:   0%|          | 0/196 [00:00<?, ?it/s]"
      ]
     },
     "metadata": {},
     "output_type": "display_data"
    },
    {
     "data": {
      "application/vnd.jupyter.widget-view+json": {
       "model_id": "e44165f5d3664326baa1eca8f427df98",
       "version_major": 2,
       "version_minor": 0
      },
      "text/plain": [
       "Epoch 114:   0%|          | 0/196 [00:00<?, ?it/s]"
      ]
     },
     "metadata": {},
     "output_type": "display_data"
    },
    {
     "data": {
      "application/vnd.jupyter.widget-view+json": {
       "model_id": "6a7f81bdd71f41148b10a1781272a951",
       "version_major": 2,
       "version_minor": 0
      },
      "text/plain": [
       "Epoch 115:   0%|          | 0/196 [00:00<?, ?it/s]"
      ]
     },
     "metadata": {},
     "output_type": "display_data"
    },
    {
     "data": {
      "application/vnd.jupyter.widget-view+json": {
       "model_id": "b0aa03ad3ed443ce81b717d21d2c8195",
       "version_major": 2,
       "version_minor": 0
      },
      "text/plain": [
       "Epoch 116:   0%|          | 0/196 [00:00<?, ?it/s]"
      ]
     },
     "metadata": {},
     "output_type": "display_data"
    },
    {
     "data": {
      "application/vnd.jupyter.widget-view+json": {
       "model_id": "44d88f81400d48bb82ab1cae9bc5867a",
       "version_major": 2,
       "version_minor": 0
      },
      "text/plain": [
       "Epoch 117:   0%|          | 0/196 [00:00<?, ?it/s]"
      ]
     },
     "metadata": {},
     "output_type": "display_data"
    },
    {
     "data": {
      "application/vnd.jupyter.widget-view+json": {
       "model_id": "5b4992a135a74cd2919ea8961418ed58",
       "version_major": 2,
       "version_minor": 0
      },
      "text/plain": [
       "Epoch 118:   0%|          | 0/196 [00:00<?, ?it/s]"
      ]
     },
     "metadata": {},
     "output_type": "display_data"
    },
    {
     "data": {
      "application/vnd.jupyter.widget-view+json": {
       "model_id": "6dd7bf19397146dcaa23c1514dff1951",
       "version_major": 2,
       "version_minor": 0
      },
      "text/plain": [
       "Epoch 119:   0%|          | 0/196 [00:00<?, ?it/s]"
      ]
     },
     "metadata": {},
     "output_type": "display_data"
    },
    {
     "data": {
      "application/vnd.jupyter.widget-view+json": {
       "model_id": "339617152e5b4886a8d4803fe48bd80f",
       "version_major": 2,
       "version_minor": 0
      },
      "text/plain": [
       "Epoch 120:   0%|          | 0/196 [00:00<?, ?it/s]"
      ]
     },
     "metadata": {},
     "output_type": "display_data"
    },
    {
     "data": {
      "application/vnd.jupyter.widget-view+json": {
       "model_id": "5e4d170a1bd94911a00f7ed334e5c005",
       "version_major": 2,
       "version_minor": 0
      },
      "text/plain": [
       "Epoch 121:   0%|          | 0/196 [00:00<?, ?it/s]"
      ]
     },
     "metadata": {},
     "output_type": "display_data"
    },
    {
     "data": {
      "application/vnd.jupyter.widget-view+json": {
       "model_id": "8f5afebfed8947a89ddd757dda7649ad",
       "version_major": 2,
       "version_minor": 0
      },
      "text/plain": [
       "Epoch 122:   0%|          | 0/196 [00:00<?, ?it/s]"
      ]
     },
     "metadata": {},
     "output_type": "display_data"
    },
    {
     "data": {
      "application/vnd.jupyter.widget-view+json": {
       "model_id": "5672b69881534083be89bd5335f69491",
       "version_major": 2,
       "version_minor": 0
      },
      "text/plain": [
       "Epoch 123:   0%|          | 0/196 [00:00<?, ?it/s]"
      ]
     },
     "metadata": {},
     "output_type": "display_data"
    },
    {
     "data": {
      "application/vnd.jupyter.widget-view+json": {
       "model_id": "7a8064d002f8406e8bb866e48969351c",
       "version_major": 2,
       "version_minor": 0
      },
      "text/plain": [
       "Epoch 124:   0%|          | 0/196 [00:00<?, ?it/s]"
      ]
     },
     "metadata": {},
     "output_type": "display_data"
    },
    {
     "data": {
      "application/vnd.jupyter.widget-view+json": {
       "model_id": "82852db24412453ba0e8343a09bf7d9b",
       "version_major": 2,
       "version_minor": 0
      },
      "text/plain": [
       "Epoch 125:   0%|          | 0/196 [00:00<?, ?it/s]"
      ]
     },
     "metadata": {},
     "output_type": "display_data"
    },
    {
     "data": {
      "application/vnd.jupyter.widget-view+json": {
       "model_id": "9070c00d9c474726b15539a94e96447f",
       "version_major": 2,
       "version_minor": 0
      },
      "text/plain": [
       "Epoch 126:   0%|          | 0/196 [00:00<?, ?it/s]"
      ]
     },
     "metadata": {},
     "output_type": "display_data"
    },
    {
     "data": {
      "application/vnd.jupyter.widget-view+json": {
       "model_id": "dd43dd8826c64cdf95d2e4cb6273d9dc",
       "version_major": 2,
       "version_minor": 0
      },
      "text/plain": [
       "Epoch 127:   0%|          | 0/196 [00:00<?, ?it/s]"
      ]
     },
     "metadata": {},
     "output_type": "display_data"
    },
    {
     "data": {
      "application/vnd.jupyter.widget-view+json": {
       "model_id": "0d6c8e8efa944b3d849ddbcd0fe43a11",
       "version_major": 2,
       "version_minor": 0
      },
      "text/plain": [
       "Epoch 128:   0%|          | 0/196 [00:00<?, ?it/s]"
      ]
     },
     "metadata": {},
     "output_type": "display_data"
    },
    {
     "data": {
      "application/vnd.jupyter.widget-view+json": {
       "model_id": "28cc9bdc1b784bb6bbacaf21ff5c19d2",
       "version_major": 2,
       "version_minor": 0
      },
      "text/plain": [
       "Epoch 129:   0%|          | 0/196 [00:00<?, ?it/s]"
      ]
     },
     "metadata": {},
     "output_type": "display_data"
    },
    {
     "data": {
      "application/vnd.jupyter.widget-view+json": {
       "model_id": "45e4a3f5f0ed485c825d9a53dc18e1cf",
       "version_major": 2,
       "version_minor": 0
      },
      "text/plain": [
       "Epoch 130:   0%|          | 0/196 [00:00<?, ?it/s]"
      ]
     },
     "metadata": {},
     "output_type": "display_data"
    },
    {
     "data": {
      "application/vnd.jupyter.widget-view+json": {
       "model_id": "4fa09196b86e41e6a7a5b7666e3f6761",
       "version_major": 2,
       "version_minor": 0
      },
      "text/plain": [
       "Epoch 131:   0%|          | 0/196 [00:00<?, ?it/s]"
      ]
     },
     "metadata": {},
     "output_type": "display_data"
    },
    {
     "data": {
      "application/vnd.jupyter.widget-view+json": {
       "model_id": "aa242fd3a98c40c19514124a3098f4d5",
       "version_major": 2,
       "version_minor": 0
      },
      "text/plain": [
       "Epoch 132:   0%|          | 0/196 [00:00<?, ?it/s]"
      ]
     },
     "metadata": {},
     "output_type": "display_data"
    },
    {
     "data": {
      "application/vnd.jupyter.widget-view+json": {
       "model_id": "967dc0b4f02843cc9fc20a30cc092b8c",
       "version_major": 2,
       "version_minor": 0
      },
      "text/plain": [
       "Epoch 133:   0%|          | 0/196 [00:00<?, ?it/s]"
      ]
     },
     "metadata": {},
     "output_type": "display_data"
    },
    {
     "data": {
      "application/vnd.jupyter.widget-view+json": {
       "model_id": "9a389d4d1aea4c0b9a6bdb9863ec8904",
       "version_major": 2,
       "version_minor": 0
      },
      "text/plain": [
       "Epoch 134:   0%|          | 0/196 [00:00<?, ?it/s]"
      ]
     },
     "metadata": {},
     "output_type": "display_data"
    },
    {
     "data": {
      "application/vnd.jupyter.widget-view+json": {
       "model_id": "c90f784ad18e4fe685914e82f4ad8b72",
       "version_major": 2,
       "version_minor": 0
      },
      "text/plain": [
       "Epoch 135:   0%|          | 0/196 [00:00<?, ?it/s]"
      ]
     },
     "metadata": {},
     "output_type": "display_data"
    },
    {
     "data": {
      "application/vnd.jupyter.widget-view+json": {
       "model_id": "82a123f75dc04d2fa95af8fa2720d97c",
       "version_major": 2,
       "version_minor": 0
      },
      "text/plain": [
       "Epoch 136:   0%|          | 0/196 [00:00<?, ?it/s]"
      ]
     },
     "metadata": {},
     "output_type": "display_data"
    },
    {
     "data": {
      "application/vnd.jupyter.widget-view+json": {
       "model_id": "a1648bb0c6224c8bba3b0f609c8fc2af",
       "version_major": 2,
       "version_minor": 0
      },
      "text/plain": [
       "Epoch 137:   0%|          | 0/196 [00:00<?, ?it/s]"
      ]
     },
     "metadata": {},
     "output_type": "display_data"
    },
    {
     "data": {
      "application/vnd.jupyter.widget-view+json": {
       "model_id": "6cce83f4f8194372b1c5fe82e9bec964",
       "version_major": 2,
       "version_minor": 0
      },
      "text/plain": [
       "Epoch 138:   0%|          | 0/196 [00:00<?, ?it/s]"
      ]
     },
     "metadata": {},
     "output_type": "display_data"
    },
    {
     "data": {
      "application/vnd.jupyter.widget-view+json": {
       "model_id": "bfca4fe7aa944a6a80f240432eca6421",
       "version_major": 2,
       "version_minor": 0
      },
      "text/plain": [
       "Epoch 139:   0%|          | 0/196 [00:00<?, ?it/s]"
      ]
     },
     "metadata": {},
     "output_type": "display_data"
    },
    {
     "data": {
      "application/vnd.jupyter.widget-view+json": {
       "model_id": "23ed9171b3d549a9ade3ec6b7b3d5f32",
       "version_major": 2,
       "version_minor": 0
      },
      "text/plain": [
       "Epoch 140:   0%|          | 0/196 [00:00<?, ?it/s]"
      ]
     },
     "metadata": {},
     "output_type": "display_data"
    },
    {
     "data": {
      "application/vnd.jupyter.widget-view+json": {
       "model_id": "f356f33a1cdf456cba41a2971d6923ac",
       "version_major": 2,
       "version_minor": 0
      },
      "text/plain": [
       "Epoch 141:   0%|          | 0/196 [00:00<?, ?it/s]"
      ]
     },
     "metadata": {},
     "output_type": "display_data"
    },
    {
     "data": {
      "application/vnd.jupyter.widget-view+json": {
       "model_id": "4ff8379929dd42b385a1bae6743b7e2a",
       "version_major": 2,
       "version_minor": 0
      },
      "text/plain": [
       "Epoch 142:   0%|          | 0/196 [00:00<?, ?it/s]"
      ]
     },
     "metadata": {},
     "output_type": "display_data"
    },
    {
     "data": {
      "application/vnd.jupyter.widget-view+json": {
       "model_id": "283435a15ed6470289969f518328d227",
       "version_major": 2,
       "version_minor": 0
      },
      "text/plain": [
       "Epoch 143:   0%|          | 0/196 [00:00<?, ?it/s]"
      ]
     },
     "metadata": {},
     "output_type": "display_data"
    },
    {
     "data": {
      "application/vnd.jupyter.widget-view+json": {
       "model_id": "8fbc2f1c17184e159c28b7ec0cc53c17",
       "version_major": 2,
       "version_minor": 0
      },
      "text/plain": [
       "Epoch 144:   0%|          | 0/196 [00:00<?, ?it/s]"
      ]
     },
     "metadata": {},
     "output_type": "display_data"
    },
    {
     "data": {
      "application/vnd.jupyter.widget-view+json": {
       "model_id": "a7bdaeeafe5b44d99985a6880b800923",
       "version_major": 2,
       "version_minor": 0
      },
      "text/plain": [
       "Epoch 145:   0%|          | 0/196 [00:00<?, ?it/s]"
      ]
     },
     "metadata": {},
     "output_type": "display_data"
    },
    {
     "data": {
      "application/vnd.jupyter.widget-view+json": {
       "model_id": "7123854d4ea945dd84e849b4dc064a91",
       "version_major": 2,
       "version_minor": 0
      },
      "text/plain": [
       "Epoch 146:   0%|          | 0/196 [00:00<?, ?it/s]"
      ]
     },
     "metadata": {},
     "output_type": "display_data"
    },
    {
     "data": {
      "application/vnd.jupyter.widget-view+json": {
       "model_id": "a3e36a64e9844c18ab78b21fa1073fbb",
       "version_major": 2,
       "version_minor": 0
      },
      "text/plain": [
       "Epoch 147:   0%|          | 0/196 [00:00<?, ?it/s]"
      ]
     },
     "metadata": {},
     "output_type": "display_data"
    },
    {
     "data": {
      "application/vnd.jupyter.widget-view+json": {
       "model_id": "af1c121dd2b343b08b81d956788f0679",
       "version_major": 2,
       "version_minor": 0
      },
      "text/plain": [
       "Epoch 148:   0%|          | 0/196 [00:00<?, ?it/s]"
      ]
     },
     "metadata": {},
     "output_type": "display_data"
    },
    {
     "data": {
      "application/vnd.jupyter.widget-view+json": {
       "model_id": "6544bdc229e24d33a92f4b2b04ebf9d0",
       "version_major": 2,
       "version_minor": 0
      },
      "text/plain": [
       "Epoch 149:   0%|          | 0/196 [00:00<?, ?it/s]"
      ]
     },
     "metadata": {},
     "output_type": "display_data"
    },
    {
     "data": {
      "application/vnd.jupyter.widget-view+json": {
       "model_id": "87520eec9b4143f4bd3c7506d39dd60d",
       "version_major": 2,
       "version_minor": 0
      },
      "text/plain": [
       "Epoch 150:   0%|          | 0/196 [00:00<?, ?it/s]"
      ]
     },
     "metadata": {},
     "output_type": "display_data"
    },
    {
     "data": {
      "application/vnd.jupyter.widget-view+json": {
       "model_id": "cdae6deae38f429a93d7b05f5cb6bb6a",
       "version_major": 2,
       "version_minor": 0
      },
      "text/plain": [
       "Epoch 151:   0%|          | 0/196 [00:00<?, ?it/s]"
      ]
     },
     "metadata": {},
     "output_type": "display_data"
    },
    {
     "data": {
      "application/vnd.jupyter.widget-view+json": {
       "model_id": "1ca90939bad14d4c92430b3de33891c7",
       "version_major": 2,
       "version_minor": 0
      },
      "text/plain": [
       "Epoch 152:   0%|          | 0/196 [00:00<?, ?it/s]"
      ]
     },
     "metadata": {},
     "output_type": "display_data"
    },
    {
     "data": {
      "application/vnd.jupyter.widget-view+json": {
       "model_id": "79f9b7fefe96402f8b07dcf94b4afffc",
       "version_major": 2,
       "version_minor": 0
      },
      "text/plain": [
       "Epoch 153:   0%|          | 0/196 [00:00<?, ?it/s]"
      ]
     },
     "metadata": {},
     "output_type": "display_data"
    },
    {
     "data": {
      "application/vnd.jupyter.widget-view+json": {
       "model_id": "343e732123e24001820ddd25a97e1d57",
       "version_major": 2,
       "version_minor": 0
      },
      "text/plain": [
       "Epoch 154:   0%|          | 0/196 [00:00<?, ?it/s]"
      ]
     },
     "metadata": {},
     "output_type": "display_data"
    },
    {
     "data": {
      "application/vnd.jupyter.widget-view+json": {
       "model_id": "cf77a6c5432b43a1b6a9340509509e74",
       "version_major": 2,
       "version_minor": 0
      },
      "text/plain": [
       "Epoch 155:   0%|          | 0/196 [00:00<?, ?it/s]"
      ]
     },
     "metadata": {},
     "output_type": "display_data"
    },
    {
     "data": {
      "application/vnd.jupyter.widget-view+json": {
       "model_id": "f509a72dbd874c21b01d475a2e69209d",
       "version_major": 2,
       "version_minor": 0
      },
      "text/plain": [
       "Epoch 156:   0%|          | 0/196 [00:00<?, ?it/s]"
      ]
     },
     "metadata": {},
     "output_type": "display_data"
    },
    {
     "data": {
      "application/vnd.jupyter.widget-view+json": {
       "model_id": "4e29359bab534a1494fcf7251fa2359e",
       "version_major": 2,
       "version_minor": 0
      },
      "text/plain": [
       "Epoch 157:   0%|          | 0/196 [00:00<?, ?it/s]"
      ]
     },
     "metadata": {},
     "output_type": "display_data"
    },
    {
     "data": {
      "application/vnd.jupyter.widget-view+json": {
       "model_id": "5c20906aa07e4d1caab53ab1c7b4b3ea",
       "version_major": 2,
       "version_minor": 0
      },
      "text/plain": [
       "Epoch 158:   0%|          | 0/196 [00:00<?, ?it/s]"
      ]
     },
     "metadata": {},
     "output_type": "display_data"
    },
    {
     "data": {
      "application/vnd.jupyter.widget-view+json": {
       "model_id": "078844a2401242b08ec5d45fff3f5301",
       "version_major": 2,
       "version_minor": 0
      },
      "text/plain": [
       "Epoch 159:   0%|          | 0/196 [00:00<?, ?it/s]"
      ]
     },
     "metadata": {},
     "output_type": "display_data"
    },
    {
     "data": {
      "application/vnd.jupyter.widget-view+json": {
       "model_id": "2c6201208ac84945abd2e6b981e31fac",
       "version_major": 2,
       "version_minor": 0
      },
      "text/plain": [
       "Epoch 160:   0%|          | 0/196 [00:00<?, ?it/s]"
      ]
     },
     "metadata": {},
     "output_type": "display_data"
    },
    {
     "data": {
      "application/vnd.jupyter.widget-view+json": {
       "model_id": "561d82ac857345428957e19e9b55d006",
       "version_major": 2,
       "version_minor": 0
      },
      "text/plain": [
       "Epoch 161:   0%|          | 0/196 [00:00<?, ?it/s]"
      ]
     },
     "metadata": {},
     "output_type": "display_data"
    },
    {
     "data": {
      "application/vnd.jupyter.widget-view+json": {
       "model_id": "70f177f5312d4771984019599111a82f",
       "version_major": 2,
       "version_minor": 0
      },
      "text/plain": [
       "Epoch 162:   0%|          | 0/196 [00:00<?, ?it/s]"
      ]
     },
     "metadata": {},
     "output_type": "display_data"
    },
    {
     "data": {
      "application/vnd.jupyter.widget-view+json": {
       "model_id": "0b69412174f14321a5d43c29d5b1cfc4",
       "version_major": 2,
       "version_minor": 0
      },
      "text/plain": [
       "Epoch 163:   0%|          | 0/196 [00:00<?, ?it/s]"
      ]
     },
     "metadata": {},
     "output_type": "display_data"
    },
    {
     "data": {
      "application/vnd.jupyter.widget-view+json": {
       "model_id": "4f03f753b3dc436790cdaab0447ff2cd",
       "version_major": 2,
       "version_minor": 0
      },
      "text/plain": [
       "Epoch 164:   0%|          | 0/196 [00:00<?, ?it/s]"
      ]
     },
     "metadata": {},
     "output_type": "display_data"
    },
    {
     "data": {
      "application/vnd.jupyter.widget-view+json": {
       "model_id": "b64254cbc0a24a5e8fc3c128623599f9",
       "version_major": 2,
       "version_minor": 0
      },
      "text/plain": [
       "Epoch 165:   0%|          | 0/196 [00:00<?, ?it/s]"
      ]
     },
     "metadata": {},
     "output_type": "display_data"
    },
    {
     "data": {
      "application/vnd.jupyter.widget-view+json": {
       "model_id": "4c9110c3f601474697c838e10eb87c40",
       "version_major": 2,
       "version_minor": 0
      },
      "text/plain": [
       "Epoch 166:   0%|          | 0/196 [00:00<?, ?it/s]"
      ]
     },
     "metadata": {},
     "output_type": "display_data"
    },
    {
     "data": {
      "application/vnd.jupyter.widget-view+json": {
       "model_id": "c07d8b33b6d641549309f1a7b069f6ab",
       "version_major": 2,
       "version_minor": 0
      },
      "text/plain": [
       "Epoch 167:   0%|          | 0/196 [00:00<?, ?it/s]"
      ]
     },
     "metadata": {},
     "output_type": "display_data"
    },
    {
     "data": {
      "application/vnd.jupyter.widget-view+json": {
       "model_id": "50f24c84e3e74d26b80ba71456209081",
       "version_major": 2,
       "version_minor": 0
      },
      "text/plain": [
       "Epoch 168:   0%|          | 0/196 [00:00<?, ?it/s]"
      ]
     },
     "metadata": {},
     "output_type": "display_data"
    },
    {
     "data": {
      "application/vnd.jupyter.widget-view+json": {
       "model_id": "b9307b51127745b9b2445e0f5edac70a",
       "version_major": 2,
       "version_minor": 0
      },
      "text/plain": [
       "Epoch 169:   0%|          | 0/196 [00:00<?, ?it/s]"
      ]
     },
     "metadata": {},
     "output_type": "display_data"
    },
    {
     "data": {
      "application/vnd.jupyter.widget-view+json": {
       "model_id": "1d4db384f61342fbbe5264052c45686d",
       "version_major": 2,
       "version_minor": 0
      },
      "text/plain": [
       "Epoch 170:   0%|          | 0/196 [00:00<?, ?it/s]"
      ]
     },
     "metadata": {},
     "output_type": "display_data"
    },
    {
     "data": {
      "application/vnd.jupyter.widget-view+json": {
       "model_id": "fc009505476742a1aaac29db082e58b5",
       "version_major": 2,
       "version_minor": 0
      },
      "text/plain": [
       "Epoch 171:   0%|          | 0/196 [00:00<?, ?it/s]"
      ]
     },
     "metadata": {},
     "output_type": "display_data"
    },
    {
     "data": {
      "application/vnd.jupyter.widget-view+json": {
       "model_id": "2e42a99f8e364df8b10f4982870246a7",
       "version_major": 2,
       "version_minor": 0
      },
      "text/plain": [
       "Epoch 172:   0%|          | 0/196 [00:00<?, ?it/s]"
      ]
     },
     "metadata": {},
     "output_type": "display_data"
    },
    {
     "data": {
      "application/vnd.jupyter.widget-view+json": {
       "model_id": "d4db4ea5908e446a989b4fbafbac4d44",
       "version_major": 2,
       "version_minor": 0
      },
      "text/plain": [
       "Epoch 173:   0%|          | 0/196 [00:00<?, ?it/s]"
      ]
     },
     "metadata": {},
     "output_type": "display_data"
    },
    {
     "data": {
      "application/vnd.jupyter.widget-view+json": {
       "model_id": "f774ddb14d86422fb5a4418de0e91ce5",
       "version_major": 2,
       "version_minor": 0
      },
      "text/plain": [
       "Epoch 174:   0%|          | 0/196 [00:00<?, ?it/s]"
      ]
     },
     "metadata": {},
     "output_type": "display_data"
    },
    {
     "data": {
      "application/vnd.jupyter.widget-view+json": {
       "model_id": "7af4cfc6d735441db1fee680daa5fa90",
       "version_major": 2,
       "version_minor": 0
      },
      "text/plain": [
       "Epoch 175:   0%|          | 0/196 [00:00<?, ?it/s]"
      ]
     },
     "metadata": {},
     "output_type": "display_data"
    },
    {
     "data": {
      "application/vnd.jupyter.widget-view+json": {
       "model_id": "19caa251d13849269883cd893a821732",
       "version_major": 2,
       "version_minor": 0
      },
      "text/plain": [
       "Epoch 176:   0%|          | 0/196 [00:00<?, ?it/s]"
      ]
     },
     "metadata": {},
     "output_type": "display_data"
    },
    {
     "data": {
      "application/vnd.jupyter.widget-view+json": {
       "model_id": "ce8131dc9efc4176a71f05c51b7e9038",
       "version_major": 2,
       "version_minor": 0
      },
      "text/plain": [
       "Epoch 177:   0%|          | 0/196 [00:00<?, ?it/s]"
      ]
     },
     "metadata": {},
     "output_type": "display_data"
    },
    {
     "data": {
      "application/vnd.jupyter.widget-view+json": {
       "model_id": "26a879f0d8074cdb8fb975578eb8df4e",
       "version_major": 2,
       "version_minor": 0
      },
      "text/plain": [
       "Epoch 178:   0%|          | 0/196 [00:00<?, ?it/s]"
      ]
     },
     "metadata": {},
     "output_type": "display_data"
    },
    {
     "data": {
      "application/vnd.jupyter.widget-view+json": {
       "model_id": "c462bcb8c37e45d7a72556178a0ce693",
       "version_major": 2,
       "version_minor": 0
      },
      "text/plain": [
       "Epoch 179:   0%|          | 0/196 [00:00<?, ?it/s]"
      ]
     },
     "metadata": {},
     "output_type": "display_data"
    },
    {
     "data": {
      "application/vnd.jupyter.widget-view+json": {
       "model_id": "c51785c45f9646229cd3342b2a02d726",
       "version_major": 2,
       "version_minor": 0
      },
      "text/plain": [
       "Epoch 180:   0%|          | 0/196 [00:00<?, ?it/s]"
      ]
     },
     "metadata": {},
     "output_type": "display_data"
    },
    {
     "data": {
      "application/vnd.jupyter.widget-view+json": {
       "model_id": "b207f7a7f6524841bf7b62608196a113",
       "version_major": 2,
       "version_minor": 0
      },
      "text/plain": [
       "Epoch 181:   0%|          | 0/196 [00:00<?, ?it/s]"
      ]
     },
     "metadata": {},
     "output_type": "display_data"
    },
    {
     "data": {
      "application/vnd.jupyter.widget-view+json": {
       "model_id": "a8262686d584400596e927ae1bd4dd08",
       "version_major": 2,
       "version_minor": 0
      },
      "text/plain": [
       "Epoch 182:   0%|          | 0/196 [00:00<?, ?it/s]"
      ]
     },
     "metadata": {},
     "output_type": "display_data"
    },
    {
     "data": {
      "application/vnd.jupyter.widget-view+json": {
       "model_id": "5e90b05e1e6c47429f6adc3b0f861d93",
       "version_major": 2,
       "version_minor": 0
      },
      "text/plain": [
       "Epoch 183:   0%|          | 0/196 [00:00<?, ?it/s]"
      ]
     },
     "metadata": {},
     "output_type": "display_data"
    },
    {
     "data": {
      "application/vnd.jupyter.widget-view+json": {
       "model_id": "409e2b07bf6445bc934d8b295b1ac145",
       "version_major": 2,
       "version_minor": 0
      },
      "text/plain": [
       "Epoch 184:   0%|          | 0/196 [00:00<?, ?it/s]"
      ]
     },
     "metadata": {},
     "output_type": "display_data"
    },
    {
     "data": {
      "application/vnd.jupyter.widget-view+json": {
       "model_id": "8a2e6c19f9e54bd396f2ca7bbc592c0d",
       "version_major": 2,
       "version_minor": 0
      },
      "text/plain": [
       "Epoch 185:   0%|          | 0/196 [00:00<?, ?it/s]"
      ]
     },
     "metadata": {},
     "output_type": "display_data"
    },
    {
     "data": {
      "application/vnd.jupyter.widget-view+json": {
       "model_id": "5630cb4e711041feb56685b1106a6d12",
       "version_major": 2,
       "version_minor": 0
      },
      "text/plain": [
       "Epoch 186:   0%|          | 0/196 [00:00<?, ?it/s]"
      ]
     },
     "metadata": {},
     "output_type": "display_data"
    },
    {
     "data": {
      "application/vnd.jupyter.widget-view+json": {
       "model_id": "a907923f1d1449f6b809401ce0af63b6",
       "version_major": 2,
       "version_minor": 0
      },
      "text/plain": [
       "Epoch 187:   0%|          | 0/196 [00:00<?, ?it/s]"
      ]
     },
     "metadata": {},
     "output_type": "display_data"
    },
    {
     "data": {
      "application/vnd.jupyter.widget-view+json": {
       "model_id": "6df05aa0aa1c42bfaba3395696059408",
       "version_major": 2,
       "version_minor": 0
      },
      "text/plain": [
       "Epoch 188:   0%|          | 0/196 [00:00<?, ?it/s]"
      ]
     },
     "metadata": {},
     "output_type": "display_data"
    },
    {
     "data": {
      "application/vnd.jupyter.widget-view+json": {
       "model_id": "25f820e8ee4b48b9a3d5baf050778410",
       "version_major": 2,
       "version_minor": 0
      },
      "text/plain": [
       "Epoch 189:   0%|          | 0/196 [00:00<?, ?it/s]"
      ]
     },
     "metadata": {},
     "output_type": "display_data"
    },
    {
     "data": {
      "application/vnd.jupyter.widget-view+json": {
       "model_id": "539fa4cd29214795a12116d8767ab50b",
       "version_major": 2,
       "version_minor": 0
      },
      "text/plain": [
       "Epoch 190:   0%|          | 0/196 [00:00<?, ?it/s]"
      ]
     },
     "metadata": {},
     "output_type": "display_data"
    },
    {
     "data": {
      "application/vnd.jupyter.widget-view+json": {
       "model_id": "b56d17d556c54d0c9a89acf1a311cf14",
       "version_major": 2,
       "version_minor": 0
      },
      "text/plain": [
       "Epoch 191:   0%|          | 0/196 [00:00<?, ?it/s]"
      ]
     },
     "metadata": {},
     "output_type": "display_data"
    },
    {
     "data": {
      "application/vnd.jupyter.widget-view+json": {
       "model_id": "6b23ea32b2b143edb9b45c66940d6480",
       "version_major": 2,
       "version_minor": 0
      },
      "text/plain": [
       "Epoch 192:   0%|          | 0/196 [00:00<?, ?it/s]"
      ]
     },
     "metadata": {},
     "output_type": "display_data"
    },
    {
     "data": {
      "application/vnd.jupyter.widget-view+json": {
       "model_id": "747bde56a0e240c6b7cbfbabaeca3bc2",
       "version_major": 2,
       "version_minor": 0
      },
      "text/plain": [
       "Epoch 193:   0%|          | 0/196 [00:00<?, ?it/s]"
      ]
     },
     "metadata": {},
     "output_type": "display_data"
    },
    {
     "data": {
      "application/vnd.jupyter.widget-view+json": {
       "model_id": "c8c5649eedbf4473a8d9110645ee1240",
       "version_major": 2,
       "version_minor": 0
      },
      "text/plain": [
       "Epoch 194:   0%|          | 0/196 [00:00<?, ?it/s]"
      ]
     },
     "metadata": {},
     "output_type": "display_data"
    },
    {
     "data": {
      "application/vnd.jupyter.widget-view+json": {
       "model_id": "c92d255abafe4a4886387a5de140123b",
       "version_major": 2,
       "version_minor": 0
      },
      "text/plain": [
       "Epoch 195:   0%|          | 0/196 [00:00<?, ?it/s]"
      ]
     },
     "metadata": {},
     "output_type": "display_data"
    },
    {
     "data": {
      "application/vnd.jupyter.widget-view+json": {
       "model_id": "fe56e25ed0824a3f8a60785834b4dbb1",
       "version_major": 2,
       "version_minor": 0
      },
      "text/plain": [
       "Epoch 196:   0%|          | 0/196 [00:00<?, ?it/s]"
      ]
     },
     "metadata": {},
     "output_type": "display_data"
    },
    {
     "data": {
      "application/vnd.jupyter.widget-view+json": {
       "model_id": "2b285ac5d4a04311ad01c17fa8eb4673",
       "version_major": 2,
       "version_minor": 0
      },
      "text/plain": [
       "Epoch 197:   0%|          | 0/196 [00:00<?, ?it/s]"
      ]
     },
     "metadata": {},
     "output_type": "display_data"
    },
    {
     "data": {
      "application/vnd.jupyter.widget-view+json": {
       "model_id": "0a375613fcca478abd9c3bffb57644f5",
       "version_major": 2,
       "version_minor": 0
      },
      "text/plain": [
       "Epoch 198:   0%|          | 0/196 [00:00<?, ?it/s]"
      ]
     },
     "metadata": {},
     "output_type": "display_data"
    },
    {
     "data": {
      "application/vnd.jupyter.widget-view+json": {
       "model_id": "e133bf6895c54e1ca867340ef6039e97",
       "version_major": 2,
       "version_minor": 0
      },
      "text/plain": [
       "Epoch 199:   0%|          | 0/196 [00:00<?, ?it/s]"
      ]
     },
     "metadata": {},
     "output_type": "display_data"
    },
    {
     "data": {
      "application/vnd.jupyter.widget-view+json": {
       "model_id": "e51ceee347684da2ac5c368a64f02cb2",
       "version_major": 2,
       "version_minor": 0
      },
      "text/plain": [
       "Epoch 200:   0%|          | 0/196 [00:00<?, ?it/s]"
      ]
     },
     "metadata": {},
     "output_type": "display_data"
    },
    {
     "data": {
      "application/vnd.jupyter.widget-view+json": {
       "model_id": "dadb88aee5c341f1a5dad88133abd6c0",
       "version_major": 2,
       "version_minor": 0
      },
      "text/plain": [
       "Epoch 201:   0%|          | 0/196 [00:00<?, ?it/s]"
      ]
     },
     "metadata": {},
     "output_type": "display_data"
    },
    {
     "data": {
      "application/vnd.jupyter.widget-view+json": {
       "model_id": "279a18f2cd924f08b0b7d929b07f9d2a",
       "version_major": 2,
       "version_minor": 0
      },
      "text/plain": [
       "Epoch 202:   0%|          | 0/196 [00:00<?, ?it/s]"
      ]
     },
     "metadata": {},
     "output_type": "display_data"
    },
    {
     "data": {
      "application/vnd.jupyter.widget-view+json": {
       "model_id": "826efc86682a4dc1a81d614cd8f57bec",
       "version_major": 2,
       "version_minor": 0
      },
      "text/plain": [
       "Epoch 203:   0%|          | 0/196 [00:00<?, ?it/s]"
      ]
     },
     "metadata": {},
     "output_type": "display_data"
    },
    {
     "data": {
      "application/vnd.jupyter.widget-view+json": {
       "model_id": "557ef86af2404c53bb06c1bf1a58d7f5",
       "version_major": 2,
       "version_minor": 0
      },
      "text/plain": [
       "Epoch 204:   0%|          | 0/196 [00:00<?, ?it/s]"
      ]
     },
     "metadata": {},
     "output_type": "display_data"
    },
    {
     "data": {
      "application/vnd.jupyter.widget-view+json": {
       "model_id": "486a29f830da43b58493ab8faaf4eb3a",
       "version_major": 2,
       "version_minor": 0
      },
      "text/plain": [
       "Epoch 205:   0%|          | 0/196 [00:00<?, ?it/s]"
      ]
     },
     "metadata": {},
     "output_type": "display_data"
    },
    {
     "data": {
      "application/vnd.jupyter.widget-view+json": {
       "model_id": "8c1aab568aaa454089c2203ea3f7ef83",
       "version_major": 2,
       "version_minor": 0
      },
      "text/plain": [
       "Epoch 206:   0%|          | 0/196 [00:00<?, ?it/s]"
      ]
     },
     "metadata": {},
     "output_type": "display_data"
    },
    {
     "data": {
      "application/vnd.jupyter.widget-view+json": {
       "model_id": "9926da2bb6924e269ad99cfefdbda42b",
       "version_major": 2,
       "version_minor": 0
      },
      "text/plain": [
       "Epoch 207:   0%|          | 0/196 [00:00<?, ?it/s]"
      ]
     },
     "metadata": {},
     "output_type": "display_data"
    },
    {
     "data": {
      "application/vnd.jupyter.widget-view+json": {
       "model_id": "3e0c3eb14072482b8468805083187a04",
       "version_major": 2,
       "version_minor": 0
      },
      "text/plain": [
       "Epoch 208:   0%|          | 0/196 [00:00<?, ?it/s]"
      ]
     },
     "metadata": {},
     "output_type": "display_data"
    },
    {
     "data": {
      "application/vnd.jupyter.widget-view+json": {
       "model_id": "7db214cf961e4fa9bd75e3051266a6c8",
       "version_major": 2,
       "version_minor": 0
      },
      "text/plain": [
       "Epoch 209:   0%|          | 0/196 [00:00<?, ?it/s]"
      ]
     },
     "metadata": {},
     "output_type": "display_data"
    },
    {
     "data": {
      "application/vnd.jupyter.widget-view+json": {
       "model_id": "d558782109b0413e8e446ac41e1acfab",
       "version_major": 2,
       "version_minor": 0
      },
      "text/plain": [
       "Epoch 210:   0%|          | 0/196 [00:00<?, ?it/s]"
      ]
     },
     "metadata": {},
     "output_type": "display_data"
    },
    {
     "data": {
      "application/vnd.jupyter.widget-view+json": {
       "model_id": "d4218d763f7d44bfb10b4cf4d4c6203f",
       "version_major": 2,
       "version_minor": 0
      },
      "text/plain": [
       "Epoch 211:   0%|          | 0/196 [00:00<?, ?it/s]"
      ]
     },
     "metadata": {},
     "output_type": "display_data"
    },
    {
     "data": {
      "application/vnd.jupyter.widget-view+json": {
       "model_id": "e70eb39ab036441a8b903aa59b910eb4",
       "version_major": 2,
       "version_minor": 0
      },
      "text/plain": [
       "Epoch 212:   0%|          | 0/196 [00:00<?, ?it/s]"
      ]
     },
     "metadata": {},
     "output_type": "display_data"
    },
    {
     "data": {
      "application/vnd.jupyter.widget-view+json": {
       "model_id": "d1cd6388b3ec4b3dbffd3fe7466be8c0",
       "version_major": 2,
       "version_minor": 0
      },
      "text/plain": [
       "Epoch 213:   0%|          | 0/196 [00:00<?, ?it/s]"
      ]
     },
     "metadata": {},
     "output_type": "display_data"
    },
    {
     "data": {
      "application/vnd.jupyter.widget-view+json": {
       "model_id": "d5d4b6d8b44d4af1aa2456175df63191",
       "version_major": 2,
       "version_minor": 0
      },
      "text/plain": [
       "Epoch 214:   0%|          | 0/196 [00:00<?, ?it/s]"
      ]
     },
     "metadata": {},
     "output_type": "display_data"
    },
    {
     "data": {
      "application/vnd.jupyter.widget-view+json": {
       "model_id": "f75a72eb1d8a4ae399c97667647eb9bc",
       "version_major": 2,
       "version_minor": 0
      },
      "text/plain": [
       "Epoch 215:   0%|          | 0/196 [00:00<?, ?it/s]"
      ]
     },
     "metadata": {},
     "output_type": "display_data"
    },
    {
     "data": {
      "application/vnd.jupyter.widget-view+json": {
       "model_id": "5efed3045bbb4de0a04c03e7d2fa42dc",
       "version_major": 2,
       "version_minor": 0
      },
      "text/plain": [
       "Epoch 216:   0%|          | 0/196 [00:00<?, ?it/s]"
      ]
     },
     "metadata": {},
     "output_type": "display_data"
    },
    {
     "data": {
      "application/vnd.jupyter.widget-view+json": {
       "model_id": "ff73832fce9541b3864b108e0dadb515",
       "version_major": 2,
       "version_minor": 0
      },
      "text/plain": [
       "Epoch 217:   0%|          | 0/196 [00:00<?, ?it/s]"
      ]
     },
     "metadata": {},
     "output_type": "display_data"
    },
    {
     "data": {
      "application/vnd.jupyter.widget-view+json": {
       "model_id": "1954e3b9aa884d4495d38c07c8b79466",
       "version_major": 2,
       "version_minor": 0
      },
      "text/plain": [
       "Epoch 218:   0%|          | 0/196 [00:00<?, ?it/s]"
      ]
     },
     "metadata": {},
     "output_type": "display_data"
    },
    {
     "data": {
      "application/vnd.jupyter.widget-view+json": {
       "model_id": "c3dbc337485b4ad6949b526d435411b9",
       "version_major": 2,
       "version_minor": 0
      },
      "text/plain": [
       "Epoch 219:   0%|          | 0/196 [00:00<?, ?it/s]"
      ]
     },
     "metadata": {},
     "output_type": "display_data"
    },
    {
     "data": {
      "application/vnd.jupyter.widget-view+json": {
       "model_id": "13d9f0e743284e029ee4f59efe4fdc9a",
       "version_major": 2,
       "version_minor": 0
      },
      "text/plain": [
       "Epoch 220:   0%|          | 0/196 [00:00<?, ?it/s]"
      ]
     },
     "metadata": {},
     "output_type": "display_data"
    },
    {
     "data": {
      "application/vnd.jupyter.widget-view+json": {
       "model_id": "4935472863a049419f9cf1fa40ae7df7",
       "version_major": 2,
       "version_minor": 0
      },
      "text/plain": [
       "Epoch 221:   0%|          | 0/196 [00:00<?, ?it/s]"
      ]
     },
     "metadata": {},
     "output_type": "display_data"
    },
    {
     "data": {
      "application/vnd.jupyter.widget-view+json": {
       "model_id": "38dcd82f326e4e41ad3b747f02ccabcd",
       "version_major": 2,
       "version_minor": 0
      },
      "text/plain": [
       "Epoch 222:   0%|          | 0/196 [00:00<?, ?it/s]"
      ]
     },
     "metadata": {},
     "output_type": "display_data"
    },
    {
     "data": {
      "application/vnd.jupyter.widget-view+json": {
       "model_id": "4a1fc568b9e84cbb90588f66c1b655ed",
       "version_major": 2,
       "version_minor": 0
      },
      "text/plain": [
       "Epoch 223:   0%|          | 0/196 [00:00<?, ?it/s]"
      ]
     },
     "metadata": {},
     "output_type": "display_data"
    },
    {
     "data": {
      "application/vnd.jupyter.widget-view+json": {
       "model_id": "2d42f15a12634fe5beb86d9c3fe8dccc",
       "version_major": 2,
       "version_minor": 0
      },
      "text/plain": [
       "Epoch 224:   0%|          | 0/196 [00:00<?, ?it/s]"
      ]
     },
     "metadata": {},
     "output_type": "display_data"
    },
    {
     "data": {
      "application/vnd.jupyter.widget-view+json": {
       "model_id": "65ecda6ecf944e9fb03fb87267237081",
       "version_major": 2,
       "version_minor": 0
      },
      "text/plain": [
       "Epoch 225:   0%|          | 0/196 [00:00<?, ?it/s]"
      ]
     },
     "metadata": {},
     "output_type": "display_data"
    },
    {
     "data": {
      "application/vnd.jupyter.widget-view+json": {
       "model_id": "61b340c125cd4377853d60563849fa18",
       "version_major": 2,
       "version_minor": 0
      },
      "text/plain": [
       "Epoch 226:   0%|          | 0/196 [00:00<?, ?it/s]"
      ]
     },
     "metadata": {},
     "output_type": "display_data"
    },
    {
     "data": {
      "application/vnd.jupyter.widget-view+json": {
       "model_id": "f1cddd9f7a0d4444b2dacde9a42a593d",
       "version_major": 2,
       "version_minor": 0
      },
      "text/plain": [
       "Epoch 227:   0%|          | 0/196 [00:00<?, ?it/s]"
      ]
     },
     "metadata": {},
     "output_type": "display_data"
    },
    {
     "data": {
      "application/vnd.jupyter.widget-view+json": {
       "model_id": "3262d834fa134718a40e6c7f71f34ff4",
       "version_major": 2,
       "version_minor": 0
      },
      "text/plain": [
       "Epoch 228:   0%|          | 0/196 [00:00<?, ?it/s]"
      ]
     },
     "metadata": {},
     "output_type": "display_data"
    },
    {
     "data": {
      "application/vnd.jupyter.widget-view+json": {
       "model_id": "7c7c249d7d484114afa1d5b806a32ee4",
       "version_major": 2,
       "version_minor": 0
      },
      "text/plain": [
       "Epoch 229:   0%|          | 0/196 [00:00<?, ?it/s]"
      ]
     },
     "metadata": {},
     "output_type": "display_data"
    },
    {
     "data": {
      "application/vnd.jupyter.widget-view+json": {
       "model_id": "df654868798841fa831f9aeae2880b57",
       "version_major": 2,
       "version_minor": 0
      },
      "text/plain": [
       "Epoch 230:   0%|          | 0/196 [00:00<?, ?it/s]"
      ]
     },
     "metadata": {},
     "output_type": "display_data"
    },
    {
     "data": {
      "application/vnd.jupyter.widget-view+json": {
       "model_id": "62e7ea5a81c4486a81179b8d420de7a4",
       "version_major": 2,
       "version_minor": 0
      },
      "text/plain": [
       "Epoch 231:   0%|          | 0/196 [00:00<?, ?it/s]"
      ]
     },
     "metadata": {},
     "output_type": "display_data"
    },
    {
     "data": {
      "application/vnd.jupyter.widget-view+json": {
       "model_id": "4ab3edf474aa419f9e081ae0316c5b4e",
       "version_major": 2,
       "version_minor": 0
      },
      "text/plain": [
       "Epoch 232:   0%|          | 0/196 [00:00<?, ?it/s]"
      ]
     },
     "metadata": {},
     "output_type": "display_data"
    },
    {
     "data": {
      "application/vnd.jupyter.widget-view+json": {
       "model_id": "9bedcb74b33240859b91336d89ecd76f",
       "version_major": 2,
       "version_minor": 0
      },
      "text/plain": [
       "Epoch 233:   0%|          | 0/196 [00:00<?, ?it/s]"
      ]
     },
     "metadata": {},
     "output_type": "display_data"
    },
    {
     "data": {
      "application/vnd.jupyter.widget-view+json": {
       "model_id": "7a82e0af0db7424e944d3a10bb3f7070",
       "version_major": 2,
       "version_minor": 0
      },
      "text/plain": [
       "Epoch 234:   0%|          | 0/196 [00:00<?, ?it/s]"
      ]
     },
     "metadata": {},
     "output_type": "display_data"
    },
    {
     "data": {
      "application/vnd.jupyter.widget-view+json": {
       "model_id": "6ff8a9269c0642108b9ff7140064df71",
       "version_major": 2,
       "version_minor": 0
      },
      "text/plain": [
       "Epoch 235:   0%|          | 0/196 [00:00<?, ?it/s]"
      ]
     },
     "metadata": {},
     "output_type": "display_data"
    },
    {
     "data": {
      "application/vnd.jupyter.widget-view+json": {
       "model_id": "62cb4329f814457aad24920e075b26b3",
       "version_major": 2,
       "version_minor": 0
      },
      "text/plain": [
       "Epoch 236:   0%|          | 0/196 [00:00<?, ?it/s]"
      ]
     },
     "metadata": {},
     "output_type": "display_data"
    },
    {
     "data": {
      "application/vnd.jupyter.widget-view+json": {
       "model_id": "889d7aca1c4347afb9b1327cc2b012d2",
       "version_major": 2,
       "version_minor": 0
      },
      "text/plain": [
       "Epoch 237:   0%|          | 0/196 [00:00<?, ?it/s]"
      ]
     },
     "metadata": {},
     "output_type": "display_data"
    },
    {
     "data": {
      "application/vnd.jupyter.widget-view+json": {
       "model_id": "06ec6b59d0c74aaf8fa5287950fd60ca",
       "version_major": 2,
       "version_minor": 0
      },
      "text/plain": [
       "Epoch 238:   0%|          | 0/196 [00:00<?, ?it/s]"
      ]
     },
     "metadata": {},
     "output_type": "display_data"
    },
    {
     "data": {
      "application/vnd.jupyter.widget-view+json": {
       "model_id": "f785d0ef7194430bb10bb1124455ac6a",
       "version_major": 2,
       "version_minor": 0
      },
      "text/plain": [
       "Epoch 239:   0%|          | 0/196 [00:00<?, ?it/s]"
      ]
     },
     "metadata": {},
     "output_type": "display_data"
    },
    {
     "data": {
      "application/vnd.jupyter.widget-view+json": {
       "model_id": "c1cd5faf087e4bd183ab5a36d61e8d4d",
       "version_major": 2,
       "version_minor": 0
      },
      "text/plain": [
       "Epoch 240:   0%|          | 0/196 [00:00<?, ?it/s]"
      ]
     },
     "metadata": {},
     "output_type": "display_data"
    },
    {
     "data": {
      "application/vnd.jupyter.widget-view+json": {
       "model_id": "898466b5396240eea77f2efcb68e1f31",
       "version_major": 2,
       "version_minor": 0
      },
      "text/plain": [
       "Epoch 241:   0%|          | 0/196 [00:00<?, ?it/s]"
      ]
     },
     "metadata": {},
     "output_type": "display_data"
    },
    {
     "data": {
      "application/vnd.jupyter.widget-view+json": {
       "model_id": "488f01844b90483da7e3d8c0353874ad",
       "version_major": 2,
       "version_minor": 0
      },
      "text/plain": [
       "Epoch 242:   0%|          | 0/196 [00:00<?, ?it/s]"
      ]
     },
     "metadata": {},
     "output_type": "display_data"
    },
    {
     "data": {
      "application/vnd.jupyter.widget-view+json": {
       "model_id": "274c2db670cd4f51a614cdc1feabc2c0",
       "version_major": 2,
       "version_minor": 0
      },
      "text/plain": [
       "Epoch 243:   0%|          | 0/196 [00:00<?, ?it/s]"
      ]
     },
     "metadata": {},
     "output_type": "display_data"
    },
    {
     "data": {
      "application/vnd.jupyter.widget-view+json": {
       "model_id": "4637f7b8eb974ce98fb3438505df950d",
       "version_major": 2,
       "version_minor": 0
      },
      "text/plain": [
       "Epoch 244:   0%|          | 0/196 [00:00<?, ?it/s]"
      ]
     },
     "metadata": {},
     "output_type": "display_data"
    },
    {
     "data": {
      "application/vnd.jupyter.widget-view+json": {
       "model_id": "da847447cbb944a3a65856e5b0627f36",
       "version_major": 2,
       "version_minor": 0
      },
      "text/plain": [
       "Epoch 245:   0%|          | 0/196 [00:00<?, ?it/s]"
      ]
     },
     "metadata": {},
     "output_type": "display_data"
    },
    {
     "data": {
      "application/vnd.jupyter.widget-view+json": {
       "model_id": "f8d3c1c1c01844dfb7549e0a2414d917",
       "version_major": 2,
       "version_minor": 0
      },
      "text/plain": [
       "Epoch 246:   0%|          | 0/196 [00:00<?, ?it/s]"
      ]
     },
     "metadata": {},
     "output_type": "display_data"
    },
    {
     "data": {
      "application/vnd.jupyter.widget-view+json": {
       "model_id": "ff96f4a5e99f4ccd9ea3407a9c65f89b",
       "version_major": 2,
       "version_minor": 0
      },
      "text/plain": [
       "Epoch 247:   0%|          | 0/196 [00:00<?, ?it/s]"
      ]
     },
     "metadata": {},
     "output_type": "display_data"
    },
    {
     "data": {
      "application/vnd.jupyter.widget-view+json": {
       "model_id": "ef8eb2d19bcd4412850e8f1b1f327df2",
       "version_major": 2,
       "version_minor": 0
      },
      "text/plain": [
       "Epoch 248:   0%|          | 0/196 [00:00<?, ?it/s]"
      ]
     },
     "metadata": {},
     "output_type": "display_data"
    },
    {
     "data": {
      "application/vnd.jupyter.widget-view+json": {
       "model_id": "c7f410ff59154bcb87229e008bc2261a",
       "version_major": 2,
       "version_minor": 0
      },
      "text/plain": [
       "Epoch 249:   0%|          | 0/196 [00:00<?, ?it/s]"
      ]
     },
     "metadata": {},
     "output_type": "display_data"
    },
    {
     "data": {
      "application/vnd.jupyter.widget-view+json": {
       "model_id": "fae4ae677d264d279d57fbad1eef3eed",
       "version_major": 2,
       "version_minor": 0
      },
      "text/plain": [
       "Epoch 250:   0%|          | 0/196 [00:00<?, ?it/s]"
      ]
     },
     "metadata": {},
     "output_type": "display_data"
    },
    {
     "data": {
      "application/vnd.jupyter.widget-view+json": {
       "model_id": "d52c1e99441d4f6a968f4744a640de47",
       "version_major": 2,
       "version_minor": 0
      },
      "text/plain": [
       "Epoch 251:   0%|          | 0/196 [00:00<?, ?it/s]"
      ]
     },
     "metadata": {},
     "output_type": "display_data"
    },
    {
     "data": {
      "application/vnd.jupyter.widget-view+json": {
       "model_id": "0736178aad8445919d7e9065b4700055",
       "version_major": 2,
       "version_minor": 0
      },
      "text/plain": [
       "Epoch 252:   0%|          | 0/196 [00:00<?, ?it/s]"
      ]
     },
     "metadata": {},
     "output_type": "display_data"
    },
    {
     "data": {
      "application/vnd.jupyter.widget-view+json": {
       "model_id": "12f15bc3cb7b4004a60bb43ef4d6e5b2",
       "version_major": 2,
       "version_minor": 0
      },
      "text/plain": [
       "Epoch 253:   0%|          | 0/196 [00:00<?, ?it/s]"
      ]
     },
     "metadata": {},
     "output_type": "display_data"
    },
    {
     "data": {
      "application/vnd.jupyter.widget-view+json": {
       "model_id": "9139aab7c19d40ed9b80459c6a76e1bb",
       "version_major": 2,
       "version_minor": 0
      },
      "text/plain": [
       "Epoch 254:   0%|          | 0/196 [00:00<?, ?it/s]"
      ]
     },
     "metadata": {},
     "output_type": "display_data"
    },
    {
     "data": {
      "application/vnd.jupyter.widget-view+json": {
       "model_id": "a68b102bd878405a860a215e9335b1ad",
       "version_major": 2,
       "version_minor": 0
      },
      "text/plain": [
       "Epoch 255:   0%|          | 0/196 [00:00<?, ?it/s]"
      ]
     },
     "metadata": {},
     "output_type": "display_data"
    },
    {
     "data": {
      "application/vnd.jupyter.widget-view+json": {
       "model_id": "beb52d6979f8482d84138fc8c8c47748",
       "version_major": 2,
       "version_minor": 0
      },
      "text/plain": [
       "Epoch 256:   0%|          | 0/196 [00:00<?, ?it/s]"
      ]
     },
     "metadata": {},
     "output_type": "display_data"
    },
    {
     "data": {
      "application/vnd.jupyter.widget-view+json": {
       "model_id": "5c85d297e7054b0286e84680ba695892",
       "version_major": 2,
       "version_minor": 0
      },
      "text/plain": [
       "Epoch 257:   0%|          | 0/196 [00:00<?, ?it/s]"
      ]
     },
     "metadata": {},
     "output_type": "display_data"
    },
    {
     "data": {
      "application/vnd.jupyter.widget-view+json": {
       "model_id": "9e7e5728475d4288a8d1c1fabce13f8c",
       "version_major": 2,
       "version_minor": 0
      },
      "text/plain": [
       "Epoch 258:   0%|          | 0/196 [00:00<?, ?it/s]"
      ]
     },
     "metadata": {},
     "output_type": "display_data"
    },
    {
     "data": {
      "application/vnd.jupyter.widget-view+json": {
       "model_id": "4f63efa69e2b4aae923cfcd890ef7f8a",
       "version_major": 2,
       "version_minor": 0
      },
      "text/plain": [
       "Epoch 259:   0%|          | 0/196 [00:00<?, ?it/s]"
      ]
     },
     "metadata": {},
     "output_type": "display_data"
    },
    {
     "data": {
      "application/vnd.jupyter.widget-view+json": {
       "model_id": "850bf709c0434f3e9faf29c355754d2a",
       "version_major": 2,
       "version_minor": 0
      },
      "text/plain": [
       "Epoch 260:   0%|          | 0/196 [00:00<?, ?it/s]"
      ]
     },
     "metadata": {},
     "output_type": "display_data"
    },
    {
     "data": {
      "application/vnd.jupyter.widget-view+json": {
       "model_id": "a48029f79a3f455499d30c9aca50f791",
       "version_major": 2,
       "version_minor": 0
      },
      "text/plain": [
       "Epoch 261:   0%|          | 0/196 [00:00<?, ?it/s]"
      ]
     },
     "metadata": {},
     "output_type": "display_data"
    },
    {
     "data": {
      "application/vnd.jupyter.widget-view+json": {
       "model_id": "570041c3c3594a25b8ae26bde5ebe2fb",
       "version_major": 2,
       "version_minor": 0
      },
      "text/plain": [
       "Epoch 262:   0%|          | 0/196 [00:00<?, ?it/s]"
      ]
     },
     "metadata": {},
     "output_type": "display_data"
    },
    {
     "data": {
      "application/vnd.jupyter.widget-view+json": {
       "model_id": "c21a3b285f0140ce84ceff3bee80acb1",
       "version_major": 2,
       "version_minor": 0
      },
      "text/plain": [
       "Epoch 263:   0%|          | 0/196 [00:00<?, ?it/s]"
      ]
     },
     "metadata": {},
     "output_type": "display_data"
    },
    {
     "data": {
      "application/vnd.jupyter.widget-view+json": {
       "model_id": "ff2df4dafe0546b29bd1e442c72af2e8",
       "version_major": 2,
       "version_minor": 0
      },
      "text/plain": [
       "Epoch 264:   0%|          | 0/196 [00:00<?, ?it/s]"
      ]
     },
     "metadata": {},
     "output_type": "display_data"
    },
    {
     "data": {
      "application/vnd.jupyter.widget-view+json": {
       "model_id": "9dca0409c63c41a98511b6f61d25bb23",
       "version_major": 2,
       "version_minor": 0
      },
      "text/plain": [
       "Epoch 265:   0%|          | 0/196 [00:00<?, ?it/s]"
      ]
     },
     "metadata": {},
     "output_type": "display_data"
    },
    {
     "data": {
      "application/vnd.jupyter.widget-view+json": {
       "model_id": "4ecc868c30244e61825e71f090f2a24b",
       "version_major": 2,
       "version_minor": 0
      },
      "text/plain": [
       "Epoch 266:   0%|          | 0/196 [00:00<?, ?it/s]"
      ]
     },
     "metadata": {},
     "output_type": "display_data"
    },
    {
     "data": {
      "application/vnd.jupyter.widget-view+json": {
       "model_id": "e7b7d1d11660490baacf05e2d89f8187",
       "version_major": 2,
       "version_minor": 0
      },
      "text/plain": [
       "Epoch 267:   0%|          | 0/196 [00:00<?, ?it/s]"
      ]
     },
     "metadata": {},
     "output_type": "display_data"
    },
    {
     "data": {
      "application/vnd.jupyter.widget-view+json": {
       "model_id": "61bb06cf2c1845a0a4c91eb825858dd2",
       "version_major": 2,
       "version_minor": 0
      },
      "text/plain": [
       "Epoch 268:   0%|          | 0/196 [00:00<?, ?it/s]"
      ]
     },
     "metadata": {},
     "output_type": "display_data"
    },
    {
     "data": {
      "application/vnd.jupyter.widget-view+json": {
       "model_id": "adea32abe50344b9b584d678a9e85911",
       "version_major": 2,
       "version_minor": 0
      },
      "text/plain": [
       "Epoch 269:   0%|          | 0/196 [00:00<?, ?it/s]"
      ]
     },
     "metadata": {},
     "output_type": "display_data"
    },
    {
     "data": {
      "application/vnd.jupyter.widget-view+json": {
       "model_id": "b058ead455764de0b5660f93d3e21946",
       "version_major": 2,
       "version_minor": 0
      },
      "text/plain": [
       "Epoch 270:   0%|          | 0/196 [00:00<?, ?it/s]"
      ]
     },
     "metadata": {},
     "output_type": "display_data"
    },
    {
     "data": {
      "application/vnd.jupyter.widget-view+json": {
       "model_id": "65675af6ee4947449986596ceaa8c324",
       "version_major": 2,
       "version_minor": 0
      },
      "text/plain": [
       "Epoch 271:   0%|          | 0/196 [00:00<?, ?it/s]"
      ]
     },
     "metadata": {},
     "output_type": "display_data"
    },
    {
     "data": {
      "application/vnd.jupyter.widget-view+json": {
       "model_id": "ffa3e1ffea8b473aaf94a1807900c90b",
       "version_major": 2,
       "version_minor": 0
      },
      "text/plain": [
       "Epoch 272:   0%|          | 0/196 [00:00<?, ?it/s]"
      ]
     },
     "metadata": {},
     "output_type": "display_data"
    },
    {
     "data": {
      "application/vnd.jupyter.widget-view+json": {
       "model_id": "a515e6d4ced44533905304ecd03108aa",
       "version_major": 2,
       "version_minor": 0
      },
      "text/plain": [
       "Epoch 273:   0%|          | 0/196 [00:00<?, ?it/s]"
      ]
     },
     "metadata": {},
     "output_type": "display_data"
    },
    {
     "data": {
      "application/vnd.jupyter.widget-view+json": {
       "model_id": "1f516fd94ceb41ba95d678dad6b58d40",
       "version_major": 2,
       "version_minor": 0
      },
      "text/plain": [
       "Epoch 274:   0%|          | 0/196 [00:00<?, ?it/s]"
      ]
     },
     "metadata": {},
     "output_type": "display_data"
    },
    {
     "data": {
      "application/vnd.jupyter.widget-view+json": {
       "model_id": "609206004ecf4a62ac08d629fc716ca8",
       "version_major": 2,
       "version_minor": 0
      },
      "text/plain": [
       "Epoch 275:   0%|          | 0/196 [00:00<?, ?it/s]"
      ]
     },
     "metadata": {},
     "output_type": "display_data"
    },
    {
     "data": {
      "application/vnd.jupyter.widget-view+json": {
       "model_id": "d6675b70e8de4f05a77258e0a7cfc1ef",
       "version_major": 2,
       "version_minor": 0
      },
      "text/plain": [
       "Epoch 276:   0%|          | 0/196 [00:00<?, ?it/s]"
      ]
     },
     "metadata": {},
     "output_type": "display_data"
    },
    {
     "data": {
      "application/vnd.jupyter.widget-view+json": {
       "model_id": "d186663e662c4828b06d7e4791115924",
       "version_major": 2,
       "version_minor": 0
      },
      "text/plain": [
       "Epoch 277:   0%|          | 0/196 [00:00<?, ?it/s]"
      ]
     },
     "metadata": {},
     "output_type": "display_data"
    },
    {
     "data": {
      "application/vnd.jupyter.widget-view+json": {
       "model_id": "ab88cc2c266f4eff93b78bde07a34c5a",
       "version_major": 2,
       "version_minor": 0
      },
      "text/plain": [
       "Epoch 278:   0%|          | 0/196 [00:00<?, ?it/s]"
      ]
     },
     "metadata": {},
     "output_type": "display_data"
    },
    {
     "data": {
      "application/vnd.jupyter.widget-view+json": {
       "model_id": "eaff75c7ff9c4a76aceb8608c649bacd",
       "version_major": 2,
       "version_minor": 0
      },
      "text/plain": [
       "Epoch 279:   0%|          | 0/196 [00:00<?, ?it/s]"
      ]
     },
     "metadata": {},
     "output_type": "display_data"
    },
    {
     "data": {
      "application/vnd.jupyter.widget-view+json": {
       "model_id": "fcdf6b28a9e74a989b3850477440fc24",
       "version_major": 2,
       "version_minor": 0
      },
      "text/plain": [
       "Epoch 280:   0%|          | 0/196 [00:00<?, ?it/s]"
      ]
     },
     "metadata": {},
     "output_type": "display_data"
    },
    {
     "data": {
      "application/vnd.jupyter.widget-view+json": {
       "model_id": "a99cc569ae864d79b408970fcd2dd8dd",
       "version_major": 2,
       "version_minor": 0
      },
      "text/plain": [
       "Epoch 281:   0%|          | 0/196 [00:00<?, ?it/s]"
      ]
     },
     "metadata": {},
     "output_type": "display_data"
    },
    {
     "data": {
      "application/vnd.jupyter.widget-view+json": {
       "model_id": "8f291e7ce97e4546b1d872aa5e4d45ff",
       "version_major": 2,
       "version_minor": 0
      },
      "text/plain": [
       "Epoch 282:   0%|          | 0/196 [00:00<?, ?it/s]"
      ]
     },
     "metadata": {},
     "output_type": "display_data"
    },
    {
     "data": {
      "application/vnd.jupyter.widget-view+json": {
       "model_id": "1bb5d1a819a34e9fb2fcdc438e601a8a",
       "version_major": 2,
       "version_minor": 0
      },
      "text/plain": [
       "Epoch 283:   0%|          | 0/196 [00:00<?, ?it/s]"
      ]
     },
     "metadata": {},
     "output_type": "display_data"
    },
    {
     "data": {
      "application/vnd.jupyter.widget-view+json": {
       "model_id": "ffb67eb6502b42afa1dd548d5b4b1ab7",
       "version_major": 2,
       "version_minor": 0
      },
      "text/plain": [
       "Epoch 284:   0%|          | 0/196 [00:00<?, ?it/s]"
      ]
     },
     "metadata": {},
     "output_type": "display_data"
    },
    {
     "data": {
      "application/vnd.jupyter.widget-view+json": {
       "model_id": "76c0b59b025a4153a92ed6233f807852",
       "version_major": 2,
       "version_minor": 0
      },
      "text/plain": [
       "Epoch 285:   0%|          | 0/196 [00:00<?, ?it/s]"
      ]
     },
     "metadata": {},
     "output_type": "display_data"
    },
    {
     "data": {
      "application/vnd.jupyter.widget-view+json": {
       "model_id": "56e1aeace23d40c791dff52c630f9b7b",
       "version_major": 2,
       "version_minor": 0
      },
      "text/plain": [
       "Epoch 286:   0%|          | 0/196 [00:00<?, ?it/s]"
      ]
     },
     "metadata": {},
     "output_type": "display_data"
    },
    {
     "data": {
      "application/vnd.jupyter.widget-view+json": {
       "model_id": "14906802d9e84b9e887c53a6291ccf76",
       "version_major": 2,
       "version_minor": 0
      },
      "text/plain": [
       "Epoch 287:   0%|          | 0/196 [00:00<?, ?it/s]"
      ]
     },
     "metadata": {},
     "output_type": "display_data"
    },
    {
     "data": {
      "application/vnd.jupyter.widget-view+json": {
       "model_id": "3e7f4f18570c45d4a868bb55bf5852a9",
       "version_major": 2,
       "version_minor": 0
      },
      "text/plain": [
       "Epoch 288:   0%|          | 0/196 [00:00<?, ?it/s]"
      ]
     },
     "metadata": {},
     "output_type": "display_data"
    },
    {
     "data": {
      "application/vnd.jupyter.widget-view+json": {
       "model_id": "d8322958ca42451b997ba96363f76402",
       "version_major": 2,
       "version_minor": 0
      },
      "text/plain": [
       "Epoch 289:   0%|          | 0/196 [00:00<?, ?it/s]"
      ]
     },
     "metadata": {},
     "output_type": "display_data"
    },
    {
     "data": {
      "application/vnd.jupyter.widget-view+json": {
       "model_id": "60cce93da4af451797398799bf28a72a",
       "version_major": 2,
       "version_minor": 0
      },
      "text/plain": [
       "Epoch 290:   0%|          | 0/196 [00:00<?, ?it/s]"
      ]
     },
     "metadata": {},
     "output_type": "display_data"
    },
    {
     "data": {
      "application/vnd.jupyter.widget-view+json": {
       "model_id": "955082a8316e4689a706ddf8effae88c",
       "version_major": 2,
       "version_minor": 0
      },
      "text/plain": [
       "Epoch 291:   0%|          | 0/196 [00:00<?, ?it/s]"
      ]
     },
     "metadata": {},
     "output_type": "display_data"
    },
    {
     "data": {
      "application/vnd.jupyter.widget-view+json": {
       "model_id": "77cc5f3ee8e04be89d61e61c889efecc",
       "version_major": 2,
       "version_minor": 0
      },
      "text/plain": [
       "Epoch 292:   0%|          | 0/196 [00:00<?, ?it/s]"
      ]
     },
     "metadata": {},
     "output_type": "display_data"
    },
    {
     "data": {
      "application/vnd.jupyter.widget-view+json": {
       "model_id": "a87b34678f894a4fa13f1d281b527ba2",
       "version_major": 2,
       "version_minor": 0
      },
      "text/plain": [
       "Epoch 293:   0%|          | 0/196 [00:00<?, ?it/s]"
      ]
     },
     "metadata": {},
     "output_type": "display_data"
    },
    {
     "data": {
      "application/vnd.jupyter.widget-view+json": {
       "model_id": "65f867da6b8146f098699d339c6912fd",
       "version_major": 2,
       "version_minor": 0
      },
      "text/plain": [
       "Epoch 294:   0%|          | 0/196 [00:00<?, ?it/s]"
      ]
     },
     "metadata": {},
     "output_type": "display_data"
    },
    {
     "data": {
      "application/vnd.jupyter.widget-view+json": {
       "model_id": "bfd327cb525d4d1bac23b85237bcbf1d",
       "version_major": 2,
       "version_minor": 0
      },
      "text/plain": [
       "Epoch 295:   0%|          | 0/196 [00:00<?, ?it/s]"
      ]
     },
     "metadata": {},
     "output_type": "display_data"
    },
    {
     "data": {
      "application/vnd.jupyter.widget-view+json": {
       "model_id": "f455752492b34906af6dae36e9d8cfed",
       "version_major": 2,
       "version_minor": 0
      },
      "text/plain": [
       "Epoch 296:   0%|          | 0/196 [00:00<?, ?it/s]"
      ]
     },
     "metadata": {},
     "output_type": "display_data"
    },
    {
     "data": {
      "application/vnd.jupyter.widget-view+json": {
       "model_id": "efa3d3afc8b44f76996a5c405e95b273",
       "version_major": 2,
       "version_minor": 0
      },
      "text/plain": [
       "Epoch 297:   0%|          | 0/196 [00:00<?, ?it/s]"
      ]
     },
     "metadata": {},
     "output_type": "display_data"
    },
    {
     "data": {
      "application/vnd.jupyter.widget-view+json": {
       "model_id": "008c7c6efc34445dab079ea3c545db4e",
       "version_major": 2,
       "version_minor": 0
      },
      "text/plain": [
       "Epoch 298:   0%|          | 0/196 [00:00<?, ?it/s]"
      ]
     },
     "metadata": {},
     "output_type": "display_data"
    },
    {
     "data": {
      "application/vnd.jupyter.widget-view+json": {
       "model_id": "d0a59d67fc1543748c5d40577254f462",
       "version_major": 2,
       "version_minor": 0
      },
      "text/plain": [
       "Epoch 299:   0%|          | 0/196 [00:00<?, ?it/s]"
      ]
     },
     "metadata": {},
     "output_type": "display_data"
    },
    {
     "data": {
      "application/vnd.jupyter.widget-view+json": {
       "model_id": "71005b3696ea4643955914f9fc7e8b21",
       "version_major": 2,
       "version_minor": 0
      },
      "text/plain": [
       "Epoch 300:   0%|          | 0/196 [00:00<?, ?it/s]"
      ]
     },
     "metadata": {},
     "output_type": "display_data"
    },
    {
     "data": {
      "application/vnd.jupyter.widget-view+json": {
       "model_id": "892457fa217a473e86dbc8de01550bb3",
       "version_major": 2,
       "version_minor": 0
      },
      "text/plain": [
       "Epoch 301:   0%|          | 0/196 [00:00<?, ?it/s]"
      ]
     },
     "metadata": {},
     "output_type": "display_data"
    },
    {
     "data": {
      "application/vnd.jupyter.widget-view+json": {
       "model_id": "b25d6af25aa14fe7b9c4b8a25c44af80",
       "version_major": 2,
       "version_minor": 0
      },
      "text/plain": [
       "Epoch 302:   0%|          | 0/196 [00:00<?, ?it/s]"
      ]
     },
     "metadata": {},
     "output_type": "display_data"
    },
    {
     "data": {
      "application/vnd.jupyter.widget-view+json": {
       "model_id": "3d93b00d28c144a8aafe254db435de43",
       "version_major": 2,
       "version_minor": 0
      },
      "text/plain": [
       "Epoch 303:   0%|          | 0/196 [00:00<?, ?it/s]"
      ]
     },
     "metadata": {},
     "output_type": "display_data"
    },
    {
     "data": {
      "application/vnd.jupyter.widget-view+json": {
       "model_id": "d6e63877845e4cfbb7a45ab8b571b99b",
       "version_major": 2,
       "version_minor": 0
      },
      "text/plain": [
       "Epoch 304:   0%|          | 0/196 [00:00<?, ?it/s]"
      ]
     },
     "metadata": {},
     "output_type": "display_data"
    },
    {
     "data": {
      "application/vnd.jupyter.widget-view+json": {
       "model_id": "8487b96ff10244a0acc904e3d23cc681",
       "version_major": 2,
       "version_minor": 0
      },
      "text/plain": [
       "Epoch 305:   0%|          | 0/196 [00:00<?, ?it/s]"
      ]
     },
     "metadata": {},
     "output_type": "display_data"
    },
    {
     "data": {
      "application/vnd.jupyter.widget-view+json": {
       "model_id": "87e5f3ca00d84ed89901e6837b9522b5",
       "version_major": 2,
       "version_minor": 0
      },
      "text/plain": [
       "Epoch 306:   0%|          | 0/196 [00:00<?, ?it/s]"
      ]
     },
     "metadata": {},
     "output_type": "display_data"
    },
    {
     "data": {
      "application/vnd.jupyter.widget-view+json": {
       "model_id": "7b6d3380cb634f918a9206ed0a628c8f",
       "version_major": 2,
       "version_minor": 0
      },
      "text/plain": [
       "Epoch 307:   0%|          | 0/196 [00:00<?, ?it/s]"
      ]
     },
     "metadata": {},
     "output_type": "display_data"
    },
    {
     "data": {
      "application/vnd.jupyter.widget-view+json": {
       "model_id": "6aaef6b7483847b39cd3e99fb50894f3",
       "version_major": 2,
       "version_minor": 0
      },
      "text/plain": [
       "Epoch 308:   0%|          | 0/196 [00:00<?, ?it/s]"
      ]
     },
     "metadata": {},
     "output_type": "display_data"
    },
    {
     "data": {
      "application/vnd.jupyter.widget-view+json": {
       "model_id": "6d7b10e86f6d4fb9899f102adb327838",
       "version_major": 2,
       "version_minor": 0
      },
      "text/plain": [
       "Epoch 309:   0%|          | 0/196 [00:00<?, ?it/s]"
      ]
     },
     "metadata": {},
     "output_type": "display_data"
    },
    {
     "data": {
      "application/vnd.jupyter.widget-view+json": {
       "model_id": "62af8f5176514505bbea927a61fd13b5",
       "version_major": 2,
       "version_minor": 0
      },
      "text/plain": [
       "Epoch 310:   0%|          | 0/196 [00:00<?, ?it/s]"
      ]
     },
     "metadata": {},
     "output_type": "display_data"
    },
    {
     "data": {
      "application/vnd.jupyter.widget-view+json": {
       "model_id": "c278d620ddf6496bb4f5954f9e3106fd",
       "version_major": 2,
       "version_minor": 0
      },
      "text/plain": [
       "Epoch 311:   0%|          | 0/196 [00:00<?, ?it/s]"
      ]
     },
     "metadata": {},
     "output_type": "display_data"
    },
    {
     "data": {
      "application/vnd.jupyter.widget-view+json": {
       "model_id": "f4054db9f92742ec9f1fe74e5caf4a76",
       "version_major": 2,
       "version_minor": 0
      },
      "text/plain": [
       "Epoch 312:   0%|          | 0/196 [00:00<?, ?it/s]"
      ]
     },
     "metadata": {},
     "output_type": "display_data"
    },
    {
     "data": {
      "application/vnd.jupyter.widget-view+json": {
       "model_id": "c2ff963e52924a8bb28f7df0742e5fe7",
       "version_major": 2,
       "version_minor": 0
      },
      "text/plain": [
       "Epoch 313:   0%|          | 0/196 [00:00<?, ?it/s]"
      ]
     },
     "metadata": {},
     "output_type": "display_data"
    },
    {
     "data": {
      "application/vnd.jupyter.widget-view+json": {
       "model_id": "8e5a2845705b4d3591dbab11e31977be",
       "version_major": 2,
       "version_minor": 0
      },
      "text/plain": [
       "Epoch 314:   0%|          | 0/196 [00:00<?, ?it/s]"
      ]
     },
     "metadata": {},
     "output_type": "display_data"
    },
    {
     "data": {
      "application/vnd.jupyter.widget-view+json": {
       "model_id": "64a438bb3849424f9c722f902cffe686",
       "version_major": 2,
       "version_minor": 0
      },
      "text/plain": [
       "Epoch 315:   0%|          | 0/196 [00:00<?, ?it/s]"
      ]
     },
     "metadata": {},
     "output_type": "display_data"
    },
    {
     "data": {
      "application/vnd.jupyter.widget-view+json": {
       "model_id": "5645aa03f94043cc8a8d354d500df954",
       "version_major": 2,
       "version_minor": 0
      },
      "text/plain": [
       "Epoch 316:   0%|          | 0/196 [00:00<?, ?it/s]"
      ]
     },
     "metadata": {},
     "output_type": "display_data"
    },
    {
     "data": {
      "application/vnd.jupyter.widget-view+json": {
       "model_id": "2c2580046f23428eb36fb59beffcd14b",
       "version_major": 2,
       "version_minor": 0
      },
      "text/plain": [
       "Epoch 317:   0%|          | 0/196 [00:00<?, ?it/s]"
      ]
     },
     "metadata": {},
     "output_type": "display_data"
    },
    {
     "data": {
      "application/vnd.jupyter.widget-view+json": {
       "model_id": "49881b18748d4130b2dbd434b984fecb",
       "version_major": 2,
       "version_minor": 0
      },
      "text/plain": [
       "Epoch 318:   0%|          | 0/196 [00:00<?, ?it/s]"
      ]
     },
     "metadata": {},
     "output_type": "display_data"
    },
    {
     "data": {
      "application/vnd.jupyter.widget-view+json": {
       "model_id": "b7e93164a4034fc19abb8d7292b6b222",
       "version_major": 2,
       "version_minor": 0
      },
      "text/plain": [
       "Epoch 319:   0%|          | 0/196 [00:00<?, ?it/s]"
      ]
     },
     "metadata": {},
     "output_type": "display_data"
    },
    {
     "data": {
      "application/vnd.jupyter.widget-view+json": {
       "model_id": "9b7313cc9437416dab27514c8aafe678",
       "version_major": 2,
       "version_minor": 0
      },
      "text/plain": [
       "Epoch 320:   0%|          | 0/196 [00:00<?, ?it/s]"
      ]
     },
     "metadata": {},
     "output_type": "display_data"
    },
    {
     "data": {
      "application/vnd.jupyter.widget-view+json": {
       "model_id": "757d373c8b42492d9cdbc345279bf4ca",
       "version_major": 2,
       "version_minor": 0
      },
      "text/plain": [
       "Epoch 321:   0%|          | 0/196 [00:00<?, ?it/s]"
      ]
     },
     "metadata": {},
     "output_type": "display_data"
    },
    {
     "data": {
      "application/vnd.jupyter.widget-view+json": {
       "model_id": "3cdd3e6a7f2841aeba1ad132ffd5a9b4",
       "version_major": 2,
       "version_minor": 0
      },
      "text/plain": [
       "Epoch 322:   0%|          | 0/196 [00:00<?, ?it/s]"
      ]
     },
     "metadata": {},
     "output_type": "display_data"
    },
    {
     "data": {
      "application/vnd.jupyter.widget-view+json": {
       "model_id": "0cbd6cb2f742490581c961dcc0025101",
       "version_major": 2,
       "version_minor": 0
      },
      "text/plain": [
       "Epoch 323:   0%|          | 0/196 [00:00<?, ?it/s]"
      ]
     },
     "metadata": {},
     "output_type": "display_data"
    },
    {
     "data": {
      "application/vnd.jupyter.widget-view+json": {
       "model_id": "e50edea3e7e84e9c9abfe42250c61444",
       "version_major": 2,
       "version_minor": 0
      },
      "text/plain": [
       "Epoch 324:   0%|          | 0/196 [00:00<?, ?it/s]"
      ]
     },
     "metadata": {},
     "output_type": "display_data"
    },
    {
     "data": {
      "application/vnd.jupyter.widget-view+json": {
       "model_id": "75689221ecd04cbcaeae9e05afba2de6",
       "version_major": 2,
       "version_minor": 0
      },
      "text/plain": [
       "Epoch 325:   0%|          | 0/196 [00:00<?, ?it/s]"
      ]
     },
     "metadata": {},
     "output_type": "display_data"
    },
    {
     "data": {
      "application/vnd.jupyter.widget-view+json": {
       "model_id": "410963eb41e64d6ca2a361a612c81f93",
       "version_major": 2,
       "version_minor": 0
      },
      "text/plain": [
       "Epoch 326:   0%|          | 0/196 [00:00<?, ?it/s]"
      ]
     },
     "metadata": {},
     "output_type": "display_data"
    },
    {
     "data": {
      "application/vnd.jupyter.widget-view+json": {
       "model_id": "89e5908ffb444d7bbc85fe0538927383",
       "version_major": 2,
       "version_minor": 0
      },
      "text/plain": [
       "Epoch 327:   0%|          | 0/196 [00:00<?, ?it/s]"
      ]
     },
     "metadata": {},
     "output_type": "display_data"
    },
    {
     "data": {
      "application/vnd.jupyter.widget-view+json": {
       "model_id": "cc165577b9344045aeac361a4aff90a9",
       "version_major": 2,
       "version_minor": 0
      },
      "text/plain": [
       "Epoch 328:   0%|          | 0/196 [00:00<?, ?it/s]"
      ]
     },
     "metadata": {},
     "output_type": "display_data"
    },
    {
     "data": {
      "application/vnd.jupyter.widget-view+json": {
       "model_id": "3b27920b22e6444f8e3fab61ab06b132",
       "version_major": 2,
       "version_minor": 0
      },
      "text/plain": [
       "Epoch 329:   0%|          | 0/196 [00:00<?, ?it/s]"
      ]
     },
     "metadata": {},
     "output_type": "display_data"
    },
    {
     "data": {
      "application/vnd.jupyter.widget-view+json": {
       "model_id": "f13ec9cb639142af8db410b5a74a25d0",
       "version_major": 2,
       "version_minor": 0
      },
      "text/plain": [
       "Epoch 330:   0%|          | 0/196 [00:00<?, ?it/s]"
      ]
     },
     "metadata": {},
     "output_type": "display_data"
    },
    {
     "data": {
      "application/vnd.jupyter.widget-view+json": {
       "model_id": "292128a6bab444198cc2ce4f44f2f0d9",
       "version_major": 2,
       "version_minor": 0
      },
      "text/plain": [
       "Epoch 331:   0%|          | 0/196 [00:00<?, ?it/s]"
      ]
     },
     "metadata": {},
     "output_type": "display_data"
    },
    {
     "data": {
      "application/vnd.jupyter.widget-view+json": {
       "model_id": "af4b944991c049bba314174b3e4e34c3",
       "version_major": 2,
       "version_minor": 0
      },
      "text/plain": [
       "Epoch 332:   0%|          | 0/196 [00:00<?, ?it/s]"
      ]
     },
     "metadata": {},
     "output_type": "display_data"
    },
    {
     "data": {
      "application/vnd.jupyter.widget-view+json": {
       "model_id": "8d89754464b84b498c2882774712d54a",
       "version_major": 2,
       "version_minor": 0
      },
      "text/plain": [
       "Epoch 333:   0%|          | 0/196 [00:00<?, ?it/s]"
      ]
     },
     "metadata": {},
     "output_type": "display_data"
    },
    {
     "data": {
      "application/vnd.jupyter.widget-view+json": {
       "model_id": "f05b70ef44ea40ab97f508793ee38a68",
       "version_major": 2,
       "version_minor": 0
      },
      "text/plain": [
       "Epoch 334:   0%|          | 0/196 [00:00<?, ?it/s]"
      ]
     },
     "metadata": {},
     "output_type": "display_data"
    },
    {
     "data": {
      "application/vnd.jupyter.widget-view+json": {
       "model_id": "5c200c61225849729128c14ee78b1e6e",
       "version_major": 2,
       "version_minor": 0
      },
      "text/plain": [
       "Epoch 335:   0%|          | 0/196 [00:00<?, ?it/s]"
      ]
     },
     "metadata": {},
     "output_type": "display_data"
    },
    {
     "data": {
      "application/vnd.jupyter.widget-view+json": {
       "model_id": "ad0a67c460924ba8bbf3bf7015f8fc58",
       "version_major": 2,
       "version_minor": 0
      },
      "text/plain": [
       "Epoch 336:   0%|          | 0/196 [00:00<?, ?it/s]"
      ]
     },
     "metadata": {},
     "output_type": "display_data"
    },
    {
     "data": {
      "application/vnd.jupyter.widget-view+json": {
       "model_id": "8ee092df937b4bb08bcb72b30f0b1baa",
       "version_major": 2,
       "version_minor": 0
      },
      "text/plain": [
       "Epoch 337:   0%|          | 0/196 [00:00<?, ?it/s]"
      ]
     },
     "metadata": {},
     "output_type": "display_data"
    },
    {
     "data": {
      "application/vnd.jupyter.widget-view+json": {
       "model_id": "6a60da34e43c4286948d3ab4d4da5321",
       "version_major": 2,
       "version_minor": 0
      },
      "text/plain": [
       "Epoch 338:   0%|          | 0/196 [00:00<?, ?it/s]"
      ]
     },
     "metadata": {},
     "output_type": "display_data"
    },
    {
     "data": {
      "application/vnd.jupyter.widget-view+json": {
       "model_id": "8444e66a433b4b5c94ad152caebfd6c2",
       "version_major": 2,
       "version_minor": 0
      },
      "text/plain": [
       "Epoch 339:   0%|          | 0/196 [00:00<?, ?it/s]"
      ]
     },
     "metadata": {},
     "output_type": "display_data"
    },
    {
     "data": {
      "application/vnd.jupyter.widget-view+json": {
       "model_id": "2e5bd0689a6940eaa056a668f3c70e1e",
       "version_major": 2,
       "version_minor": 0
      },
      "text/plain": [
       "Epoch 340:   0%|          | 0/196 [00:00<?, ?it/s]"
      ]
     },
     "metadata": {},
     "output_type": "display_data"
    },
    {
     "data": {
      "application/vnd.jupyter.widget-view+json": {
       "model_id": "9b27e24788034c7091c0fa70f3963438",
       "version_major": 2,
       "version_minor": 0
      },
      "text/plain": [
       "Epoch 341:   0%|          | 0/196 [00:00<?, ?it/s]"
      ]
     },
     "metadata": {},
     "output_type": "display_data"
    },
    {
     "data": {
      "application/vnd.jupyter.widget-view+json": {
       "model_id": "62fb7a47bc154a0baad5f9cf8f93c5b9",
       "version_major": 2,
       "version_minor": 0
      },
      "text/plain": [
       "Epoch 342:   0%|          | 0/196 [00:00<?, ?it/s]"
      ]
     },
     "metadata": {},
     "output_type": "display_data"
    },
    {
     "data": {
      "application/vnd.jupyter.widget-view+json": {
       "model_id": "8a8edbb17deb4f99a50245c95831879b",
       "version_major": 2,
       "version_minor": 0
      },
      "text/plain": [
       "Epoch 343:   0%|          | 0/196 [00:00<?, ?it/s]"
      ]
     },
     "metadata": {},
     "output_type": "display_data"
    },
    {
     "data": {
      "application/vnd.jupyter.widget-view+json": {
       "model_id": "612118aa526848528dccfb9189d8512d",
       "version_major": 2,
       "version_minor": 0
      },
      "text/plain": [
       "Epoch 344:   0%|          | 0/196 [00:00<?, ?it/s]"
      ]
     },
     "metadata": {},
     "output_type": "display_data"
    },
    {
     "data": {
      "application/vnd.jupyter.widget-view+json": {
       "model_id": "423ff7fa96734bed95f71f043e0f3145",
       "version_major": 2,
       "version_minor": 0
      },
      "text/plain": [
       "Epoch 345:   0%|          | 0/196 [00:00<?, ?it/s]"
      ]
     },
     "metadata": {},
     "output_type": "display_data"
    },
    {
     "data": {
      "application/vnd.jupyter.widget-view+json": {
       "model_id": "1f1b9dedf9d44f0e86389de6c0aa4ee5",
       "version_major": 2,
       "version_minor": 0
      },
      "text/plain": [
       "Epoch 346:   0%|          | 0/196 [00:00<?, ?it/s]"
      ]
     },
     "metadata": {},
     "output_type": "display_data"
    },
    {
     "data": {
      "application/vnd.jupyter.widget-view+json": {
       "model_id": "3419c65ab6a0417097a61f64caa897df",
       "version_major": 2,
       "version_minor": 0
      },
      "text/plain": [
       "Epoch 347:   0%|          | 0/196 [00:00<?, ?it/s]"
      ]
     },
     "metadata": {},
     "output_type": "display_data"
    },
    {
     "data": {
      "application/vnd.jupyter.widget-view+json": {
       "model_id": "497d0fd44a72499cae5dff46be7c19ec",
       "version_major": 2,
       "version_minor": 0
      },
      "text/plain": [
       "Epoch 348:   0%|          | 0/196 [00:00<?, ?it/s]"
      ]
     },
     "metadata": {},
     "output_type": "display_data"
    },
    {
     "data": {
      "application/vnd.jupyter.widget-view+json": {
       "model_id": "d24654bf9f534e02bf446981592853c9",
       "version_major": 2,
       "version_minor": 0
      },
      "text/plain": [
       "Epoch 349:   0%|          | 0/196 [00:00<?, ?it/s]"
      ]
     },
     "metadata": {},
     "output_type": "display_data"
    },
    {
     "data": {
      "application/vnd.jupyter.widget-view+json": {
       "model_id": "1ba43db466c643448b0e78c9e5ddedad",
       "version_major": 2,
       "version_minor": 0
      },
      "text/plain": [
       "Epoch 350:   0%|          | 0/196 [00:00<?, ?it/s]"
      ]
     },
     "metadata": {},
     "output_type": "display_data"
    },
    {
     "data": {
      "application/vnd.jupyter.widget-view+json": {
       "model_id": "9b9f6b14a17547c6b3138651c63ef866",
       "version_major": 2,
       "version_minor": 0
      },
      "text/plain": [
       "Epoch 351:   0%|          | 0/196 [00:00<?, ?it/s]"
      ]
     },
     "metadata": {},
     "output_type": "display_data"
    },
    {
     "data": {
      "application/vnd.jupyter.widget-view+json": {
       "model_id": "a09fbff21f9049ceb20d657cd8fb0fba",
       "version_major": 2,
       "version_minor": 0
      },
      "text/plain": [
       "Epoch 352:   0%|          | 0/196 [00:00<?, ?it/s]"
      ]
     },
     "metadata": {},
     "output_type": "display_data"
    },
    {
     "data": {
      "application/vnd.jupyter.widget-view+json": {
       "model_id": "dd8761ff6964448284024882e8e493aa",
       "version_major": 2,
       "version_minor": 0
      },
      "text/plain": [
       "Epoch 353:   0%|          | 0/196 [00:00<?, ?it/s]"
      ]
     },
     "metadata": {},
     "output_type": "display_data"
    },
    {
     "data": {
      "application/vnd.jupyter.widget-view+json": {
       "model_id": "222ef2e752ed473885a25414adef12ec",
       "version_major": 2,
       "version_minor": 0
      },
      "text/plain": [
       "Epoch 354:   0%|          | 0/196 [00:00<?, ?it/s]"
      ]
     },
     "metadata": {},
     "output_type": "display_data"
    },
    {
     "data": {
      "application/vnd.jupyter.widget-view+json": {
       "model_id": "b3eb9dfd19d34854a082b4abad58c597",
       "version_major": 2,
       "version_minor": 0
      },
      "text/plain": [
       "Epoch 355:   0%|          | 0/196 [00:00<?, ?it/s]"
      ]
     },
     "metadata": {},
     "output_type": "display_data"
    },
    {
     "data": {
      "application/vnd.jupyter.widget-view+json": {
       "model_id": "cfe164d3b41a4d919a4a8383e44875ca",
       "version_major": 2,
       "version_minor": 0
      },
      "text/plain": [
       "Epoch 356:   0%|          | 0/196 [00:00<?, ?it/s]"
      ]
     },
     "metadata": {},
     "output_type": "display_data"
    },
    {
     "data": {
      "application/vnd.jupyter.widget-view+json": {
       "model_id": "ae321a269db942a8913f580b01e5348e",
       "version_major": 2,
       "version_minor": 0
      },
      "text/plain": [
       "Epoch 357:   0%|          | 0/196 [00:00<?, ?it/s]"
      ]
     },
     "metadata": {},
     "output_type": "display_data"
    },
    {
     "data": {
      "application/vnd.jupyter.widget-view+json": {
       "model_id": "9cfbf023b8d744a1a9c2b28fe09b99b8",
       "version_major": 2,
       "version_minor": 0
      },
      "text/plain": [
       "Epoch 358:   0%|          | 0/196 [00:00<?, ?it/s]"
      ]
     },
     "metadata": {},
     "output_type": "display_data"
    },
    {
     "data": {
      "application/vnd.jupyter.widget-view+json": {
       "model_id": "80ffba1a28e7495fbb97598edcfd0cbd",
       "version_major": 2,
       "version_minor": 0
      },
      "text/plain": [
       "Epoch 359:   0%|          | 0/196 [00:00<?, ?it/s]"
      ]
     },
     "metadata": {},
     "output_type": "display_data"
    },
    {
     "data": {
      "application/vnd.jupyter.widget-view+json": {
       "model_id": "0a51fc1608f74002bceaf5486fe8007a",
       "version_major": 2,
       "version_minor": 0
      },
      "text/plain": [
       "Epoch 360:   0%|          | 0/196 [00:00<?, ?it/s]"
      ]
     },
     "metadata": {},
     "output_type": "display_data"
    },
    {
     "data": {
      "application/vnd.jupyter.widget-view+json": {
       "model_id": "37196e2ef73645c2b965830b54f6a2f0",
       "version_major": 2,
       "version_minor": 0
      },
      "text/plain": [
       "Epoch 361:   0%|          | 0/196 [00:00<?, ?it/s]"
      ]
     },
     "metadata": {},
     "output_type": "display_data"
    },
    {
     "data": {
      "application/vnd.jupyter.widget-view+json": {
       "model_id": "5179ddf9f5f04be98f8a83e61612cd0a",
       "version_major": 2,
       "version_minor": 0
      },
      "text/plain": [
       "Epoch 362:   0%|          | 0/196 [00:00<?, ?it/s]"
      ]
     },
     "metadata": {},
     "output_type": "display_data"
    },
    {
     "data": {
      "application/vnd.jupyter.widget-view+json": {
       "model_id": "93c70cd392574f4fa572c75dfec53d13",
       "version_major": 2,
       "version_minor": 0
      },
      "text/plain": [
       "Epoch 363:   0%|          | 0/196 [00:00<?, ?it/s]"
      ]
     },
     "metadata": {},
     "output_type": "display_data"
    },
    {
     "data": {
      "application/vnd.jupyter.widget-view+json": {
       "model_id": "a9ab7ed7d2264dc39c4163387cfd42e6",
       "version_major": 2,
       "version_minor": 0
      },
      "text/plain": [
       "Epoch 364:   0%|          | 0/196 [00:00<?, ?it/s]"
      ]
     },
     "metadata": {},
     "output_type": "display_data"
    },
    {
     "data": {
      "application/vnd.jupyter.widget-view+json": {
       "model_id": "518960fb925942718a87c5f8fa18fa5f",
       "version_major": 2,
       "version_minor": 0
      },
      "text/plain": [
       "Epoch 365:   0%|          | 0/196 [00:00<?, ?it/s]"
      ]
     },
     "metadata": {},
     "output_type": "display_data"
    },
    {
     "data": {
      "application/vnd.jupyter.widget-view+json": {
       "model_id": "ec829a2589724dffaa4dba9ada5b81cf",
       "version_major": 2,
       "version_minor": 0
      },
      "text/plain": [
       "Epoch 366:   0%|          | 0/196 [00:00<?, ?it/s]"
      ]
     },
     "metadata": {},
     "output_type": "display_data"
    },
    {
     "data": {
      "application/vnd.jupyter.widget-view+json": {
       "model_id": "7a27d5db3b784b7aa2ec51e0ed7ae876",
       "version_major": 2,
       "version_minor": 0
      },
      "text/plain": [
       "Epoch 367:   0%|          | 0/196 [00:00<?, ?it/s]"
      ]
     },
     "metadata": {},
     "output_type": "display_data"
    },
    {
     "data": {
      "application/vnd.jupyter.widget-view+json": {
       "model_id": "450fc5870b51410d807d4e4987c6d9cf",
       "version_major": 2,
       "version_minor": 0
      },
      "text/plain": [
       "Epoch 368:   0%|          | 0/196 [00:00<?, ?it/s]"
      ]
     },
     "metadata": {},
     "output_type": "display_data"
    },
    {
     "data": {
      "application/vnd.jupyter.widget-view+json": {
       "model_id": "91200e2160084aa4a6755a2bb640c17d",
       "version_major": 2,
       "version_minor": 0
      },
      "text/plain": [
       "Epoch 369:   0%|          | 0/196 [00:00<?, ?it/s]"
      ]
     },
     "metadata": {},
     "output_type": "display_data"
    },
    {
     "data": {
      "application/vnd.jupyter.widget-view+json": {
       "model_id": "9a85b9b5f7e04568a6a067d6d7abeff2",
       "version_major": 2,
       "version_minor": 0
      },
      "text/plain": [
       "Epoch 370:   0%|          | 0/196 [00:00<?, ?it/s]"
      ]
     },
     "metadata": {},
     "output_type": "display_data"
    },
    {
     "data": {
      "application/vnd.jupyter.widget-view+json": {
       "model_id": "0a5c4a25b06042a6965d86bafcbcab1a",
       "version_major": 2,
       "version_minor": 0
      },
      "text/plain": [
       "Epoch 371:   0%|          | 0/196 [00:00<?, ?it/s]"
      ]
     },
     "metadata": {},
     "output_type": "display_data"
    },
    {
     "data": {
      "application/vnd.jupyter.widget-view+json": {
       "model_id": "ebed24f6659a4e0a92f4a1d396019212",
       "version_major": 2,
       "version_minor": 0
      },
      "text/plain": [
       "Epoch 372:   0%|          | 0/196 [00:00<?, ?it/s]"
      ]
     },
     "metadata": {},
     "output_type": "display_data"
    },
    {
     "data": {
      "application/vnd.jupyter.widget-view+json": {
       "model_id": "ee38bb11203e4ad9a719403b4688e4f0",
       "version_major": 2,
       "version_minor": 0
      },
      "text/plain": [
       "Epoch 373:   0%|          | 0/196 [00:00<?, ?it/s]"
      ]
     },
     "metadata": {},
     "output_type": "display_data"
    },
    {
     "data": {
      "application/vnd.jupyter.widget-view+json": {
       "model_id": "ebb61609e09f4acaa770a6f303ab63b1",
       "version_major": 2,
       "version_minor": 0
      },
      "text/plain": [
       "Epoch 374:   0%|          | 0/196 [00:00<?, ?it/s]"
      ]
     },
     "metadata": {},
     "output_type": "display_data"
    },
    {
     "data": {
      "application/vnd.jupyter.widget-view+json": {
       "model_id": "797c2542d67446d38b54dbcbeb344f01",
       "version_major": 2,
       "version_minor": 0
      },
      "text/plain": [
       "Epoch 375:   0%|          | 0/196 [00:00<?, ?it/s]"
      ]
     },
     "metadata": {},
     "output_type": "display_data"
    },
    {
     "data": {
      "application/vnd.jupyter.widget-view+json": {
       "model_id": "3d15a864115048c585f6eaa04a942eac",
       "version_major": 2,
       "version_minor": 0
      },
      "text/plain": [
       "Epoch 376:   0%|          | 0/196 [00:00<?, ?it/s]"
      ]
     },
     "metadata": {},
     "output_type": "display_data"
    },
    {
     "data": {
      "application/vnd.jupyter.widget-view+json": {
       "model_id": "4404d9689c0841e7b8dc7cee4806036d",
       "version_major": 2,
       "version_minor": 0
      },
      "text/plain": [
       "Epoch 377:   0%|          | 0/196 [00:00<?, ?it/s]"
      ]
     },
     "metadata": {},
     "output_type": "display_data"
    },
    {
     "data": {
      "application/vnd.jupyter.widget-view+json": {
       "model_id": "e7271f576c3b435689407850f2fb69ab",
       "version_major": 2,
       "version_minor": 0
      },
      "text/plain": [
       "Epoch 378:   0%|          | 0/196 [00:00<?, ?it/s]"
      ]
     },
     "metadata": {},
     "output_type": "display_data"
    },
    {
     "data": {
      "application/vnd.jupyter.widget-view+json": {
       "model_id": "12c9c6b3ec5847a6b14ca618cff925c9",
       "version_major": 2,
       "version_minor": 0
      },
      "text/plain": [
       "Epoch 379:   0%|          | 0/196 [00:00<?, ?it/s]"
      ]
     },
     "metadata": {},
     "output_type": "display_data"
    },
    {
     "data": {
      "application/vnd.jupyter.widget-view+json": {
       "model_id": "a8abf3cdf0b048fc94e5ca6393bd77a6",
       "version_major": 2,
       "version_minor": 0
      },
      "text/plain": [
       "Epoch 380:   0%|          | 0/196 [00:00<?, ?it/s]"
      ]
     },
     "metadata": {},
     "output_type": "display_data"
    },
    {
     "data": {
      "application/vnd.jupyter.widget-view+json": {
       "model_id": "2545899cb44547aa9c89fde6b5929640",
       "version_major": 2,
       "version_minor": 0
      },
      "text/plain": [
       "Epoch 381:   0%|          | 0/196 [00:00<?, ?it/s]"
      ]
     },
     "metadata": {},
     "output_type": "display_data"
    },
    {
     "data": {
      "application/vnd.jupyter.widget-view+json": {
       "model_id": "37e16aadffa242b0ad136e7b8440540b",
       "version_major": 2,
       "version_minor": 0
      },
      "text/plain": [
       "Epoch 382:   0%|          | 0/196 [00:00<?, ?it/s]"
      ]
     },
     "metadata": {},
     "output_type": "display_data"
    },
    {
     "data": {
      "application/vnd.jupyter.widget-view+json": {
       "model_id": "1c874d1e553e4e9f845f77865101abd4",
       "version_major": 2,
       "version_minor": 0
      },
      "text/plain": [
       "Epoch 383:   0%|          | 0/196 [00:00<?, ?it/s]"
      ]
     },
     "metadata": {},
     "output_type": "display_data"
    },
    {
     "data": {
      "application/vnd.jupyter.widget-view+json": {
       "model_id": "96beb6d0be7349448ccc588db26be3b1",
       "version_major": 2,
       "version_minor": 0
      },
      "text/plain": [
       "Epoch 384:   0%|          | 0/196 [00:00<?, ?it/s]"
      ]
     },
     "metadata": {},
     "output_type": "display_data"
    },
    {
     "data": {
      "application/vnd.jupyter.widget-view+json": {
       "model_id": "e2451141d2c349fc9834deddd425f4c2",
       "version_major": 2,
       "version_minor": 0
      },
      "text/plain": [
       "Epoch 385:   0%|          | 0/196 [00:00<?, ?it/s]"
      ]
     },
     "metadata": {},
     "output_type": "display_data"
    },
    {
     "data": {
      "application/vnd.jupyter.widget-view+json": {
       "model_id": "ba300ce4611541da92b2ef84297d80cf",
       "version_major": 2,
       "version_minor": 0
      },
      "text/plain": [
       "Epoch 386:   0%|          | 0/196 [00:00<?, ?it/s]"
      ]
     },
     "metadata": {},
     "output_type": "display_data"
    },
    {
     "data": {
      "application/vnd.jupyter.widget-view+json": {
       "model_id": "766ef7bbc73146f6bdcdaf81f1998bd4",
       "version_major": 2,
       "version_minor": 0
      },
      "text/plain": [
       "Epoch 387:   0%|          | 0/196 [00:00<?, ?it/s]"
      ]
     },
     "metadata": {},
     "output_type": "display_data"
    },
    {
     "data": {
      "application/vnd.jupyter.widget-view+json": {
       "model_id": "9e7cce390d8a4179a61b28e7bfd4d037",
       "version_major": 2,
       "version_minor": 0
      },
      "text/plain": [
       "Epoch 388:   0%|          | 0/196 [00:00<?, ?it/s]"
      ]
     },
     "metadata": {},
     "output_type": "display_data"
    },
    {
     "data": {
      "application/vnd.jupyter.widget-view+json": {
       "model_id": "171b967f8b3344a6861fb97c85dee85d",
       "version_major": 2,
       "version_minor": 0
      },
      "text/plain": [
       "Epoch 389:   0%|          | 0/196 [00:00<?, ?it/s]"
      ]
     },
     "metadata": {},
     "output_type": "display_data"
    },
    {
     "data": {
      "application/vnd.jupyter.widget-view+json": {
       "model_id": "4fb1f36b628d4abd9fbed056830f7f44",
       "version_major": 2,
       "version_minor": 0
      },
      "text/plain": [
       "Epoch 390:   0%|          | 0/196 [00:00<?, ?it/s]"
      ]
     },
     "metadata": {},
     "output_type": "display_data"
    },
    {
     "data": {
      "application/vnd.jupyter.widget-view+json": {
       "model_id": "826454e6d924483db00ad514c01ffa85",
       "version_major": 2,
       "version_minor": 0
      },
      "text/plain": [
       "Epoch 391:   0%|          | 0/196 [00:00<?, ?it/s]"
      ]
     },
     "metadata": {},
     "output_type": "display_data"
    },
    {
     "data": {
      "application/vnd.jupyter.widget-view+json": {
       "model_id": "52319c1f74b440708f42eecb23ec54d9",
       "version_major": 2,
       "version_minor": 0
      },
      "text/plain": [
       "Epoch 392:   0%|          | 0/196 [00:00<?, ?it/s]"
      ]
     },
     "metadata": {},
     "output_type": "display_data"
    },
    {
     "data": {
      "application/vnd.jupyter.widget-view+json": {
       "model_id": "d3cdff37a88b4a7aa7308d3be39084b6",
       "version_major": 2,
       "version_minor": 0
      },
      "text/plain": [
       "Epoch 393:   0%|          | 0/196 [00:00<?, ?it/s]"
      ]
     },
     "metadata": {},
     "output_type": "display_data"
    },
    {
     "data": {
      "application/vnd.jupyter.widget-view+json": {
       "model_id": "b5a6c8d0067c482e83a02f2723fd702a",
       "version_major": 2,
       "version_minor": 0
      },
      "text/plain": [
       "Epoch 394:   0%|          | 0/196 [00:00<?, ?it/s]"
      ]
     },
     "metadata": {},
     "output_type": "display_data"
    },
    {
     "data": {
      "application/vnd.jupyter.widget-view+json": {
       "model_id": "1f5b22eb06e44d99b9d470ab93f5c2dc",
       "version_major": 2,
       "version_minor": 0
      },
      "text/plain": [
       "Epoch 395:   0%|          | 0/196 [00:00<?, ?it/s]"
      ]
     },
     "metadata": {},
     "output_type": "display_data"
    },
    {
     "data": {
      "application/vnd.jupyter.widget-view+json": {
       "model_id": "6db0629cdcef46188a1c5c8ec58f6215",
       "version_major": 2,
       "version_minor": 0
      },
      "text/plain": [
       "Epoch 396:   0%|          | 0/196 [00:00<?, ?it/s]"
      ]
     },
     "metadata": {},
     "output_type": "display_data"
    },
    {
     "data": {
      "application/vnd.jupyter.widget-view+json": {
       "model_id": "d997c5b501a945cdabd1e9bed22d0a37",
       "version_major": 2,
       "version_minor": 0
      },
      "text/plain": [
       "Epoch 397:   0%|          | 0/196 [00:00<?, ?it/s]"
      ]
     },
     "metadata": {},
     "output_type": "display_data"
    },
    {
     "data": {
      "application/vnd.jupyter.widget-view+json": {
       "model_id": "136dcb5fea3c4f3a90066b30968d49da",
       "version_major": 2,
       "version_minor": 0
      },
      "text/plain": [
       "Epoch 398:   0%|          | 0/196 [00:00<?, ?it/s]"
      ]
     },
     "metadata": {},
     "output_type": "display_data"
    },
    {
     "data": {
      "application/vnd.jupyter.widget-view+json": {
       "model_id": "0f3670675ee7496595260e9ce51d03bc",
       "version_major": 2,
       "version_minor": 0
      },
      "text/plain": [
       "Epoch 399:   0%|          | 0/196 [00:00<?, ?it/s]"
      ]
     },
     "metadata": {},
     "output_type": "display_data"
    },
    {
     "data": {
      "application/vnd.jupyter.widget-view+json": {
       "model_id": "50894da3b0e843abbb4204d62ccb422a",
       "version_major": 2,
       "version_minor": 0
      },
      "text/plain": [
       "Epoch 400:   0%|          | 0/196 [00:00<?, ?it/s]"
      ]
     },
     "metadata": {},
     "output_type": "display_data"
    },
    {
     "data": {
      "application/vnd.jupyter.widget-view+json": {
       "model_id": "2a430350b2cc43eb9dfde4e26a39cee7",
       "version_major": 2,
       "version_minor": 0
      },
      "text/plain": [
       "Epoch 401:   0%|          | 0/196 [00:00<?, ?it/s]"
      ]
     },
     "metadata": {},
     "output_type": "display_data"
    },
    {
     "data": {
      "application/vnd.jupyter.widget-view+json": {
       "model_id": "17a43ae5f5214b3bbab5d691d5764b12",
       "version_major": 2,
       "version_minor": 0
      },
      "text/plain": [
       "Epoch 402:   0%|          | 0/196 [00:00<?, ?it/s]"
      ]
     },
     "metadata": {},
     "output_type": "display_data"
    },
    {
     "data": {
      "application/vnd.jupyter.widget-view+json": {
       "model_id": "b19360c8c17c49a289082efd777f6b72",
       "version_major": 2,
       "version_minor": 0
      },
      "text/plain": [
       "Epoch 403:   0%|          | 0/196 [00:00<?, ?it/s]"
      ]
     },
     "metadata": {},
     "output_type": "display_data"
    },
    {
     "data": {
      "application/vnd.jupyter.widget-view+json": {
       "model_id": "3408de5d187e456d83ec9786593227ff",
       "version_major": 2,
       "version_minor": 0
      },
      "text/plain": [
       "Epoch 404:   0%|          | 0/196 [00:00<?, ?it/s]"
      ]
     },
     "metadata": {},
     "output_type": "display_data"
    },
    {
     "data": {
      "application/vnd.jupyter.widget-view+json": {
       "model_id": "5dcb78dbe3344b28a806d8ee55fb19cc",
       "version_major": 2,
       "version_minor": 0
      },
      "text/plain": [
       "Epoch 405:   0%|          | 0/196 [00:00<?, ?it/s]"
      ]
     },
     "metadata": {},
     "output_type": "display_data"
    },
    {
     "data": {
      "application/vnd.jupyter.widget-view+json": {
       "model_id": "0420d8cdf9894623a3795960ae3a4a29",
       "version_major": 2,
       "version_minor": 0
      },
      "text/plain": [
       "Epoch 406:   0%|          | 0/196 [00:00<?, ?it/s]"
      ]
     },
     "metadata": {},
     "output_type": "display_data"
    },
    {
     "data": {
      "application/vnd.jupyter.widget-view+json": {
       "model_id": "d3567ba3cc8c4ad18040111e9a0a6c87",
       "version_major": 2,
       "version_minor": 0
      },
      "text/plain": [
       "Epoch 407:   0%|          | 0/196 [00:00<?, ?it/s]"
      ]
     },
     "metadata": {},
     "output_type": "display_data"
    },
    {
     "data": {
      "application/vnd.jupyter.widget-view+json": {
       "model_id": "e1640e25d5cc4df39b3d12b2409839bd",
       "version_major": 2,
       "version_minor": 0
      },
      "text/plain": [
       "Epoch 408:   0%|          | 0/196 [00:00<?, ?it/s]"
      ]
     },
     "metadata": {},
     "output_type": "display_data"
    },
    {
     "data": {
      "application/vnd.jupyter.widget-view+json": {
       "model_id": "14762743bef5438e9194c1acd7207b33",
       "version_major": 2,
       "version_minor": 0
      },
      "text/plain": [
       "Epoch 409:   0%|          | 0/196 [00:00<?, ?it/s]"
      ]
     },
     "metadata": {},
     "output_type": "display_data"
    },
    {
     "data": {
      "application/vnd.jupyter.widget-view+json": {
       "model_id": "c324362d91ed4994ab71190d680208a8",
       "version_major": 2,
       "version_minor": 0
      },
      "text/plain": [
       "Epoch 410:   0%|          | 0/196 [00:00<?, ?it/s]"
      ]
     },
     "metadata": {},
     "output_type": "display_data"
    },
    {
     "data": {
      "application/vnd.jupyter.widget-view+json": {
       "model_id": "ce60709367674125b04da104f50ebb77",
       "version_major": 2,
       "version_minor": 0
      },
      "text/plain": [
       "Epoch 411:   0%|          | 0/196 [00:00<?, ?it/s]"
      ]
     },
     "metadata": {},
     "output_type": "display_data"
    },
    {
     "data": {
      "application/vnd.jupyter.widget-view+json": {
       "model_id": "a06f64afc57c465ab754d8f189056edc",
       "version_major": 2,
       "version_minor": 0
      },
      "text/plain": [
       "Epoch 412:   0%|          | 0/196 [00:00<?, ?it/s]"
      ]
     },
     "metadata": {},
     "output_type": "display_data"
    },
    {
     "data": {
      "application/vnd.jupyter.widget-view+json": {
       "model_id": "5949622f5ff543ff88116fa684e33be6",
       "version_major": 2,
       "version_minor": 0
      },
      "text/plain": [
       "Epoch 413:   0%|          | 0/196 [00:00<?, ?it/s]"
      ]
     },
     "metadata": {},
     "output_type": "display_data"
    },
    {
     "data": {
      "application/vnd.jupyter.widget-view+json": {
       "model_id": "e2080a57b4e14c519eaee7bd90f01326",
       "version_major": 2,
       "version_minor": 0
      },
      "text/plain": [
       "Epoch 414:   0%|          | 0/196 [00:00<?, ?it/s]"
      ]
     },
     "metadata": {},
     "output_type": "display_data"
    },
    {
     "data": {
      "application/vnd.jupyter.widget-view+json": {
       "model_id": "ef6403254d9d41a0a5765423a5fb7a76",
       "version_major": 2,
       "version_minor": 0
      },
      "text/plain": [
       "Epoch 415:   0%|          | 0/196 [00:00<?, ?it/s]"
      ]
     },
     "metadata": {},
     "output_type": "display_data"
    },
    {
     "data": {
      "application/vnd.jupyter.widget-view+json": {
       "model_id": "6e9b000b4636462d86171f6ee5ebeeee",
       "version_major": 2,
       "version_minor": 0
      },
      "text/plain": [
       "Epoch 416:   0%|          | 0/196 [00:00<?, ?it/s]"
      ]
     },
     "metadata": {},
     "output_type": "display_data"
    },
    {
     "data": {
      "application/vnd.jupyter.widget-view+json": {
       "model_id": "0b3e3144e32442c9ad207d0893911c29",
       "version_major": 2,
       "version_minor": 0
      },
      "text/plain": [
       "Epoch 417:   0%|          | 0/196 [00:00<?, ?it/s]"
      ]
     },
     "metadata": {},
     "output_type": "display_data"
    },
    {
     "data": {
      "application/vnd.jupyter.widget-view+json": {
       "model_id": "2a52148840d84d73b5907c822682e8d8",
       "version_major": 2,
       "version_minor": 0
      },
      "text/plain": [
       "Epoch 418:   0%|          | 0/196 [00:00<?, ?it/s]"
      ]
     },
     "metadata": {},
     "output_type": "display_data"
    },
    {
     "data": {
      "application/vnd.jupyter.widget-view+json": {
       "model_id": "971a1a0e1c6149019f868e700a66faf5",
       "version_major": 2,
       "version_minor": 0
      },
      "text/plain": [
       "Epoch 419:   0%|          | 0/196 [00:00<?, ?it/s]"
      ]
     },
     "metadata": {},
     "output_type": "display_data"
    },
    {
     "data": {
      "application/vnd.jupyter.widget-view+json": {
       "model_id": "bc1cbd33bd2841c58de062012e39d8fa",
       "version_major": 2,
       "version_minor": 0
      },
      "text/plain": [
       "Epoch 420:   0%|          | 0/196 [00:00<?, ?it/s]"
      ]
     },
     "metadata": {},
     "output_type": "display_data"
    },
    {
     "data": {
      "application/vnd.jupyter.widget-view+json": {
       "model_id": "d323eaa98fcf4f1eb0370787b9de830b",
       "version_major": 2,
       "version_minor": 0
      },
      "text/plain": [
       "Epoch 421:   0%|          | 0/196 [00:00<?, ?it/s]"
      ]
     },
     "metadata": {},
     "output_type": "display_data"
    },
    {
     "data": {
      "application/vnd.jupyter.widget-view+json": {
       "model_id": "69b4bd943ca444ca972e96795abb5fb3",
       "version_major": 2,
       "version_minor": 0
      },
      "text/plain": [
       "Epoch 422:   0%|          | 0/196 [00:00<?, ?it/s]"
      ]
     },
     "metadata": {},
     "output_type": "display_data"
    },
    {
     "data": {
      "application/vnd.jupyter.widget-view+json": {
       "model_id": "db6055e608f648d394a7eac331164faf",
       "version_major": 2,
       "version_minor": 0
      },
      "text/plain": [
       "Epoch 423:   0%|          | 0/196 [00:00<?, ?it/s]"
      ]
     },
     "metadata": {},
     "output_type": "display_data"
    },
    {
     "data": {
      "application/vnd.jupyter.widget-view+json": {
       "model_id": "fe1dc23446904f299853e1c111b15332",
       "version_major": 2,
       "version_minor": 0
      },
      "text/plain": [
       "Epoch 424:   0%|          | 0/196 [00:00<?, ?it/s]"
      ]
     },
     "metadata": {},
     "output_type": "display_data"
    },
    {
     "data": {
      "application/vnd.jupyter.widget-view+json": {
       "model_id": "472d70878915443f9589133ef1f365a7",
       "version_major": 2,
       "version_minor": 0
      },
      "text/plain": [
       "Epoch 425:   0%|          | 0/196 [00:00<?, ?it/s]"
      ]
     },
     "metadata": {},
     "output_type": "display_data"
    },
    {
     "data": {
      "application/vnd.jupyter.widget-view+json": {
       "model_id": "c118a4c2008c4ce0afd22c5a74b71730",
       "version_major": 2,
       "version_minor": 0
      },
      "text/plain": [
       "Epoch 426:   0%|          | 0/196 [00:00<?, ?it/s]"
      ]
     },
     "metadata": {},
     "output_type": "display_data"
    },
    {
     "data": {
      "application/vnd.jupyter.widget-view+json": {
       "model_id": "f74e120186dd4667a27621a0ae9abd8c",
       "version_major": 2,
       "version_minor": 0
      },
      "text/plain": [
       "Epoch 427:   0%|          | 0/196 [00:00<?, ?it/s]"
      ]
     },
     "metadata": {},
     "output_type": "display_data"
    },
    {
     "data": {
      "application/vnd.jupyter.widget-view+json": {
       "model_id": "972ee20206074566ab52f4a21dcaab58",
       "version_major": 2,
       "version_minor": 0
      },
      "text/plain": [
       "Epoch 428:   0%|          | 0/196 [00:00<?, ?it/s]"
      ]
     },
     "metadata": {},
     "output_type": "display_data"
    },
    {
     "data": {
      "application/vnd.jupyter.widget-view+json": {
       "model_id": "c579d76b069f4723920f77948ee23f1b",
       "version_major": 2,
       "version_minor": 0
      },
      "text/plain": [
       "Epoch 429:   0%|          | 0/196 [00:00<?, ?it/s]"
      ]
     },
     "metadata": {},
     "output_type": "display_data"
    },
    {
     "data": {
      "application/vnd.jupyter.widget-view+json": {
       "model_id": "d636dbf187f54c39a226154459352e76",
       "version_major": 2,
       "version_minor": 0
      },
      "text/plain": [
       "Epoch 430:   0%|          | 0/196 [00:00<?, ?it/s]"
      ]
     },
     "metadata": {},
     "output_type": "display_data"
    },
    {
     "data": {
      "application/vnd.jupyter.widget-view+json": {
       "model_id": "1f351929beb64fa8b120cb840fa2494a",
       "version_major": 2,
       "version_minor": 0
      },
      "text/plain": [
       "Epoch 431:   0%|          | 0/196 [00:00<?, ?it/s]"
      ]
     },
     "metadata": {},
     "output_type": "display_data"
    },
    {
     "data": {
      "application/vnd.jupyter.widget-view+json": {
       "model_id": "b485a4b0cd8e4720a00bfebf3966cdc9",
       "version_major": 2,
       "version_minor": 0
      },
      "text/plain": [
       "Epoch 432:   0%|          | 0/196 [00:00<?, ?it/s]"
      ]
     },
     "metadata": {},
     "output_type": "display_data"
    },
    {
     "data": {
      "application/vnd.jupyter.widget-view+json": {
       "model_id": "8439254a0cc64f04b12a72f6aa2c126a",
       "version_major": 2,
       "version_minor": 0
      },
      "text/plain": [
       "Epoch 433:   0%|          | 0/196 [00:00<?, ?it/s]"
      ]
     },
     "metadata": {},
     "output_type": "display_data"
    },
    {
     "data": {
      "application/vnd.jupyter.widget-view+json": {
       "model_id": "27e811e8c90d4ec1a1b96c4bf63a3d06",
       "version_major": 2,
       "version_minor": 0
      },
      "text/plain": [
       "Epoch 434:   0%|          | 0/196 [00:00<?, ?it/s]"
      ]
     },
     "metadata": {},
     "output_type": "display_data"
    },
    {
     "data": {
      "application/vnd.jupyter.widget-view+json": {
       "model_id": "93ee01a50c284740bf629dea12a8eb89",
       "version_major": 2,
       "version_minor": 0
      },
      "text/plain": [
       "Epoch 435:   0%|          | 0/196 [00:00<?, ?it/s]"
      ]
     },
     "metadata": {},
     "output_type": "display_data"
    },
    {
     "data": {
      "application/vnd.jupyter.widget-view+json": {
       "model_id": "f4cbe94d03314012b65cfd97f372f09d",
       "version_major": 2,
       "version_minor": 0
      },
      "text/plain": [
       "Epoch 436:   0%|          | 0/196 [00:00<?, ?it/s]"
      ]
     },
     "metadata": {},
     "output_type": "display_data"
    },
    {
     "data": {
      "application/vnd.jupyter.widget-view+json": {
       "model_id": "a403083887704cab8dafdd3489e5b1ea",
       "version_major": 2,
       "version_minor": 0
      },
      "text/plain": [
       "Epoch 437:   0%|          | 0/196 [00:00<?, ?it/s]"
      ]
     },
     "metadata": {},
     "output_type": "display_data"
    },
    {
     "data": {
      "application/vnd.jupyter.widget-view+json": {
       "model_id": "d158956885d447a0a663287bf10b694b",
       "version_major": 2,
       "version_minor": 0
      },
      "text/plain": [
       "Epoch 438:   0%|          | 0/196 [00:00<?, ?it/s]"
      ]
     },
     "metadata": {},
     "output_type": "display_data"
    },
    {
     "data": {
      "application/vnd.jupyter.widget-view+json": {
       "model_id": "7c3bbc9d10e64fc1954da1f411f1368d",
       "version_major": 2,
       "version_minor": 0
      },
      "text/plain": [
       "Epoch 439:   0%|          | 0/196 [00:00<?, ?it/s]"
      ]
     },
     "metadata": {},
     "output_type": "display_data"
    },
    {
     "data": {
      "application/vnd.jupyter.widget-view+json": {
       "model_id": "075a965354284ba0b3d63c44bee012e2",
       "version_major": 2,
       "version_minor": 0
      },
      "text/plain": [
       "Epoch 440:   0%|          | 0/196 [00:00<?, ?it/s]"
      ]
     },
     "metadata": {},
     "output_type": "display_data"
    },
    {
     "data": {
      "application/vnd.jupyter.widget-view+json": {
       "model_id": "d68ddff26b54462e816e37c7c947071c",
       "version_major": 2,
       "version_minor": 0
      },
      "text/plain": [
       "Epoch 441:   0%|          | 0/196 [00:00<?, ?it/s]"
      ]
     },
     "metadata": {},
     "output_type": "display_data"
    },
    {
     "data": {
      "application/vnd.jupyter.widget-view+json": {
       "model_id": "8f2e9449407442788ee1f5e2c3449e92",
       "version_major": 2,
       "version_minor": 0
      },
      "text/plain": [
       "Epoch 442:   0%|          | 0/196 [00:00<?, ?it/s]"
      ]
     },
     "metadata": {},
     "output_type": "display_data"
    },
    {
     "data": {
      "application/vnd.jupyter.widget-view+json": {
       "model_id": "035ed4ddbee443868f07ec5767f10e02",
       "version_major": 2,
       "version_minor": 0
      },
      "text/plain": [
       "Epoch 443:   0%|          | 0/196 [00:00<?, ?it/s]"
      ]
     },
     "metadata": {},
     "output_type": "display_data"
    },
    {
     "data": {
      "application/vnd.jupyter.widget-view+json": {
       "model_id": "3fe3ab09591d4f6b99239c433b761ab1",
       "version_major": 2,
       "version_minor": 0
      },
      "text/plain": [
       "Epoch 444:   0%|          | 0/196 [00:00<?, ?it/s]"
      ]
     },
     "metadata": {},
     "output_type": "display_data"
    },
    {
     "data": {
      "application/vnd.jupyter.widget-view+json": {
       "model_id": "dd3a41354a0f460785f71de3780da9c0",
       "version_major": 2,
       "version_minor": 0
      },
      "text/plain": [
       "Epoch 445:   0%|          | 0/196 [00:00<?, ?it/s]"
      ]
     },
     "metadata": {},
     "output_type": "display_data"
    },
    {
     "data": {
      "application/vnd.jupyter.widget-view+json": {
       "model_id": "c342663381f840a58b74b8419d4ed9e1",
       "version_major": 2,
       "version_minor": 0
      },
      "text/plain": [
       "Epoch 446:   0%|          | 0/196 [00:00<?, ?it/s]"
      ]
     },
     "metadata": {},
     "output_type": "display_data"
    },
    {
     "data": {
      "application/vnd.jupyter.widget-view+json": {
       "model_id": "5c163e835ba04a32a4624fc8e2c26549",
       "version_major": 2,
       "version_minor": 0
      },
      "text/plain": [
       "Epoch 447:   0%|          | 0/196 [00:00<?, ?it/s]"
      ]
     },
     "metadata": {},
     "output_type": "display_data"
    },
    {
     "data": {
      "application/vnd.jupyter.widget-view+json": {
       "model_id": "6d4b171d1f5d4344a7378a41973bb900",
       "version_major": 2,
       "version_minor": 0
      },
      "text/plain": [
       "Epoch 448:   0%|          | 0/196 [00:00<?, ?it/s]"
      ]
     },
     "metadata": {},
     "output_type": "display_data"
    },
    {
     "data": {
      "application/vnd.jupyter.widget-view+json": {
       "model_id": "163480a4680f426ab3476e103ebc7aac",
       "version_major": 2,
       "version_minor": 0
      },
      "text/plain": [
       "Epoch 449:   0%|          | 0/196 [00:00<?, ?it/s]"
      ]
     },
     "metadata": {},
     "output_type": "display_data"
    },
    {
     "data": {
      "application/vnd.jupyter.widget-view+json": {
       "model_id": "c8deb94deef444e0a8931aa54a230347",
       "version_major": 2,
       "version_minor": 0
      },
      "text/plain": [
       "Epoch 450:   0%|          | 0/196 [00:00<?, ?it/s]"
      ]
     },
     "metadata": {},
     "output_type": "display_data"
    },
    {
     "data": {
      "application/vnd.jupyter.widget-view+json": {
       "model_id": "5f06ce701edc495c9039d07a79e02989",
       "version_major": 2,
       "version_minor": 0
      },
      "text/plain": [
       "Epoch 451:   0%|          | 0/196 [00:00<?, ?it/s]"
      ]
     },
     "metadata": {},
     "output_type": "display_data"
    },
    {
     "data": {
      "application/vnd.jupyter.widget-view+json": {
       "model_id": "e0aa14c921fd4151a92e41301c045d9b",
       "version_major": 2,
       "version_minor": 0
      },
      "text/plain": [
       "Epoch 452:   0%|          | 0/196 [00:00<?, ?it/s]"
      ]
     },
     "metadata": {},
     "output_type": "display_data"
    },
    {
     "data": {
      "application/vnd.jupyter.widget-view+json": {
       "model_id": "c2e10f17b00f4bba8c0b89764e27c65d",
       "version_major": 2,
       "version_minor": 0
      },
      "text/plain": [
       "Epoch 453:   0%|          | 0/196 [00:00<?, ?it/s]"
      ]
     },
     "metadata": {},
     "output_type": "display_data"
    },
    {
     "data": {
      "application/vnd.jupyter.widget-view+json": {
       "model_id": "1ceb07cdaad949a6a1222f2d5bcbb268",
       "version_major": 2,
       "version_minor": 0
      },
      "text/plain": [
       "Epoch 454:   0%|          | 0/196 [00:00<?, ?it/s]"
      ]
     },
     "metadata": {},
     "output_type": "display_data"
    },
    {
     "data": {
      "application/vnd.jupyter.widget-view+json": {
       "model_id": "f8081d3146be4b029e7a61b36fceba34",
       "version_major": 2,
       "version_minor": 0
      },
      "text/plain": [
       "Epoch 455:   0%|          | 0/196 [00:00<?, ?it/s]"
      ]
     },
     "metadata": {},
     "output_type": "display_data"
    },
    {
     "data": {
      "application/vnd.jupyter.widget-view+json": {
       "model_id": "328a570a85a84e0188c8319cedba6f9e",
       "version_major": 2,
       "version_minor": 0
      },
      "text/plain": [
       "Epoch 456:   0%|          | 0/196 [00:00<?, ?it/s]"
      ]
     },
     "metadata": {},
     "output_type": "display_data"
    },
    {
     "data": {
      "application/vnd.jupyter.widget-view+json": {
       "model_id": "70f566704cd640e5a499d42476406967",
       "version_major": 2,
       "version_minor": 0
      },
      "text/plain": [
       "Epoch 457:   0%|          | 0/196 [00:00<?, ?it/s]"
      ]
     },
     "metadata": {},
     "output_type": "display_data"
    },
    {
     "data": {
      "application/vnd.jupyter.widget-view+json": {
       "model_id": "c3a5ab870c9c46b28ecd194faf10e0bc",
       "version_major": 2,
       "version_minor": 0
      },
      "text/plain": [
       "Epoch 458:   0%|          | 0/196 [00:00<?, ?it/s]"
      ]
     },
     "metadata": {},
     "output_type": "display_data"
    },
    {
     "data": {
      "application/vnd.jupyter.widget-view+json": {
       "model_id": "2bc0c236320340dcb91c0bacbe5b589a",
       "version_major": 2,
       "version_minor": 0
      },
      "text/plain": [
       "Epoch 459:   0%|          | 0/196 [00:00<?, ?it/s]"
      ]
     },
     "metadata": {},
     "output_type": "display_data"
    },
    {
     "data": {
      "application/vnd.jupyter.widget-view+json": {
       "model_id": "1abcfcd20b1e47da91da0eec3fbeaf1d",
       "version_major": 2,
       "version_minor": 0
      },
      "text/plain": [
       "Epoch 460:   0%|          | 0/196 [00:00<?, ?it/s]"
      ]
     },
     "metadata": {},
     "output_type": "display_data"
    },
    {
     "data": {
      "application/vnd.jupyter.widget-view+json": {
       "model_id": "ce381418c3c84d5784b936b4b63fa2ea",
       "version_major": 2,
       "version_minor": 0
      },
      "text/plain": [
       "Epoch 461:   0%|          | 0/196 [00:00<?, ?it/s]"
      ]
     },
     "metadata": {},
     "output_type": "display_data"
    },
    {
     "data": {
      "application/vnd.jupyter.widget-view+json": {
       "model_id": "7cf3480c4ac344b4ae5aec71cd67199e",
       "version_major": 2,
       "version_minor": 0
      },
      "text/plain": [
       "Epoch 462:   0%|          | 0/196 [00:00<?, ?it/s]"
      ]
     },
     "metadata": {},
     "output_type": "display_data"
    },
    {
     "data": {
      "application/vnd.jupyter.widget-view+json": {
       "model_id": "1ce8479528f344c78057ca6302ba3d1c",
       "version_major": 2,
       "version_minor": 0
      },
      "text/plain": [
       "Epoch 463:   0%|          | 0/196 [00:00<?, ?it/s]"
      ]
     },
     "metadata": {},
     "output_type": "display_data"
    },
    {
     "data": {
      "application/vnd.jupyter.widget-view+json": {
       "model_id": "592c9de6de5c413989c31e0feab43200",
       "version_major": 2,
       "version_minor": 0
      },
      "text/plain": [
       "Epoch 464:   0%|          | 0/196 [00:00<?, ?it/s]"
      ]
     },
     "metadata": {},
     "output_type": "display_data"
    },
    {
     "data": {
      "application/vnd.jupyter.widget-view+json": {
       "model_id": "32ea392c48e44cdeb6f20696c92634bf",
       "version_major": 2,
       "version_minor": 0
      },
      "text/plain": [
       "Epoch 465:   0%|          | 0/196 [00:00<?, ?it/s]"
      ]
     },
     "metadata": {},
     "output_type": "display_data"
    },
    {
     "data": {
      "application/vnd.jupyter.widget-view+json": {
       "model_id": "3be598d35dd54133b7d52ac9bb1bb3ad",
       "version_major": 2,
       "version_minor": 0
      },
      "text/plain": [
       "Epoch 466:   0%|          | 0/196 [00:00<?, ?it/s]"
      ]
     },
     "metadata": {},
     "output_type": "display_data"
    },
    {
     "data": {
      "application/vnd.jupyter.widget-view+json": {
       "model_id": "2b049e8f93eb4f7287372fe2a7404ad8",
       "version_major": 2,
       "version_minor": 0
      },
      "text/plain": [
       "Epoch 467:   0%|          | 0/196 [00:00<?, ?it/s]"
      ]
     },
     "metadata": {},
     "output_type": "display_data"
    },
    {
     "data": {
      "application/vnd.jupyter.widget-view+json": {
       "model_id": "429921ee50ca492eb2d1a9bd83a8bc5b",
       "version_major": 2,
       "version_minor": 0
      },
      "text/plain": [
       "Epoch 468:   0%|          | 0/196 [00:00<?, ?it/s]"
      ]
     },
     "metadata": {},
     "output_type": "display_data"
    },
    {
     "data": {
      "application/vnd.jupyter.widget-view+json": {
       "model_id": "5e5cea8a6c3641e789a8b6d37e2720b2",
       "version_major": 2,
       "version_minor": 0
      },
      "text/plain": [
       "Epoch 469:   0%|          | 0/196 [00:00<?, ?it/s]"
      ]
     },
     "metadata": {},
     "output_type": "display_data"
    },
    {
     "data": {
      "application/vnd.jupyter.widget-view+json": {
       "model_id": "1109bd7a2d3c4890bf433514bdeeb5c9",
       "version_major": 2,
       "version_minor": 0
      },
      "text/plain": [
       "Epoch 470:   0%|          | 0/196 [00:00<?, ?it/s]"
      ]
     },
     "metadata": {},
     "output_type": "display_data"
    },
    {
     "data": {
      "application/vnd.jupyter.widget-view+json": {
       "model_id": "e3a1101b6123445ab0ac9e1bb50ad08a",
       "version_major": 2,
       "version_minor": 0
      },
      "text/plain": [
       "Epoch 471:   0%|          | 0/196 [00:00<?, ?it/s]"
      ]
     },
     "metadata": {},
     "output_type": "display_data"
    },
    {
     "data": {
      "application/vnd.jupyter.widget-view+json": {
       "model_id": "786373edcfb34c94b6797cd9ca4b9f83",
       "version_major": 2,
       "version_minor": 0
      },
      "text/plain": [
       "Epoch 472:   0%|          | 0/196 [00:00<?, ?it/s]"
      ]
     },
     "metadata": {},
     "output_type": "display_data"
    },
    {
     "data": {
      "application/vnd.jupyter.widget-view+json": {
       "model_id": "87caabb7901a443391681a203ae37b5c",
       "version_major": 2,
       "version_minor": 0
      },
      "text/plain": [
       "Epoch 473:   0%|          | 0/196 [00:00<?, ?it/s]"
      ]
     },
     "metadata": {},
     "output_type": "display_data"
    },
    {
     "data": {
      "application/vnd.jupyter.widget-view+json": {
       "model_id": "674ceae87af74f9c8f220c4d8ee1a839",
       "version_major": 2,
       "version_minor": 0
      },
      "text/plain": [
       "Epoch 474:   0%|          | 0/196 [00:00<?, ?it/s]"
      ]
     },
     "metadata": {},
     "output_type": "display_data"
    },
    {
     "data": {
      "application/vnd.jupyter.widget-view+json": {
       "model_id": "0f3b04b5b3314cb892a358d04c7b920d",
       "version_major": 2,
       "version_minor": 0
      },
      "text/plain": [
       "Epoch 475:   0%|          | 0/196 [00:00<?, ?it/s]"
      ]
     },
     "metadata": {},
     "output_type": "display_data"
    },
    {
     "data": {
      "application/vnd.jupyter.widget-view+json": {
       "model_id": "2b1521c193ee4272a7d004eb00fc2492",
       "version_major": 2,
       "version_minor": 0
      },
      "text/plain": [
       "Epoch 476:   0%|          | 0/196 [00:00<?, ?it/s]"
      ]
     },
     "metadata": {},
     "output_type": "display_data"
    },
    {
     "data": {
      "application/vnd.jupyter.widget-view+json": {
       "model_id": "1401f2f1e3bf4e6eb7cc89bd991159a9",
       "version_major": 2,
       "version_minor": 0
      },
      "text/plain": [
       "Epoch 477:   0%|          | 0/196 [00:00<?, ?it/s]"
      ]
     },
     "metadata": {},
     "output_type": "display_data"
    },
    {
     "data": {
      "application/vnd.jupyter.widget-view+json": {
       "model_id": "83546e303948416ab1be59dfbbc967f7",
       "version_major": 2,
       "version_minor": 0
      },
      "text/plain": [
       "Epoch 478:   0%|          | 0/196 [00:00<?, ?it/s]"
      ]
     },
     "metadata": {},
     "output_type": "display_data"
    },
    {
     "data": {
      "application/vnd.jupyter.widget-view+json": {
       "model_id": "b839eae8e7754c878cf6351053472cd1",
       "version_major": 2,
       "version_minor": 0
      },
      "text/plain": [
       "Epoch 479:   0%|          | 0/196 [00:00<?, ?it/s]"
      ]
     },
     "metadata": {},
     "output_type": "display_data"
    },
    {
     "data": {
      "application/vnd.jupyter.widget-view+json": {
       "model_id": "1d7d32fe6b3d4b16a8a85c234fea96c9",
       "version_major": 2,
       "version_minor": 0
      },
      "text/plain": [
       "Epoch 480:   0%|          | 0/196 [00:00<?, ?it/s]"
      ]
     },
     "metadata": {},
     "output_type": "display_data"
    },
    {
     "data": {
      "application/vnd.jupyter.widget-view+json": {
       "model_id": "71683cda678846a088fc19781f895d7f",
       "version_major": 2,
       "version_minor": 0
      },
      "text/plain": [
       "Epoch 481:   0%|          | 0/196 [00:00<?, ?it/s]"
      ]
     },
     "metadata": {},
     "output_type": "display_data"
    },
    {
     "data": {
      "application/vnd.jupyter.widget-view+json": {
       "model_id": "bf32c1d35d8c4412963c4631679ab171",
       "version_major": 2,
       "version_minor": 0
      },
      "text/plain": [
       "Epoch 482:   0%|          | 0/196 [00:00<?, ?it/s]"
      ]
     },
     "metadata": {},
     "output_type": "display_data"
    },
    {
     "data": {
      "application/vnd.jupyter.widget-view+json": {
       "model_id": "dc13cd26dca342fab18ffd6ada80db64",
       "version_major": 2,
       "version_minor": 0
      },
      "text/plain": [
       "Epoch 483:   0%|          | 0/196 [00:00<?, ?it/s]"
      ]
     },
     "metadata": {},
     "output_type": "display_data"
    },
    {
     "data": {
      "application/vnd.jupyter.widget-view+json": {
       "model_id": "e5bec609a4764e01bd8d70afab80b82b",
       "version_major": 2,
       "version_minor": 0
      },
      "text/plain": [
       "Epoch 484:   0%|          | 0/196 [00:00<?, ?it/s]"
      ]
     },
     "metadata": {},
     "output_type": "display_data"
    },
    {
     "data": {
      "application/vnd.jupyter.widget-view+json": {
       "model_id": "3f0a8d7b2dff4b8b9d25e23bee31d4e6",
       "version_major": 2,
       "version_minor": 0
      },
      "text/plain": [
       "Epoch 485:   0%|          | 0/196 [00:00<?, ?it/s]"
      ]
     },
     "metadata": {},
     "output_type": "display_data"
    },
    {
     "data": {
      "application/vnd.jupyter.widget-view+json": {
       "model_id": "ed27250dea0547d2ad30e4036cb211b8",
       "version_major": 2,
       "version_minor": 0
      },
      "text/plain": [
       "Epoch 486:   0%|          | 0/196 [00:00<?, ?it/s]"
      ]
     },
     "metadata": {},
     "output_type": "display_data"
    },
    {
     "data": {
      "application/vnd.jupyter.widget-view+json": {
       "model_id": "a2fd61161bbc483692a5cded46c396db",
       "version_major": 2,
       "version_minor": 0
      },
      "text/plain": [
       "Epoch 487:   0%|          | 0/196 [00:00<?, ?it/s]"
      ]
     },
     "metadata": {},
     "output_type": "display_data"
    },
    {
     "data": {
      "application/vnd.jupyter.widget-view+json": {
       "model_id": "d2c606bb4475454a8cd21486e52e1e8a",
       "version_major": 2,
       "version_minor": 0
      },
      "text/plain": [
       "Epoch 488:   0%|          | 0/196 [00:00<?, ?it/s]"
      ]
     },
     "metadata": {},
     "output_type": "display_data"
    },
    {
     "data": {
      "application/vnd.jupyter.widget-view+json": {
       "model_id": "ec5d55b805cc48b3b8734038647dc7e9",
       "version_major": 2,
       "version_minor": 0
      },
      "text/plain": [
       "Epoch 489:   0%|          | 0/196 [00:00<?, ?it/s]"
      ]
     },
     "metadata": {},
     "output_type": "display_data"
    },
    {
     "data": {
      "application/vnd.jupyter.widget-view+json": {
       "model_id": "f8715e9b1f5348ccbe0a83148319eafc",
       "version_major": 2,
       "version_minor": 0
      },
      "text/plain": [
       "Epoch 490:   0%|          | 0/196 [00:00<?, ?it/s]"
      ]
     },
     "metadata": {},
     "output_type": "display_data"
    },
    {
     "data": {
      "application/vnd.jupyter.widget-view+json": {
       "model_id": "4f5fa07ff4aa46889e673bc5a2e1c8c2",
       "version_major": 2,
       "version_minor": 0
      },
      "text/plain": [
       "Epoch 491:   0%|          | 0/196 [00:00<?, ?it/s]"
      ]
     },
     "metadata": {},
     "output_type": "display_data"
    },
    {
     "data": {
      "application/vnd.jupyter.widget-view+json": {
       "model_id": "628dede0bf2c41ccb191469c55c36ec5",
       "version_major": 2,
       "version_minor": 0
      },
      "text/plain": [
       "Epoch 492:   0%|          | 0/196 [00:00<?, ?it/s]"
      ]
     },
     "metadata": {},
     "output_type": "display_data"
    },
    {
     "data": {
      "application/vnd.jupyter.widget-view+json": {
       "model_id": "e5c75d5ddb5947a5865cf8ee942d150b",
       "version_major": 2,
       "version_minor": 0
      },
      "text/plain": [
       "Epoch 493:   0%|          | 0/196 [00:00<?, ?it/s]"
      ]
     },
     "metadata": {},
     "output_type": "display_data"
    },
    {
     "data": {
      "application/vnd.jupyter.widget-view+json": {
       "model_id": "aa89e027fe5b4b0a8d47eaca76b822a5",
       "version_major": 2,
       "version_minor": 0
      },
      "text/plain": [
       "Epoch 494:   0%|          | 0/196 [00:00<?, ?it/s]"
      ]
     },
     "metadata": {},
     "output_type": "display_data"
    },
    {
     "data": {
      "application/vnd.jupyter.widget-view+json": {
       "model_id": "4c339e613ee04e8087ef6d6417389762",
       "version_major": 2,
       "version_minor": 0
      },
      "text/plain": [
       "Epoch 495:   0%|          | 0/196 [00:00<?, ?it/s]"
      ]
     },
     "metadata": {},
     "output_type": "display_data"
    },
    {
     "data": {
      "application/vnd.jupyter.widget-view+json": {
       "model_id": "feb532a01ea94e468050c152c4e63a84",
       "version_major": 2,
       "version_minor": 0
      },
      "text/plain": [
       "Epoch 496:   0%|          | 0/196 [00:00<?, ?it/s]"
      ]
     },
     "metadata": {},
     "output_type": "display_data"
    },
    {
     "data": {
      "application/vnd.jupyter.widget-view+json": {
       "model_id": "a1832100ed1841e2a95490598f706fbf",
       "version_major": 2,
       "version_minor": 0
      },
      "text/plain": [
       "Epoch 497:   0%|          | 0/196 [00:00<?, ?it/s]"
      ]
     },
     "metadata": {},
     "output_type": "display_data"
    },
    {
     "data": {
      "application/vnd.jupyter.widget-view+json": {
       "model_id": "884a48d494be4311b98a6d843729146a",
       "version_major": 2,
       "version_minor": 0
      },
      "text/plain": [
       "Epoch 498:   0%|          | 0/196 [00:00<?, ?it/s]"
      ]
     },
     "metadata": {},
     "output_type": "display_data"
    },
    {
     "data": {
      "application/vnd.jupyter.widget-view+json": {
       "model_id": "d29bdf2d02104ec48af0d04589fbd540",
       "version_major": 2,
       "version_minor": 0
      },
      "text/plain": [
       "Epoch 499:   0%|          | 0/196 [00:00<?, ?it/s]"
      ]
     },
     "metadata": {},
     "output_type": "display_data"
    },
    {
     "data": {
      "application/vnd.jupyter.widget-view+json": {
       "model_id": "7f5df51ad9634843a3958f017ee74817",
       "version_major": 2,
       "version_minor": 0
      },
      "text/plain": [
       "Epoch 500:   0%|          | 0/196 [00:00<?, ?it/s]"
      ]
     },
     "metadata": {},
     "output_type": "display_data"
    },
    {
     "data": {
      "application/vnd.jupyter.widget-view+json": {
       "model_id": "e64b3f22fdf14d5cbc047f94d69d1a1b",
       "version_major": 2,
       "version_minor": 0
      },
      "text/plain": [
       "Epoch 501:   0%|          | 0/196 [00:00<?, ?it/s]"
      ]
     },
     "metadata": {},
     "output_type": "display_data"
    },
    {
     "data": {
      "application/vnd.jupyter.widget-view+json": {
       "model_id": "daeffa07847140ed90c5927f38600318",
       "version_major": 2,
       "version_minor": 0
      },
      "text/plain": [
       "Epoch 502:   0%|          | 0/196 [00:00<?, ?it/s]"
      ]
     },
     "metadata": {},
     "output_type": "display_data"
    },
    {
     "data": {
      "application/vnd.jupyter.widget-view+json": {
       "model_id": "bf39fbdb571b4697b66a5bdd6170d98e",
       "version_major": 2,
       "version_minor": 0
      },
      "text/plain": [
       "Epoch 503:   0%|          | 0/196 [00:00<?, ?it/s]"
      ]
     },
     "metadata": {},
     "output_type": "display_data"
    },
    {
     "data": {
      "application/vnd.jupyter.widget-view+json": {
       "model_id": "f7c60d1ee7ab4e3196cc90aa6f27a5cb",
       "version_major": 2,
       "version_minor": 0
      },
      "text/plain": [
       "Epoch 504:   0%|          | 0/196 [00:00<?, ?it/s]"
      ]
     },
     "metadata": {},
     "output_type": "display_data"
    },
    {
     "data": {
      "application/vnd.jupyter.widget-view+json": {
       "model_id": "3f0e6891ad5e47e3b6fd04f8c7c0910a",
       "version_major": 2,
       "version_minor": 0
      },
      "text/plain": [
       "Epoch 505:   0%|          | 0/196 [00:00<?, ?it/s]"
      ]
     },
     "metadata": {},
     "output_type": "display_data"
    },
    {
     "data": {
      "application/vnd.jupyter.widget-view+json": {
       "model_id": "bb915616bede43e29b8d1d79364cb34d",
       "version_major": 2,
       "version_minor": 0
      },
      "text/plain": [
       "Epoch 506:   0%|          | 0/196 [00:00<?, ?it/s]"
      ]
     },
     "metadata": {},
     "output_type": "display_data"
    },
    {
     "data": {
      "application/vnd.jupyter.widget-view+json": {
       "model_id": "cc339ded9fe34d92a0cade9df4e632c1",
       "version_major": 2,
       "version_minor": 0
      },
      "text/plain": [
       "Epoch 507:   0%|          | 0/196 [00:00<?, ?it/s]"
      ]
     },
     "metadata": {},
     "output_type": "display_data"
    },
    {
     "data": {
      "application/vnd.jupyter.widget-view+json": {
       "model_id": "2002eae86e9544df9e4db73551d2d9b1",
       "version_major": 2,
       "version_minor": 0
      },
      "text/plain": [
       "Epoch 508:   0%|          | 0/196 [00:00<?, ?it/s]"
      ]
     },
     "metadata": {},
     "output_type": "display_data"
    },
    {
     "data": {
      "application/vnd.jupyter.widget-view+json": {
       "model_id": "e1fa73e401c14e7ebcaf0353b353bd63",
       "version_major": 2,
       "version_minor": 0
      },
      "text/plain": [
       "Epoch 509:   0%|          | 0/196 [00:00<?, ?it/s]"
      ]
     },
     "metadata": {},
     "output_type": "display_data"
    },
    {
     "data": {
      "application/vnd.jupyter.widget-view+json": {
       "model_id": "bd5d5f9a74104f609c4accd81eaf725f",
       "version_major": 2,
       "version_minor": 0
      },
      "text/plain": [
       "Epoch 510:   0%|          | 0/196 [00:00<?, ?it/s]"
      ]
     },
     "metadata": {},
     "output_type": "display_data"
    },
    {
     "data": {
      "application/vnd.jupyter.widget-view+json": {
       "model_id": "b89650c019fa4c909490d4a2caf932f5",
       "version_major": 2,
       "version_minor": 0
      },
      "text/plain": [
       "Epoch 511:   0%|          | 0/196 [00:00<?, ?it/s]"
      ]
     },
     "metadata": {},
     "output_type": "display_data"
    },
    {
     "data": {
      "application/vnd.jupyter.widget-view+json": {
       "model_id": "30af1d28838a46e48fecc1f9f9a95efe",
       "version_major": 2,
       "version_minor": 0
      },
      "text/plain": [
       "Epoch 512:   0%|          | 0/196 [00:00<?, ?it/s]"
      ]
     },
     "metadata": {},
     "output_type": "display_data"
    },
    {
     "data": {
      "application/vnd.jupyter.widget-view+json": {
       "model_id": "a598e4cc536242f3aee760ee03e5fc1b",
       "version_major": 2,
       "version_minor": 0
      },
      "text/plain": [
       "Epoch 513:   0%|          | 0/196 [00:00<?, ?it/s]"
      ]
     },
     "metadata": {},
     "output_type": "display_data"
    },
    {
     "data": {
      "application/vnd.jupyter.widget-view+json": {
       "model_id": "8fc464db792544638b5984682095b4ed",
       "version_major": 2,
       "version_minor": 0
      },
      "text/plain": [
       "Epoch 514:   0%|          | 0/196 [00:00<?, ?it/s]"
      ]
     },
     "metadata": {},
     "output_type": "display_data"
    },
    {
     "data": {
      "application/vnd.jupyter.widget-view+json": {
       "model_id": "c5aa4bff325c415285d8a2c90b35b99e",
       "version_major": 2,
       "version_minor": 0
      },
      "text/plain": [
       "Epoch 515:   0%|          | 0/196 [00:00<?, ?it/s]"
      ]
     },
     "metadata": {},
     "output_type": "display_data"
    },
    {
     "data": {
      "application/vnd.jupyter.widget-view+json": {
       "model_id": "0049885786bb46c78414318893adfcaf",
       "version_major": 2,
       "version_minor": 0
      },
      "text/plain": [
       "Epoch 516:   0%|          | 0/196 [00:00<?, ?it/s]"
      ]
     },
     "metadata": {},
     "output_type": "display_data"
    },
    {
     "data": {
      "application/vnd.jupyter.widget-view+json": {
       "model_id": "3b2793430f31449c9e58195756e504ce",
       "version_major": 2,
       "version_minor": 0
      },
      "text/plain": [
       "Epoch 517:   0%|          | 0/196 [00:00<?, ?it/s]"
      ]
     },
     "metadata": {},
     "output_type": "display_data"
    },
    {
     "data": {
      "application/vnd.jupyter.widget-view+json": {
       "model_id": "7aa7f3861d9e4e4b98dcca12f641b24d",
       "version_major": 2,
       "version_minor": 0
      },
      "text/plain": [
       "Epoch 518:   0%|          | 0/196 [00:00<?, ?it/s]"
      ]
     },
     "metadata": {},
     "output_type": "display_data"
    },
    {
     "data": {
      "application/vnd.jupyter.widget-view+json": {
       "model_id": "5dd05e351d194dfebf739e3f7f39bf5d",
       "version_major": 2,
       "version_minor": 0
      },
      "text/plain": [
       "Epoch 519:   0%|          | 0/196 [00:00<?, ?it/s]"
      ]
     },
     "metadata": {},
     "output_type": "display_data"
    },
    {
     "data": {
      "application/vnd.jupyter.widget-view+json": {
       "model_id": "1950f28fc3554e17b8f5a27176aeb6e8",
       "version_major": 2,
       "version_minor": 0
      },
      "text/plain": [
       "Epoch 520:   0%|          | 0/196 [00:00<?, ?it/s]"
      ]
     },
     "metadata": {},
     "output_type": "display_data"
    },
    {
     "data": {
      "application/vnd.jupyter.widget-view+json": {
       "model_id": "acca355851bf448cabc80631e159efd8",
       "version_major": 2,
       "version_minor": 0
      },
      "text/plain": [
       "Epoch 521:   0%|          | 0/196 [00:00<?, ?it/s]"
      ]
     },
     "metadata": {},
     "output_type": "display_data"
    },
    {
     "data": {
      "application/vnd.jupyter.widget-view+json": {
       "model_id": "bccb760a9117428aaf394f8be06d1b23",
       "version_major": 2,
       "version_minor": 0
      },
      "text/plain": [
       "Epoch 522:   0%|          | 0/196 [00:00<?, ?it/s]"
      ]
     },
     "metadata": {},
     "output_type": "display_data"
    },
    {
     "data": {
      "application/vnd.jupyter.widget-view+json": {
       "model_id": "4d00838812a74a96ac94b65e53ed07f1",
       "version_major": 2,
       "version_minor": 0
      },
      "text/plain": [
       "Epoch 523:   0%|          | 0/196 [00:00<?, ?it/s]"
      ]
     },
     "metadata": {},
     "output_type": "display_data"
    },
    {
     "data": {
      "application/vnd.jupyter.widget-view+json": {
       "model_id": "89d444e42ffb43739fbb40fbd333552a",
       "version_major": 2,
       "version_minor": 0
      },
      "text/plain": [
       "Epoch 524:   0%|          | 0/196 [00:00<?, ?it/s]"
      ]
     },
     "metadata": {},
     "output_type": "display_data"
    },
    {
     "data": {
      "application/vnd.jupyter.widget-view+json": {
       "model_id": "30200078a0fe471ab8f1b01481dba538",
       "version_major": 2,
       "version_minor": 0
      },
      "text/plain": [
       "Epoch 525:   0%|          | 0/196 [00:00<?, ?it/s]"
      ]
     },
     "metadata": {},
     "output_type": "display_data"
    },
    {
     "data": {
      "application/vnd.jupyter.widget-view+json": {
       "model_id": "e91392a871b7406d80517b21910326d3",
       "version_major": 2,
       "version_minor": 0
      },
      "text/plain": [
       "Epoch 526:   0%|          | 0/196 [00:00<?, ?it/s]"
      ]
     },
     "metadata": {},
     "output_type": "display_data"
    },
    {
     "data": {
      "application/vnd.jupyter.widget-view+json": {
       "model_id": "c3abafbed2ff48c2974684af5a88ad54",
       "version_major": 2,
       "version_minor": 0
      },
      "text/plain": [
       "Epoch 527:   0%|          | 0/196 [00:00<?, ?it/s]"
      ]
     },
     "metadata": {},
     "output_type": "display_data"
    },
    {
     "data": {
      "application/vnd.jupyter.widget-view+json": {
       "model_id": "6c7ba447b72d47d7851ecc05d772bfa0",
       "version_major": 2,
       "version_minor": 0
      },
      "text/plain": [
       "Epoch 528:   0%|          | 0/196 [00:00<?, ?it/s]"
      ]
     },
     "metadata": {},
     "output_type": "display_data"
    },
    {
     "data": {
      "application/vnd.jupyter.widget-view+json": {
       "model_id": "4d3f732e3fe946019f95ae4f25f5d795",
       "version_major": 2,
       "version_minor": 0
      },
      "text/plain": [
       "Epoch 529:   0%|          | 0/196 [00:00<?, ?it/s]"
      ]
     },
     "metadata": {},
     "output_type": "display_data"
    },
    {
     "data": {
      "application/vnd.jupyter.widget-view+json": {
       "model_id": "53f528358a1b48cab7ec99361292ec9b",
       "version_major": 2,
       "version_minor": 0
      },
      "text/plain": [
       "Epoch 530:   0%|          | 0/196 [00:00<?, ?it/s]"
      ]
     },
     "metadata": {},
     "output_type": "display_data"
    },
    {
     "data": {
      "application/vnd.jupyter.widget-view+json": {
       "model_id": "89e6bdeda5ec4b5189c0caef40c79a94",
       "version_major": 2,
       "version_minor": 0
      },
      "text/plain": [
       "Epoch 531:   0%|          | 0/196 [00:00<?, ?it/s]"
      ]
     },
     "metadata": {},
     "output_type": "display_data"
    },
    {
     "data": {
      "application/vnd.jupyter.widget-view+json": {
       "model_id": "9bcdef29733e42aa96d377d8cd4d912b",
       "version_major": 2,
       "version_minor": 0
      },
      "text/plain": [
       "Epoch 532:   0%|          | 0/196 [00:00<?, ?it/s]"
      ]
     },
     "metadata": {},
     "output_type": "display_data"
    },
    {
     "data": {
      "application/vnd.jupyter.widget-view+json": {
       "model_id": "7c26590f5bca4e998f66024dcfedd41a",
       "version_major": 2,
       "version_minor": 0
      },
      "text/plain": [
       "Epoch 533:   0%|          | 0/196 [00:00<?, ?it/s]"
      ]
     },
     "metadata": {},
     "output_type": "display_data"
    },
    {
     "data": {
      "application/vnd.jupyter.widget-view+json": {
       "model_id": "9401575bc4604598a70bca52539a519e",
       "version_major": 2,
       "version_minor": 0
      },
      "text/plain": [
       "Epoch 534:   0%|          | 0/196 [00:00<?, ?it/s]"
      ]
     },
     "metadata": {},
     "output_type": "display_data"
    },
    {
     "data": {
      "application/vnd.jupyter.widget-view+json": {
       "model_id": "95c2d5a316954859a0f81c7281afa8b7",
       "version_major": 2,
       "version_minor": 0
      },
      "text/plain": [
       "Epoch 535:   0%|          | 0/196 [00:00<?, ?it/s]"
      ]
     },
     "metadata": {},
     "output_type": "display_data"
    },
    {
     "data": {
      "application/vnd.jupyter.widget-view+json": {
       "model_id": "2dd97336904644a59fe25f1cff153dca",
       "version_major": 2,
       "version_minor": 0
      },
      "text/plain": [
       "Epoch 536:   0%|          | 0/196 [00:00<?, ?it/s]"
      ]
     },
     "metadata": {},
     "output_type": "display_data"
    },
    {
     "data": {
      "application/vnd.jupyter.widget-view+json": {
       "model_id": "ff222225bd9348ab8d9cc1ce93f8ea09",
       "version_major": 2,
       "version_minor": 0
      },
      "text/plain": [
       "Epoch 537:   0%|          | 0/196 [00:00<?, ?it/s]"
      ]
     },
     "metadata": {},
     "output_type": "display_data"
    },
    {
     "data": {
      "application/vnd.jupyter.widget-view+json": {
       "model_id": "372a0114f63f47edb0a0ba306c4b8f4b",
       "version_major": 2,
       "version_minor": 0
      },
      "text/plain": [
       "Epoch 538:   0%|          | 0/196 [00:00<?, ?it/s]"
      ]
     },
     "metadata": {},
     "output_type": "display_data"
    },
    {
     "data": {
      "application/vnd.jupyter.widget-view+json": {
       "model_id": "c56d5dc757e24b4cb22e558b5f3bffb8",
       "version_major": 2,
       "version_minor": 0
      },
      "text/plain": [
       "Epoch 539:   0%|          | 0/196 [00:00<?, ?it/s]"
      ]
     },
     "metadata": {},
     "output_type": "display_data"
    },
    {
     "data": {
      "application/vnd.jupyter.widget-view+json": {
       "model_id": "ae47fe318f724b029e4ce01ee3834cbc",
       "version_major": 2,
       "version_minor": 0
      },
      "text/plain": [
       "Epoch 540:   0%|          | 0/196 [00:00<?, ?it/s]"
      ]
     },
     "metadata": {},
     "output_type": "display_data"
    },
    {
     "data": {
      "application/vnd.jupyter.widget-view+json": {
       "model_id": "9c5e8b4c6e9f4658866c8ddbba6b0273",
       "version_major": 2,
       "version_minor": 0
      },
      "text/plain": [
       "Epoch 541:   0%|          | 0/196 [00:00<?, ?it/s]"
      ]
     },
     "metadata": {},
     "output_type": "display_data"
    },
    {
     "data": {
      "application/vnd.jupyter.widget-view+json": {
       "model_id": "427ec92bcdfb48fc88e78590e364adf5",
       "version_major": 2,
       "version_minor": 0
      },
      "text/plain": [
       "Epoch 542:   0%|          | 0/196 [00:00<?, ?it/s]"
      ]
     },
     "metadata": {},
     "output_type": "display_data"
    },
    {
     "data": {
      "application/vnd.jupyter.widget-view+json": {
       "model_id": "78ec261da84448f8a5fa9f81b4f6227b",
       "version_major": 2,
       "version_minor": 0
      },
      "text/plain": [
       "Epoch 543:   0%|          | 0/196 [00:00<?, ?it/s]"
      ]
     },
     "metadata": {},
     "output_type": "display_data"
    },
    {
     "data": {
      "application/vnd.jupyter.widget-view+json": {
       "model_id": "8bcf49cd05fc4ea79ea9d5d06834190b",
       "version_major": 2,
       "version_minor": 0
      },
      "text/plain": [
       "Epoch 544:   0%|          | 0/196 [00:00<?, ?it/s]"
      ]
     },
     "metadata": {},
     "output_type": "display_data"
    },
    {
     "data": {
      "application/vnd.jupyter.widget-view+json": {
       "model_id": "0de6e864c04047f1b7c6c0318a94b306",
       "version_major": 2,
       "version_minor": 0
      },
      "text/plain": [
       "Epoch 545:   0%|          | 0/196 [00:00<?, ?it/s]"
      ]
     },
     "metadata": {},
     "output_type": "display_data"
    },
    {
     "data": {
      "application/vnd.jupyter.widget-view+json": {
       "model_id": "90a3ff07e10a4150b317bad534fe0821",
       "version_major": 2,
       "version_minor": 0
      },
      "text/plain": [
       "Epoch 546:   0%|          | 0/196 [00:00<?, ?it/s]"
      ]
     },
     "metadata": {},
     "output_type": "display_data"
    },
    {
     "data": {
      "application/vnd.jupyter.widget-view+json": {
       "model_id": "a8e4bf124fef4349822df12bd7173cad",
       "version_major": 2,
       "version_minor": 0
      },
      "text/plain": [
       "Epoch 547:   0%|          | 0/196 [00:00<?, ?it/s]"
      ]
     },
     "metadata": {},
     "output_type": "display_data"
    },
    {
     "data": {
      "application/vnd.jupyter.widget-view+json": {
       "model_id": "e8a5fc6a055e4e56a38750294a2aed1a",
       "version_major": 2,
       "version_minor": 0
      },
      "text/plain": [
       "Epoch 548:   0%|          | 0/196 [00:00<?, ?it/s]"
      ]
     },
     "metadata": {},
     "output_type": "display_data"
    },
    {
     "data": {
      "application/vnd.jupyter.widget-view+json": {
       "model_id": "93a89d6c8e4548628dd46e96ab648083",
       "version_major": 2,
       "version_minor": 0
      },
      "text/plain": [
       "Epoch 549:   0%|          | 0/196 [00:00<?, ?it/s]"
      ]
     },
     "metadata": {},
     "output_type": "display_data"
    },
    {
     "data": {
      "application/vnd.jupyter.widget-view+json": {
       "model_id": "cae0988f168c4f65a56f16ea76b6b33e",
       "version_major": 2,
       "version_minor": 0
      },
      "text/plain": [
       "Epoch 550:   0%|          | 0/196 [00:00<?, ?it/s]"
      ]
     },
     "metadata": {},
     "output_type": "display_data"
    },
    {
     "data": {
      "application/vnd.jupyter.widget-view+json": {
       "model_id": "1fa1b4c462a345a5be444386ec962061",
       "version_major": 2,
       "version_minor": 0
      },
      "text/plain": [
       "Epoch 551:   0%|          | 0/196 [00:00<?, ?it/s]"
      ]
     },
     "metadata": {},
     "output_type": "display_data"
    },
    {
     "data": {
      "application/vnd.jupyter.widget-view+json": {
       "model_id": "639d5e1c83f1429fb5f99168ef969c14",
       "version_major": 2,
       "version_minor": 0
      },
      "text/plain": [
       "Epoch 552:   0%|          | 0/196 [00:00<?, ?it/s]"
      ]
     },
     "metadata": {},
     "output_type": "display_data"
    },
    {
     "data": {
      "application/vnd.jupyter.widget-view+json": {
       "model_id": "ea2caee9552942e5bb26a787ecbb55aa",
       "version_major": 2,
       "version_minor": 0
      },
      "text/plain": [
       "Epoch 553:   0%|          | 0/196 [00:00<?, ?it/s]"
      ]
     },
     "metadata": {},
     "output_type": "display_data"
    },
    {
     "data": {
      "application/vnd.jupyter.widget-view+json": {
       "model_id": "d553f7a40b27447cac5659a2c1161987",
       "version_major": 2,
       "version_minor": 0
      },
      "text/plain": [
       "Epoch 554:   0%|          | 0/196 [00:00<?, ?it/s]"
      ]
     },
     "metadata": {},
     "output_type": "display_data"
    },
    {
     "data": {
      "application/vnd.jupyter.widget-view+json": {
       "model_id": "a851c4140ad04229b0f93907e112100b",
       "version_major": 2,
       "version_minor": 0
      },
      "text/plain": [
       "Epoch 555:   0%|          | 0/196 [00:00<?, ?it/s]"
      ]
     },
     "metadata": {},
     "output_type": "display_data"
    },
    {
     "data": {
      "application/vnd.jupyter.widget-view+json": {
       "model_id": "50c9152e065445af955a8d218b474a6a",
       "version_major": 2,
       "version_minor": 0
      },
      "text/plain": [
       "Epoch 556:   0%|          | 0/196 [00:00<?, ?it/s]"
      ]
     },
     "metadata": {},
     "output_type": "display_data"
    },
    {
     "data": {
      "application/vnd.jupyter.widget-view+json": {
       "model_id": "39a41ce0c425466dae0f512db497f7df",
       "version_major": 2,
       "version_minor": 0
      },
      "text/plain": [
       "Epoch 557:   0%|          | 0/196 [00:00<?, ?it/s]"
      ]
     },
     "metadata": {},
     "output_type": "display_data"
    },
    {
     "data": {
      "application/vnd.jupyter.widget-view+json": {
       "model_id": "87689b9cf4464a1b8c7944cfb2adda29",
       "version_major": 2,
       "version_minor": 0
      },
      "text/plain": [
       "Epoch 558:   0%|          | 0/196 [00:00<?, ?it/s]"
      ]
     },
     "metadata": {},
     "output_type": "display_data"
    },
    {
     "data": {
      "application/vnd.jupyter.widget-view+json": {
       "model_id": "3e4db7a44b9c4c83b6daeac1ebcdf480",
       "version_major": 2,
       "version_minor": 0
      },
      "text/plain": [
       "Epoch 559:   0%|          | 0/196 [00:00<?, ?it/s]"
      ]
     },
     "metadata": {},
     "output_type": "display_data"
    },
    {
     "data": {
      "application/vnd.jupyter.widget-view+json": {
       "model_id": "eca55f431d334d64b2dbd862870f1c88",
       "version_major": 2,
       "version_minor": 0
      },
      "text/plain": [
       "Epoch 560:   0%|          | 0/196 [00:00<?, ?it/s]"
      ]
     },
     "metadata": {},
     "output_type": "display_data"
    },
    {
     "data": {
      "application/vnd.jupyter.widget-view+json": {
       "model_id": "b8097f54422849b9b127a3049292ffb0",
       "version_major": 2,
       "version_minor": 0
      },
      "text/plain": [
       "Epoch 561:   0%|          | 0/196 [00:00<?, ?it/s]"
      ]
     },
     "metadata": {},
     "output_type": "display_data"
    },
    {
     "data": {
      "application/vnd.jupyter.widget-view+json": {
       "model_id": "e1f11d9822ba4c1d8c4421d0e8577706",
       "version_major": 2,
       "version_minor": 0
      },
      "text/plain": [
       "Epoch 562:   0%|          | 0/196 [00:00<?, ?it/s]"
      ]
     },
     "metadata": {},
     "output_type": "display_data"
    },
    {
     "data": {
      "application/vnd.jupyter.widget-view+json": {
       "model_id": "02f111d8ef394bc4b8cdd380d75d6bff",
       "version_major": 2,
       "version_minor": 0
      },
      "text/plain": [
       "Epoch 563:   0%|          | 0/196 [00:00<?, ?it/s]"
      ]
     },
     "metadata": {},
     "output_type": "display_data"
    },
    {
     "data": {
      "application/vnd.jupyter.widget-view+json": {
       "model_id": "3781321a85dc4fc5aff5f4fa9ef358dd",
       "version_major": 2,
       "version_minor": 0
      },
      "text/plain": [
       "Epoch 564:   0%|          | 0/196 [00:00<?, ?it/s]"
      ]
     },
     "metadata": {},
     "output_type": "display_data"
    },
    {
     "data": {
      "application/vnd.jupyter.widget-view+json": {
       "model_id": "9a2287c072124f65bc4ad0824e63901b",
       "version_major": 2,
       "version_minor": 0
      },
      "text/plain": [
       "Epoch 565:   0%|          | 0/196 [00:00<?, ?it/s]"
      ]
     },
     "metadata": {},
     "output_type": "display_data"
    },
    {
     "data": {
      "application/vnd.jupyter.widget-view+json": {
       "model_id": "aaf71e5fadfe4981badd2646165af30a",
       "version_major": 2,
       "version_minor": 0
      },
      "text/plain": [
       "Epoch 566:   0%|          | 0/196 [00:00<?, ?it/s]"
      ]
     },
     "metadata": {},
     "output_type": "display_data"
    },
    {
     "data": {
      "application/vnd.jupyter.widget-view+json": {
       "model_id": "4597f34827664a2ba108043a34a7373f",
       "version_major": 2,
       "version_minor": 0
      },
      "text/plain": [
       "Epoch 567:   0%|          | 0/196 [00:00<?, ?it/s]"
      ]
     },
     "metadata": {},
     "output_type": "display_data"
    },
    {
     "data": {
      "application/vnd.jupyter.widget-view+json": {
       "model_id": "5bed6e906e43488190fd7bfacef9944c",
       "version_major": 2,
       "version_minor": 0
      },
      "text/plain": [
       "Epoch 568:   0%|          | 0/196 [00:00<?, ?it/s]"
      ]
     },
     "metadata": {},
     "output_type": "display_data"
    },
    {
     "data": {
      "application/vnd.jupyter.widget-view+json": {
       "model_id": "169e98c74811413ab1a9871d31276abd",
       "version_major": 2,
       "version_minor": 0
      },
      "text/plain": [
       "Epoch 569:   0%|          | 0/196 [00:00<?, ?it/s]"
      ]
     },
     "metadata": {},
     "output_type": "display_data"
    },
    {
     "data": {
      "application/vnd.jupyter.widget-view+json": {
       "model_id": "5ae7e4491ee8459d9407e75d19c02057",
       "version_major": 2,
       "version_minor": 0
      },
      "text/plain": [
       "Epoch 570:   0%|          | 0/196 [00:00<?, ?it/s]"
      ]
     },
     "metadata": {},
     "output_type": "display_data"
    },
    {
     "data": {
      "application/vnd.jupyter.widget-view+json": {
       "model_id": "13c93cbac93d4cbd9525ca87f8c4a6f6",
       "version_major": 2,
       "version_minor": 0
      },
      "text/plain": [
       "Epoch 571:   0%|          | 0/196 [00:00<?, ?it/s]"
      ]
     },
     "metadata": {},
     "output_type": "display_data"
    },
    {
     "data": {
      "application/vnd.jupyter.widget-view+json": {
       "model_id": "25217b4371d14fbeb488c65a2f5a79b4",
       "version_major": 2,
       "version_minor": 0
      },
      "text/plain": [
       "Epoch 572:   0%|          | 0/196 [00:00<?, ?it/s]"
      ]
     },
     "metadata": {},
     "output_type": "display_data"
    },
    {
     "data": {
      "application/vnd.jupyter.widget-view+json": {
       "model_id": "77176ad0f4144125a38b120ec4e0963c",
       "version_major": 2,
       "version_minor": 0
      },
      "text/plain": [
       "Epoch 573:   0%|          | 0/196 [00:00<?, ?it/s]"
      ]
     },
     "metadata": {},
     "output_type": "display_data"
    },
    {
     "data": {
      "application/vnd.jupyter.widget-view+json": {
       "model_id": "2b82e3e43d3e4fd69c81c3f986c4225f",
       "version_major": 2,
       "version_minor": 0
      },
      "text/plain": [
       "Epoch 574:   0%|          | 0/196 [00:00<?, ?it/s]"
      ]
     },
     "metadata": {},
     "output_type": "display_data"
    },
    {
     "data": {
      "application/vnd.jupyter.widget-view+json": {
       "model_id": "5af38b461b134fa59a5ed0354f1b4084",
       "version_major": 2,
       "version_minor": 0
      },
      "text/plain": [
       "Epoch 575:   0%|          | 0/196 [00:00<?, ?it/s]"
      ]
     },
     "metadata": {},
     "output_type": "display_data"
    },
    {
     "data": {
      "application/vnd.jupyter.widget-view+json": {
       "model_id": "b5adcaa124a845528aeea43f23656cd1",
       "version_major": 2,
       "version_minor": 0
      },
      "text/plain": [
       "Epoch 576:   0%|          | 0/196 [00:00<?, ?it/s]"
      ]
     },
     "metadata": {},
     "output_type": "display_data"
    },
    {
     "data": {
      "application/vnd.jupyter.widget-view+json": {
       "model_id": "bdade184b05843ae9b82cb1a55b58679",
       "version_major": 2,
       "version_minor": 0
      },
      "text/plain": [
       "Epoch 577:   0%|          | 0/196 [00:00<?, ?it/s]"
      ]
     },
     "metadata": {},
     "output_type": "display_data"
    },
    {
     "data": {
      "application/vnd.jupyter.widget-view+json": {
       "model_id": "54310234a1f74d0ab1c3862a8d6693b1",
       "version_major": 2,
       "version_minor": 0
      },
      "text/plain": [
       "Epoch 578:   0%|          | 0/196 [00:00<?, ?it/s]"
      ]
     },
     "metadata": {},
     "output_type": "display_data"
    },
    {
     "data": {
      "application/vnd.jupyter.widget-view+json": {
       "model_id": "e9ed90e7c78e41a583f5a6f683c0c994",
       "version_major": 2,
       "version_minor": 0
      },
      "text/plain": [
       "Epoch 579:   0%|          | 0/196 [00:00<?, ?it/s]"
      ]
     },
     "metadata": {},
     "output_type": "display_data"
    },
    {
     "data": {
      "application/vnd.jupyter.widget-view+json": {
       "model_id": "bf69afaa8ca94cf2a70b123eded1cf15",
       "version_major": 2,
       "version_minor": 0
      },
      "text/plain": [
       "Epoch 580:   0%|          | 0/196 [00:00<?, ?it/s]"
      ]
     },
     "metadata": {},
     "output_type": "display_data"
    },
    {
     "data": {
      "application/vnd.jupyter.widget-view+json": {
       "model_id": "7a4ecd955a764230ac471213f0da3f17",
       "version_major": 2,
       "version_minor": 0
      },
      "text/plain": [
       "Epoch 581:   0%|          | 0/196 [00:00<?, ?it/s]"
      ]
     },
     "metadata": {},
     "output_type": "display_data"
    },
    {
     "data": {
      "application/vnd.jupyter.widget-view+json": {
       "model_id": "8bbdff0cfae14253a19b147f6e6482ff",
       "version_major": 2,
       "version_minor": 0
      },
      "text/plain": [
       "Epoch 582:   0%|          | 0/196 [00:00<?, ?it/s]"
      ]
     },
     "metadata": {},
     "output_type": "display_data"
    },
    {
     "data": {
      "application/vnd.jupyter.widget-view+json": {
       "model_id": "e0ca0b17c3804727a64fe06e5ec35949",
       "version_major": 2,
       "version_minor": 0
      },
      "text/plain": [
       "Epoch 583:   0%|          | 0/196 [00:00<?, ?it/s]"
      ]
     },
     "metadata": {},
     "output_type": "display_data"
    },
    {
     "data": {
      "application/vnd.jupyter.widget-view+json": {
       "model_id": "518d475f08ef4d3e8cb7a3a4e74c1c78",
       "version_major": 2,
       "version_minor": 0
      },
      "text/plain": [
       "Epoch 584:   0%|          | 0/196 [00:00<?, ?it/s]"
      ]
     },
     "metadata": {},
     "output_type": "display_data"
    },
    {
     "data": {
      "application/vnd.jupyter.widget-view+json": {
       "model_id": "e7d60aaf0a354cbe9d11caeba1a399ec",
       "version_major": 2,
       "version_minor": 0
      },
      "text/plain": [
       "Epoch 585:   0%|          | 0/196 [00:00<?, ?it/s]"
      ]
     },
     "metadata": {},
     "output_type": "display_data"
    },
    {
     "data": {
      "application/vnd.jupyter.widget-view+json": {
       "model_id": "2658fb8f077d4af1b51cc2ef5a317eb5",
       "version_major": 2,
       "version_minor": 0
      },
      "text/plain": [
       "Epoch 586:   0%|          | 0/196 [00:00<?, ?it/s]"
      ]
     },
     "metadata": {},
     "output_type": "display_data"
    },
    {
     "data": {
      "application/vnd.jupyter.widget-view+json": {
       "model_id": "3f31b26c19e947bca2dc5eb82fa3fbb6",
       "version_major": 2,
       "version_minor": 0
      },
      "text/plain": [
       "Epoch 587:   0%|          | 0/196 [00:00<?, ?it/s]"
      ]
     },
     "metadata": {},
     "output_type": "display_data"
    },
    {
     "data": {
      "application/vnd.jupyter.widget-view+json": {
       "model_id": "5bdd5a58c37842b5800e68476b9544e6",
       "version_major": 2,
       "version_minor": 0
      },
      "text/plain": [
       "Epoch 588:   0%|          | 0/196 [00:00<?, ?it/s]"
      ]
     },
     "metadata": {},
     "output_type": "display_data"
    },
    {
     "data": {
      "application/vnd.jupyter.widget-view+json": {
       "model_id": "7deea88132dc440e96a1737948b70989",
       "version_major": 2,
       "version_minor": 0
      },
      "text/plain": [
       "Epoch 589:   0%|          | 0/196 [00:00<?, ?it/s]"
      ]
     },
     "metadata": {},
     "output_type": "display_data"
    },
    {
     "data": {
      "application/vnd.jupyter.widget-view+json": {
       "model_id": "08f9fe30ad1c4ae6b5fa002dd4613a43",
       "version_major": 2,
       "version_minor": 0
      },
      "text/plain": [
       "Epoch 590:   0%|          | 0/196 [00:00<?, ?it/s]"
      ]
     },
     "metadata": {},
     "output_type": "display_data"
    },
    {
     "data": {
      "application/vnd.jupyter.widget-view+json": {
       "model_id": "ba64a05cdf8a48de9dc3d56204c22b68",
       "version_major": 2,
       "version_minor": 0
      },
      "text/plain": [
       "Epoch 591:   0%|          | 0/196 [00:00<?, ?it/s]"
      ]
     },
     "metadata": {},
     "output_type": "display_data"
    },
    {
     "data": {
      "application/vnd.jupyter.widget-view+json": {
       "model_id": "0bba5020d26d40ee924845bce63b1a6f",
       "version_major": 2,
       "version_minor": 0
      },
      "text/plain": [
       "Epoch 592:   0%|          | 0/196 [00:00<?, ?it/s]"
      ]
     },
     "metadata": {},
     "output_type": "display_data"
    },
    {
     "data": {
      "application/vnd.jupyter.widget-view+json": {
       "model_id": "30ac02328cde4dc1b058147f984417a9",
       "version_major": 2,
       "version_minor": 0
      },
      "text/plain": [
       "Epoch 593:   0%|          | 0/196 [00:00<?, ?it/s]"
      ]
     },
     "metadata": {},
     "output_type": "display_data"
    },
    {
     "data": {
      "application/vnd.jupyter.widget-view+json": {
       "model_id": "0b4e01a14853437faed68e3c8d652ecb",
       "version_major": 2,
       "version_minor": 0
      },
      "text/plain": [
       "Epoch 594:   0%|          | 0/196 [00:00<?, ?it/s]"
      ]
     },
     "metadata": {},
     "output_type": "display_data"
    },
    {
     "data": {
      "application/vnd.jupyter.widget-view+json": {
       "model_id": "c6f3dd9a4df042069997bf43e3840ad6",
       "version_major": 2,
       "version_minor": 0
      },
      "text/plain": [
       "Epoch 595:   0%|          | 0/196 [00:00<?, ?it/s]"
      ]
     },
     "metadata": {},
     "output_type": "display_data"
    },
    {
     "data": {
      "application/vnd.jupyter.widget-view+json": {
       "model_id": "335105a0f99d4299a10d7242439bb7e8",
       "version_major": 2,
       "version_minor": 0
      },
      "text/plain": [
       "Epoch 596:   0%|          | 0/196 [00:00<?, ?it/s]"
      ]
     },
     "metadata": {},
     "output_type": "display_data"
    },
    {
     "data": {
      "application/vnd.jupyter.widget-view+json": {
       "model_id": "e770dad3bbf6425c8486d64889615158",
       "version_major": 2,
       "version_minor": 0
      },
      "text/plain": [
       "Epoch 597:   0%|          | 0/196 [00:00<?, ?it/s]"
      ]
     },
     "metadata": {},
     "output_type": "display_data"
    },
    {
     "data": {
      "application/vnd.jupyter.widget-view+json": {
       "model_id": "832c052ffcb64cc293a4ba4652a60b38",
       "version_major": 2,
       "version_minor": 0
      },
      "text/plain": [
       "Epoch 598:   0%|          | 0/196 [00:00<?, ?it/s]"
      ]
     },
     "metadata": {},
     "output_type": "display_data"
    },
    {
     "data": {
      "application/vnd.jupyter.widget-view+json": {
       "model_id": "9516e9b61b024a50b2a25ce838bcdeea",
       "version_major": 2,
       "version_minor": 0
      },
      "text/plain": [
       "Epoch 599:   0%|          | 0/196 [00:00<?, ?it/s]"
      ]
     },
     "metadata": {},
     "output_type": "display_data"
    },
    {
     "data": {
      "application/vnd.jupyter.widget-view+json": {
       "model_id": "4fdf3f3baaa84c0085e18caa8922c39e",
       "version_major": 2,
       "version_minor": 0
      },
      "text/plain": [
       "Epoch 600:   0%|          | 0/196 [00:00<?, ?it/s]"
      ]
     },
     "metadata": {},
     "output_type": "display_data"
    },
    {
     "data": {
      "application/vnd.jupyter.widget-view+json": {
       "model_id": "04571315fc6f4143a339f2d825b8fe6e",
       "version_major": 2,
       "version_minor": 0
      },
      "text/plain": [
       "Epoch 601:   0%|          | 0/196 [00:00<?, ?it/s]"
      ]
     },
     "metadata": {},
     "output_type": "display_data"
    },
    {
     "data": {
      "application/vnd.jupyter.widget-view+json": {
       "model_id": "54764a6ef05741aab74c0701527b0e4d",
       "version_major": 2,
       "version_minor": 0
      },
      "text/plain": [
       "Epoch 602:   0%|          | 0/196 [00:00<?, ?it/s]"
      ]
     },
     "metadata": {},
     "output_type": "display_data"
    },
    {
     "data": {
      "application/vnd.jupyter.widget-view+json": {
       "model_id": "4bf4bbb55cc343c68779fb478f4acfc3",
       "version_major": 2,
       "version_minor": 0
      },
      "text/plain": [
       "Epoch 603:   0%|          | 0/196 [00:00<?, ?it/s]"
      ]
     },
     "metadata": {},
     "output_type": "display_data"
    },
    {
     "data": {
      "application/vnd.jupyter.widget-view+json": {
       "model_id": "1634714a11f041489821f6e8b8bbfc25",
       "version_major": 2,
       "version_minor": 0
      },
      "text/plain": [
       "Epoch 604:   0%|          | 0/196 [00:00<?, ?it/s]"
      ]
     },
     "metadata": {},
     "output_type": "display_data"
    },
    {
     "data": {
      "application/vnd.jupyter.widget-view+json": {
       "model_id": "51ffa33f92e04495b6ea25e906619d8a",
       "version_major": 2,
       "version_minor": 0
      },
      "text/plain": [
       "Epoch 605:   0%|          | 0/196 [00:00<?, ?it/s]"
      ]
     },
     "metadata": {},
     "output_type": "display_data"
    },
    {
     "data": {
      "application/vnd.jupyter.widget-view+json": {
       "model_id": "9134443585824cb6b927ac1920f591c8",
       "version_major": 2,
       "version_minor": 0
      },
      "text/plain": [
       "Epoch 606:   0%|          | 0/196 [00:00<?, ?it/s]"
      ]
     },
     "metadata": {},
     "output_type": "display_data"
    },
    {
     "data": {
      "application/vnd.jupyter.widget-view+json": {
       "model_id": "d515f8d52995470984cf5618a0bf1ae2",
       "version_major": 2,
       "version_minor": 0
      },
      "text/plain": [
       "Epoch 607:   0%|          | 0/196 [00:00<?, ?it/s]"
      ]
     },
     "metadata": {},
     "output_type": "display_data"
    },
    {
     "data": {
      "application/vnd.jupyter.widget-view+json": {
       "model_id": "b84085bdf6944a76b829709952708fba",
       "version_major": 2,
       "version_minor": 0
      },
      "text/plain": [
       "Epoch 608:   0%|          | 0/196 [00:00<?, ?it/s]"
      ]
     },
     "metadata": {},
     "output_type": "display_data"
    },
    {
     "data": {
      "application/vnd.jupyter.widget-view+json": {
       "model_id": "01639c6fc1a04694ac7ad97deb68353c",
       "version_major": 2,
       "version_minor": 0
      },
      "text/plain": [
       "Epoch 609:   0%|          | 0/196 [00:00<?, ?it/s]"
      ]
     },
     "metadata": {},
     "output_type": "display_data"
    },
    {
     "data": {
      "application/vnd.jupyter.widget-view+json": {
       "model_id": "62a6bb50c0644a2381c73564997e5381",
       "version_major": 2,
       "version_minor": 0
      },
      "text/plain": [
       "Epoch 610:   0%|          | 0/196 [00:00<?, ?it/s]"
      ]
     },
     "metadata": {},
     "output_type": "display_data"
    },
    {
     "data": {
      "application/vnd.jupyter.widget-view+json": {
       "model_id": "caec26c84b124f48acc7d0906efc6c95",
       "version_major": 2,
       "version_minor": 0
      },
      "text/plain": [
       "Epoch 611:   0%|          | 0/196 [00:00<?, ?it/s]"
      ]
     },
     "metadata": {},
     "output_type": "display_data"
    },
    {
     "data": {
      "application/vnd.jupyter.widget-view+json": {
       "model_id": "9b192aa7f0834b618a8187cc5b39dbcb",
       "version_major": 2,
       "version_minor": 0
      },
      "text/plain": [
       "Epoch 612:   0%|          | 0/196 [00:00<?, ?it/s]"
      ]
     },
     "metadata": {},
     "output_type": "display_data"
    },
    {
     "data": {
      "application/vnd.jupyter.widget-view+json": {
       "model_id": "1ab683d88cc94a35804e498f5a8e1e94",
       "version_major": 2,
       "version_minor": 0
      },
      "text/plain": [
       "Epoch 613:   0%|          | 0/196 [00:00<?, ?it/s]"
      ]
     },
     "metadata": {},
     "output_type": "display_data"
    },
    {
     "data": {
      "application/vnd.jupyter.widget-view+json": {
       "model_id": "661fa354fc2a44b0ac8a1807726fcc8d",
       "version_major": 2,
       "version_minor": 0
      },
      "text/plain": [
       "Epoch 614:   0%|          | 0/196 [00:00<?, ?it/s]"
      ]
     },
     "metadata": {},
     "output_type": "display_data"
    },
    {
     "data": {
      "application/vnd.jupyter.widget-view+json": {
       "model_id": "340fb3d607a24220a8c851a97f381d94",
       "version_major": 2,
       "version_minor": 0
      },
      "text/plain": [
       "Epoch 615:   0%|          | 0/196 [00:00<?, ?it/s]"
      ]
     },
     "metadata": {},
     "output_type": "display_data"
    },
    {
     "data": {
      "application/vnd.jupyter.widget-view+json": {
       "model_id": "9f603c9f02d6454bb8b9f90d31fbdf5c",
       "version_major": 2,
       "version_minor": 0
      },
      "text/plain": [
       "Epoch 616:   0%|          | 0/196 [00:00<?, ?it/s]"
      ]
     },
     "metadata": {},
     "output_type": "display_data"
    },
    {
     "data": {
      "application/vnd.jupyter.widget-view+json": {
       "model_id": "efb81e118a3940b1b92455cd64885235",
       "version_major": 2,
       "version_minor": 0
      },
      "text/plain": [
       "Epoch 617:   0%|          | 0/196 [00:00<?, ?it/s]"
      ]
     },
     "metadata": {},
     "output_type": "display_data"
    },
    {
     "data": {
      "application/vnd.jupyter.widget-view+json": {
       "model_id": "2a4ef5d550d04fe8ada180a49acc632d",
       "version_major": 2,
       "version_minor": 0
      },
      "text/plain": [
       "Epoch 618:   0%|          | 0/196 [00:00<?, ?it/s]"
      ]
     },
     "metadata": {},
     "output_type": "display_data"
    },
    {
     "data": {
      "application/vnd.jupyter.widget-view+json": {
       "model_id": "6311254b61154fd4ba687a345b9f3049",
       "version_major": 2,
       "version_minor": 0
      },
      "text/plain": [
       "Epoch 619:   0%|          | 0/196 [00:00<?, ?it/s]"
      ]
     },
     "metadata": {},
     "output_type": "display_data"
    },
    {
     "data": {
      "application/vnd.jupyter.widget-view+json": {
       "model_id": "7cde86596a484d2fa3f000cba1d99e64",
       "version_major": 2,
       "version_minor": 0
      },
      "text/plain": [
       "Epoch 620:   0%|          | 0/196 [00:00<?, ?it/s]"
      ]
     },
     "metadata": {},
     "output_type": "display_data"
    },
    {
     "data": {
      "application/vnd.jupyter.widget-view+json": {
       "model_id": "2bde85b6ad394ab0b9e257cb07643512",
       "version_major": 2,
       "version_minor": 0
      },
      "text/plain": [
       "Epoch 621:   0%|          | 0/196 [00:00<?, ?it/s]"
      ]
     },
     "metadata": {},
     "output_type": "display_data"
    },
    {
     "data": {
      "application/vnd.jupyter.widget-view+json": {
       "model_id": "818015de2b3f418aaab3c8400e9e9529",
       "version_major": 2,
       "version_minor": 0
      },
      "text/plain": [
       "Epoch 622:   0%|          | 0/196 [00:00<?, ?it/s]"
      ]
     },
     "metadata": {},
     "output_type": "display_data"
    },
    {
     "data": {
      "application/vnd.jupyter.widget-view+json": {
       "model_id": "59b71362b03a4dcdacb89128791fd7df",
       "version_major": 2,
       "version_minor": 0
      },
      "text/plain": [
       "Epoch 623:   0%|          | 0/196 [00:00<?, ?it/s]"
      ]
     },
     "metadata": {},
     "output_type": "display_data"
    },
    {
     "data": {
      "application/vnd.jupyter.widget-view+json": {
       "model_id": "bdd12e163e584899bebb75056b12f72d",
       "version_major": 2,
       "version_minor": 0
      },
      "text/plain": [
       "Epoch 624:   0%|          | 0/196 [00:00<?, ?it/s]"
      ]
     },
     "metadata": {},
     "output_type": "display_data"
    },
    {
     "data": {
      "application/vnd.jupyter.widget-view+json": {
       "model_id": "d8495f7cb8c0460d8036df7a19e50fd0",
       "version_major": 2,
       "version_minor": 0
      },
      "text/plain": [
       "Epoch 625:   0%|          | 0/196 [00:00<?, ?it/s]"
      ]
     },
     "metadata": {},
     "output_type": "display_data"
    },
    {
     "data": {
      "application/vnd.jupyter.widget-view+json": {
       "model_id": "90816746cf8c416d9d9c6b0da52ddc95",
       "version_major": 2,
       "version_minor": 0
      },
      "text/plain": [
       "Epoch 626:   0%|          | 0/196 [00:00<?, ?it/s]"
      ]
     },
     "metadata": {},
     "output_type": "display_data"
    },
    {
     "data": {
      "application/vnd.jupyter.widget-view+json": {
       "model_id": "4bde358155fb464490df96223c644bc5",
       "version_major": 2,
       "version_minor": 0
      },
      "text/plain": [
       "Epoch 627:   0%|          | 0/196 [00:00<?, ?it/s]"
      ]
     },
     "metadata": {},
     "output_type": "display_data"
    },
    {
     "data": {
      "application/vnd.jupyter.widget-view+json": {
       "model_id": "9971193f2a894522b49ab27507b530db",
       "version_major": 2,
       "version_minor": 0
      },
      "text/plain": [
       "Epoch 628:   0%|          | 0/196 [00:00<?, ?it/s]"
      ]
     },
     "metadata": {},
     "output_type": "display_data"
    },
    {
     "data": {
      "application/vnd.jupyter.widget-view+json": {
       "model_id": "bc278ea606da499caf58bcca1f472d2c",
       "version_major": 2,
       "version_minor": 0
      },
      "text/plain": [
       "Epoch 629:   0%|          | 0/196 [00:00<?, ?it/s]"
      ]
     },
     "metadata": {},
     "output_type": "display_data"
    },
    {
     "data": {
      "application/vnd.jupyter.widget-view+json": {
       "model_id": "13756842ee754ae0972c62cc45ee16e6",
       "version_major": 2,
       "version_minor": 0
      },
      "text/plain": [
       "Epoch 630:   0%|          | 0/196 [00:00<?, ?it/s]"
      ]
     },
     "metadata": {},
     "output_type": "display_data"
    },
    {
     "data": {
      "application/vnd.jupyter.widget-view+json": {
       "model_id": "7b6fc9df187646ee8437e341833a238c",
       "version_major": 2,
       "version_minor": 0
      },
      "text/plain": [
       "Epoch 631:   0%|          | 0/196 [00:00<?, ?it/s]"
      ]
     },
     "metadata": {},
     "output_type": "display_data"
    },
    {
     "data": {
      "application/vnd.jupyter.widget-view+json": {
       "model_id": "5829f10e889c43eca9dd8c8ee75af573",
       "version_major": 2,
       "version_minor": 0
      },
      "text/plain": [
       "Epoch 632:   0%|          | 0/196 [00:00<?, ?it/s]"
      ]
     },
     "metadata": {},
     "output_type": "display_data"
    },
    {
     "data": {
      "application/vnd.jupyter.widget-view+json": {
       "model_id": "b76da20b2df24b14bd902349edc2d854",
       "version_major": 2,
       "version_minor": 0
      },
      "text/plain": [
       "Epoch 633:   0%|          | 0/196 [00:00<?, ?it/s]"
      ]
     },
     "metadata": {},
     "output_type": "display_data"
    },
    {
     "data": {
      "application/vnd.jupyter.widget-view+json": {
       "model_id": "b0fc68c2b5a94f038343571be2f0ae70",
       "version_major": 2,
       "version_minor": 0
      },
      "text/plain": [
       "Epoch 634:   0%|          | 0/196 [00:00<?, ?it/s]"
      ]
     },
     "metadata": {},
     "output_type": "display_data"
    },
    {
     "data": {
      "application/vnd.jupyter.widget-view+json": {
       "model_id": "1d4c9fc2777c4d7193448af30dbcbcc4",
       "version_major": 2,
       "version_minor": 0
      },
      "text/plain": [
       "Epoch 635:   0%|          | 0/196 [00:00<?, ?it/s]"
      ]
     },
     "metadata": {},
     "output_type": "display_data"
    },
    {
     "data": {
      "application/vnd.jupyter.widget-view+json": {
       "model_id": "59e15c594a0442c6be06a242875d9719",
       "version_major": 2,
       "version_minor": 0
      },
      "text/plain": [
       "Epoch 636:   0%|          | 0/196 [00:00<?, ?it/s]"
      ]
     },
     "metadata": {},
     "output_type": "display_data"
    },
    {
     "data": {
      "application/vnd.jupyter.widget-view+json": {
       "model_id": "11677a271d894eb2ad6604efb278c196",
       "version_major": 2,
       "version_minor": 0
      },
      "text/plain": [
       "Epoch 637:   0%|          | 0/196 [00:00<?, ?it/s]"
      ]
     },
     "metadata": {},
     "output_type": "display_data"
    },
    {
     "data": {
      "application/vnd.jupyter.widget-view+json": {
       "model_id": "4f9bf7f1512a4367bbea316da3b8a91b",
       "version_major": 2,
       "version_minor": 0
      },
      "text/plain": [
       "Epoch 638:   0%|          | 0/196 [00:00<?, ?it/s]"
      ]
     },
     "metadata": {},
     "output_type": "display_data"
    },
    {
     "data": {
      "application/vnd.jupyter.widget-view+json": {
       "model_id": "bc612efaa29e4acdb176738da08e688e",
       "version_major": 2,
       "version_minor": 0
      },
      "text/plain": [
       "Epoch 639:   0%|          | 0/196 [00:00<?, ?it/s]"
      ]
     },
     "metadata": {},
     "output_type": "display_data"
    },
    {
     "data": {
      "application/vnd.jupyter.widget-view+json": {
       "model_id": "fdf501e4428f433884240684089502c7",
       "version_major": 2,
       "version_minor": 0
      },
      "text/plain": [
       "Epoch 640:   0%|          | 0/196 [00:00<?, ?it/s]"
      ]
     },
     "metadata": {},
     "output_type": "display_data"
    },
    {
     "data": {
      "application/vnd.jupyter.widget-view+json": {
       "model_id": "18c31db69d924485b0bf3953f17fbe8f",
       "version_major": 2,
       "version_minor": 0
      },
      "text/plain": [
       "Epoch 641:   0%|          | 0/196 [00:00<?, ?it/s]"
      ]
     },
     "metadata": {},
     "output_type": "display_data"
    },
    {
     "data": {
      "application/vnd.jupyter.widget-view+json": {
       "model_id": "79b116c9bc194e9a9cd0d99a2ece0469",
       "version_major": 2,
       "version_minor": 0
      },
      "text/plain": [
       "Epoch 642:   0%|          | 0/196 [00:00<?, ?it/s]"
      ]
     },
     "metadata": {},
     "output_type": "display_data"
    },
    {
     "data": {
      "application/vnd.jupyter.widget-view+json": {
       "model_id": "cbd892b9b90b40fdb3c7a5c2c7a39b25",
       "version_major": 2,
       "version_minor": 0
      },
      "text/plain": [
       "Epoch 643:   0%|          | 0/196 [00:00<?, ?it/s]"
      ]
     },
     "metadata": {},
     "output_type": "display_data"
    },
    {
     "data": {
      "application/vnd.jupyter.widget-view+json": {
       "model_id": "5bfb584a47cf419883b49917557f76fe",
       "version_major": 2,
       "version_minor": 0
      },
      "text/plain": [
       "Epoch 644:   0%|          | 0/196 [00:00<?, ?it/s]"
      ]
     },
     "metadata": {},
     "output_type": "display_data"
    },
    {
     "data": {
      "application/vnd.jupyter.widget-view+json": {
       "model_id": "c82df82c4af54cf6b6ad5cda69050986",
       "version_major": 2,
       "version_minor": 0
      },
      "text/plain": [
       "Epoch 645:   0%|          | 0/196 [00:00<?, ?it/s]"
      ]
     },
     "metadata": {},
     "output_type": "display_data"
    },
    {
     "data": {
      "application/vnd.jupyter.widget-view+json": {
       "model_id": "405caf80aa3641e496d832b7ab32147b",
       "version_major": 2,
       "version_minor": 0
      },
      "text/plain": [
       "Epoch 646:   0%|          | 0/196 [00:00<?, ?it/s]"
      ]
     },
     "metadata": {},
     "output_type": "display_data"
    },
    {
     "data": {
      "application/vnd.jupyter.widget-view+json": {
       "model_id": "7a14911a7ba44e419cc98f45041f435f",
       "version_major": 2,
       "version_minor": 0
      },
      "text/plain": [
       "Epoch 647:   0%|          | 0/196 [00:00<?, ?it/s]"
      ]
     },
     "metadata": {},
     "output_type": "display_data"
    },
    {
     "data": {
      "application/vnd.jupyter.widget-view+json": {
       "model_id": "74ddbf6c1bb94fa49dfd086b768c52da",
       "version_major": 2,
       "version_minor": 0
      },
      "text/plain": [
       "Epoch 648:   0%|          | 0/196 [00:00<?, ?it/s]"
      ]
     },
     "metadata": {},
     "output_type": "display_data"
    },
    {
     "data": {
      "application/vnd.jupyter.widget-view+json": {
       "model_id": "c569f23b867e46f3b2c38598abd7eb4f",
       "version_major": 2,
       "version_minor": 0
      },
      "text/plain": [
       "Epoch 649:   0%|          | 0/196 [00:00<?, ?it/s]"
      ]
     },
     "metadata": {},
     "output_type": "display_data"
    },
    {
     "data": {
      "application/vnd.jupyter.widget-view+json": {
       "model_id": "15046b2d5ed84c5d8f4e474160569bce",
       "version_major": 2,
       "version_minor": 0
      },
      "text/plain": [
       "Epoch 650:   0%|          | 0/196 [00:00<?, ?it/s]"
      ]
     },
     "metadata": {},
     "output_type": "display_data"
    },
    {
     "data": {
      "application/vnd.jupyter.widget-view+json": {
       "model_id": "6f00e93ec19f4dd0a0e58cbc767642ab",
       "version_major": 2,
       "version_minor": 0
      },
      "text/plain": [
       "Epoch 651:   0%|          | 0/196 [00:00<?, ?it/s]"
      ]
     },
     "metadata": {},
     "output_type": "display_data"
    },
    {
     "data": {
      "application/vnd.jupyter.widget-view+json": {
       "model_id": "58c8969b2d2b4e7fbed485d22dc2aa8f",
       "version_major": 2,
       "version_minor": 0
      },
      "text/plain": [
       "Epoch 652:   0%|          | 0/196 [00:00<?, ?it/s]"
      ]
     },
     "metadata": {},
     "output_type": "display_data"
    },
    {
     "data": {
      "application/vnd.jupyter.widget-view+json": {
       "model_id": "19b30313fb244a7d8605f12c7c3d39b0",
       "version_major": 2,
       "version_minor": 0
      },
      "text/plain": [
       "Epoch 653:   0%|          | 0/196 [00:00<?, ?it/s]"
      ]
     },
     "metadata": {},
     "output_type": "display_data"
    },
    {
     "data": {
      "application/vnd.jupyter.widget-view+json": {
       "model_id": "8e8c947c0cae4651b92fce5d1cc7f4aa",
       "version_major": 2,
       "version_minor": 0
      },
      "text/plain": [
       "Epoch 654:   0%|          | 0/196 [00:00<?, ?it/s]"
      ]
     },
     "metadata": {},
     "output_type": "display_data"
    },
    {
     "data": {
      "application/vnd.jupyter.widget-view+json": {
       "model_id": "45f83a4399294ae8a8e16f4f2827ac59",
       "version_major": 2,
       "version_minor": 0
      },
      "text/plain": [
       "Epoch 655:   0%|          | 0/196 [00:00<?, ?it/s]"
      ]
     },
     "metadata": {},
     "output_type": "display_data"
    },
    {
     "data": {
      "application/vnd.jupyter.widget-view+json": {
       "model_id": "a9ce04009490406d93fc179f08a3f1a2",
       "version_major": 2,
       "version_minor": 0
      },
      "text/plain": [
       "Epoch 656:   0%|          | 0/196 [00:00<?, ?it/s]"
      ]
     },
     "metadata": {},
     "output_type": "display_data"
    },
    {
     "data": {
      "application/vnd.jupyter.widget-view+json": {
       "model_id": "9614908242ba4b438f61f267b8fb845a",
       "version_major": 2,
       "version_minor": 0
      },
      "text/plain": [
       "Epoch 657:   0%|          | 0/196 [00:00<?, ?it/s]"
      ]
     },
     "metadata": {},
     "output_type": "display_data"
    },
    {
     "data": {
      "application/vnd.jupyter.widget-view+json": {
       "model_id": "0626fb46a8994b3b85b359869576b147",
       "version_major": 2,
       "version_minor": 0
      },
      "text/plain": [
       "Epoch 658:   0%|          | 0/196 [00:00<?, ?it/s]"
      ]
     },
     "metadata": {},
     "output_type": "display_data"
    },
    {
     "data": {
      "application/vnd.jupyter.widget-view+json": {
       "model_id": "21f8aeafaee24411aa20e771ec208ddd",
       "version_major": 2,
       "version_minor": 0
      },
      "text/plain": [
       "Epoch 659:   0%|          | 0/196 [00:00<?, ?it/s]"
      ]
     },
     "metadata": {},
     "output_type": "display_data"
    },
    {
     "data": {
      "application/vnd.jupyter.widget-view+json": {
       "model_id": "055a261c029f4c3ea38a6542c4f5378f",
       "version_major": 2,
       "version_minor": 0
      },
      "text/plain": [
       "Epoch 660:   0%|          | 0/196 [00:00<?, ?it/s]"
      ]
     },
     "metadata": {},
     "output_type": "display_data"
    },
    {
     "data": {
      "application/vnd.jupyter.widget-view+json": {
       "model_id": "404299d67d954e4ea061f1921ddfc299",
       "version_major": 2,
       "version_minor": 0
      },
      "text/plain": [
       "Epoch 661:   0%|          | 0/196 [00:00<?, ?it/s]"
      ]
     },
     "metadata": {},
     "output_type": "display_data"
    },
    {
     "data": {
      "application/vnd.jupyter.widget-view+json": {
       "model_id": "9b5f085bb7c5442f95a5d6e4d400a100",
       "version_major": 2,
       "version_minor": 0
      },
      "text/plain": [
       "Epoch 662:   0%|          | 0/196 [00:00<?, ?it/s]"
      ]
     },
     "metadata": {},
     "output_type": "display_data"
    },
    {
     "data": {
      "application/vnd.jupyter.widget-view+json": {
       "model_id": "9a699258ecf244108da74f191d15fa03",
       "version_major": 2,
       "version_minor": 0
      },
      "text/plain": [
       "Epoch 663:   0%|          | 0/196 [00:00<?, ?it/s]"
      ]
     },
     "metadata": {},
     "output_type": "display_data"
    },
    {
     "data": {
      "application/vnd.jupyter.widget-view+json": {
       "model_id": "18c6b8d36d3744c994debf2ff69abb13",
       "version_major": 2,
       "version_minor": 0
      },
      "text/plain": [
       "Epoch 664:   0%|          | 0/196 [00:00<?, ?it/s]"
      ]
     },
     "metadata": {},
     "output_type": "display_data"
    },
    {
     "data": {
      "application/vnd.jupyter.widget-view+json": {
       "model_id": "69df380b3f704285a2ea41cc20debcab",
       "version_major": 2,
       "version_minor": 0
      },
      "text/plain": [
       "Epoch 665:   0%|          | 0/196 [00:00<?, ?it/s]"
      ]
     },
     "metadata": {},
     "output_type": "display_data"
    },
    {
     "data": {
      "application/vnd.jupyter.widget-view+json": {
       "model_id": "36bcb6e0932b44648f416f00f15a7dc0",
       "version_major": 2,
       "version_minor": 0
      },
      "text/plain": [
       "Epoch 666:   0%|          | 0/196 [00:00<?, ?it/s]"
      ]
     },
     "metadata": {},
     "output_type": "display_data"
    },
    {
     "data": {
      "application/vnd.jupyter.widget-view+json": {
       "model_id": "b2e4c25911144b23826599eacc76929c",
       "version_major": 2,
       "version_minor": 0
      },
      "text/plain": [
       "Epoch 667:   0%|          | 0/196 [00:00<?, ?it/s]"
      ]
     },
     "metadata": {},
     "output_type": "display_data"
    },
    {
     "data": {
      "application/vnd.jupyter.widget-view+json": {
       "model_id": "26a9da1561e24086a7b5b31cc139d4ae",
       "version_major": 2,
       "version_minor": 0
      },
      "text/plain": [
       "Epoch 668:   0%|          | 0/196 [00:00<?, ?it/s]"
      ]
     },
     "metadata": {},
     "output_type": "display_data"
    },
    {
     "data": {
      "application/vnd.jupyter.widget-view+json": {
       "model_id": "adc261f328f6471a98572b69a21b5e00",
       "version_major": 2,
       "version_minor": 0
      },
      "text/plain": [
       "Epoch 669:   0%|          | 0/196 [00:00<?, ?it/s]"
      ]
     },
     "metadata": {},
     "output_type": "display_data"
    },
    {
     "data": {
      "application/vnd.jupyter.widget-view+json": {
       "model_id": "987530e62fdc4e0ea1865d01d1d35a5e",
       "version_major": 2,
       "version_minor": 0
      },
      "text/plain": [
       "Epoch 670:   0%|          | 0/196 [00:00<?, ?it/s]"
      ]
     },
     "metadata": {},
     "output_type": "display_data"
    },
    {
     "data": {
      "application/vnd.jupyter.widget-view+json": {
       "model_id": "62b94b6e240148cc9efd5d0462666a90",
       "version_major": 2,
       "version_minor": 0
      },
      "text/plain": [
       "Epoch 671:   0%|          | 0/196 [00:00<?, ?it/s]"
      ]
     },
     "metadata": {},
     "output_type": "display_data"
    },
    {
     "data": {
      "application/vnd.jupyter.widget-view+json": {
       "model_id": "7c20aff0aa3d402584d5dca448b2770d",
       "version_major": 2,
       "version_minor": 0
      },
      "text/plain": [
       "Epoch 672:   0%|          | 0/196 [00:00<?, ?it/s]"
      ]
     },
     "metadata": {},
     "output_type": "display_data"
    },
    {
     "data": {
      "application/vnd.jupyter.widget-view+json": {
       "model_id": "16e1a3efeedf417a99083a5f29b49628",
       "version_major": 2,
       "version_minor": 0
      },
      "text/plain": [
       "Epoch 673:   0%|          | 0/196 [00:00<?, ?it/s]"
      ]
     },
     "metadata": {},
     "output_type": "display_data"
    },
    {
     "data": {
      "application/vnd.jupyter.widget-view+json": {
       "model_id": "86980294edf64de3adf2202903a1f9fd",
       "version_major": 2,
       "version_minor": 0
      },
      "text/plain": [
       "Epoch 674:   0%|          | 0/196 [00:00<?, ?it/s]"
      ]
     },
     "metadata": {},
     "output_type": "display_data"
    },
    {
     "data": {
      "application/vnd.jupyter.widget-view+json": {
       "model_id": "d5bc38bc6d5040479706e0f85983f275",
       "version_major": 2,
       "version_minor": 0
      },
      "text/plain": [
       "Epoch 675:   0%|          | 0/196 [00:00<?, ?it/s]"
      ]
     },
     "metadata": {},
     "output_type": "display_data"
    },
    {
     "data": {
      "application/vnd.jupyter.widget-view+json": {
       "model_id": "b16b0e066d5d43b3a2af7ce74f9ff7ed",
       "version_major": 2,
       "version_minor": 0
      },
      "text/plain": [
       "Epoch 676:   0%|          | 0/196 [00:00<?, ?it/s]"
      ]
     },
     "metadata": {},
     "output_type": "display_data"
    },
    {
     "data": {
      "application/vnd.jupyter.widget-view+json": {
       "model_id": "19c592c60d1547cd964165e73e797300",
       "version_major": 2,
       "version_minor": 0
      },
      "text/plain": [
       "Epoch 677:   0%|          | 0/196 [00:00<?, ?it/s]"
      ]
     },
     "metadata": {},
     "output_type": "display_data"
    },
    {
     "data": {
      "application/vnd.jupyter.widget-view+json": {
       "model_id": "b790e5ccecb64b0fba673c19a6d06286",
       "version_major": 2,
       "version_minor": 0
      },
      "text/plain": [
       "Epoch 678:   0%|          | 0/196 [00:00<?, ?it/s]"
      ]
     },
     "metadata": {},
     "output_type": "display_data"
    },
    {
     "data": {
      "application/vnd.jupyter.widget-view+json": {
       "model_id": "1ea65f3709074b26a16b2978b70b030c",
       "version_major": 2,
       "version_minor": 0
      },
      "text/plain": [
       "Epoch 679:   0%|          | 0/196 [00:00<?, ?it/s]"
      ]
     },
     "metadata": {},
     "output_type": "display_data"
    },
    {
     "data": {
      "application/vnd.jupyter.widget-view+json": {
       "model_id": "82bac65f7f324b91998f9addcfc0250f",
       "version_major": 2,
       "version_minor": 0
      },
      "text/plain": [
       "Epoch 680:   0%|          | 0/196 [00:00<?, ?it/s]"
      ]
     },
     "metadata": {},
     "output_type": "display_data"
    },
    {
     "data": {
      "application/vnd.jupyter.widget-view+json": {
       "model_id": "a2df8bf8aa1447f792da3caae3693bc7",
       "version_major": 2,
       "version_minor": 0
      },
      "text/plain": [
       "Epoch 681:   0%|          | 0/196 [00:00<?, ?it/s]"
      ]
     },
     "metadata": {},
     "output_type": "display_data"
    },
    {
     "data": {
      "application/vnd.jupyter.widget-view+json": {
       "model_id": "134530479c0e487e804c338343ba9628",
       "version_major": 2,
       "version_minor": 0
      },
      "text/plain": [
       "Epoch 682:   0%|          | 0/196 [00:00<?, ?it/s]"
      ]
     },
     "metadata": {},
     "output_type": "display_data"
    },
    {
     "data": {
      "application/vnd.jupyter.widget-view+json": {
       "model_id": "cd23e95adb7f4a70832db569765b9c71",
       "version_major": 2,
       "version_minor": 0
      },
      "text/plain": [
       "Epoch 683:   0%|          | 0/196 [00:00<?, ?it/s]"
      ]
     },
     "metadata": {},
     "output_type": "display_data"
    },
    {
     "data": {
      "application/vnd.jupyter.widget-view+json": {
       "model_id": "ce19338e95c449649b5efb4244c144ce",
       "version_major": 2,
       "version_minor": 0
      },
      "text/plain": [
       "Epoch 684:   0%|          | 0/196 [00:00<?, ?it/s]"
      ]
     },
     "metadata": {},
     "output_type": "display_data"
    },
    {
     "data": {
      "application/vnd.jupyter.widget-view+json": {
       "model_id": "1c17d481b4dc4dd6ad1c8552c32b9e53",
       "version_major": 2,
       "version_minor": 0
      },
      "text/plain": [
       "Epoch 685:   0%|          | 0/196 [00:00<?, ?it/s]"
      ]
     },
     "metadata": {},
     "output_type": "display_data"
    },
    {
     "data": {
      "application/vnd.jupyter.widget-view+json": {
       "model_id": "3256f5abd168400690418532eb69ab47",
       "version_major": 2,
       "version_minor": 0
      },
      "text/plain": [
       "Epoch 686:   0%|          | 0/196 [00:00<?, ?it/s]"
      ]
     },
     "metadata": {},
     "output_type": "display_data"
    },
    {
     "data": {
      "application/vnd.jupyter.widget-view+json": {
       "model_id": "1860d59d86de4b03b3e0015daf0a3ca4",
       "version_major": 2,
       "version_minor": 0
      },
      "text/plain": [
       "Epoch 687:   0%|          | 0/196 [00:00<?, ?it/s]"
      ]
     },
     "metadata": {},
     "output_type": "display_data"
    },
    {
     "data": {
      "application/vnd.jupyter.widget-view+json": {
       "model_id": "43d79b662db44abf9051d1f5c59f8f25",
       "version_major": 2,
       "version_minor": 0
      },
      "text/plain": [
       "Epoch 688:   0%|          | 0/196 [00:00<?, ?it/s]"
      ]
     },
     "metadata": {},
     "output_type": "display_data"
    },
    {
     "data": {
      "application/vnd.jupyter.widget-view+json": {
       "model_id": "2b116f502a784e1c9664c7dbe8ee79ad",
       "version_major": 2,
       "version_minor": 0
      },
      "text/plain": [
       "Epoch 689:   0%|          | 0/196 [00:00<?, ?it/s]"
      ]
     },
     "metadata": {},
     "output_type": "display_data"
    },
    {
     "data": {
      "application/vnd.jupyter.widget-view+json": {
       "model_id": "808c50615b81434b8af83729ee003472",
       "version_major": 2,
       "version_minor": 0
      },
      "text/plain": [
       "Epoch 690:   0%|          | 0/196 [00:00<?, ?it/s]"
      ]
     },
     "metadata": {},
     "output_type": "display_data"
    },
    {
     "data": {
      "application/vnd.jupyter.widget-view+json": {
       "model_id": "76fce0156b8d45e6a3287649003e1236",
       "version_major": 2,
       "version_minor": 0
      },
      "text/plain": [
       "Epoch 691:   0%|          | 0/196 [00:00<?, ?it/s]"
      ]
     },
     "metadata": {},
     "output_type": "display_data"
    },
    {
     "data": {
      "application/vnd.jupyter.widget-view+json": {
       "model_id": "abd78980f63c4805a5a16f152c0d2432",
       "version_major": 2,
       "version_minor": 0
      },
      "text/plain": [
       "Epoch 692:   0%|          | 0/196 [00:00<?, ?it/s]"
      ]
     },
     "metadata": {},
     "output_type": "display_data"
    },
    {
     "data": {
      "application/vnd.jupyter.widget-view+json": {
       "model_id": "32ea855ec2544cdfbf9912df0281639a",
       "version_major": 2,
       "version_minor": 0
      },
      "text/plain": [
       "Epoch 693:   0%|          | 0/196 [00:00<?, ?it/s]"
      ]
     },
     "metadata": {},
     "output_type": "display_data"
    },
    {
     "data": {
      "application/vnd.jupyter.widget-view+json": {
       "model_id": "64a5980236344ec0809181e181573a7d",
       "version_major": 2,
       "version_minor": 0
      },
      "text/plain": [
       "Epoch 694:   0%|          | 0/196 [00:00<?, ?it/s]"
      ]
     },
     "metadata": {},
     "output_type": "display_data"
    },
    {
     "data": {
      "application/vnd.jupyter.widget-view+json": {
       "model_id": "d1c6c6896dad43ad9a67d6a2a63e262b",
       "version_major": 2,
       "version_minor": 0
      },
      "text/plain": [
       "Epoch 695:   0%|          | 0/196 [00:00<?, ?it/s]"
      ]
     },
     "metadata": {},
     "output_type": "display_data"
    },
    {
     "data": {
      "application/vnd.jupyter.widget-view+json": {
       "model_id": "71114afbf60c421a9684bcdee6320472",
       "version_major": 2,
       "version_minor": 0
      },
      "text/plain": [
       "Epoch 696:   0%|          | 0/196 [00:00<?, ?it/s]"
      ]
     },
     "metadata": {},
     "output_type": "display_data"
    },
    {
     "data": {
      "application/vnd.jupyter.widget-view+json": {
       "model_id": "1fe98ebde96b4ee9bbc840226ce7f9c5",
       "version_major": 2,
       "version_minor": 0
      },
      "text/plain": [
       "Epoch 697:   0%|          | 0/196 [00:00<?, ?it/s]"
      ]
     },
     "metadata": {},
     "output_type": "display_data"
    },
    {
     "data": {
      "application/vnd.jupyter.widget-view+json": {
       "model_id": "c065c19f5f5240d8b08416c8c584af57",
       "version_major": 2,
       "version_minor": 0
      },
      "text/plain": [
       "Epoch 698:   0%|          | 0/196 [00:00<?, ?it/s]"
      ]
     },
     "metadata": {},
     "output_type": "display_data"
    },
    {
     "data": {
      "application/vnd.jupyter.widget-view+json": {
       "model_id": "211bf13760cd401c923dc902e8409f54",
       "version_major": 2,
       "version_minor": 0
      },
      "text/plain": [
       "Epoch 699:   0%|          | 0/196 [00:00<?, ?it/s]"
      ]
     },
     "metadata": {},
     "output_type": "display_data"
    },
    {
     "data": {
      "application/vnd.jupyter.widget-view+json": {
       "model_id": "eb78aa2a9f804d238a5a9854af63801b",
       "version_major": 2,
       "version_minor": 0
      },
      "text/plain": [
       "Epoch 700:   0%|          | 0/196 [00:00<?, ?it/s]"
      ]
     },
     "metadata": {},
     "output_type": "display_data"
    },
    {
     "data": {
      "application/vnd.jupyter.widget-view+json": {
       "model_id": "b4ce383125894480871947caa33cafac",
       "version_major": 2,
       "version_minor": 0
      },
      "text/plain": [
       "Epoch 701:   0%|          | 0/196 [00:00<?, ?it/s]"
      ]
     },
     "metadata": {},
     "output_type": "display_data"
    },
    {
     "data": {
      "application/vnd.jupyter.widget-view+json": {
       "model_id": "7dbdb0430f9d437c8e656645711794fd",
       "version_major": 2,
       "version_minor": 0
      },
      "text/plain": [
       "Epoch 702:   0%|          | 0/196 [00:00<?, ?it/s]"
      ]
     },
     "metadata": {},
     "output_type": "display_data"
    },
    {
     "data": {
      "application/vnd.jupyter.widget-view+json": {
       "model_id": "f8b880de89eb4079abc495d9950d4e86",
       "version_major": 2,
       "version_minor": 0
      },
      "text/plain": [
       "Epoch 703:   0%|          | 0/196 [00:00<?, ?it/s]"
      ]
     },
     "metadata": {},
     "output_type": "display_data"
    },
    {
     "data": {
      "application/vnd.jupyter.widget-view+json": {
       "model_id": "5d1cb57ec95a440aaa0b89287c216557",
       "version_major": 2,
       "version_minor": 0
      },
      "text/plain": [
       "Epoch 704:   0%|          | 0/196 [00:00<?, ?it/s]"
      ]
     },
     "metadata": {},
     "output_type": "display_data"
    },
    {
     "data": {
      "application/vnd.jupyter.widget-view+json": {
       "model_id": "32a7c93926a841b787980ef75b31ce5d",
       "version_major": 2,
       "version_minor": 0
      },
      "text/plain": [
       "Epoch 705:   0%|          | 0/196 [00:00<?, ?it/s]"
      ]
     },
     "metadata": {},
     "output_type": "display_data"
    },
    {
     "data": {
      "application/vnd.jupyter.widget-view+json": {
       "model_id": "506f38ee6254429eb1963d19658324c0",
       "version_major": 2,
       "version_minor": 0
      },
      "text/plain": [
       "Epoch 706:   0%|          | 0/196 [00:00<?, ?it/s]"
      ]
     },
     "metadata": {},
     "output_type": "display_data"
    },
    {
     "data": {
      "application/vnd.jupyter.widget-view+json": {
       "model_id": "5840924c5e6747b6a6fe2eb7cb56f9f6",
       "version_major": 2,
       "version_minor": 0
      },
      "text/plain": [
       "Epoch 707:   0%|          | 0/196 [00:00<?, ?it/s]"
      ]
     },
     "metadata": {},
     "output_type": "display_data"
    },
    {
     "data": {
      "application/vnd.jupyter.widget-view+json": {
       "model_id": "fe3d373dd108478ebeba32a58d45a16d",
       "version_major": 2,
       "version_minor": 0
      },
      "text/plain": [
       "Epoch 708:   0%|          | 0/196 [00:00<?, ?it/s]"
      ]
     },
     "metadata": {},
     "output_type": "display_data"
    },
    {
     "data": {
      "application/vnd.jupyter.widget-view+json": {
       "model_id": "211b73b789984d08b3dd102d83f1ac95",
       "version_major": 2,
       "version_minor": 0
      },
      "text/plain": [
       "Epoch 709:   0%|          | 0/196 [00:00<?, ?it/s]"
      ]
     },
     "metadata": {},
     "output_type": "display_data"
    },
    {
     "data": {
      "application/vnd.jupyter.widget-view+json": {
       "model_id": "22a4d66cfc3240a1be25e62dfaa5e02d",
       "version_major": 2,
       "version_minor": 0
      },
      "text/plain": [
       "Epoch 710:   0%|          | 0/196 [00:00<?, ?it/s]"
      ]
     },
     "metadata": {},
     "output_type": "display_data"
    },
    {
     "data": {
      "application/vnd.jupyter.widget-view+json": {
       "model_id": "dde4d71cd5a04960893686e2b0582964",
       "version_major": 2,
       "version_minor": 0
      },
      "text/plain": [
       "Epoch 711:   0%|          | 0/196 [00:00<?, ?it/s]"
      ]
     },
     "metadata": {},
     "output_type": "display_data"
    },
    {
     "data": {
      "application/vnd.jupyter.widget-view+json": {
       "model_id": "e5ff25f1202a4c149dd280500b6e7c3d",
       "version_major": 2,
       "version_minor": 0
      },
      "text/plain": [
       "Epoch 712:   0%|          | 0/196 [00:00<?, ?it/s]"
      ]
     },
     "metadata": {},
     "output_type": "display_data"
    },
    {
     "data": {
      "application/vnd.jupyter.widget-view+json": {
       "model_id": "c0f1ca5b264e4aa18916c391d00f4009",
       "version_major": 2,
       "version_minor": 0
      },
      "text/plain": [
       "Epoch 713:   0%|          | 0/196 [00:00<?, ?it/s]"
      ]
     },
     "metadata": {},
     "output_type": "display_data"
    },
    {
     "data": {
      "application/vnd.jupyter.widget-view+json": {
       "model_id": "f33a78e446884831857745bc754a2e1d",
       "version_major": 2,
       "version_minor": 0
      },
      "text/plain": [
       "Epoch 714:   0%|          | 0/196 [00:00<?, ?it/s]"
      ]
     },
     "metadata": {},
     "output_type": "display_data"
    },
    {
     "data": {
      "application/vnd.jupyter.widget-view+json": {
       "model_id": "57ad3cc01ad04e91b565ed5c8c59aca9",
       "version_major": 2,
       "version_minor": 0
      },
      "text/plain": [
       "Epoch 715:   0%|          | 0/196 [00:00<?, ?it/s]"
      ]
     },
     "metadata": {},
     "output_type": "display_data"
    },
    {
     "data": {
      "application/vnd.jupyter.widget-view+json": {
       "model_id": "a9715a0a91ab4ca19f9a98c106c6c7c6",
       "version_major": 2,
       "version_minor": 0
      },
      "text/plain": [
       "Epoch 716:   0%|          | 0/196 [00:00<?, ?it/s]"
      ]
     },
     "metadata": {},
     "output_type": "display_data"
    },
    {
     "data": {
      "application/vnd.jupyter.widget-view+json": {
       "model_id": "d8a85751c7bf48e792d5e83a116b2374",
       "version_major": 2,
       "version_minor": 0
      },
      "text/plain": [
       "Epoch 717:   0%|          | 0/196 [00:00<?, ?it/s]"
      ]
     },
     "metadata": {},
     "output_type": "display_data"
    },
    {
     "data": {
      "application/vnd.jupyter.widget-view+json": {
       "model_id": "4a53ec8ccd044e0d8bdbf2c868035830",
       "version_major": 2,
       "version_minor": 0
      },
      "text/plain": [
       "Epoch 718:   0%|          | 0/196 [00:00<?, ?it/s]"
      ]
     },
     "metadata": {},
     "output_type": "display_data"
    },
    {
     "data": {
      "application/vnd.jupyter.widget-view+json": {
       "model_id": "79166bf0b32240ddaf3bb04466ae034b",
       "version_major": 2,
       "version_minor": 0
      },
      "text/plain": [
       "Epoch 719:   0%|          | 0/196 [00:00<?, ?it/s]"
      ]
     },
     "metadata": {},
     "output_type": "display_data"
    },
    {
     "data": {
      "application/vnd.jupyter.widget-view+json": {
       "model_id": "becf01c7a9c540ca8237e94277ed7c6c",
       "version_major": 2,
       "version_minor": 0
      },
      "text/plain": [
       "Epoch 720:   0%|          | 0/196 [00:00<?, ?it/s]"
      ]
     },
     "metadata": {},
     "output_type": "display_data"
    },
    {
     "data": {
      "application/vnd.jupyter.widget-view+json": {
       "model_id": "e28fc433a7ca4225a27b2e21880e2efa",
       "version_major": 2,
       "version_minor": 0
      },
      "text/plain": [
       "Epoch 721:   0%|          | 0/196 [00:00<?, ?it/s]"
      ]
     },
     "metadata": {},
     "output_type": "display_data"
    },
    {
     "data": {
      "application/vnd.jupyter.widget-view+json": {
       "model_id": "bf7744ab2cd74d57a2765fbd6a843c1c",
       "version_major": 2,
       "version_minor": 0
      },
      "text/plain": [
       "Epoch 722:   0%|          | 0/196 [00:00<?, ?it/s]"
      ]
     },
     "metadata": {},
     "output_type": "display_data"
    },
    {
     "data": {
      "application/vnd.jupyter.widget-view+json": {
       "model_id": "972aed92ae3c445b9a3c607329b9877f",
       "version_major": 2,
       "version_minor": 0
      },
      "text/plain": [
       "Epoch 723:   0%|          | 0/196 [00:00<?, ?it/s]"
      ]
     },
     "metadata": {},
     "output_type": "display_data"
    },
    {
     "data": {
      "application/vnd.jupyter.widget-view+json": {
       "model_id": "f623e714647f43f1a3520bbd1147ec52",
       "version_major": 2,
       "version_minor": 0
      },
      "text/plain": [
       "Epoch 724:   0%|          | 0/196 [00:00<?, ?it/s]"
      ]
     },
     "metadata": {},
     "output_type": "display_data"
    },
    {
     "data": {
      "application/vnd.jupyter.widget-view+json": {
       "model_id": "4c0cdc7d550449c9aa04e23aa0b5c6cd",
       "version_major": 2,
       "version_minor": 0
      },
      "text/plain": [
       "Epoch 725:   0%|          | 0/196 [00:00<?, ?it/s]"
      ]
     },
     "metadata": {},
     "output_type": "display_data"
    },
    {
     "data": {
      "application/vnd.jupyter.widget-view+json": {
       "model_id": "4818edfcf0de4f549e613a7692bb5e8d",
       "version_major": 2,
       "version_minor": 0
      },
      "text/plain": [
       "Epoch 726:   0%|          | 0/196 [00:00<?, ?it/s]"
      ]
     },
     "metadata": {},
     "output_type": "display_data"
    },
    {
     "data": {
      "application/vnd.jupyter.widget-view+json": {
       "model_id": "8b6aec7a5b574eaa9a6d458c3e1a06c6",
       "version_major": 2,
       "version_minor": 0
      },
      "text/plain": [
       "Epoch 727:   0%|          | 0/196 [00:00<?, ?it/s]"
      ]
     },
     "metadata": {},
     "output_type": "display_data"
    },
    {
     "data": {
      "application/vnd.jupyter.widget-view+json": {
       "model_id": "13892d62efb546b18333e8de973fffc4",
       "version_major": 2,
       "version_minor": 0
      },
      "text/plain": [
       "Epoch 728:   0%|          | 0/196 [00:00<?, ?it/s]"
      ]
     },
     "metadata": {},
     "output_type": "display_data"
    },
    {
     "data": {
      "application/vnd.jupyter.widget-view+json": {
       "model_id": "269316e93644461b8a4fc23094c7b66c",
       "version_major": 2,
       "version_minor": 0
      },
      "text/plain": [
       "Epoch 729:   0%|          | 0/196 [00:00<?, ?it/s]"
      ]
     },
     "metadata": {},
     "output_type": "display_data"
    },
    {
     "data": {
      "application/vnd.jupyter.widget-view+json": {
       "model_id": "01321c203bf245c5b21598365349dd1b",
       "version_major": 2,
       "version_minor": 0
      },
      "text/plain": [
       "Epoch 730:   0%|          | 0/196 [00:00<?, ?it/s]"
      ]
     },
     "metadata": {},
     "output_type": "display_data"
    },
    {
     "data": {
      "application/vnd.jupyter.widget-view+json": {
       "model_id": "0cd5573cd98a4ac991b88601b1bbfecb",
       "version_major": 2,
       "version_minor": 0
      },
      "text/plain": [
       "Epoch 731:   0%|          | 0/196 [00:00<?, ?it/s]"
      ]
     },
     "metadata": {},
     "output_type": "display_data"
    },
    {
     "data": {
      "application/vnd.jupyter.widget-view+json": {
       "model_id": "6fd61cc4363449a5a7e732534e87955c",
       "version_major": 2,
       "version_minor": 0
      },
      "text/plain": [
       "Epoch 732:   0%|          | 0/196 [00:00<?, ?it/s]"
      ]
     },
     "metadata": {},
     "output_type": "display_data"
    },
    {
     "data": {
      "application/vnd.jupyter.widget-view+json": {
       "model_id": "ada68fc0c8834a5391331770648895f3",
       "version_major": 2,
       "version_minor": 0
      },
      "text/plain": [
       "Epoch 733:   0%|          | 0/196 [00:00<?, ?it/s]"
      ]
     },
     "metadata": {},
     "output_type": "display_data"
    },
    {
     "data": {
      "application/vnd.jupyter.widget-view+json": {
       "model_id": "24c7408bd791489da22cf72e67cc2c7f",
       "version_major": 2,
       "version_minor": 0
      },
      "text/plain": [
       "Epoch 734:   0%|          | 0/196 [00:00<?, ?it/s]"
      ]
     },
     "metadata": {},
     "output_type": "display_data"
    },
    {
     "data": {
      "application/vnd.jupyter.widget-view+json": {
       "model_id": "81e20e6d7bcf4027a3fc2d9472aca4f9",
       "version_major": 2,
       "version_minor": 0
      },
      "text/plain": [
       "Epoch 735:   0%|          | 0/196 [00:00<?, ?it/s]"
      ]
     },
     "metadata": {},
     "output_type": "display_data"
    },
    {
     "data": {
      "application/vnd.jupyter.widget-view+json": {
       "model_id": "75287d3ade5d4273957b951ceaf2c8c8",
       "version_major": 2,
       "version_minor": 0
      },
      "text/plain": [
       "Epoch 736:   0%|          | 0/196 [00:00<?, ?it/s]"
      ]
     },
     "metadata": {},
     "output_type": "display_data"
    },
    {
     "data": {
      "application/vnd.jupyter.widget-view+json": {
       "model_id": "44d04b609eb54f84a5fd374ede67945d",
       "version_major": 2,
       "version_minor": 0
      },
      "text/plain": [
       "Epoch 737:   0%|          | 0/196 [00:00<?, ?it/s]"
      ]
     },
     "metadata": {},
     "output_type": "display_data"
    },
    {
     "data": {
      "application/vnd.jupyter.widget-view+json": {
       "model_id": "d3b1fa6944ef4394a9bdb0c428d7394c",
       "version_major": 2,
       "version_minor": 0
      },
      "text/plain": [
       "Epoch 738:   0%|          | 0/196 [00:00<?, ?it/s]"
      ]
     },
     "metadata": {},
     "output_type": "display_data"
    },
    {
     "data": {
      "application/vnd.jupyter.widget-view+json": {
       "model_id": "beff78f5d1774eadbad38d13f9301748",
       "version_major": 2,
       "version_minor": 0
      },
      "text/plain": [
       "Epoch 739:   0%|          | 0/196 [00:00<?, ?it/s]"
      ]
     },
     "metadata": {},
     "output_type": "display_data"
    },
    {
     "data": {
      "application/vnd.jupyter.widget-view+json": {
       "model_id": "510fd884bf0f47209d6808ada4bd0304",
       "version_major": 2,
       "version_minor": 0
      },
      "text/plain": [
       "Epoch 740:   0%|          | 0/196 [00:00<?, ?it/s]"
      ]
     },
     "metadata": {},
     "output_type": "display_data"
    },
    {
     "data": {
      "application/vnd.jupyter.widget-view+json": {
       "model_id": "15d3abc2c63448088106e3bda82fd241",
       "version_major": 2,
       "version_minor": 0
      },
      "text/plain": [
       "Epoch 741:   0%|          | 0/196 [00:00<?, ?it/s]"
      ]
     },
     "metadata": {},
     "output_type": "display_data"
    },
    {
     "data": {
      "application/vnd.jupyter.widget-view+json": {
       "model_id": "e6d8b5ae78e747f4b19a715a84fc8e79",
       "version_major": 2,
       "version_minor": 0
      },
      "text/plain": [
       "Epoch 742:   0%|          | 0/196 [00:00<?, ?it/s]"
      ]
     },
     "metadata": {},
     "output_type": "display_data"
    },
    {
     "data": {
      "application/vnd.jupyter.widget-view+json": {
       "model_id": "fd71c9b5975d45bcac1a32fa3ae6c21b",
       "version_major": 2,
       "version_minor": 0
      },
      "text/plain": [
       "Epoch 743:   0%|          | 0/196 [00:00<?, ?it/s]"
      ]
     },
     "metadata": {},
     "output_type": "display_data"
    },
    {
     "data": {
      "application/vnd.jupyter.widget-view+json": {
       "model_id": "eaa5c975fb7d4e568056bda194669164",
       "version_major": 2,
       "version_minor": 0
      },
      "text/plain": [
       "Epoch 744:   0%|          | 0/196 [00:00<?, ?it/s]"
      ]
     },
     "metadata": {},
     "output_type": "display_data"
    },
    {
     "data": {
      "application/vnd.jupyter.widget-view+json": {
       "model_id": "6b8c3caee850479c83b71c40e41fecfc",
       "version_major": 2,
       "version_minor": 0
      },
      "text/plain": [
       "Epoch 745:   0%|          | 0/196 [00:00<?, ?it/s]"
      ]
     },
     "metadata": {},
     "output_type": "display_data"
    },
    {
     "data": {
      "application/vnd.jupyter.widget-view+json": {
       "model_id": "1d13efe95101481a81bf56c149234744",
       "version_major": 2,
       "version_minor": 0
      },
      "text/plain": [
       "Epoch 746:   0%|          | 0/196 [00:00<?, ?it/s]"
      ]
     },
     "metadata": {},
     "output_type": "display_data"
    },
    {
     "data": {
      "application/vnd.jupyter.widget-view+json": {
       "model_id": "9d267a0c26f64d3e848a0d49f9468108",
       "version_major": 2,
       "version_minor": 0
      },
      "text/plain": [
       "Epoch 747:   0%|          | 0/196 [00:00<?, ?it/s]"
      ]
     },
     "metadata": {},
     "output_type": "display_data"
    },
    {
     "data": {
      "application/vnd.jupyter.widget-view+json": {
       "model_id": "173986a64672415392cab7283f4cd6d9",
       "version_major": 2,
       "version_minor": 0
      },
      "text/plain": [
       "Epoch 748:   0%|          | 0/196 [00:00<?, ?it/s]"
      ]
     },
     "metadata": {},
     "output_type": "display_data"
    },
    {
     "data": {
      "application/vnd.jupyter.widget-view+json": {
       "model_id": "25c880cdc3e84c01b6d0d3211690a675",
       "version_major": 2,
       "version_minor": 0
      },
      "text/plain": [
       "Epoch 749:   0%|          | 0/196 [00:00<?, ?it/s]"
      ]
     },
     "metadata": {},
     "output_type": "display_data"
    },
    {
     "data": {
      "application/vnd.jupyter.widget-view+json": {
       "model_id": "03bf2de803364626b5070bf7068af62a",
       "version_major": 2,
       "version_minor": 0
      },
      "text/plain": [
       "Epoch 750:   0%|          | 0/196 [00:00<?, ?it/s]"
      ]
     },
     "metadata": {},
     "output_type": "display_data"
    },
    {
     "data": {
      "application/vnd.jupyter.widget-view+json": {
       "model_id": "ab82569fc6164ffca2a056bcea9c671a",
       "version_major": 2,
       "version_minor": 0
      },
      "text/plain": [
       "Epoch 751:   0%|          | 0/196 [00:00<?, ?it/s]"
      ]
     },
     "metadata": {},
     "output_type": "display_data"
    },
    {
     "data": {
      "application/vnd.jupyter.widget-view+json": {
       "model_id": "85c331817f3f415494abbfd643e4b18b",
       "version_major": 2,
       "version_minor": 0
      },
      "text/plain": [
       "Epoch 752:   0%|          | 0/196 [00:00<?, ?it/s]"
      ]
     },
     "metadata": {},
     "output_type": "display_data"
    },
    {
     "data": {
      "application/vnd.jupyter.widget-view+json": {
       "model_id": "b0813fb49cb34b5ea44d631c8df6f6bd",
       "version_major": 2,
       "version_minor": 0
      },
      "text/plain": [
       "Epoch 753:   0%|          | 0/196 [00:00<?, ?it/s]"
      ]
     },
     "metadata": {},
     "output_type": "display_data"
    },
    {
     "data": {
      "application/vnd.jupyter.widget-view+json": {
       "model_id": "9587c8f40ec344c88342b63e16b9ea71",
       "version_major": 2,
       "version_minor": 0
      },
      "text/plain": [
       "Epoch 754:   0%|          | 0/196 [00:00<?, ?it/s]"
      ]
     },
     "metadata": {},
     "output_type": "display_data"
    },
    {
     "data": {
      "application/vnd.jupyter.widget-view+json": {
       "model_id": "2ce2f29e704b4a16b48396e30fe779fd",
       "version_major": 2,
       "version_minor": 0
      },
      "text/plain": [
       "Epoch 755:   0%|          | 0/196 [00:00<?, ?it/s]"
      ]
     },
     "metadata": {},
     "output_type": "display_data"
    },
    {
     "data": {
      "application/vnd.jupyter.widget-view+json": {
       "model_id": "c4a8ec978d5f4f65ac1ef7c95672df1b",
       "version_major": 2,
       "version_minor": 0
      },
      "text/plain": [
       "Epoch 756:   0%|          | 0/196 [00:00<?, ?it/s]"
      ]
     },
     "metadata": {},
     "output_type": "display_data"
    },
    {
     "data": {
      "application/vnd.jupyter.widget-view+json": {
       "model_id": "d7e29dddf2534fca9bcd54b8857607c0",
       "version_major": 2,
       "version_minor": 0
      },
      "text/plain": [
       "Epoch 757:   0%|          | 0/196 [00:00<?, ?it/s]"
      ]
     },
     "metadata": {},
     "output_type": "display_data"
    },
    {
     "data": {
      "application/vnd.jupyter.widget-view+json": {
       "model_id": "2e9d16dd9fed4a8bb22852e46492f0b3",
       "version_major": 2,
       "version_minor": 0
      },
      "text/plain": [
       "Epoch 758:   0%|          | 0/196 [00:00<?, ?it/s]"
      ]
     },
     "metadata": {},
     "output_type": "display_data"
    },
    {
     "data": {
      "application/vnd.jupyter.widget-view+json": {
       "model_id": "e7b174c121874da2afcfe9b341f330a9",
       "version_major": 2,
       "version_minor": 0
      },
      "text/plain": [
       "Epoch 759:   0%|          | 0/196 [00:00<?, ?it/s]"
      ]
     },
     "metadata": {},
     "output_type": "display_data"
    },
    {
     "data": {
      "application/vnd.jupyter.widget-view+json": {
       "model_id": "d5ba0c49447642ae89abc834be76d7a5",
       "version_major": 2,
       "version_minor": 0
      },
      "text/plain": [
       "Epoch 760:   0%|          | 0/196 [00:00<?, ?it/s]"
      ]
     },
     "metadata": {},
     "output_type": "display_data"
    },
    {
     "data": {
      "application/vnd.jupyter.widget-view+json": {
       "model_id": "2732eb8069044336afc55cc862ab8c63",
       "version_major": 2,
       "version_minor": 0
      },
      "text/plain": [
       "Epoch 761:   0%|          | 0/196 [00:00<?, ?it/s]"
      ]
     },
     "metadata": {},
     "output_type": "display_data"
    },
    {
     "data": {
      "application/vnd.jupyter.widget-view+json": {
       "model_id": "fbd7d2c72b134c0393b6027a68421bb1",
       "version_major": 2,
       "version_minor": 0
      },
      "text/plain": [
       "Epoch 762:   0%|          | 0/196 [00:00<?, ?it/s]"
      ]
     },
     "metadata": {},
     "output_type": "display_data"
    },
    {
     "data": {
      "application/vnd.jupyter.widget-view+json": {
       "model_id": "1239cfcd83a441ef8c96709c570fb9fb",
       "version_major": 2,
       "version_minor": 0
      },
      "text/plain": [
       "Epoch 763:   0%|          | 0/196 [00:00<?, ?it/s]"
      ]
     },
     "metadata": {},
     "output_type": "display_data"
    },
    {
     "data": {
      "application/vnd.jupyter.widget-view+json": {
       "model_id": "f1cd6c3fe92d40869ac56aa55d608491",
       "version_major": 2,
       "version_minor": 0
      },
      "text/plain": [
       "Epoch 764:   0%|          | 0/196 [00:00<?, ?it/s]"
      ]
     },
     "metadata": {},
     "output_type": "display_data"
    },
    {
     "data": {
      "application/vnd.jupyter.widget-view+json": {
       "model_id": "9f76e1e7653848c7b06fd9819f4e9642",
       "version_major": 2,
       "version_minor": 0
      },
      "text/plain": [
       "Epoch 765:   0%|          | 0/196 [00:00<?, ?it/s]"
      ]
     },
     "metadata": {},
     "output_type": "display_data"
    },
    {
     "data": {
      "application/vnd.jupyter.widget-view+json": {
       "model_id": "b56327d7be07490880549390f28c7318",
       "version_major": 2,
       "version_minor": 0
      },
      "text/plain": [
       "Epoch 766:   0%|          | 0/196 [00:00<?, ?it/s]"
      ]
     },
     "metadata": {},
     "output_type": "display_data"
    },
    {
     "data": {
      "application/vnd.jupyter.widget-view+json": {
       "model_id": "cfdccf5c283244689cffe3c68b41c372",
       "version_major": 2,
       "version_minor": 0
      },
      "text/plain": [
       "Epoch 767:   0%|          | 0/196 [00:00<?, ?it/s]"
      ]
     },
     "metadata": {},
     "output_type": "display_data"
    },
    {
     "data": {
      "application/vnd.jupyter.widget-view+json": {
       "model_id": "5c35520564fb4b3abc57e8614f2319e2",
       "version_major": 2,
       "version_minor": 0
      },
      "text/plain": [
       "Epoch 768:   0%|          | 0/196 [00:00<?, ?it/s]"
      ]
     },
     "metadata": {},
     "output_type": "display_data"
    },
    {
     "data": {
      "application/vnd.jupyter.widget-view+json": {
       "model_id": "831644c229cb4541be677682fe48ae20",
       "version_major": 2,
       "version_minor": 0
      },
      "text/plain": [
       "Epoch 769:   0%|          | 0/196 [00:00<?, ?it/s]"
      ]
     },
     "metadata": {},
     "output_type": "display_data"
    },
    {
     "data": {
      "application/vnd.jupyter.widget-view+json": {
       "model_id": "25aeb90820414819beb0b75386f1c4e1",
       "version_major": 2,
       "version_minor": 0
      },
      "text/plain": [
       "Epoch 770:   0%|          | 0/196 [00:00<?, ?it/s]"
      ]
     },
     "metadata": {},
     "output_type": "display_data"
    },
    {
     "data": {
      "application/vnd.jupyter.widget-view+json": {
       "model_id": "db3a636e9ae4476db88d9e53bc8c2ba0",
       "version_major": 2,
       "version_minor": 0
      },
      "text/plain": [
       "Epoch 771:   0%|          | 0/196 [00:00<?, ?it/s]"
      ]
     },
     "metadata": {},
     "output_type": "display_data"
    },
    {
     "data": {
      "application/vnd.jupyter.widget-view+json": {
       "model_id": "6fd2f396e41a448fa0be2eb7856e7cd5",
       "version_major": 2,
       "version_minor": 0
      },
      "text/plain": [
       "Epoch 772:   0%|          | 0/196 [00:00<?, ?it/s]"
      ]
     },
     "metadata": {},
     "output_type": "display_data"
    },
    {
     "data": {
      "application/vnd.jupyter.widget-view+json": {
       "model_id": "104fe293e328428fa3da7896f6a6012c",
       "version_major": 2,
       "version_minor": 0
      },
      "text/plain": [
       "Epoch 773:   0%|          | 0/196 [00:00<?, ?it/s]"
      ]
     },
     "metadata": {},
     "output_type": "display_data"
    },
    {
     "data": {
      "application/vnd.jupyter.widget-view+json": {
       "model_id": "b9ef7e3984c24db98c3662a233f73f33",
       "version_major": 2,
       "version_minor": 0
      },
      "text/plain": [
       "Epoch 774:   0%|          | 0/196 [00:00<?, ?it/s]"
      ]
     },
     "metadata": {},
     "output_type": "display_data"
    },
    {
     "data": {
      "application/vnd.jupyter.widget-view+json": {
       "model_id": "d992fecf061742c98cdfe9ba684ec148",
       "version_major": 2,
       "version_minor": 0
      },
      "text/plain": [
       "Epoch 775:   0%|          | 0/196 [00:00<?, ?it/s]"
      ]
     },
     "metadata": {},
     "output_type": "display_data"
    },
    {
     "data": {
      "application/vnd.jupyter.widget-view+json": {
       "model_id": "cd72326439784825a4b21e7e064a8f87",
       "version_major": 2,
       "version_minor": 0
      },
      "text/plain": [
       "Epoch 776:   0%|          | 0/196 [00:00<?, ?it/s]"
      ]
     },
     "metadata": {},
     "output_type": "display_data"
    },
    {
     "data": {
      "application/vnd.jupyter.widget-view+json": {
       "model_id": "4f7d47e4db22433c9dfc6054ab8c5273",
       "version_major": 2,
       "version_minor": 0
      },
      "text/plain": [
       "Epoch 777:   0%|          | 0/196 [00:00<?, ?it/s]"
      ]
     },
     "metadata": {},
     "output_type": "display_data"
    },
    {
     "data": {
      "application/vnd.jupyter.widget-view+json": {
       "model_id": "e2b28cc1aa5248f2beab17c2bfec3709",
       "version_major": 2,
       "version_minor": 0
      },
      "text/plain": [
       "Epoch 778:   0%|          | 0/196 [00:00<?, ?it/s]"
      ]
     },
     "metadata": {},
     "output_type": "display_data"
    },
    {
     "data": {
      "application/vnd.jupyter.widget-view+json": {
       "model_id": "191f3511306346ef8a96dee8918de9e6",
       "version_major": 2,
       "version_minor": 0
      },
      "text/plain": [
       "Epoch 779:   0%|          | 0/196 [00:00<?, ?it/s]"
      ]
     },
     "metadata": {},
     "output_type": "display_data"
    },
    {
     "data": {
      "application/vnd.jupyter.widget-view+json": {
       "model_id": "4c79fc7c839d463fa4206d63181864f5",
       "version_major": 2,
       "version_minor": 0
      },
      "text/plain": [
       "Epoch 780:   0%|          | 0/196 [00:00<?, ?it/s]"
      ]
     },
     "metadata": {},
     "output_type": "display_data"
    },
    {
     "data": {
      "application/vnd.jupyter.widget-view+json": {
       "model_id": "8787180dc2d14a3daf6e4f7b3e15d912",
       "version_major": 2,
       "version_minor": 0
      },
      "text/plain": [
       "Epoch 781:   0%|          | 0/196 [00:00<?, ?it/s]"
      ]
     },
     "metadata": {},
     "output_type": "display_data"
    },
    {
     "data": {
      "application/vnd.jupyter.widget-view+json": {
       "model_id": "015b018e83ac4dcb9e1f41291b4e157b",
       "version_major": 2,
       "version_minor": 0
      },
      "text/plain": [
       "Epoch 782:   0%|          | 0/196 [00:00<?, ?it/s]"
      ]
     },
     "metadata": {},
     "output_type": "display_data"
    },
    {
     "data": {
      "application/vnd.jupyter.widget-view+json": {
       "model_id": "f9899e25e3ea4e62be8e827dc1f7dc98",
       "version_major": 2,
       "version_minor": 0
      },
      "text/plain": [
       "Epoch 783:   0%|          | 0/196 [00:00<?, ?it/s]"
      ]
     },
     "metadata": {},
     "output_type": "display_data"
    },
    {
     "data": {
      "application/vnd.jupyter.widget-view+json": {
       "model_id": "225ccd2a041b4ff8ab978ef50e6c6865",
       "version_major": 2,
       "version_minor": 0
      },
      "text/plain": [
       "Epoch 784:   0%|          | 0/196 [00:00<?, ?it/s]"
      ]
     },
     "metadata": {},
     "output_type": "display_data"
    },
    {
     "data": {
      "application/vnd.jupyter.widget-view+json": {
       "model_id": "5741ccc682494be7ae70fc654ad4cd97",
       "version_major": 2,
       "version_minor": 0
      },
      "text/plain": [
       "Epoch 785:   0%|          | 0/196 [00:00<?, ?it/s]"
      ]
     },
     "metadata": {},
     "output_type": "display_data"
    },
    {
     "data": {
      "application/vnd.jupyter.widget-view+json": {
       "model_id": "40bba3b8990a4fefae8c38eecba083cf",
       "version_major": 2,
       "version_minor": 0
      },
      "text/plain": [
       "Epoch 786:   0%|          | 0/196 [00:00<?, ?it/s]"
      ]
     },
     "metadata": {},
     "output_type": "display_data"
    },
    {
     "data": {
      "application/vnd.jupyter.widget-view+json": {
       "model_id": "204f46e48ace419983fc8637fc804e34",
       "version_major": 2,
       "version_minor": 0
      },
      "text/plain": [
       "Epoch 787:   0%|          | 0/196 [00:00<?, ?it/s]"
      ]
     },
     "metadata": {},
     "output_type": "display_data"
    },
    {
     "data": {
      "application/vnd.jupyter.widget-view+json": {
       "model_id": "643b8d5316704c48b79655b538a5ca06",
       "version_major": 2,
       "version_minor": 0
      },
      "text/plain": [
       "Epoch 788:   0%|          | 0/196 [00:00<?, ?it/s]"
      ]
     },
     "metadata": {},
     "output_type": "display_data"
    },
    {
     "data": {
      "application/vnd.jupyter.widget-view+json": {
       "model_id": "c2a2376dc84742118cceb71304846232",
       "version_major": 2,
       "version_minor": 0
      },
      "text/plain": [
       "Epoch 789:   0%|          | 0/196 [00:00<?, ?it/s]"
      ]
     },
     "metadata": {},
     "output_type": "display_data"
    },
    {
     "data": {
      "application/vnd.jupyter.widget-view+json": {
       "model_id": "7edabee023d94b9bb578e80e92178b10",
       "version_major": 2,
       "version_minor": 0
      },
      "text/plain": [
       "Epoch 790:   0%|          | 0/196 [00:00<?, ?it/s]"
      ]
     },
     "metadata": {},
     "output_type": "display_data"
    },
    {
     "data": {
      "application/vnd.jupyter.widget-view+json": {
       "model_id": "ec75c1a2e72443608f91186a0139bf21",
       "version_major": 2,
       "version_minor": 0
      },
      "text/plain": [
       "Epoch 791:   0%|          | 0/196 [00:00<?, ?it/s]"
      ]
     },
     "metadata": {},
     "output_type": "display_data"
    },
    {
     "data": {
      "application/vnd.jupyter.widget-view+json": {
       "model_id": "fd8c960c74d44f7f879c2f3d2149c824",
       "version_major": 2,
       "version_minor": 0
      },
      "text/plain": [
       "Epoch 792:   0%|          | 0/196 [00:00<?, ?it/s]"
      ]
     },
     "metadata": {},
     "output_type": "display_data"
    },
    {
     "data": {
      "application/vnd.jupyter.widget-view+json": {
       "model_id": "093a5069f9f34fb3b6a3ab5f457dc9ff",
       "version_major": 2,
       "version_minor": 0
      },
      "text/plain": [
       "Epoch 793:   0%|          | 0/196 [00:00<?, ?it/s]"
      ]
     },
     "metadata": {},
     "output_type": "display_data"
    },
    {
     "data": {
      "application/vnd.jupyter.widget-view+json": {
       "model_id": "4dc9a90a72dd436eb1ef38d19499de44",
       "version_major": 2,
       "version_minor": 0
      },
      "text/plain": [
       "Epoch 794:   0%|          | 0/196 [00:00<?, ?it/s]"
      ]
     },
     "metadata": {},
     "output_type": "display_data"
    },
    {
     "data": {
      "application/vnd.jupyter.widget-view+json": {
       "model_id": "598cfa0411724c1bb1303a5217d8d19f",
       "version_major": 2,
       "version_minor": 0
      },
      "text/plain": [
       "Epoch 795:   0%|          | 0/196 [00:00<?, ?it/s]"
      ]
     },
     "metadata": {},
     "output_type": "display_data"
    },
    {
     "data": {
      "application/vnd.jupyter.widget-view+json": {
       "model_id": "466542012d6c4e4aa4567030474584b3",
       "version_major": 2,
       "version_minor": 0
      },
      "text/plain": [
       "Epoch 796:   0%|          | 0/196 [00:00<?, ?it/s]"
      ]
     },
     "metadata": {},
     "output_type": "display_data"
    },
    {
     "data": {
      "application/vnd.jupyter.widget-view+json": {
       "model_id": "12580d8f496f4b0f8094be785caa9085",
       "version_major": 2,
       "version_minor": 0
      },
      "text/plain": [
       "Epoch 797:   0%|          | 0/196 [00:00<?, ?it/s]"
      ]
     },
     "metadata": {},
     "output_type": "display_data"
    },
    {
     "data": {
      "application/vnd.jupyter.widget-view+json": {
       "model_id": "07cb2c0832524b21bb7c8cd0f2fa1002",
       "version_major": 2,
       "version_minor": 0
      },
      "text/plain": [
       "Epoch 798:   0%|          | 0/196 [00:00<?, ?it/s]"
      ]
     },
     "metadata": {},
     "output_type": "display_data"
    },
    {
     "data": {
      "application/vnd.jupyter.widget-view+json": {
       "model_id": "65fe5ee32ee1405fa1cb751201d363db",
       "version_major": 2,
       "version_minor": 0
      },
      "text/plain": [
       "Epoch 799:   0%|          | 0/196 [00:00<?, ?it/s]"
      ]
     },
     "metadata": {},
     "output_type": "display_data"
    },
    {
     "data": {
      "application/vnd.jupyter.widget-view+json": {
       "model_id": "aa01cd34226d4299a3ba04bc464da1b6",
       "version_major": 2,
       "version_minor": 0
      },
      "text/plain": [
       "Epoch 800:   0%|          | 0/196 [00:00<?, ?it/s]"
      ]
     },
     "metadata": {},
     "output_type": "display_data"
    },
    {
     "data": {
      "application/vnd.jupyter.widget-view+json": {
       "model_id": "f8cbe7606cc2473392466f084ef72cbf",
       "version_major": 2,
       "version_minor": 0
      },
      "text/plain": [
       "Epoch 801:   0%|          | 0/196 [00:00<?, ?it/s]"
      ]
     },
     "metadata": {},
     "output_type": "display_data"
    },
    {
     "data": {
      "application/vnd.jupyter.widget-view+json": {
       "model_id": "96f22340cd7849ed97205a1e25de3f6a",
       "version_major": 2,
       "version_minor": 0
      },
      "text/plain": [
       "Epoch 802:   0%|          | 0/196 [00:00<?, ?it/s]"
      ]
     },
     "metadata": {},
     "output_type": "display_data"
    },
    {
     "data": {
      "application/vnd.jupyter.widget-view+json": {
       "model_id": "3ce2bcf48f7f465a9229dbfb78201d71",
       "version_major": 2,
       "version_minor": 0
      },
      "text/plain": [
       "Epoch 803:   0%|          | 0/196 [00:00<?, ?it/s]"
      ]
     },
     "metadata": {},
     "output_type": "display_data"
    },
    {
     "data": {
      "application/vnd.jupyter.widget-view+json": {
       "model_id": "b809a7579c174fb4af97c3ddac384b70",
       "version_major": 2,
       "version_minor": 0
      },
      "text/plain": [
       "Epoch 804:   0%|          | 0/196 [00:00<?, ?it/s]"
      ]
     },
     "metadata": {},
     "output_type": "display_data"
    },
    {
     "data": {
      "application/vnd.jupyter.widget-view+json": {
       "model_id": "55e7fe53630a47829337c73242cd3fef",
       "version_major": 2,
       "version_minor": 0
      },
      "text/plain": [
       "Epoch 805:   0%|          | 0/196 [00:00<?, ?it/s]"
      ]
     },
     "metadata": {},
     "output_type": "display_data"
    },
    {
     "data": {
      "application/vnd.jupyter.widget-view+json": {
       "model_id": "8d7241aac3b3446a87d97ae78ee69517",
       "version_major": 2,
       "version_minor": 0
      },
      "text/plain": [
       "Epoch 806:   0%|          | 0/196 [00:00<?, ?it/s]"
      ]
     },
     "metadata": {},
     "output_type": "display_data"
    },
    {
     "data": {
      "application/vnd.jupyter.widget-view+json": {
       "model_id": "3d9064da632f4f81a549b9ccb0b6a892",
       "version_major": 2,
       "version_minor": 0
      },
      "text/plain": [
       "Epoch 807:   0%|          | 0/196 [00:00<?, ?it/s]"
      ]
     },
     "metadata": {},
     "output_type": "display_data"
    },
    {
     "data": {
      "application/vnd.jupyter.widget-view+json": {
       "model_id": "c3ca616f7cc14e34a379b3f20f1d8fdb",
       "version_major": 2,
       "version_minor": 0
      },
      "text/plain": [
       "Epoch 808:   0%|          | 0/196 [00:00<?, ?it/s]"
      ]
     },
     "metadata": {},
     "output_type": "display_data"
    },
    {
     "data": {
      "application/vnd.jupyter.widget-view+json": {
       "model_id": "f1d7a43696224628846dd5b824cd74f5",
       "version_major": 2,
       "version_minor": 0
      },
      "text/plain": [
       "Epoch 809:   0%|          | 0/196 [00:00<?, ?it/s]"
      ]
     },
     "metadata": {},
     "output_type": "display_data"
    },
    {
     "data": {
      "application/vnd.jupyter.widget-view+json": {
       "model_id": "eacf6c3bb1ba42a19903bd3a3e65a54f",
       "version_major": 2,
       "version_minor": 0
      },
      "text/plain": [
       "Epoch 810:   0%|          | 0/196 [00:00<?, ?it/s]"
      ]
     },
     "metadata": {},
     "output_type": "display_data"
    },
    {
     "data": {
      "application/vnd.jupyter.widget-view+json": {
       "model_id": "9c9644b75b8b47ada7da6fa541b6e77d",
       "version_major": 2,
       "version_minor": 0
      },
      "text/plain": [
       "Epoch 811:   0%|          | 0/196 [00:00<?, ?it/s]"
      ]
     },
     "metadata": {},
     "output_type": "display_data"
    },
    {
     "data": {
      "application/vnd.jupyter.widget-view+json": {
       "model_id": "ecf4fc26acb34807a2b12817ca655d6d",
       "version_major": 2,
       "version_minor": 0
      },
      "text/plain": [
       "Epoch 812:   0%|          | 0/196 [00:00<?, ?it/s]"
      ]
     },
     "metadata": {},
     "output_type": "display_data"
    },
    {
     "data": {
      "application/vnd.jupyter.widget-view+json": {
       "model_id": "51f9b91fe7074a9384ee8cd279f81bd1",
       "version_major": 2,
       "version_minor": 0
      },
      "text/plain": [
       "Epoch 813:   0%|          | 0/196 [00:00<?, ?it/s]"
      ]
     },
     "metadata": {},
     "output_type": "display_data"
    },
    {
     "data": {
      "application/vnd.jupyter.widget-view+json": {
       "model_id": "3b4dded0e7b3412c86ca163428cf955b",
       "version_major": 2,
       "version_minor": 0
      },
      "text/plain": [
       "Epoch 814:   0%|          | 0/196 [00:00<?, ?it/s]"
      ]
     },
     "metadata": {},
     "output_type": "display_data"
    },
    {
     "data": {
      "application/vnd.jupyter.widget-view+json": {
       "model_id": "ac33e11197734b1ea0d7ad8907ae7d34",
       "version_major": 2,
       "version_minor": 0
      },
      "text/plain": [
       "Epoch 815:   0%|          | 0/196 [00:00<?, ?it/s]"
      ]
     },
     "metadata": {},
     "output_type": "display_data"
    },
    {
     "data": {
      "application/vnd.jupyter.widget-view+json": {
       "model_id": "233f6d6472334c1abf785136cd671a22",
       "version_major": 2,
       "version_minor": 0
      },
      "text/plain": [
       "Epoch 816:   0%|          | 0/196 [00:00<?, ?it/s]"
      ]
     },
     "metadata": {},
     "output_type": "display_data"
    },
    {
     "data": {
      "application/vnd.jupyter.widget-view+json": {
       "model_id": "fb193d881a694b65b758080e669f65a4",
       "version_major": 2,
       "version_minor": 0
      },
      "text/plain": [
       "Epoch 817:   0%|          | 0/196 [00:00<?, ?it/s]"
      ]
     },
     "metadata": {},
     "output_type": "display_data"
    },
    {
     "data": {
      "application/vnd.jupyter.widget-view+json": {
       "model_id": "b900c765218d4869930f2a89b586825d",
       "version_major": 2,
       "version_minor": 0
      },
      "text/plain": [
       "Epoch 818:   0%|          | 0/196 [00:00<?, ?it/s]"
      ]
     },
     "metadata": {},
     "output_type": "display_data"
    },
    {
     "data": {
      "application/vnd.jupyter.widget-view+json": {
       "model_id": "37d37da9947b4d46b3e9622d81c32950",
       "version_major": 2,
       "version_minor": 0
      },
      "text/plain": [
       "Epoch 819:   0%|          | 0/196 [00:00<?, ?it/s]"
      ]
     },
     "metadata": {},
     "output_type": "display_data"
    },
    {
     "data": {
      "application/vnd.jupyter.widget-view+json": {
       "model_id": "11b6be40b6a34003b3a5dfc1766f9f53",
       "version_major": 2,
       "version_minor": 0
      },
      "text/plain": [
       "Epoch 820:   0%|          | 0/196 [00:00<?, ?it/s]"
      ]
     },
     "metadata": {},
     "output_type": "display_data"
    },
    {
     "data": {
      "application/vnd.jupyter.widget-view+json": {
       "model_id": "9ece5512b1c84d398c9eda00bb1e4295",
       "version_major": 2,
       "version_minor": 0
      },
      "text/plain": [
       "Epoch 821:   0%|          | 0/196 [00:00<?, ?it/s]"
      ]
     },
     "metadata": {},
     "output_type": "display_data"
    },
    {
     "data": {
      "application/vnd.jupyter.widget-view+json": {
       "model_id": "0a2af5ec90654003935a9fb76fd780d4",
       "version_major": 2,
       "version_minor": 0
      },
      "text/plain": [
       "Epoch 822:   0%|          | 0/196 [00:00<?, ?it/s]"
      ]
     },
     "metadata": {},
     "output_type": "display_data"
    },
    {
     "data": {
      "application/vnd.jupyter.widget-view+json": {
       "model_id": "06f18ba5e6804ea998695dba6452c46e",
       "version_major": 2,
       "version_minor": 0
      },
      "text/plain": [
       "Epoch 823:   0%|          | 0/196 [00:00<?, ?it/s]"
      ]
     },
     "metadata": {},
     "output_type": "display_data"
    },
    {
     "data": {
      "application/vnd.jupyter.widget-view+json": {
       "model_id": "286c0f5a6db043bc96c65ec2c041edd5",
       "version_major": 2,
       "version_minor": 0
      },
      "text/plain": [
       "Epoch 824:   0%|          | 0/196 [00:00<?, ?it/s]"
      ]
     },
     "metadata": {},
     "output_type": "display_data"
    },
    {
     "data": {
      "application/vnd.jupyter.widget-view+json": {
       "model_id": "e5af6915dbd74267a142aa0e76932b48",
       "version_major": 2,
       "version_minor": 0
      },
      "text/plain": [
       "Epoch 825:   0%|          | 0/196 [00:00<?, ?it/s]"
      ]
     },
     "metadata": {},
     "output_type": "display_data"
    },
    {
     "data": {
      "application/vnd.jupyter.widget-view+json": {
       "model_id": "3af89604ca5d4dd59cb900883de34bb6",
       "version_major": 2,
       "version_minor": 0
      },
      "text/plain": [
       "Epoch 826:   0%|          | 0/196 [00:00<?, ?it/s]"
      ]
     },
     "metadata": {},
     "output_type": "display_data"
    },
    {
     "data": {
      "application/vnd.jupyter.widget-view+json": {
       "model_id": "c022f3c09f8e499cb4f2817464a63c91",
       "version_major": 2,
       "version_minor": 0
      },
      "text/plain": [
       "Epoch 827:   0%|          | 0/196 [00:00<?, ?it/s]"
      ]
     },
     "metadata": {},
     "output_type": "display_data"
    },
    {
     "data": {
      "application/vnd.jupyter.widget-view+json": {
       "model_id": "bb16e6f411f7451b9534a767d548bcd9",
       "version_major": 2,
       "version_minor": 0
      },
      "text/plain": [
       "Epoch 828:   0%|          | 0/196 [00:00<?, ?it/s]"
      ]
     },
     "metadata": {},
     "output_type": "display_data"
    },
    {
     "data": {
      "application/vnd.jupyter.widget-view+json": {
       "model_id": "bdea6e67d2dd4ed9847084e9ce14ed63",
       "version_major": 2,
       "version_minor": 0
      },
      "text/plain": [
       "Epoch 829:   0%|          | 0/196 [00:00<?, ?it/s]"
      ]
     },
     "metadata": {},
     "output_type": "display_data"
    },
    {
     "data": {
      "application/vnd.jupyter.widget-view+json": {
       "model_id": "0ddec41ac8d44e59a810bff73ac3deb4",
       "version_major": 2,
       "version_minor": 0
      },
      "text/plain": [
       "Epoch 830:   0%|          | 0/196 [00:00<?, ?it/s]"
      ]
     },
     "metadata": {},
     "output_type": "display_data"
    },
    {
     "data": {
      "application/vnd.jupyter.widget-view+json": {
       "model_id": "e1f618a5b3704970881e6603ae7987f0",
       "version_major": 2,
       "version_minor": 0
      },
      "text/plain": [
       "Epoch 831:   0%|          | 0/196 [00:00<?, ?it/s]"
      ]
     },
     "metadata": {},
     "output_type": "display_data"
    },
    {
     "data": {
      "application/vnd.jupyter.widget-view+json": {
       "model_id": "ed45c8e4827d44f5b2104041cc158ee5",
       "version_major": 2,
       "version_minor": 0
      },
      "text/plain": [
       "Epoch 832:   0%|          | 0/196 [00:00<?, ?it/s]"
      ]
     },
     "metadata": {},
     "output_type": "display_data"
    },
    {
     "data": {
      "application/vnd.jupyter.widget-view+json": {
       "model_id": "81d7877d8fac47b7a826305ca2120205",
       "version_major": 2,
       "version_minor": 0
      },
      "text/plain": [
       "Epoch 833:   0%|          | 0/196 [00:00<?, ?it/s]"
      ]
     },
     "metadata": {},
     "output_type": "display_data"
    },
    {
     "data": {
      "application/vnd.jupyter.widget-view+json": {
       "model_id": "35a69fa1c1804415acb6829a011bdd04",
       "version_major": 2,
       "version_minor": 0
      },
      "text/plain": [
       "Epoch 834:   0%|          | 0/196 [00:00<?, ?it/s]"
      ]
     },
     "metadata": {},
     "output_type": "display_data"
    },
    {
     "data": {
      "application/vnd.jupyter.widget-view+json": {
       "model_id": "0804c3d98b754338bfb1bb8e115eb0bf",
       "version_major": 2,
       "version_minor": 0
      },
      "text/plain": [
       "Epoch 835:   0%|          | 0/196 [00:00<?, ?it/s]"
      ]
     },
     "metadata": {},
     "output_type": "display_data"
    },
    {
     "data": {
      "application/vnd.jupyter.widget-view+json": {
       "model_id": "8d13a799c6d347e084b939d51cad8578",
       "version_major": 2,
       "version_minor": 0
      },
      "text/plain": [
       "Epoch 836:   0%|          | 0/196 [00:00<?, ?it/s]"
      ]
     },
     "metadata": {},
     "output_type": "display_data"
    },
    {
     "data": {
      "application/vnd.jupyter.widget-view+json": {
       "model_id": "31e7c45dde6a4a16b90a40c8cbd53c08",
       "version_major": 2,
       "version_minor": 0
      },
      "text/plain": [
       "Epoch 837:   0%|          | 0/196 [00:00<?, ?it/s]"
      ]
     },
     "metadata": {},
     "output_type": "display_data"
    },
    {
     "data": {
      "application/vnd.jupyter.widget-view+json": {
       "model_id": "42a5740580354cc897bd0b07d75abfb2",
       "version_major": 2,
       "version_minor": 0
      },
      "text/plain": [
       "Epoch 838:   0%|          | 0/196 [00:00<?, ?it/s]"
      ]
     },
     "metadata": {},
     "output_type": "display_data"
    },
    {
     "data": {
      "application/vnd.jupyter.widget-view+json": {
       "model_id": "8dd7b5c12c4a4b85a5d706b849ff220b",
       "version_major": 2,
       "version_minor": 0
      },
      "text/plain": [
       "Epoch 839:   0%|          | 0/196 [00:00<?, ?it/s]"
      ]
     },
     "metadata": {},
     "output_type": "display_data"
    },
    {
     "data": {
      "application/vnd.jupyter.widget-view+json": {
       "model_id": "a28eb70732234e5a9f6a67c8d5f37b1e",
       "version_major": 2,
       "version_minor": 0
      },
      "text/plain": [
       "Epoch 840:   0%|          | 0/196 [00:00<?, ?it/s]"
      ]
     },
     "metadata": {},
     "output_type": "display_data"
    },
    {
     "data": {
      "application/vnd.jupyter.widget-view+json": {
       "model_id": "226041b5920246f1b82961eb1a2ec136",
       "version_major": 2,
       "version_minor": 0
      },
      "text/plain": [
       "Epoch 841:   0%|          | 0/196 [00:00<?, ?it/s]"
      ]
     },
     "metadata": {},
     "output_type": "display_data"
    },
    {
     "data": {
      "application/vnd.jupyter.widget-view+json": {
       "model_id": "6279996d7c6b4af39d9c0b551dac87e9",
       "version_major": 2,
       "version_minor": 0
      },
      "text/plain": [
       "Epoch 842:   0%|          | 0/196 [00:00<?, ?it/s]"
      ]
     },
     "metadata": {},
     "output_type": "display_data"
    },
    {
     "data": {
      "application/vnd.jupyter.widget-view+json": {
       "model_id": "c34ae2cf390146768200c03361c42659",
       "version_major": 2,
       "version_minor": 0
      },
      "text/plain": [
       "Epoch 843:   0%|          | 0/196 [00:00<?, ?it/s]"
      ]
     },
     "metadata": {},
     "output_type": "display_data"
    },
    {
     "data": {
      "application/vnd.jupyter.widget-view+json": {
       "model_id": "18c1dd59960f46c6be79a71d144f7ca9",
       "version_major": 2,
       "version_minor": 0
      },
      "text/plain": [
       "Epoch 844:   0%|          | 0/196 [00:00<?, ?it/s]"
      ]
     },
     "metadata": {},
     "output_type": "display_data"
    },
    {
     "data": {
      "application/vnd.jupyter.widget-view+json": {
       "model_id": "88839b96c23e449a8191fba95814c44c",
       "version_major": 2,
       "version_minor": 0
      },
      "text/plain": [
       "Epoch 845:   0%|          | 0/196 [00:00<?, ?it/s]"
      ]
     },
     "metadata": {},
     "output_type": "display_data"
    },
    {
     "data": {
      "application/vnd.jupyter.widget-view+json": {
       "model_id": "4fa79e327f534c4ba1966f6c336705cb",
       "version_major": 2,
       "version_minor": 0
      },
      "text/plain": [
       "Epoch 846:   0%|          | 0/196 [00:00<?, ?it/s]"
      ]
     },
     "metadata": {},
     "output_type": "display_data"
    },
    {
     "data": {
      "application/vnd.jupyter.widget-view+json": {
       "model_id": "de4598022c4b422fa43bc16ba71596f6",
       "version_major": 2,
       "version_minor": 0
      },
      "text/plain": [
       "Epoch 847:   0%|          | 0/196 [00:00<?, ?it/s]"
      ]
     },
     "metadata": {},
     "output_type": "display_data"
    },
    {
     "data": {
      "application/vnd.jupyter.widget-view+json": {
       "model_id": "2243b2e60e474062bfb2e1e129457fd4",
       "version_major": 2,
       "version_minor": 0
      },
      "text/plain": [
       "Epoch 848:   0%|          | 0/196 [00:00<?, ?it/s]"
      ]
     },
     "metadata": {},
     "output_type": "display_data"
    },
    {
     "data": {
      "application/vnd.jupyter.widget-view+json": {
       "model_id": "ac2ae4d940c34207ab69cb732b792f5d",
       "version_major": 2,
       "version_minor": 0
      },
      "text/plain": [
       "Epoch 849:   0%|          | 0/196 [00:00<?, ?it/s]"
      ]
     },
     "metadata": {},
     "output_type": "display_data"
    },
    {
     "data": {
      "application/vnd.jupyter.widget-view+json": {
       "model_id": "e406bc90d1074f00ac5de2af55e86bf8",
       "version_major": 2,
       "version_minor": 0
      },
      "text/plain": [
       "Epoch 850:   0%|          | 0/196 [00:00<?, ?it/s]"
      ]
     },
     "metadata": {},
     "output_type": "display_data"
    },
    {
     "data": {
      "application/vnd.jupyter.widget-view+json": {
       "model_id": "30ce8f48b6a441659ca7a341e5b4dad5",
       "version_major": 2,
       "version_minor": 0
      },
      "text/plain": [
       "Epoch 851:   0%|          | 0/196 [00:00<?, ?it/s]"
      ]
     },
     "metadata": {},
     "output_type": "display_data"
    },
    {
     "data": {
      "application/vnd.jupyter.widget-view+json": {
       "model_id": "6b22538279864f798c24438d7dec727f",
       "version_major": 2,
       "version_minor": 0
      },
      "text/plain": [
       "Epoch 852:   0%|          | 0/196 [00:00<?, ?it/s]"
      ]
     },
     "metadata": {},
     "output_type": "display_data"
    },
    {
     "data": {
      "application/vnd.jupyter.widget-view+json": {
       "model_id": "79d53d50c0e048ccaa94b27bef315540",
       "version_major": 2,
       "version_minor": 0
      },
      "text/plain": [
       "Epoch 853:   0%|          | 0/196 [00:00<?, ?it/s]"
      ]
     },
     "metadata": {},
     "output_type": "display_data"
    },
    {
     "data": {
      "application/vnd.jupyter.widget-view+json": {
       "model_id": "0210500361024fa498c206e4cbe192b3",
       "version_major": 2,
       "version_minor": 0
      },
      "text/plain": [
       "Epoch 854:   0%|          | 0/196 [00:00<?, ?it/s]"
      ]
     },
     "metadata": {},
     "output_type": "display_data"
    },
    {
     "data": {
      "application/vnd.jupyter.widget-view+json": {
       "model_id": "f4b3d0b59fa348f2bcac005dc00de699",
       "version_major": 2,
       "version_minor": 0
      },
      "text/plain": [
       "Epoch 855:   0%|          | 0/196 [00:00<?, ?it/s]"
      ]
     },
     "metadata": {},
     "output_type": "display_data"
    },
    {
     "data": {
      "application/vnd.jupyter.widget-view+json": {
       "model_id": "aced68c34d7543cfb80683008b1c0569",
       "version_major": 2,
       "version_minor": 0
      },
      "text/plain": [
       "Epoch 856:   0%|          | 0/196 [00:00<?, ?it/s]"
      ]
     },
     "metadata": {},
     "output_type": "display_data"
    },
    {
     "data": {
      "application/vnd.jupyter.widget-view+json": {
       "model_id": "5bc8b400f8d34dd1b7b9d7b9c60bb173",
       "version_major": 2,
       "version_minor": 0
      },
      "text/plain": [
       "Epoch 857:   0%|          | 0/196 [00:00<?, ?it/s]"
      ]
     },
     "metadata": {},
     "output_type": "display_data"
    },
    {
     "data": {
      "application/vnd.jupyter.widget-view+json": {
       "model_id": "7d8d617ef7414fa09a54d5381cfe5faf",
       "version_major": 2,
       "version_minor": 0
      },
      "text/plain": [
       "Epoch 858:   0%|          | 0/196 [00:00<?, ?it/s]"
      ]
     },
     "metadata": {},
     "output_type": "display_data"
    },
    {
     "data": {
      "application/vnd.jupyter.widget-view+json": {
       "model_id": "b812f674c5aa4348975bb89883e7fe58",
       "version_major": 2,
       "version_minor": 0
      },
      "text/plain": [
       "Epoch 859:   0%|          | 0/196 [00:00<?, ?it/s]"
      ]
     },
     "metadata": {},
     "output_type": "display_data"
    },
    {
     "data": {
      "application/vnd.jupyter.widget-view+json": {
       "model_id": "6762fd407f5348b29c2c67e7098ca3f0",
       "version_major": 2,
       "version_minor": 0
      },
      "text/plain": [
       "Epoch 860:   0%|          | 0/196 [00:00<?, ?it/s]"
      ]
     },
     "metadata": {},
     "output_type": "display_data"
    },
    {
     "data": {
      "application/vnd.jupyter.widget-view+json": {
       "model_id": "b106e13dddb54ba9adf5f7da21eba5cd",
       "version_major": 2,
       "version_minor": 0
      },
      "text/plain": [
       "Epoch 861:   0%|          | 0/196 [00:00<?, ?it/s]"
      ]
     },
     "metadata": {},
     "output_type": "display_data"
    },
    {
     "data": {
      "application/vnd.jupyter.widget-view+json": {
       "model_id": "3dd26fd20be143a4bd42b5d0ed290b6e",
       "version_major": 2,
       "version_minor": 0
      },
      "text/plain": [
       "Epoch 862:   0%|          | 0/196 [00:00<?, ?it/s]"
      ]
     },
     "metadata": {},
     "output_type": "display_data"
    },
    {
     "data": {
      "application/vnd.jupyter.widget-view+json": {
       "model_id": "ff11058a313d400990199f3924db3d98",
       "version_major": 2,
       "version_minor": 0
      },
      "text/plain": [
       "Epoch 863:   0%|          | 0/196 [00:00<?, ?it/s]"
      ]
     },
     "metadata": {},
     "output_type": "display_data"
    },
    {
     "data": {
      "application/vnd.jupyter.widget-view+json": {
       "model_id": "323427400d994d1395f5a6818975acbb",
       "version_major": 2,
       "version_minor": 0
      },
      "text/plain": [
       "Epoch 864:   0%|          | 0/196 [00:00<?, ?it/s]"
      ]
     },
     "metadata": {},
     "output_type": "display_data"
    },
    {
     "data": {
      "application/vnd.jupyter.widget-view+json": {
       "model_id": "52c554cb51f5419e860e99df9de16461",
       "version_major": 2,
       "version_minor": 0
      },
      "text/plain": [
       "Epoch 865:   0%|          | 0/196 [00:00<?, ?it/s]"
      ]
     },
     "metadata": {},
     "output_type": "display_data"
    },
    {
     "data": {
      "application/vnd.jupyter.widget-view+json": {
       "model_id": "3c10c04c17c44a6fae7d749cad53f57f",
       "version_major": 2,
       "version_minor": 0
      },
      "text/plain": [
       "Epoch 866:   0%|          | 0/196 [00:00<?, ?it/s]"
      ]
     },
     "metadata": {},
     "output_type": "display_data"
    },
    {
     "data": {
      "application/vnd.jupyter.widget-view+json": {
       "model_id": "4b5ec6daee574e9ea5f5482a2de8c614",
       "version_major": 2,
       "version_minor": 0
      },
      "text/plain": [
       "Epoch 867:   0%|          | 0/196 [00:00<?, ?it/s]"
      ]
     },
     "metadata": {},
     "output_type": "display_data"
    },
    {
     "data": {
      "application/vnd.jupyter.widget-view+json": {
       "model_id": "42ce866d0d134885b5eb45cca8040b2d",
       "version_major": 2,
       "version_minor": 0
      },
      "text/plain": [
       "Epoch 868:   0%|          | 0/196 [00:00<?, ?it/s]"
      ]
     },
     "metadata": {},
     "output_type": "display_data"
    },
    {
     "data": {
      "application/vnd.jupyter.widget-view+json": {
       "model_id": "9ce2468709fb44d48a63e4be161d6d93",
       "version_major": 2,
       "version_minor": 0
      },
      "text/plain": [
       "Epoch 869:   0%|          | 0/196 [00:00<?, ?it/s]"
      ]
     },
     "metadata": {},
     "output_type": "display_data"
    },
    {
     "data": {
      "application/vnd.jupyter.widget-view+json": {
       "model_id": "dd246dff6d32473ab615803f590b74fc",
       "version_major": 2,
       "version_minor": 0
      },
      "text/plain": [
       "Epoch 870:   0%|          | 0/196 [00:00<?, ?it/s]"
      ]
     },
     "metadata": {},
     "output_type": "display_data"
    },
    {
     "data": {
      "application/vnd.jupyter.widget-view+json": {
       "model_id": "78df32a96197401eb5746f682dfbf8d7",
       "version_major": 2,
       "version_minor": 0
      },
      "text/plain": [
       "Epoch 871:   0%|          | 0/196 [00:00<?, ?it/s]"
      ]
     },
     "metadata": {},
     "output_type": "display_data"
    },
    {
     "data": {
      "application/vnd.jupyter.widget-view+json": {
       "model_id": "3b17ba87589c4fe6a7dafe444405f4fb",
       "version_major": 2,
       "version_minor": 0
      },
      "text/plain": [
       "Epoch 872:   0%|          | 0/196 [00:00<?, ?it/s]"
      ]
     },
     "metadata": {},
     "output_type": "display_data"
    },
    {
     "data": {
      "application/vnd.jupyter.widget-view+json": {
       "model_id": "2b13ca47434f4c2298a2c1e82321da21",
       "version_major": 2,
       "version_minor": 0
      },
      "text/plain": [
       "Epoch 873:   0%|          | 0/196 [00:00<?, ?it/s]"
      ]
     },
     "metadata": {},
     "output_type": "display_data"
    },
    {
     "data": {
      "application/vnd.jupyter.widget-view+json": {
       "model_id": "f381bf654e1e483c9b87c4060e0d9f60",
       "version_major": 2,
       "version_minor": 0
      },
      "text/plain": [
       "Epoch 874:   0%|          | 0/196 [00:00<?, ?it/s]"
      ]
     },
     "metadata": {},
     "output_type": "display_data"
    },
    {
     "data": {
      "application/vnd.jupyter.widget-view+json": {
       "model_id": "3c6b3323c3224b7787cec5d198a9a944",
       "version_major": 2,
       "version_minor": 0
      },
      "text/plain": [
       "Epoch 875:   0%|          | 0/196 [00:00<?, ?it/s]"
      ]
     },
     "metadata": {},
     "output_type": "display_data"
    },
    {
     "data": {
      "application/vnd.jupyter.widget-view+json": {
       "model_id": "60e9492d97684198bf97da7bd96a6149",
       "version_major": 2,
       "version_minor": 0
      },
      "text/plain": [
       "Epoch 876:   0%|          | 0/196 [00:00<?, ?it/s]"
      ]
     },
     "metadata": {},
     "output_type": "display_data"
    },
    {
     "data": {
      "application/vnd.jupyter.widget-view+json": {
       "model_id": "a27931c0e6274007bad8f7bb6ce03296",
       "version_major": 2,
       "version_minor": 0
      },
      "text/plain": [
       "Epoch 877:   0%|          | 0/196 [00:00<?, ?it/s]"
      ]
     },
     "metadata": {},
     "output_type": "display_data"
    },
    {
     "data": {
      "application/vnd.jupyter.widget-view+json": {
       "model_id": "3659cdb66ffb452c8149031819c61963",
       "version_major": 2,
       "version_minor": 0
      },
      "text/plain": [
       "Epoch 878:   0%|          | 0/196 [00:00<?, ?it/s]"
      ]
     },
     "metadata": {},
     "output_type": "display_data"
    },
    {
     "data": {
      "application/vnd.jupyter.widget-view+json": {
       "model_id": "488782e632d3436d92de1720e63443ea",
       "version_major": 2,
       "version_minor": 0
      },
      "text/plain": [
       "Epoch 879:   0%|          | 0/196 [00:00<?, ?it/s]"
      ]
     },
     "metadata": {},
     "output_type": "display_data"
    },
    {
     "data": {
      "application/vnd.jupyter.widget-view+json": {
       "model_id": "5a03a10820384651a7b9846c282927e9",
       "version_major": 2,
       "version_minor": 0
      },
      "text/plain": [
       "Epoch 880:   0%|          | 0/196 [00:00<?, ?it/s]"
      ]
     },
     "metadata": {},
     "output_type": "display_data"
    },
    {
     "data": {
      "application/vnd.jupyter.widget-view+json": {
       "model_id": "2e4f8b2d633b4c8bb3062395c204512c",
       "version_major": 2,
       "version_minor": 0
      },
      "text/plain": [
       "Epoch 881:   0%|          | 0/196 [00:00<?, ?it/s]"
      ]
     },
     "metadata": {},
     "output_type": "display_data"
    },
    {
     "data": {
      "application/vnd.jupyter.widget-view+json": {
       "model_id": "fc54044c648142719e885edbb7893b16",
       "version_major": 2,
       "version_minor": 0
      },
      "text/plain": [
       "Epoch 882:   0%|          | 0/196 [00:00<?, ?it/s]"
      ]
     },
     "metadata": {},
     "output_type": "display_data"
    },
    {
     "data": {
      "application/vnd.jupyter.widget-view+json": {
       "model_id": "517a25aeeaa7412596b920efc208b427",
       "version_major": 2,
       "version_minor": 0
      },
      "text/plain": [
       "Epoch 883:   0%|          | 0/196 [00:00<?, ?it/s]"
      ]
     },
     "metadata": {},
     "output_type": "display_data"
    },
    {
     "data": {
      "application/vnd.jupyter.widget-view+json": {
       "model_id": "c0c04c781b1744d48575e19ee7e98d06",
       "version_major": 2,
       "version_minor": 0
      },
      "text/plain": [
       "Epoch 884:   0%|          | 0/196 [00:00<?, ?it/s]"
      ]
     },
     "metadata": {},
     "output_type": "display_data"
    },
    {
     "data": {
      "application/vnd.jupyter.widget-view+json": {
       "model_id": "51c09e91c9b54d7c81f4d9b9974ea1b9",
       "version_major": 2,
       "version_minor": 0
      },
      "text/plain": [
       "Epoch 885:   0%|          | 0/196 [00:00<?, ?it/s]"
      ]
     },
     "metadata": {},
     "output_type": "display_data"
    },
    {
     "data": {
      "application/vnd.jupyter.widget-view+json": {
       "model_id": "2c65daebe2b942caa8115e44782abf3b",
       "version_major": 2,
       "version_minor": 0
      },
      "text/plain": [
       "Epoch 886:   0%|          | 0/196 [00:00<?, ?it/s]"
      ]
     },
     "metadata": {},
     "output_type": "display_data"
    },
    {
     "data": {
      "application/vnd.jupyter.widget-view+json": {
       "model_id": "0f152caf328841f4b26d3c9aa7bfe475",
       "version_major": 2,
       "version_minor": 0
      },
      "text/plain": [
       "Epoch 887:   0%|          | 0/196 [00:00<?, ?it/s]"
      ]
     },
     "metadata": {},
     "output_type": "display_data"
    },
    {
     "data": {
      "application/vnd.jupyter.widget-view+json": {
       "model_id": "c51ce51a145b408ab8af24e11799ba5e",
       "version_major": 2,
       "version_minor": 0
      },
      "text/plain": [
       "Epoch 888:   0%|          | 0/196 [00:00<?, ?it/s]"
      ]
     },
     "metadata": {},
     "output_type": "display_data"
    },
    {
     "data": {
      "application/vnd.jupyter.widget-view+json": {
       "model_id": "b7641ac37dca413c97f58f342af1290c",
       "version_major": 2,
       "version_minor": 0
      },
      "text/plain": [
       "Epoch 889:   0%|          | 0/196 [00:00<?, ?it/s]"
      ]
     },
     "metadata": {},
     "output_type": "display_data"
    },
    {
     "data": {
      "application/vnd.jupyter.widget-view+json": {
       "model_id": "26cd3b236a534768b965dd034a2397ba",
       "version_major": 2,
       "version_minor": 0
      },
      "text/plain": [
       "Epoch 890:   0%|          | 0/196 [00:00<?, ?it/s]"
      ]
     },
     "metadata": {},
     "output_type": "display_data"
    },
    {
     "data": {
      "application/vnd.jupyter.widget-view+json": {
       "model_id": "3630f44a08b74d478eec390444f01370",
       "version_major": 2,
       "version_minor": 0
      },
      "text/plain": [
       "Epoch 891:   0%|          | 0/196 [00:00<?, ?it/s]"
      ]
     },
     "metadata": {},
     "output_type": "display_data"
    },
    {
     "data": {
      "application/vnd.jupyter.widget-view+json": {
       "model_id": "c2a0ddb0bb34498da1c4a9727ac53c7c",
       "version_major": 2,
       "version_minor": 0
      },
      "text/plain": [
       "Epoch 892:   0%|          | 0/196 [00:00<?, ?it/s]"
      ]
     },
     "metadata": {},
     "output_type": "display_data"
    },
    {
     "data": {
      "application/vnd.jupyter.widget-view+json": {
       "model_id": "19c28f3ac3694ced99ffff8dcae03ef5",
       "version_major": 2,
       "version_minor": 0
      },
      "text/plain": [
       "Epoch 893:   0%|          | 0/196 [00:00<?, ?it/s]"
      ]
     },
     "metadata": {},
     "output_type": "display_data"
    },
    {
     "data": {
      "application/vnd.jupyter.widget-view+json": {
       "model_id": "e8ace52de2444d06bb5b1ea4416564bc",
       "version_major": 2,
       "version_minor": 0
      },
      "text/plain": [
       "Epoch 894:   0%|          | 0/196 [00:00<?, ?it/s]"
      ]
     },
     "metadata": {},
     "output_type": "display_data"
    },
    {
     "data": {
      "application/vnd.jupyter.widget-view+json": {
       "model_id": "5c80efcdc9714c1db65c65b16dfb9231",
       "version_major": 2,
       "version_minor": 0
      },
      "text/plain": [
       "Epoch 895:   0%|          | 0/196 [00:00<?, ?it/s]"
      ]
     },
     "metadata": {},
     "output_type": "display_data"
    },
    {
     "data": {
      "application/vnd.jupyter.widget-view+json": {
       "model_id": "edc8720fa16142d9884cb41b270d2bf2",
       "version_major": 2,
       "version_minor": 0
      },
      "text/plain": [
       "Epoch 896:   0%|          | 0/196 [00:00<?, ?it/s]"
      ]
     },
     "metadata": {},
     "output_type": "display_data"
    },
    {
     "data": {
      "application/vnd.jupyter.widget-view+json": {
       "model_id": "9796caeb10b84b4fbedf97aefc3e79b9",
       "version_major": 2,
       "version_minor": 0
      },
      "text/plain": [
       "Epoch 897:   0%|          | 0/196 [00:00<?, ?it/s]"
      ]
     },
     "metadata": {},
     "output_type": "display_data"
    },
    {
     "data": {
      "application/vnd.jupyter.widget-view+json": {
       "model_id": "f17a5dbd54b84417b962cfaa5d09b81e",
       "version_major": 2,
       "version_minor": 0
      },
      "text/plain": [
       "Epoch 898:   0%|          | 0/196 [00:00<?, ?it/s]"
      ]
     },
     "metadata": {},
     "output_type": "display_data"
    },
    {
     "data": {
      "application/vnd.jupyter.widget-view+json": {
       "model_id": "ab5e8dbdc56548689a2c8e9df54329d1",
       "version_major": 2,
       "version_minor": 0
      },
      "text/plain": [
       "Epoch 899:   0%|          | 0/196 [00:00<?, ?it/s]"
      ]
     },
     "metadata": {},
     "output_type": "display_data"
    },
    {
     "data": {
      "application/vnd.jupyter.widget-view+json": {
       "model_id": "f3dc0bac7691449ab57d7f712e6496c0",
       "version_major": 2,
       "version_minor": 0
      },
      "text/plain": [
       "Epoch 900:   0%|          | 0/196 [00:00<?, ?it/s]"
      ]
     },
     "metadata": {},
     "output_type": "display_data"
    },
    {
     "data": {
      "application/vnd.jupyter.widget-view+json": {
       "model_id": "8d9b3fe40e9142a98d357f2f0b5c1c53",
       "version_major": 2,
       "version_minor": 0
      },
      "text/plain": [
       "Epoch 901:   0%|          | 0/196 [00:00<?, ?it/s]"
      ]
     },
     "metadata": {},
     "output_type": "display_data"
    },
    {
     "data": {
      "application/vnd.jupyter.widget-view+json": {
       "model_id": "c1088db5b8bb4473b9009de483835c1f",
       "version_major": 2,
       "version_minor": 0
      },
      "text/plain": [
       "Epoch 902:   0%|          | 0/196 [00:00<?, ?it/s]"
      ]
     },
     "metadata": {},
     "output_type": "display_data"
    },
    {
     "data": {
      "application/vnd.jupyter.widget-view+json": {
       "model_id": "3742f930918b474c89a94d6cb651af8c",
       "version_major": 2,
       "version_minor": 0
      },
      "text/plain": [
       "Epoch 903:   0%|          | 0/196 [00:00<?, ?it/s]"
      ]
     },
     "metadata": {},
     "output_type": "display_data"
    },
    {
     "data": {
      "application/vnd.jupyter.widget-view+json": {
       "model_id": "5bba441abfa143d28f2c7f688c75a41c",
       "version_major": 2,
       "version_minor": 0
      },
      "text/plain": [
       "Epoch 904:   0%|          | 0/196 [00:00<?, ?it/s]"
      ]
     },
     "metadata": {},
     "output_type": "display_data"
    },
    {
     "data": {
      "application/vnd.jupyter.widget-view+json": {
       "model_id": "774b4e965c7a4ef0b066195d54009a08",
       "version_major": 2,
       "version_minor": 0
      },
      "text/plain": [
       "Epoch 905:   0%|          | 0/196 [00:00<?, ?it/s]"
      ]
     },
     "metadata": {},
     "output_type": "display_data"
    },
    {
     "data": {
      "application/vnd.jupyter.widget-view+json": {
       "model_id": "a7f0eb872b1143118e0ebb0700bae1e0",
       "version_major": 2,
       "version_minor": 0
      },
      "text/plain": [
       "Epoch 906:   0%|          | 0/196 [00:00<?, ?it/s]"
      ]
     },
     "metadata": {},
     "output_type": "display_data"
    },
    {
     "data": {
      "application/vnd.jupyter.widget-view+json": {
       "model_id": "40728a02f4ef4afba31211be30831286",
       "version_major": 2,
       "version_minor": 0
      },
      "text/plain": [
       "Epoch 907:   0%|          | 0/196 [00:00<?, ?it/s]"
      ]
     },
     "metadata": {},
     "output_type": "display_data"
    },
    {
     "data": {
      "application/vnd.jupyter.widget-view+json": {
       "model_id": "6782e40b8ec14c648e5829a318865a85",
       "version_major": 2,
       "version_minor": 0
      },
      "text/plain": [
       "Epoch 908:   0%|          | 0/196 [00:00<?, ?it/s]"
      ]
     },
     "metadata": {},
     "output_type": "display_data"
    },
    {
     "data": {
      "application/vnd.jupyter.widget-view+json": {
       "model_id": "ebc22a46ac25435e9940b49719517005",
       "version_major": 2,
       "version_minor": 0
      },
      "text/plain": [
       "Epoch 909:   0%|          | 0/196 [00:00<?, ?it/s]"
      ]
     },
     "metadata": {},
     "output_type": "display_data"
    },
    {
     "data": {
      "application/vnd.jupyter.widget-view+json": {
       "model_id": "6a77d9ab2bda4a7cba96b171a852ef6a",
       "version_major": 2,
       "version_minor": 0
      },
      "text/plain": [
       "Epoch 910:   0%|          | 0/196 [00:00<?, ?it/s]"
      ]
     },
     "metadata": {},
     "output_type": "display_data"
    },
    {
     "data": {
      "application/vnd.jupyter.widget-view+json": {
       "model_id": "eb87e07876104c7aad447620db4c5f76",
       "version_major": 2,
       "version_minor": 0
      },
      "text/plain": [
       "Epoch 911:   0%|          | 0/196 [00:00<?, ?it/s]"
      ]
     },
     "metadata": {},
     "output_type": "display_data"
    },
    {
     "data": {
      "application/vnd.jupyter.widget-view+json": {
       "model_id": "e4dfccea08fd4898957325a4a9f53046",
       "version_major": 2,
       "version_minor": 0
      },
      "text/plain": [
       "Epoch 912:   0%|          | 0/196 [00:00<?, ?it/s]"
      ]
     },
     "metadata": {},
     "output_type": "display_data"
    },
    {
     "data": {
      "application/vnd.jupyter.widget-view+json": {
       "model_id": "aff647bbcba24bdaaee4258fcfae68fc",
       "version_major": 2,
       "version_minor": 0
      },
      "text/plain": [
       "Epoch 913:   0%|          | 0/196 [00:00<?, ?it/s]"
      ]
     },
     "metadata": {},
     "output_type": "display_data"
    },
    {
     "data": {
      "application/vnd.jupyter.widget-view+json": {
       "model_id": "36c537ea33df43b6a936561b370c09d2",
       "version_major": 2,
       "version_minor": 0
      },
      "text/plain": [
       "Epoch 914:   0%|          | 0/196 [00:00<?, ?it/s]"
      ]
     },
     "metadata": {},
     "output_type": "display_data"
    },
    {
     "data": {
      "application/vnd.jupyter.widget-view+json": {
       "model_id": "2d0ed376b6504aa287ea60ade4b91b7e",
       "version_major": 2,
       "version_minor": 0
      },
      "text/plain": [
       "Epoch 915:   0%|          | 0/196 [00:00<?, ?it/s]"
      ]
     },
     "metadata": {},
     "output_type": "display_data"
    },
    {
     "data": {
      "application/vnd.jupyter.widget-view+json": {
       "model_id": "ec05d0e13b7e47038746ee48d05ef25a",
       "version_major": 2,
       "version_minor": 0
      },
      "text/plain": [
       "Epoch 916:   0%|          | 0/196 [00:00<?, ?it/s]"
      ]
     },
     "metadata": {},
     "output_type": "display_data"
    },
    {
     "data": {
      "application/vnd.jupyter.widget-view+json": {
       "model_id": "4b4b4917b3904bebabcdedaca94df4f9",
       "version_major": 2,
       "version_minor": 0
      },
      "text/plain": [
       "Epoch 917:   0%|          | 0/196 [00:00<?, ?it/s]"
      ]
     },
     "metadata": {},
     "output_type": "display_data"
    },
    {
     "data": {
      "application/vnd.jupyter.widget-view+json": {
       "model_id": "3ec673d444ef4036b62698ab48dc9930",
       "version_major": 2,
       "version_minor": 0
      },
      "text/plain": [
       "Epoch 918:   0%|          | 0/196 [00:00<?, ?it/s]"
      ]
     },
     "metadata": {},
     "output_type": "display_data"
    },
    {
     "data": {
      "application/vnd.jupyter.widget-view+json": {
       "model_id": "3b032dc3b69c47799191a53179ecaa5c",
       "version_major": 2,
       "version_minor": 0
      },
      "text/plain": [
       "Epoch 919:   0%|          | 0/196 [00:00<?, ?it/s]"
      ]
     },
     "metadata": {},
     "output_type": "display_data"
    },
    {
     "data": {
      "application/vnd.jupyter.widget-view+json": {
       "model_id": "860d26554f6c4719a99d9c0f7892a745",
       "version_major": 2,
       "version_minor": 0
      },
      "text/plain": [
       "Epoch 920:   0%|          | 0/196 [00:00<?, ?it/s]"
      ]
     },
     "metadata": {},
     "output_type": "display_data"
    },
    {
     "data": {
      "application/vnd.jupyter.widget-view+json": {
       "model_id": "b169e865cccd4de480fafe0d5bf3fb86",
       "version_major": 2,
       "version_minor": 0
      },
      "text/plain": [
       "Epoch 921:   0%|          | 0/196 [00:00<?, ?it/s]"
      ]
     },
     "metadata": {},
     "output_type": "display_data"
    },
    {
     "data": {
      "application/vnd.jupyter.widget-view+json": {
       "model_id": "4e43dc0e7358401497966b0ba4464820",
       "version_major": 2,
       "version_minor": 0
      },
      "text/plain": [
       "Epoch 922:   0%|          | 0/196 [00:00<?, ?it/s]"
      ]
     },
     "metadata": {},
     "output_type": "display_data"
    },
    {
     "data": {
      "application/vnd.jupyter.widget-view+json": {
       "model_id": "210ed84635c846fd931556f0597379f2",
       "version_major": 2,
       "version_minor": 0
      },
      "text/plain": [
       "Epoch 923:   0%|          | 0/196 [00:00<?, ?it/s]"
      ]
     },
     "metadata": {},
     "output_type": "display_data"
    },
    {
     "data": {
      "application/vnd.jupyter.widget-view+json": {
       "model_id": "774d9d36607b466186ea14b38656c3ac",
       "version_major": 2,
       "version_minor": 0
      },
      "text/plain": [
       "Epoch 924:   0%|          | 0/196 [00:00<?, ?it/s]"
      ]
     },
     "metadata": {},
     "output_type": "display_data"
    },
    {
     "data": {
      "application/vnd.jupyter.widget-view+json": {
       "model_id": "391d78074fd943199030bcb56e2a198d",
       "version_major": 2,
       "version_minor": 0
      },
      "text/plain": [
       "Epoch 925:   0%|          | 0/196 [00:00<?, ?it/s]"
      ]
     },
     "metadata": {},
     "output_type": "display_data"
    },
    {
     "data": {
      "application/vnd.jupyter.widget-view+json": {
       "model_id": "821f58fea921420aa70a0bb799ed4925",
       "version_major": 2,
       "version_minor": 0
      },
      "text/plain": [
       "Epoch 926:   0%|          | 0/196 [00:00<?, ?it/s]"
      ]
     },
     "metadata": {},
     "output_type": "display_data"
    },
    {
     "data": {
      "application/vnd.jupyter.widget-view+json": {
       "model_id": "2d3c64571cb54bf7a7047705569ae1c6",
       "version_major": 2,
       "version_minor": 0
      },
      "text/plain": [
       "Epoch 927:   0%|          | 0/196 [00:00<?, ?it/s]"
      ]
     },
     "metadata": {},
     "output_type": "display_data"
    },
    {
     "data": {
      "application/vnd.jupyter.widget-view+json": {
       "model_id": "8c69ce7714cb4af8b17d1e8122b1c24a",
       "version_major": 2,
       "version_minor": 0
      },
      "text/plain": [
       "Epoch 928:   0%|          | 0/196 [00:00<?, ?it/s]"
      ]
     },
     "metadata": {},
     "output_type": "display_data"
    },
    {
     "data": {
      "application/vnd.jupyter.widget-view+json": {
       "model_id": "f304ae635c2648f9ba2440b7d3233201",
       "version_major": 2,
       "version_minor": 0
      },
      "text/plain": [
       "Epoch 929:   0%|          | 0/196 [00:00<?, ?it/s]"
      ]
     },
     "metadata": {},
     "output_type": "display_data"
    },
    {
     "data": {
      "application/vnd.jupyter.widget-view+json": {
       "model_id": "19faa25f92004851a9ae59991b13dc3b",
       "version_major": 2,
       "version_minor": 0
      },
      "text/plain": [
       "Epoch 930:   0%|          | 0/196 [00:00<?, ?it/s]"
      ]
     },
     "metadata": {},
     "output_type": "display_data"
    },
    {
     "data": {
      "application/vnd.jupyter.widget-view+json": {
       "model_id": "ee6225eee43b463fb53771b39b3767d9",
       "version_major": 2,
       "version_minor": 0
      },
      "text/plain": [
       "Epoch 931:   0%|          | 0/196 [00:00<?, ?it/s]"
      ]
     },
     "metadata": {},
     "output_type": "display_data"
    },
    {
     "data": {
      "application/vnd.jupyter.widget-view+json": {
       "model_id": "4f252169db674a51b420e904484f652b",
       "version_major": 2,
       "version_minor": 0
      },
      "text/plain": [
       "Epoch 932:   0%|          | 0/196 [00:00<?, ?it/s]"
      ]
     },
     "metadata": {},
     "output_type": "display_data"
    },
    {
     "data": {
      "application/vnd.jupyter.widget-view+json": {
       "model_id": "5306001f503f46c381b7a9a70195fabb",
       "version_major": 2,
       "version_minor": 0
      },
      "text/plain": [
       "Epoch 933:   0%|          | 0/196 [00:00<?, ?it/s]"
      ]
     },
     "metadata": {},
     "output_type": "display_data"
    },
    {
     "data": {
      "application/vnd.jupyter.widget-view+json": {
       "model_id": "d1b6bb0e0d164395b7ac28afaf58f85e",
       "version_major": 2,
       "version_minor": 0
      },
      "text/plain": [
       "Epoch 934:   0%|          | 0/196 [00:00<?, ?it/s]"
      ]
     },
     "metadata": {},
     "output_type": "display_data"
    },
    {
     "data": {
      "application/vnd.jupyter.widget-view+json": {
       "model_id": "eadd576a8b964b27b5f53eacc04fd209",
       "version_major": 2,
       "version_minor": 0
      },
      "text/plain": [
       "Epoch 935:   0%|          | 0/196 [00:00<?, ?it/s]"
      ]
     },
     "metadata": {},
     "output_type": "display_data"
    },
    {
     "data": {
      "application/vnd.jupyter.widget-view+json": {
       "model_id": "2a710edd6dfc4f9f89cb7c58dbf8230d",
       "version_major": 2,
       "version_minor": 0
      },
      "text/plain": [
       "Epoch 936:   0%|          | 0/196 [00:00<?, ?it/s]"
      ]
     },
     "metadata": {},
     "output_type": "display_data"
    },
    {
     "data": {
      "application/vnd.jupyter.widget-view+json": {
       "model_id": "a820f5c0675d4171a9209c50c38ce343",
       "version_major": 2,
       "version_minor": 0
      },
      "text/plain": [
       "Epoch 937:   0%|          | 0/196 [00:00<?, ?it/s]"
      ]
     },
     "metadata": {},
     "output_type": "display_data"
    },
    {
     "data": {
      "application/vnd.jupyter.widget-view+json": {
       "model_id": "47139f92973c445c8daa2266d70bfb4b",
       "version_major": 2,
       "version_minor": 0
      },
      "text/plain": [
       "Epoch 938:   0%|          | 0/196 [00:00<?, ?it/s]"
      ]
     },
     "metadata": {},
     "output_type": "display_data"
    },
    {
     "data": {
      "application/vnd.jupyter.widget-view+json": {
       "model_id": "564d930c6d7d4198934f305bd8113ae5",
       "version_major": 2,
       "version_minor": 0
      },
      "text/plain": [
       "Epoch 939:   0%|          | 0/196 [00:00<?, ?it/s]"
      ]
     },
     "metadata": {},
     "output_type": "display_data"
    },
    {
     "data": {
      "application/vnd.jupyter.widget-view+json": {
       "model_id": "7db2234ea93d484080f0731a4c27d022",
       "version_major": 2,
       "version_minor": 0
      },
      "text/plain": [
       "Epoch 940:   0%|          | 0/196 [00:00<?, ?it/s]"
      ]
     },
     "metadata": {},
     "output_type": "display_data"
    },
    {
     "data": {
      "application/vnd.jupyter.widget-view+json": {
       "model_id": "e2428212da7e49fca267e24ef4b86611",
       "version_major": 2,
       "version_minor": 0
      },
      "text/plain": [
       "Epoch 941:   0%|          | 0/196 [00:00<?, ?it/s]"
      ]
     },
     "metadata": {},
     "output_type": "display_data"
    },
    {
     "data": {
      "application/vnd.jupyter.widget-view+json": {
       "model_id": "39408400a91f46d6ad8bf53d0845709d",
       "version_major": 2,
       "version_minor": 0
      },
      "text/plain": [
       "Epoch 942:   0%|          | 0/196 [00:00<?, ?it/s]"
      ]
     },
     "metadata": {},
     "output_type": "display_data"
    },
    {
     "data": {
      "application/vnd.jupyter.widget-view+json": {
       "model_id": "f4f4eab816ac47539639c1c8b7c0b30b",
       "version_major": 2,
       "version_minor": 0
      },
      "text/plain": [
       "Epoch 943:   0%|          | 0/196 [00:00<?, ?it/s]"
      ]
     },
     "metadata": {},
     "output_type": "display_data"
    },
    {
     "data": {
      "application/vnd.jupyter.widget-view+json": {
       "model_id": "d2f8d191d2b645f79fa2cc20487fa88f",
       "version_major": 2,
       "version_minor": 0
      },
      "text/plain": [
       "Epoch 944:   0%|          | 0/196 [00:00<?, ?it/s]"
      ]
     },
     "metadata": {},
     "output_type": "display_data"
    },
    {
     "data": {
      "application/vnd.jupyter.widget-view+json": {
       "model_id": "47a8762aa9134667907f39ddd75363df",
       "version_major": 2,
       "version_minor": 0
      },
      "text/plain": [
       "Epoch 945:   0%|          | 0/196 [00:00<?, ?it/s]"
      ]
     },
     "metadata": {},
     "output_type": "display_data"
    },
    {
     "data": {
      "application/vnd.jupyter.widget-view+json": {
       "model_id": "2ecd786a1c6c400097f157b0ec596d43",
       "version_major": 2,
       "version_minor": 0
      },
      "text/plain": [
       "Epoch 946:   0%|          | 0/196 [00:00<?, ?it/s]"
      ]
     },
     "metadata": {},
     "output_type": "display_data"
    },
    {
     "data": {
      "application/vnd.jupyter.widget-view+json": {
       "model_id": "65f03afce4264c439a949de4c03d9b58",
       "version_major": 2,
       "version_minor": 0
      },
      "text/plain": [
       "Epoch 947:   0%|          | 0/196 [00:00<?, ?it/s]"
      ]
     },
     "metadata": {},
     "output_type": "display_data"
    },
    {
     "data": {
      "application/vnd.jupyter.widget-view+json": {
       "model_id": "f3332fd36f264176b9c19b8c6d56edfd",
       "version_major": 2,
       "version_minor": 0
      },
      "text/plain": [
       "Epoch 948:   0%|          | 0/196 [00:00<?, ?it/s]"
      ]
     },
     "metadata": {},
     "output_type": "display_data"
    },
    {
     "data": {
      "application/vnd.jupyter.widget-view+json": {
       "model_id": "513dd0f68589408b90f66620ed7a24aa",
       "version_major": 2,
       "version_minor": 0
      },
      "text/plain": [
       "Epoch 949:   0%|          | 0/196 [00:00<?, ?it/s]"
      ]
     },
     "metadata": {},
     "output_type": "display_data"
    },
    {
     "data": {
      "application/vnd.jupyter.widget-view+json": {
       "model_id": "c035b6c02e3c48319d47ad69ea344bca",
       "version_major": 2,
       "version_minor": 0
      },
      "text/plain": [
       "Epoch 950:   0%|          | 0/196 [00:00<?, ?it/s]"
      ]
     },
     "metadata": {},
     "output_type": "display_data"
    },
    {
     "data": {
      "application/vnd.jupyter.widget-view+json": {
       "model_id": "5d1cd0528e994ee3ae1681f9a03438ea",
       "version_major": 2,
       "version_minor": 0
      },
      "text/plain": [
       "Epoch 951:   0%|          | 0/196 [00:00<?, ?it/s]"
      ]
     },
     "metadata": {},
     "output_type": "display_data"
    },
    {
     "data": {
      "application/vnd.jupyter.widget-view+json": {
       "model_id": "6f90404d096942dcb36510779e0c9729",
       "version_major": 2,
       "version_minor": 0
      },
      "text/plain": [
       "Epoch 952:   0%|          | 0/196 [00:00<?, ?it/s]"
      ]
     },
     "metadata": {},
     "output_type": "display_data"
    },
    {
     "data": {
      "application/vnd.jupyter.widget-view+json": {
       "model_id": "636d897d25e94d8a8ba8b3feb1c58b0d",
       "version_major": 2,
       "version_minor": 0
      },
      "text/plain": [
       "Epoch 953:   0%|          | 0/196 [00:00<?, ?it/s]"
      ]
     },
     "metadata": {},
     "output_type": "display_data"
    },
    {
     "data": {
      "application/vnd.jupyter.widget-view+json": {
       "model_id": "401af6a834ed46aaa3d82c9149f6ef8c",
       "version_major": 2,
       "version_minor": 0
      },
      "text/plain": [
       "Epoch 954:   0%|          | 0/196 [00:00<?, ?it/s]"
      ]
     },
     "metadata": {},
     "output_type": "display_data"
    },
    {
     "data": {
      "application/vnd.jupyter.widget-view+json": {
       "model_id": "3d5aa92faca346759323ad3458ad25ff",
       "version_major": 2,
       "version_minor": 0
      },
      "text/plain": [
       "Epoch 955:   0%|          | 0/196 [00:00<?, ?it/s]"
      ]
     },
     "metadata": {},
     "output_type": "display_data"
    },
    {
     "data": {
      "application/vnd.jupyter.widget-view+json": {
       "model_id": "a3a4bcee3c2a4fa4a27aa377f4c2e5ae",
       "version_major": 2,
       "version_minor": 0
      },
      "text/plain": [
       "Epoch 956:   0%|          | 0/196 [00:00<?, ?it/s]"
      ]
     },
     "metadata": {},
     "output_type": "display_data"
    },
    {
     "data": {
      "application/vnd.jupyter.widget-view+json": {
       "model_id": "076a60ed38fd4ed1a5d554fb50a5e859",
       "version_major": 2,
       "version_minor": 0
      },
      "text/plain": [
       "Epoch 957:   0%|          | 0/196 [00:00<?, ?it/s]"
      ]
     },
     "metadata": {},
     "output_type": "display_data"
    },
    {
     "data": {
      "application/vnd.jupyter.widget-view+json": {
       "model_id": "bb16859b959c4c0584caafb842a2c84f",
       "version_major": 2,
       "version_minor": 0
      },
      "text/plain": [
       "Epoch 958:   0%|          | 0/196 [00:00<?, ?it/s]"
      ]
     },
     "metadata": {},
     "output_type": "display_data"
    },
    {
     "data": {
      "application/vnd.jupyter.widget-view+json": {
       "model_id": "a6b020f898e143e38230c60fc8aab8e6",
       "version_major": 2,
       "version_minor": 0
      },
      "text/plain": [
       "Epoch 959:   0%|          | 0/196 [00:00<?, ?it/s]"
      ]
     },
     "metadata": {},
     "output_type": "display_data"
    },
    {
     "data": {
      "application/vnd.jupyter.widget-view+json": {
       "model_id": "da907f2440d841789fc7e03e41a11d22",
       "version_major": 2,
       "version_minor": 0
      },
      "text/plain": [
       "Epoch 960:   0%|          | 0/196 [00:00<?, ?it/s]"
      ]
     },
     "metadata": {},
     "output_type": "display_data"
    },
    {
     "data": {
      "application/vnd.jupyter.widget-view+json": {
       "model_id": "74eb836aea8d4a15b37d55f779309b58",
       "version_major": 2,
       "version_minor": 0
      },
      "text/plain": [
       "Epoch 961:   0%|          | 0/196 [00:00<?, ?it/s]"
      ]
     },
     "metadata": {},
     "output_type": "display_data"
    },
    {
     "data": {
      "application/vnd.jupyter.widget-view+json": {
       "model_id": "ae8dee75279f4ae5abd55db7d7ca3f50",
       "version_major": 2,
       "version_minor": 0
      },
      "text/plain": [
       "Epoch 962:   0%|          | 0/196 [00:00<?, ?it/s]"
      ]
     },
     "metadata": {},
     "output_type": "display_data"
    },
    {
     "data": {
      "application/vnd.jupyter.widget-view+json": {
       "model_id": "b7d98bdb7e43403888c1d753b0d6224b",
       "version_major": 2,
       "version_minor": 0
      },
      "text/plain": [
       "Epoch 963:   0%|          | 0/196 [00:00<?, ?it/s]"
      ]
     },
     "metadata": {},
     "output_type": "display_data"
    },
    {
     "data": {
      "application/vnd.jupyter.widget-view+json": {
       "model_id": "a645d37df02f4ed78583b8e8b0bede91",
       "version_major": 2,
       "version_minor": 0
      },
      "text/plain": [
       "Epoch 964:   0%|          | 0/196 [00:00<?, ?it/s]"
      ]
     },
     "metadata": {},
     "output_type": "display_data"
    },
    {
     "data": {
      "application/vnd.jupyter.widget-view+json": {
       "model_id": "8128fb9034b24f538ef4648f994a704d",
       "version_major": 2,
       "version_minor": 0
      },
      "text/plain": [
       "Epoch 965:   0%|          | 0/196 [00:00<?, ?it/s]"
      ]
     },
     "metadata": {},
     "output_type": "display_data"
    },
    {
     "data": {
      "application/vnd.jupyter.widget-view+json": {
       "model_id": "5406d1c3667b43f389fac67bc905240b",
       "version_major": 2,
       "version_minor": 0
      },
      "text/plain": [
       "Epoch 966:   0%|          | 0/196 [00:00<?, ?it/s]"
      ]
     },
     "metadata": {},
     "output_type": "display_data"
    },
    {
     "data": {
      "application/vnd.jupyter.widget-view+json": {
       "model_id": "395c458f62764fc48288e56992935c01",
       "version_major": 2,
       "version_minor": 0
      },
      "text/plain": [
       "Epoch 967:   0%|          | 0/196 [00:00<?, ?it/s]"
      ]
     },
     "metadata": {},
     "output_type": "display_data"
    },
    {
     "data": {
      "application/vnd.jupyter.widget-view+json": {
       "model_id": "93a19849d3fc460e86cf63744b43cca9",
       "version_major": 2,
       "version_minor": 0
      },
      "text/plain": [
       "Epoch 968:   0%|          | 0/196 [00:00<?, ?it/s]"
      ]
     },
     "metadata": {},
     "output_type": "display_data"
    },
    {
     "data": {
      "application/vnd.jupyter.widget-view+json": {
       "model_id": "44ef9b49ed56422894872780cf008457",
       "version_major": 2,
       "version_minor": 0
      },
      "text/plain": [
       "Epoch 969:   0%|          | 0/196 [00:00<?, ?it/s]"
      ]
     },
     "metadata": {},
     "output_type": "display_data"
    },
    {
     "data": {
      "application/vnd.jupyter.widget-view+json": {
       "model_id": "6d7a45f15d9e46ac8733a950773d7f6d",
       "version_major": 2,
       "version_minor": 0
      },
      "text/plain": [
       "Epoch 970:   0%|          | 0/196 [00:00<?, ?it/s]"
      ]
     },
     "metadata": {},
     "output_type": "display_data"
    },
    {
     "data": {
      "application/vnd.jupyter.widget-view+json": {
       "model_id": "20f4021c512a4e25ba878edb22c7b8c8",
       "version_major": 2,
       "version_minor": 0
      },
      "text/plain": [
       "Epoch 971:   0%|          | 0/196 [00:00<?, ?it/s]"
      ]
     },
     "metadata": {},
     "output_type": "display_data"
    },
    {
     "data": {
      "application/vnd.jupyter.widget-view+json": {
       "model_id": "5fc521ba52c54e69a706373ff41fbdc8",
       "version_major": 2,
       "version_minor": 0
      },
      "text/plain": [
       "Epoch 972:   0%|          | 0/196 [00:00<?, ?it/s]"
      ]
     },
     "metadata": {},
     "output_type": "display_data"
    },
    {
     "data": {
      "application/vnd.jupyter.widget-view+json": {
       "model_id": "d89adda069b44675aace367d7d82f07f",
       "version_major": 2,
       "version_minor": 0
      },
      "text/plain": [
       "Epoch 973:   0%|          | 0/196 [00:00<?, ?it/s]"
      ]
     },
     "metadata": {},
     "output_type": "display_data"
    },
    {
     "data": {
      "application/vnd.jupyter.widget-view+json": {
       "model_id": "1342aaa058064c84b09b93700a42437d",
       "version_major": 2,
       "version_minor": 0
      },
      "text/plain": [
       "Epoch 974:   0%|          | 0/196 [00:00<?, ?it/s]"
      ]
     },
     "metadata": {},
     "output_type": "display_data"
    },
    {
     "data": {
      "application/vnd.jupyter.widget-view+json": {
       "model_id": "1a227b9b3a6c4954a25f349fe1ee4733",
       "version_major": 2,
       "version_minor": 0
      },
      "text/plain": [
       "Epoch 975:   0%|          | 0/196 [00:00<?, ?it/s]"
      ]
     },
     "metadata": {},
     "output_type": "display_data"
    },
    {
     "data": {
      "application/vnd.jupyter.widget-view+json": {
       "model_id": "84d6c16d31b84b66a1958d7a013f3eb5",
       "version_major": 2,
       "version_minor": 0
      },
      "text/plain": [
       "Epoch 976:   0%|          | 0/196 [00:00<?, ?it/s]"
      ]
     },
     "metadata": {},
     "output_type": "display_data"
    },
    {
     "data": {
      "application/vnd.jupyter.widget-view+json": {
       "model_id": "f9aaa7d861e74789b3fae955fa5dde18",
       "version_major": 2,
       "version_minor": 0
      },
      "text/plain": [
       "Epoch 977:   0%|          | 0/196 [00:00<?, ?it/s]"
      ]
     },
     "metadata": {},
     "output_type": "display_data"
    },
    {
     "data": {
      "application/vnd.jupyter.widget-view+json": {
       "model_id": "4a83e0ba176a445abe44e1857ee16740",
       "version_major": 2,
       "version_minor": 0
      },
      "text/plain": [
       "Epoch 978:   0%|          | 0/196 [00:00<?, ?it/s]"
      ]
     },
     "metadata": {},
     "output_type": "display_data"
    },
    {
     "data": {
      "application/vnd.jupyter.widget-view+json": {
       "model_id": "f642b904d63d4fdb9fe3355aebe40b0e",
       "version_major": 2,
       "version_minor": 0
      },
      "text/plain": [
       "Epoch 979:   0%|          | 0/196 [00:00<?, ?it/s]"
      ]
     },
     "metadata": {},
     "output_type": "display_data"
    },
    {
     "data": {
      "application/vnd.jupyter.widget-view+json": {
       "model_id": "13407620e8dd4a6984b1905a3c145686",
       "version_major": 2,
       "version_minor": 0
      },
      "text/plain": [
       "Epoch 980:   0%|          | 0/196 [00:00<?, ?it/s]"
      ]
     },
     "metadata": {},
     "output_type": "display_data"
    },
    {
     "data": {
      "application/vnd.jupyter.widget-view+json": {
       "model_id": "5bb0f8aa288c4d268185e049f6d2c5c9",
       "version_major": 2,
       "version_minor": 0
      },
      "text/plain": [
       "Epoch 981:   0%|          | 0/196 [00:00<?, ?it/s]"
      ]
     },
     "metadata": {},
     "output_type": "display_data"
    },
    {
     "data": {
      "application/vnd.jupyter.widget-view+json": {
       "model_id": "aeb9868815e04305ae77ec316060eb11",
       "version_major": 2,
       "version_minor": 0
      },
      "text/plain": [
       "Epoch 982:   0%|          | 0/196 [00:00<?, ?it/s]"
      ]
     },
     "metadata": {},
     "output_type": "display_data"
    },
    {
     "data": {
      "application/vnd.jupyter.widget-view+json": {
       "model_id": "b66c8b3402184d4fa9a90927a2ed6577",
       "version_major": 2,
       "version_minor": 0
      },
      "text/plain": [
       "Epoch 983:   0%|          | 0/196 [00:00<?, ?it/s]"
      ]
     },
     "metadata": {},
     "output_type": "display_data"
    },
    {
     "data": {
      "application/vnd.jupyter.widget-view+json": {
       "model_id": "f7a353ce54bb44a3ab645985b8edcf0b",
       "version_major": 2,
       "version_minor": 0
      },
      "text/plain": [
       "Epoch 984:   0%|          | 0/196 [00:00<?, ?it/s]"
      ]
     },
     "metadata": {},
     "output_type": "display_data"
    },
    {
     "data": {
      "application/vnd.jupyter.widget-view+json": {
       "model_id": "b3282b3ba3454a1fa31bbf47d8047c15",
       "version_major": 2,
       "version_minor": 0
      },
      "text/plain": [
       "Epoch 985:   0%|          | 0/196 [00:00<?, ?it/s]"
      ]
     },
     "metadata": {},
     "output_type": "display_data"
    },
    {
     "data": {
      "application/vnd.jupyter.widget-view+json": {
       "model_id": "d9e86bd7eb57458ca71fd45bf0fba445",
       "version_major": 2,
       "version_minor": 0
      },
      "text/plain": [
       "Epoch 986:   0%|          | 0/196 [00:00<?, ?it/s]"
      ]
     },
     "metadata": {},
     "output_type": "display_data"
    },
    {
     "data": {
      "application/vnd.jupyter.widget-view+json": {
       "model_id": "7b77e2cbb7cd421aa7dd44eb66961362",
       "version_major": 2,
       "version_minor": 0
      },
      "text/plain": [
       "Epoch 987:   0%|          | 0/196 [00:00<?, ?it/s]"
      ]
     },
     "metadata": {},
     "output_type": "display_data"
    },
    {
     "data": {
      "application/vnd.jupyter.widget-view+json": {
       "model_id": "e4e11e2ad06548e698acd291dae7ec82",
       "version_major": 2,
       "version_minor": 0
      },
      "text/plain": [
       "Epoch 988:   0%|          | 0/196 [00:00<?, ?it/s]"
      ]
     },
     "metadata": {},
     "output_type": "display_data"
    },
    {
     "data": {
      "application/vnd.jupyter.widget-view+json": {
       "model_id": "9a6bb20e0efa42d7ac28e15efe23de7f",
       "version_major": 2,
       "version_minor": 0
      },
      "text/plain": [
       "Epoch 989:   0%|          | 0/196 [00:00<?, ?it/s]"
      ]
     },
     "metadata": {},
     "output_type": "display_data"
    },
    {
     "data": {
      "application/vnd.jupyter.widget-view+json": {
       "model_id": "78f39670a62e460e95d2f50ba4ab53ef",
       "version_major": 2,
       "version_minor": 0
      },
      "text/plain": [
       "Epoch 990:   0%|          | 0/196 [00:00<?, ?it/s]"
      ]
     },
     "metadata": {},
     "output_type": "display_data"
    },
    {
     "data": {
      "application/vnd.jupyter.widget-view+json": {
       "model_id": "b7b04fa0da7c458db4d30ced44830c59",
       "version_major": 2,
       "version_minor": 0
      },
      "text/plain": [
       "Epoch 991:   0%|          | 0/196 [00:00<?, ?it/s]"
      ]
     },
     "metadata": {},
     "output_type": "display_data"
    },
    {
     "data": {
      "application/vnd.jupyter.widget-view+json": {
       "model_id": "fd71a4f8776748499b1035b0b02f370c",
       "version_major": 2,
       "version_minor": 0
      },
      "text/plain": [
       "Epoch 992:   0%|          | 0/196 [00:00<?, ?it/s]"
      ]
     },
     "metadata": {},
     "output_type": "display_data"
    },
    {
     "data": {
      "application/vnd.jupyter.widget-view+json": {
       "model_id": "a73c787b462147e0bdcd6d22cb02fbff",
       "version_major": 2,
       "version_minor": 0
      },
      "text/plain": [
       "Epoch 993:   0%|          | 0/196 [00:00<?, ?it/s]"
      ]
     },
     "metadata": {},
     "output_type": "display_data"
    },
    {
     "data": {
      "application/vnd.jupyter.widget-view+json": {
       "model_id": "ed028fa8dbc747b89cae10ea1759572b",
       "version_major": 2,
       "version_minor": 0
      },
      "text/plain": [
       "Epoch 994:   0%|          | 0/196 [00:00<?, ?it/s]"
      ]
     },
     "metadata": {},
     "output_type": "display_data"
    },
    {
     "data": {
      "application/vnd.jupyter.widget-view+json": {
       "model_id": "3da2728ef635434a82ecbe151de20e60",
       "version_major": 2,
       "version_minor": 0
      },
      "text/plain": [
       "Epoch 995:   0%|          | 0/196 [00:00<?, ?it/s]"
      ]
     },
     "metadata": {},
     "output_type": "display_data"
    },
    {
     "data": {
      "application/vnd.jupyter.widget-view+json": {
       "model_id": "27b16ca0c5884633948661581487d5bf",
       "version_major": 2,
       "version_minor": 0
      },
      "text/plain": [
       "Epoch 996:   0%|          | 0/196 [00:00<?, ?it/s]"
      ]
     },
     "metadata": {},
     "output_type": "display_data"
    },
    {
     "data": {
      "application/vnd.jupyter.widget-view+json": {
       "model_id": "842eea00b1f143bfaf3d81249fa4f47e",
       "version_major": 2,
       "version_minor": 0
      },
      "text/plain": [
       "Epoch 997:   0%|          | 0/196 [00:00<?, ?it/s]"
      ]
     },
     "metadata": {},
     "output_type": "display_data"
    },
    {
     "data": {
      "application/vnd.jupyter.widget-view+json": {
       "model_id": "b5eef6eba658427893fd7c533d0f512b",
       "version_major": 2,
       "version_minor": 0
      },
      "text/plain": [
       "Epoch 998:   0%|          | 0/196 [00:00<?, ?it/s]"
      ]
     },
     "metadata": {},
     "output_type": "display_data"
    },
    {
     "data": {
      "application/vnd.jupyter.widget-view+json": {
       "model_id": "e8df4dab90c143ea9f3049c3271b194f",
       "version_major": 2,
       "version_minor": 0
      },
      "text/plain": [
       "Epoch 999:   0%|          | 0/196 [00:00<?, ?it/s]"
      ]
     },
     "metadata": {},
     "output_type": "display_data"
    },
    {
     "data": {
      "application/vnd.jupyter.widget-view+json": {
       "model_id": "6b61ed2b326f4d12b3d79a42f979d53a",
       "version_major": 2,
       "version_minor": 0
      },
      "text/plain": [
       "Epoch 1000:   0%|          | 0/196 [00:00<?, ?it/s]"
      ]
     },
     "metadata": {},
     "output_type": "display_data"
    },
    {
     "data": {
      "application/vnd.jupyter.widget-view+json": {
       "model_id": "84af770302b34a50aa2dc3036d17de2a",
       "version_major": 2,
       "version_minor": 0
      },
      "text/plain": [
       "Epoch 1001:   0%|          | 0/196 [00:00<?, ?it/s]"
      ]
     },
     "metadata": {},
     "output_type": "display_data"
    },
    {
     "data": {
      "application/vnd.jupyter.widget-view+json": {
       "model_id": "f5d07581202441eb89da72b06fd781da",
       "version_major": 2,
       "version_minor": 0
      },
      "text/plain": [
       "Epoch 1002:   0%|          | 0/196 [00:00<?, ?it/s]"
      ]
     },
     "metadata": {},
     "output_type": "display_data"
    },
    {
     "data": {
      "application/vnd.jupyter.widget-view+json": {
       "model_id": "f59f72cf5bd943638703e160475d94b0",
       "version_major": 2,
       "version_minor": 0
      },
      "text/plain": [
       "Epoch 1003:   0%|          | 0/196 [00:00<?, ?it/s]"
      ]
     },
     "metadata": {},
     "output_type": "display_data"
    },
    {
     "data": {
      "application/vnd.jupyter.widget-view+json": {
       "model_id": "5a8ec617369f4a2ab4310c76612897fb",
       "version_major": 2,
       "version_minor": 0
      },
      "text/plain": [
       "Epoch 1004:   0%|          | 0/196 [00:00<?, ?it/s]"
      ]
     },
     "metadata": {},
     "output_type": "display_data"
    },
    {
     "data": {
      "application/vnd.jupyter.widget-view+json": {
       "model_id": "8b4335e656254eefb09afce0a119418b",
       "version_major": 2,
       "version_minor": 0
      },
      "text/plain": [
       "Epoch 1005:   0%|          | 0/196 [00:00<?, ?it/s]"
      ]
     },
     "metadata": {},
     "output_type": "display_data"
    },
    {
     "data": {
      "application/vnd.jupyter.widget-view+json": {
       "model_id": "dd4322cb497149b4b90be9576fc00b46",
       "version_major": 2,
       "version_minor": 0
      },
      "text/plain": [
       "Epoch 1006:   0%|          | 0/196 [00:00<?, ?it/s]"
      ]
     },
     "metadata": {},
     "output_type": "display_data"
    },
    {
     "data": {
      "application/vnd.jupyter.widget-view+json": {
       "model_id": "cd8cd6d1d300451eb5be4e513945d563",
       "version_major": 2,
       "version_minor": 0
      },
      "text/plain": [
       "Epoch 1007:   0%|          | 0/196 [00:00<?, ?it/s]"
      ]
     },
     "metadata": {},
     "output_type": "display_data"
    },
    {
     "data": {
      "application/vnd.jupyter.widget-view+json": {
       "model_id": "a3a6e025a24d447cb656b7733a4948f9",
       "version_major": 2,
       "version_minor": 0
      },
      "text/plain": [
       "Epoch 1008:   0%|          | 0/196 [00:00<?, ?it/s]"
      ]
     },
     "metadata": {},
     "output_type": "display_data"
    },
    {
     "data": {
      "application/vnd.jupyter.widget-view+json": {
       "model_id": "aed4f1895b064be9b0b72212cb6d0149",
       "version_major": 2,
       "version_minor": 0
      },
      "text/plain": [
       "Epoch 1009:   0%|          | 0/196 [00:00<?, ?it/s]"
      ]
     },
     "metadata": {},
     "output_type": "display_data"
    },
    {
     "data": {
      "application/vnd.jupyter.widget-view+json": {
       "model_id": "77aab9dbd2474fc7b623c946fb95b130",
       "version_major": 2,
       "version_minor": 0
      },
      "text/plain": [
       "Epoch 1010:   0%|          | 0/196 [00:00<?, ?it/s]"
      ]
     },
     "metadata": {},
     "output_type": "display_data"
    },
    {
     "data": {
      "application/vnd.jupyter.widget-view+json": {
       "model_id": "1ff466c8e78b448383b76cab726daa8b",
       "version_major": 2,
       "version_minor": 0
      },
      "text/plain": [
       "Epoch 1011:   0%|          | 0/196 [00:00<?, ?it/s]"
      ]
     },
     "metadata": {},
     "output_type": "display_data"
    },
    {
     "data": {
      "application/vnd.jupyter.widget-view+json": {
       "model_id": "05239d1cc4904529ab637706593d6691",
       "version_major": 2,
       "version_minor": 0
      },
      "text/plain": [
       "Epoch 1012:   0%|          | 0/196 [00:00<?, ?it/s]"
      ]
     },
     "metadata": {},
     "output_type": "display_data"
    },
    {
     "data": {
      "application/vnd.jupyter.widget-view+json": {
       "model_id": "b7288ec467794c66997a60d810c1185a",
       "version_major": 2,
       "version_minor": 0
      },
      "text/plain": [
       "Epoch 1013:   0%|          | 0/196 [00:00<?, ?it/s]"
      ]
     },
     "metadata": {},
     "output_type": "display_data"
    },
    {
     "data": {
      "application/vnd.jupyter.widget-view+json": {
       "model_id": "45145bf543624046b1604bd6d35a5391",
       "version_major": 2,
       "version_minor": 0
      },
      "text/plain": [
       "Epoch 1014:   0%|          | 0/196 [00:00<?, ?it/s]"
      ]
     },
     "metadata": {},
     "output_type": "display_data"
    },
    {
     "data": {
      "application/vnd.jupyter.widget-view+json": {
       "model_id": "b37f4deea8ef47d5860e88e7256386db",
       "version_major": 2,
       "version_minor": 0
      },
      "text/plain": [
       "Epoch 1015:   0%|          | 0/196 [00:00<?, ?it/s]"
      ]
     },
     "metadata": {},
     "output_type": "display_data"
    },
    {
     "data": {
      "application/vnd.jupyter.widget-view+json": {
       "model_id": "7d8275bec5964725873da1cabbff1388",
       "version_major": 2,
       "version_minor": 0
      },
      "text/plain": [
       "Epoch 1016:   0%|          | 0/196 [00:00<?, ?it/s]"
      ]
     },
     "metadata": {},
     "output_type": "display_data"
    },
    {
     "data": {
      "application/vnd.jupyter.widget-view+json": {
       "model_id": "209c80de8f0b45eb8811232873bd4108",
       "version_major": 2,
       "version_minor": 0
      },
      "text/plain": [
       "Epoch 1017:   0%|          | 0/196 [00:00<?, ?it/s]"
      ]
     },
     "metadata": {},
     "output_type": "display_data"
    },
    {
     "data": {
      "application/vnd.jupyter.widget-view+json": {
       "model_id": "994971904d484058866675710f710d1d",
       "version_major": 2,
       "version_minor": 0
      },
      "text/plain": [
       "Epoch 1018:   0%|          | 0/196 [00:00<?, ?it/s]"
      ]
     },
     "metadata": {},
     "output_type": "display_data"
    },
    {
     "data": {
      "application/vnd.jupyter.widget-view+json": {
       "model_id": "1b63252a8be24a5893e504c6a45619ed",
       "version_major": 2,
       "version_minor": 0
      },
      "text/plain": [
       "Epoch 1019:   0%|          | 0/196 [00:00<?, ?it/s]"
      ]
     },
     "metadata": {},
     "output_type": "display_data"
    },
    {
     "data": {
      "application/vnd.jupyter.widget-view+json": {
       "model_id": "56eb21fc4cfa48a7b99e64acc1ec9e23",
       "version_major": 2,
       "version_minor": 0
      },
      "text/plain": [
       "Epoch 1020:   0%|          | 0/196 [00:00<?, ?it/s]"
      ]
     },
     "metadata": {},
     "output_type": "display_data"
    },
    {
     "data": {
      "application/vnd.jupyter.widget-view+json": {
       "model_id": "ceb5495f5a4046428092c4a72f98710c",
       "version_major": 2,
       "version_minor": 0
      },
      "text/plain": [
       "Epoch 1021:   0%|          | 0/196 [00:00<?, ?it/s]"
      ]
     },
     "metadata": {},
     "output_type": "display_data"
    },
    {
     "data": {
      "application/vnd.jupyter.widget-view+json": {
       "model_id": "353a67103e17450993f98d30c2290699",
       "version_major": 2,
       "version_minor": 0
      },
      "text/plain": [
       "Epoch 1022:   0%|          | 0/196 [00:00<?, ?it/s]"
      ]
     },
     "metadata": {},
     "output_type": "display_data"
    },
    {
     "data": {
      "application/vnd.jupyter.widget-view+json": {
       "model_id": "0f37766c0f1a45c185b3aefc6cac0ce8",
       "version_major": 2,
       "version_minor": 0
      },
      "text/plain": [
       "Epoch 1023:   0%|          | 0/196 [00:00<?, ?it/s]"
      ]
     },
     "metadata": {},
     "output_type": "display_data"
    },
    {
     "data": {
      "application/vnd.jupyter.widget-view+json": {
       "model_id": "53ffe0e7d80a4e87a226a595136f25a1",
       "version_major": 2,
       "version_minor": 0
      },
      "text/plain": [
       "Epoch 1024:   0%|          | 0/196 [00:00<?, ?it/s]"
      ]
     },
     "metadata": {},
     "output_type": "display_data"
    },
    {
     "data": {
      "application/vnd.jupyter.widget-view+json": {
       "model_id": "e9d17181161a4a43a11b5239bd459e47",
       "version_major": 2,
       "version_minor": 0
      },
      "text/plain": [
       "Epoch 1025:   0%|          | 0/196 [00:00<?, ?it/s]"
      ]
     },
     "metadata": {},
     "output_type": "display_data"
    },
    {
     "data": {
      "application/vnd.jupyter.widget-view+json": {
       "model_id": "0e586b35e46a479a9b99dad438fc676c",
       "version_major": 2,
       "version_minor": 0
      },
      "text/plain": [
       "Epoch 1026:   0%|          | 0/196 [00:00<?, ?it/s]"
      ]
     },
     "metadata": {},
     "output_type": "display_data"
    },
    {
     "data": {
      "application/vnd.jupyter.widget-view+json": {
       "model_id": "47a13d1aa7b64b41a84c671f1b09c272",
       "version_major": 2,
       "version_minor": 0
      },
      "text/plain": [
       "Epoch 1027:   0%|          | 0/196 [00:00<?, ?it/s]"
      ]
     },
     "metadata": {},
     "output_type": "display_data"
    },
    {
     "data": {
      "application/vnd.jupyter.widget-view+json": {
       "model_id": "e11f88fb01de449982021c142bf3b49e",
       "version_major": 2,
       "version_minor": 0
      },
      "text/plain": [
       "Epoch 1028:   0%|          | 0/196 [00:00<?, ?it/s]"
      ]
     },
     "metadata": {},
     "output_type": "display_data"
    },
    {
     "data": {
      "application/vnd.jupyter.widget-view+json": {
       "model_id": "71158efd11f54f60b87cce87e52fde73",
       "version_major": 2,
       "version_minor": 0
      },
      "text/plain": [
       "Epoch 1029:   0%|          | 0/196 [00:00<?, ?it/s]"
      ]
     },
     "metadata": {},
     "output_type": "display_data"
    },
    {
     "data": {
      "application/vnd.jupyter.widget-view+json": {
       "model_id": "23f8d87138c245869d39f37f4523e44a",
       "version_major": 2,
       "version_minor": 0
      },
      "text/plain": [
       "Epoch 1030:   0%|          | 0/196 [00:00<?, ?it/s]"
      ]
     },
     "metadata": {},
     "output_type": "display_data"
    },
    {
     "data": {
      "application/vnd.jupyter.widget-view+json": {
       "model_id": "762ad2209bea4d45b8da443c3c8a8c8d",
       "version_major": 2,
       "version_minor": 0
      },
      "text/plain": [
       "Epoch 1031:   0%|          | 0/196 [00:00<?, ?it/s]"
      ]
     },
     "metadata": {},
     "output_type": "display_data"
    },
    {
     "data": {
      "application/vnd.jupyter.widget-view+json": {
       "model_id": "1d7202a63fc044dab269185b3259a972",
       "version_major": 2,
       "version_minor": 0
      },
      "text/plain": [
       "Epoch 1032:   0%|          | 0/196 [00:00<?, ?it/s]"
      ]
     },
     "metadata": {},
     "output_type": "display_data"
    },
    {
     "data": {
      "application/vnd.jupyter.widget-view+json": {
       "model_id": "f5d73fed158743b8b2c75a512c707e1f",
       "version_major": 2,
       "version_minor": 0
      },
      "text/plain": [
       "Epoch 1033:   0%|          | 0/196 [00:00<?, ?it/s]"
      ]
     },
     "metadata": {},
     "output_type": "display_data"
    },
    {
     "data": {
      "application/vnd.jupyter.widget-view+json": {
       "model_id": "98abc1e89efc4dad90e30ebc2e741840",
       "version_major": 2,
       "version_minor": 0
      },
      "text/plain": [
       "Epoch 1034:   0%|          | 0/196 [00:00<?, ?it/s]"
      ]
     },
     "metadata": {},
     "output_type": "display_data"
    },
    {
     "data": {
      "application/vnd.jupyter.widget-view+json": {
       "model_id": "d0e2a2aabe534a54b092de9ece610293",
       "version_major": 2,
       "version_minor": 0
      },
      "text/plain": [
       "Epoch 1035:   0%|          | 0/196 [00:00<?, ?it/s]"
      ]
     },
     "metadata": {},
     "output_type": "display_data"
    },
    {
     "data": {
      "application/vnd.jupyter.widget-view+json": {
       "model_id": "4aa69cbe41184331b1e55d7e1944d0ad",
       "version_major": 2,
       "version_minor": 0
      },
      "text/plain": [
       "Epoch 1036:   0%|          | 0/196 [00:00<?, ?it/s]"
      ]
     },
     "metadata": {},
     "output_type": "display_data"
    },
    {
     "data": {
      "application/vnd.jupyter.widget-view+json": {
       "model_id": "5e68d36eebd04ceb89e0ba91c1b1d335",
       "version_major": 2,
       "version_minor": 0
      },
      "text/plain": [
       "Epoch 1037:   0%|          | 0/196 [00:00<?, ?it/s]"
      ]
     },
     "metadata": {},
     "output_type": "display_data"
    },
    {
     "data": {
      "application/vnd.jupyter.widget-view+json": {
       "model_id": "025f7739d5cc451a8a2a74097e418ede",
       "version_major": 2,
       "version_minor": 0
      },
      "text/plain": [
       "Epoch 1038:   0%|          | 0/196 [00:00<?, ?it/s]"
      ]
     },
     "metadata": {},
     "output_type": "display_data"
    },
    {
     "data": {
      "application/vnd.jupyter.widget-view+json": {
       "model_id": "8ff5ffea94794635b575b152b0bc5352",
       "version_major": 2,
       "version_minor": 0
      },
      "text/plain": [
       "Epoch 1039:   0%|          | 0/196 [00:00<?, ?it/s]"
      ]
     },
     "metadata": {},
     "output_type": "display_data"
    },
    {
     "data": {
      "application/vnd.jupyter.widget-view+json": {
       "model_id": "e273d0285ec14a34829f85509624b04b",
       "version_major": 2,
       "version_minor": 0
      },
      "text/plain": [
       "Epoch 1040:   0%|          | 0/196 [00:00<?, ?it/s]"
      ]
     },
     "metadata": {},
     "output_type": "display_data"
    },
    {
     "data": {
      "application/vnd.jupyter.widget-view+json": {
       "model_id": "33513abd629b4dcb8f963d610aff441a",
       "version_major": 2,
       "version_minor": 0
      },
      "text/plain": [
       "Epoch 1041:   0%|          | 0/196 [00:00<?, ?it/s]"
      ]
     },
     "metadata": {},
     "output_type": "display_data"
    },
    {
     "data": {
      "application/vnd.jupyter.widget-view+json": {
       "model_id": "cc34e5938bc7492c9987aa04ca541052",
       "version_major": 2,
       "version_minor": 0
      },
      "text/plain": [
       "Epoch 1042:   0%|          | 0/196 [00:00<?, ?it/s]"
      ]
     },
     "metadata": {},
     "output_type": "display_data"
    },
    {
     "data": {
      "application/vnd.jupyter.widget-view+json": {
       "model_id": "10d7edecf91a456d9556a4b3dd88866e",
       "version_major": 2,
       "version_minor": 0
      },
      "text/plain": [
       "Epoch 1043:   0%|          | 0/196 [00:00<?, ?it/s]"
      ]
     },
     "metadata": {},
     "output_type": "display_data"
    },
    {
     "data": {
      "application/vnd.jupyter.widget-view+json": {
       "model_id": "881db4832a234d27b663fe948d4bb3cf",
       "version_major": 2,
       "version_minor": 0
      },
      "text/plain": [
       "Epoch 1044:   0%|          | 0/196 [00:00<?, ?it/s]"
      ]
     },
     "metadata": {},
     "output_type": "display_data"
    },
    {
     "data": {
      "application/vnd.jupyter.widget-view+json": {
       "model_id": "c684c50c5a754b11af4f92d598025c1c",
       "version_major": 2,
       "version_minor": 0
      },
      "text/plain": [
       "Epoch 1045:   0%|          | 0/196 [00:00<?, ?it/s]"
      ]
     },
     "metadata": {},
     "output_type": "display_data"
    },
    {
     "data": {
      "application/vnd.jupyter.widget-view+json": {
       "model_id": "090218dae8e54f0c94858682419449ee",
       "version_major": 2,
       "version_minor": 0
      },
      "text/plain": [
       "Epoch 1046:   0%|          | 0/196 [00:00<?, ?it/s]"
      ]
     },
     "metadata": {},
     "output_type": "display_data"
    },
    {
     "data": {
      "application/vnd.jupyter.widget-view+json": {
       "model_id": "284b8aaf6f22403fb3bb63e857860b0a",
       "version_major": 2,
       "version_minor": 0
      },
      "text/plain": [
       "Epoch 1047:   0%|          | 0/196 [00:00<?, ?it/s]"
      ]
     },
     "metadata": {},
     "output_type": "display_data"
    },
    {
     "data": {
      "application/vnd.jupyter.widget-view+json": {
       "model_id": "8b40ea8647354c4c8ddecc18ef55f2ec",
       "version_major": 2,
       "version_minor": 0
      },
      "text/plain": [
       "Epoch 1048:   0%|          | 0/196 [00:00<?, ?it/s]"
      ]
     },
     "metadata": {},
     "output_type": "display_data"
    },
    {
     "data": {
      "application/vnd.jupyter.widget-view+json": {
       "model_id": "18830b3ca6d74ddfa91081e404633fec",
       "version_major": 2,
       "version_minor": 0
      },
      "text/plain": [
       "Epoch 1049:   0%|          | 0/196 [00:00<?, ?it/s]"
      ]
     },
     "metadata": {},
     "output_type": "display_data"
    },
    {
     "data": {
      "application/vnd.jupyter.widget-view+json": {
       "model_id": "e97818e2c5fc4013a63e0fca81012c1c",
       "version_major": 2,
       "version_minor": 0
      },
      "text/plain": [
       "Epoch 1050:   0%|          | 0/196 [00:00<?, ?it/s]"
      ]
     },
     "metadata": {},
     "output_type": "display_data"
    },
    {
     "data": {
      "application/vnd.jupyter.widget-view+json": {
       "model_id": "f2957291b65f49fe84cff55e952ba5d1",
       "version_major": 2,
       "version_minor": 0
      },
      "text/plain": [
       "Epoch 1051:   0%|          | 0/196 [00:00<?, ?it/s]"
      ]
     },
     "metadata": {},
     "output_type": "display_data"
    },
    {
     "data": {
      "application/vnd.jupyter.widget-view+json": {
       "model_id": "80301d201d9b40168c12723e6a5e954a",
       "version_major": 2,
       "version_minor": 0
      },
      "text/plain": [
       "Epoch 1052:   0%|          | 0/196 [00:00<?, ?it/s]"
      ]
     },
     "metadata": {},
     "output_type": "display_data"
    },
    {
     "data": {
      "application/vnd.jupyter.widget-view+json": {
       "model_id": "77c573e6726547669ce683c424d7c512",
       "version_major": 2,
       "version_minor": 0
      },
      "text/plain": [
       "Epoch 1053:   0%|          | 0/196 [00:00<?, ?it/s]"
      ]
     },
     "metadata": {},
     "output_type": "display_data"
    },
    {
     "data": {
      "application/vnd.jupyter.widget-view+json": {
       "model_id": "5d0039dd75524d29b3d5228928d0d67d",
       "version_major": 2,
       "version_minor": 0
      },
      "text/plain": [
       "Epoch 1054:   0%|          | 0/196 [00:00<?, ?it/s]"
      ]
     },
     "metadata": {},
     "output_type": "display_data"
    },
    {
     "data": {
      "application/vnd.jupyter.widget-view+json": {
       "model_id": "1accd4d49ab54243a4dc21143cff554e",
       "version_major": 2,
       "version_minor": 0
      },
      "text/plain": [
       "Epoch 1055:   0%|          | 0/196 [00:00<?, ?it/s]"
      ]
     },
     "metadata": {},
     "output_type": "display_data"
    },
    {
     "data": {
      "application/vnd.jupyter.widget-view+json": {
       "model_id": "d861f8e89fb545c39a6ac8ae7cab7919",
       "version_major": 2,
       "version_minor": 0
      },
      "text/plain": [
       "Epoch 1056:   0%|          | 0/196 [00:00<?, ?it/s]"
      ]
     },
     "metadata": {},
     "output_type": "display_data"
    },
    {
     "data": {
      "application/vnd.jupyter.widget-view+json": {
       "model_id": "8f18c18175ef4842831f6cc42ca91b33",
       "version_major": 2,
       "version_minor": 0
      },
      "text/plain": [
       "Epoch 1057:   0%|          | 0/196 [00:00<?, ?it/s]"
      ]
     },
     "metadata": {},
     "output_type": "display_data"
    },
    {
     "data": {
      "application/vnd.jupyter.widget-view+json": {
       "model_id": "9526818208b542298f2734b6bc89da8f",
       "version_major": 2,
       "version_minor": 0
      },
      "text/plain": [
       "Epoch 1058:   0%|          | 0/196 [00:00<?, ?it/s]"
      ]
     },
     "metadata": {},
     "output_type": "display_data"
    },
    {
     "data": {
      "application/vnd.jupyter.widget-view+json": {
       "model_id": "51a0239eac6a4a9ca7f0b891948b5f88",
       "version_major": 2,
       "version_minor": 0
      },
      "text/plain": [
       "Epoch 1059:   0%|          | 0/196 [00:00<?, ?it/s]"
      ]
     },
     "metadata": {},
     "output_type": "display_data"
    },
    {
     "data": {
      "application/vnd.jupyter.widget-view+json": {
       "model_id": "1a1c638768c74667942ebbf256829fc4",
       "version_major": 2,
       "version_minor": 0
      },
      "text/plain": [
       "Epoch 1060:   0%|          | 0/196 [00:00<?, ?it/s]"
      ]
     },
     "metadata": {},
     "output_type": "display_data"
    },
    {
     "data": {
      "application/vnd.jupyter.widget-view+json": {
       "model_id": "bcfc0e1415b4461285209a921c91ae43",
       "version_major": 2,
       "version_minor": 0
      },
      "text/plain": [
       "Epoch 1061:   0%|          | 0/196 [00:00<?, ?it/s]"
      ]
     },
     "metadata": {},
     "output_type": "display_data"
    },
    {
     "data": {
      "application/vnd.jupyter.widget-view+json": {
       "model_id": "6944c851319a482e8d16b581b7a0cadb",
       "version_major": 2,
       "version_minor": 0
      },
      "text/plain": [
       "Epoch 1062:   0%|          | 0/196 [00:00<?, ?it/s]"
      ]
     },
     "metadata": {},
     "output_type": "display_data"
    },
    {
     "data": {
      "application/vnd.jupyter.widget-view+json": {
       "model_id": "245bfa386dfe4f5b93c14bfdaf6e3d69",
       "version_major": 2,
       "version_minor": 0
      },
      "text/plain": [
       "Epoch 1063:   0%|          | 0/196 [00:00<?, ?it/s]"
      ]
     },
     "metadata": {},
     "output_type": "display_data"
    },
    {
     "data": {
      "application/vnd.jupyter.widget-view+json": {
       "model_id": "bd91e8fee07b45ac97555f8999c479ad",
       "version_major": 2,
       "version_minor": 0
      },
      "text/plain": [
       "Epoch 1064:   0%|          | 0/196 [00:00<?, ?it/s]"
      ]
     },
     "metadata": {},
     "output_type": "display_data"
    },
    {
     "data": {
      "application/vnd.jupyter.widget-view+json": {
       "model_id": "060bed30736a4d68abfd53d4748787de",
       "version_major": 2,
       "version_minor": 0
      },
      "text/plain": [
       "Epoch 1065:   0%|          | 0/196 [00:00<?, ?it/s]"
      ]
     },
     "metadata": {},
     "output_type": "display_data"
    },
    {
     "data": {
      "application/vnd.jupyter.widget-view+json": {
       "model_id": "e0db96914a524cec939b97478c0c2e41",
       "version_major": 2,
       "version_minor": 0
      },
      "text/plain": [
       "Epoch 1066:   0%|          | 0/196 [00:00<?, ?it/s]"
      ]
     },
     "metadata": {},
     "output_type": "display_data"
    },
    {
     "data": {
      "application/vnd.jupyter.widget-view+json": {
       "model_id": "4ebd6029d9944d559359ea242f43b3fd",
       "version_major": 2,
       "version_minor": 0
      },
      "text/plain": [
       "Epoch 1067:   0%|          | 0/196 [00:00<?, ?it/s]"
      ]
     },
     "metadata": {},
     "output_type": "display_data"
    },
    {
     "data": {
      "application/vnd.jupyter.widget-view+json": {
       "model_id": "d1ba61fb16f644adb84a6ac179b3aa8e",
       "version_major": 2,
       "version_minor": 0
      },
      "text/plain": [
       "Epoch 1068:   0%|          | 0/196 [00:00<?, ?it/s]"
      ]
     },
     "metadata": {},
     "output_type": "display_data"
    },
    {
     "data": {
      "application/vnd.jupyter.widget-view+json": {
       "model_id": "433239697ee5404c936592409d89695d",
       "version_major": 2,
       "version_minor": 0
      },
      "text/plain": [
       "Epoch 1069:   0%|          | 0/196 [00:00<?, ?it/s]"
      ]
     },
     "metadata": {},
     "output_type": "display_data"
    },
    {
     "data": {
      "application/vnd.jupyter.widget-view+json": {
       "model_id": "60c0753781294212bd9246172f606703",
       "version_major": 2,
       "version_minor": 0
      },
      "text/plain": [
       "Epoch 1070:   0%|          | 0/196 [00:00<?, ?it/s]"
      ]
     },
     "metadata": {},
     "output_type": "display_data"
    },
    {
     "data": {
      "application/vnd.jupyter.widget-view+json": {
       "model_id": "ab68a349cbef4919b26442ab5270421c",
       "version_major": 2,
       "version_minor": 0
      },
      "text/plain": [
       "Epoch 1071:   0%|          | 0/196 [00:00<?, ?it/s]"
      ]
     },
     "metadata": {},
     "output_type": "display_data"
    },
    {
     "data": {
      "application/vnd.jupyter.widget-view+json": {
       "model_id": "8af618f675ad4951b6947ef37df6ffaa",
       "version_major": 2,
       "version_minor": 0
      },
      "text/plain": [
       "Epoch 1072:   0%|          | 0/196 [00:00<?, ?it/s]"
      ]
     },
     "metadata": {},
     "output_type": "display_data"
    },
    {
     "data": {
      "application/vnd.jupyter.widget-view+json": {
       "model_id": "b078015a56ab46ab913fcc1d92f7e72e",
       "version_major": 2,
       "version_minor": 0
      },
      "text/plain": [
       "Epoch 1073:   0%|          | 0/196 [00:00<?, ?it/s]"
      ]
     },
     "metadata": {},
     "output_type": "display_data"
    },
    {
     "data": {
      "application/vnd.jupyter.widget-view+json": {
       "model_id": "da7c0aa0c65546b1b61ba01ad9784a0c",
       "version_major": 2,
       "version_minor": 0
      },
      "text/plain": [
       "Epoch 1074:   0%|          | 0/196 [00:00<?, ?it/s]"
      ]
     },
     "metadata": {},
     "output_type": "display_data"
    },
    {
     "data": {
      "application/vnd.jupyter.widget-view+json": {
       "model_id": "a1206c274034408da03f9d8b20fa0e6c",
       "version_major": 2,
       "version_minor": 0
      },
      "text/plain": [
       "Epoch 1075:   0%|          | 0/196 [00:00<?, ?it/s]"
      ]
     },
     "metadata": {},
     "output_type": "display_data"
    },
    {
     "data": {
      "application/vnd.jupyter.widget-view+json": {
       "model_id": "a9be01f48d0a48f5a5d9efb78bcfb389",
       "version_major": 2,
       "version_minor": 0
      },
      "text/plain": [
       "Epoch 1076:   0%|          | 0/196 [00:00<?, ?it/s]"
      ]
     },
     "metadata": {},
     "output_type": "display_data"
    },
    {
     "data": {
      "application/vnd.jupyter.widget-view+json": {
       "model_id": "121e04aea6724501b76028f5f87ee15c",
       "version_major": 2,
       "version_minor": 0
      },
      "text/plain": [
       "Epoch 1077:   0%|          | 0/196 [00:00<?, ?it/s]"
      ]
     },
     "metadata": {},
     "output_type": "display_data"
    },
    {
     "data": {
      "application/vnd.jupyter.widget-view+json": {
       "model_id": "60f339622daa403f8faf868d7bcd36ab",
       "version_major": 2,
       "version_minor": 0
      },
      "text/plain": [
       "Epoch 1078:   0%|          | 0/196 [00:00<?, ?it/s]"
      ]
     },
     "metadata": {},
     "output_type": "display_data"
    },
    {
     "data": {
      "application/vnd.jupyter.widget-view+json": {
       "model_id": "98b88460d7ee4e598ecc383aa837959c",
       "version_major": 2,
       "version_minor": 0
      },
      "text/plain": [
       "Epoch 1079:   0%|          | 0/196 [00:00<?, ?it/s]"
      ]
     },
     "metadata": {},
     "output_type": "display_data"
    },
    {
     "data": {
      "application/vnd.jupyter.widget-view+json": {
       "model_id": "535fe525aec143b0aa4f3cea24c897d4",
       "version_major": 2,
       "version_minor": 0
      },
      "text/plain": [
       "Epoch 1080:   0%|          | 0/196 [00:00<?, ?it/s]"
      ]
     },
     "metadata": {},
     "output_type": "display_data"
    },
    {
     "data": {
      "application/vnd.jupyter.widget-view+json": {
       "model_id": "28964127c72441c6a794fc761974cc06",
       "version_major": 2,
       "version_minor": 0
      },
      "text/plain": [
       "Epoch 1081:   0%|          | 0/196 [00:00<?, ?it/s]"
      ]
     },
     "metadata": {},
     "output_type": "display_data"
    },
    {
     "data": {
      "application/vnd.jupyter.widget-view+json": {
       "model_id": "3ee3bf0069c842b4a4b69380af1110ab",
       "version_major": 2,
       "version_minor": 0
      },
      "text/plain": [
       "Epoch 1082:   0%|          | 0/196 [00:00<?, ?it/s]"
      ]
     },
     "metadata": {},
     "output_type": "display_data"
    },
    {
     "data": {
      "application/vnd.jupyter.widget-view+json": {
       "model_id": "98cbacf0d471418f991039439c8f77ba",
       "version_major": 2,
       "version_minor": 0
      },
      "text/plain": [
       "Epoch 1083:   0%|          | 0/196 [00:00<?, ?it/s]"
      ]
     },
     "metadata": {},
     "output_type": "display_data"
    },
    {
     "data": {
      "application/vnd.jupyter.widget-view+json": {
       "model_id": "23735d89f2284e8997389951105d891d",
       "version_major": 2,
       "version_minor": 0
      },
      "text/plain": [
       "Epoch 1084:   0%|          | 0/196 [00:00<?, ?it/s]"
      ]
     },
     "metadata": {},
     "output_type": "display_data"
    },
    {
     "data": {
      "application/vnd.jupyter.widget-view+json": {
       "model_id": "8fc2a097f0f34fb4b1c02b0ad17e9778",
       "version_major": 2,
       "version_minor": 0
      },
      "text/plain": [
       "Epoch 1085:   0%|          | 0/196 [00:00<?, ?it/s]"
      ]
     },
     "metadata": {},
     "output_type": "display_data"
    },
    {
     "data": {
      "application/vnd.jupyter.widget-view+json": {
       "model_id": "86180c1780b645698d4d33f45525be3e",
       "version_major": 2,
       "version_minor": 0
      },
      "text/plain": [
       "Epoch 1086:   0%|          | 0/196 [00:00<?, ?it/s]"
      ]
     },
     "metadata": {},
     "output_type": "display_data"
    },
    {
     "data": {
      "application/vnd.jupyter.widget-view+json": {
       "model_id": "baf88fe03c4b4e8d9b1a1eb901ee1ee9",
       "version_major": 2,
       "version_minor": 0
      },
      "text/plain": [
       "Epoch 1087:   0%|          | 0/196 [00:00<?, ?it/s]"
      ]
     },
     "metadata": {},
     "output_type": "display_data"
    },
    {
     "data": {
      "application/vnd.jupyter.widget-view+json": {
       "model_id": "c3eedb4809984a30b28fe24c17fed290",
       "version_major": 2,
       "version_minor": 0
      },
      "text/plain": [
       "Epoch 1088:   0%|          | 0/196 [00:00<?, ?it/s]"
      ]
     },
     "metadata": {},
     "output_type": "display_data"
    },
    {
     "data": {
      "application/vnd.jupyter.widget-view+json": {
       "model_id": "4b782bb65cae4df9b13f45583f11a8d5",
       "version_major": 2,
       "version_minor": 0
      },
      "text/plain": [
       "Epoch 1089:   0%|          | 0/196 [00:00<?, ?it/s]"
      ]
     },
     "metadata": {},
     "output_type": "display_data"
    },
    {
     "data": {
      "application/vnd.jupyter.widget-view+json": {
       "model_id": "1a7c74218a2d48c9856fe098bee45065",
       "version_major": 2,
       "version_minor": 0
      },
      "text/plain": [
       "Epoch 1090:   0%|          | 0/196 [00:00<?, ?it/s]"
      ]
     },
     "metadata": {},
     "output_type": "display_data"
    },
    {
     "data": {
      "application/vnd.jupyter.widget-view+json": {
       "model_id": "cf65640b143649a790df2c999949eb1b",
       "version_major": 2,
       "version_minor": 0
      },
      "text/plain": [
       "Epoch 1091:   0%|          | 0/196 [00:00<?, ?it/s]"
      ]
     },
     "metadata": {},
     "output_type": "display_data"
    },
    {
     "data": {
      "application/vnd.jupyter.widget-view+json": {
       "model_id": "d1e1bec4c8d34049b3ca1b95f9fb29ea",
       "version_major": 2,
       "version_minor": 0
      },
      "text/plain": [
       "Epoch 1092:   0%|          | 0/196 [00:00<?, ?it/s]"
      ]
     },
     "metadata": {},
     "output_type": "display_data"
    },
    {
     "data": {
      "application/vnd.jupyter.widget-view+json": {
       "model_id": "e9b22670b51b4af190d25eebbe7264c1",
       "version_major": 2,
       "version_minor": 0
      },
      "text/plain": [
       "Epoch 1093:   0%|          | 0/196 [00:00<?, ?it/s]"
      ]
     },
     "metadata": {},
     "output_type": "display_data"
    },
    {
     "data": {
      "application/vnd.jupyter.widget-view+json": {
       "model_id": "6a8bfc6c91964c6e92fe077468dcf33a",
       "version_major": 2,
       "version_minor": 0
      },
      "text/plain": [
       "Epoch 1094:   0%|          | 0/196 [00:00<?, ?it/s]"
      ]
     },
     "metadata": {},
     "output_type": "display_data"
    },
    {
     "data": {
      "application/vnd.jupyter.widget-view+json": {
       "model_id": "ed9e227d7fea488f8f4322534af71305",
       "version_major": 2,
       "version_minor": 0
      },
      "text/plain": [
       "Epoch 1095:   0%|          | 0/196 [00:00<?, ?it/s]"
      ]
     },
     "metadata": {},
     "output_type": "display_data"
    },
    {
     "data": {
      "application/vnd.jupyter.widget-view+json": {
       "model_id": "05e9a11c8a7e429bb02503390098d3e3",
       "version_major": 2,
       "version_minor": 0
      },
      "text/plain": [
       "Epoch 1096:   0%|          | 0/196 [00:00<?, ?it/s]"
      ]
     },
     "metadata": {},
     "output_type": "display_data"
    },
    {
     "data": {
      "application/vnd.jupyter.widget-view+json": {
       "model_id": "e5a82a5db69a452ea2a3efb67b4c809a",
       "version_major": 2,
       "version_minor": 0
      },
      "text/plain": [
       "Epoch 1097:   0%|          | 0/196 [00:00<?, ?it/s]"
      ]
     },
     "metadata": {},
     "output_type": "display_data"
    },
    {
     "data": {
      "application/vnd.jupyter.widget-view+json": {
       "model_id": "75f79b8958a6493c8d781985fe16efe9",
       "version_major": 2,
       "version_minor": 0
      },
      "text/plain": [
       "Epoch 1098:   0%|          | 0/196 [00:00<?, ?it/s]"
      ]
     },
     "metadata": {},
     "output_type": "display_data"
    },
    {
     "data": {
      "application/vnd.jupyter.widget-view+json": {
       "model_id": "547ea9938330438e8949ea33606ec8d9",
       "version_major": 2,
       "version_minor": 0
      },
      "text/plain": [
       "Epoch 1099:   0%|          | 0/196 [00:00<?, ?it/s]"
      ]
     },
     "metadata": {},
     "output_type": "display_data"
    },
    {
     "data": {
      "application/vnd.jupyter.widget-view+json": {
       "model_id": "e3deea3488ae4eeda742746febf4eed9",
       "version_major": 2,
       "version_minor": 0
      },
      "text/plain": [
       "Epoch 1100:   0%|          | 0/196 [00:00<?, ?it/s]"
      ]
     },
     "metadata": {},
     "output_type": "display_data"
    },
    {
     "data": {
      "application/vnd.jupyter.widget-view+json": {
       "model_id": "20029b89d07046cca05ec4c8e8f9444e",
       "version_major": 2,
       "version_minor": 0
      },
      "text/plain": [
       "Epoch 1101:   0%|          | 0/196 [00:00<?, ?it/s]"
      ]
     },
     "metadata": {},
     "output_type": "display_data"
    },
    {
     "data": {
      "application/vnd.jupyter.widget-view+json": {
       "model_id": "5ddf918ec4224a5fa346b4d0eb8f78de",
       "version_major": 2,
       "version_minor": 0
      },
      "text/plain": [
       "Epoch 1102:   0%|          | 0/196 [00:00<?, ?it/s]"
      ]
     },
     "metadata": {},
     "output_type": "display_data"
    },
    {
     "data": {
      "application/vnd.jupyter.widget-view+json": {
       "model_id": "f73896aa794a4717b08d6cd403fae803",
       "version_major": 2,
       "version_minor": 0
      },
      "text/plain": [
       "Epoch 1103:   0%|          | 0/196 [00:00<?, ?it/s]"
      ]
     },
     "metadata": {},
     "output_type": "display_data"
    },
    {
     "data": {
      "application/vnd.jupyter.widget-view+json": {
       "model_id": "46605d90123947d09a424410028f30ce",
       "version_major": 2,
       "version_minor": 0
      },
      "text/plain": [
       "Epoch 1104:   0%|          | 0/196 [00:00<?, ?it/s]"
      ]
     },
     "metadata": {},
     "output_type": "display_data"
    },
    {
     "data": {
      "application/vnd.jupyter.widget-view+json": {
       "model_id": "b19a5f7f1b91400aa0701a3e5b899c97",
       "version_major": 2,
       "version_minor": 0
      },
      "text/plain": [
       "Epoch 1105:   0%|          | 0/196 [00:00<?, ?it/s]"
      ]
     },
     "metadata": {},
     "output_type": "display_data"
    },
    {
     "data": {
      "application/vnd.jupyter.widget-view+json": {
       "model_id": "edd4d8e6d89c43ddbdd27675d23cbf5a",
       "version_major": 2,
       "version_minor": 0
      },
      "text/plain": [
       "Epoch 1106:   0%|          | 0/196 [00:00<?, ?it/s]"
      ]
     },
     "metadata": {},
     "output_type": "display_data"
    },
    {
     "data": {
      "application/vnd.jupyter.widget-view+json": {
       "model_id": "bbac5ae907c74314b34fabeae7f4c66f",
       "version_major": 2,
       "version_minor": 0
      },
      "text/plain": [
       "Epoch 1107:   0%|          | 0/196 [00:00<?, ?it/s]"
      ]
     },
     "metadata": {},
     "output_type": "display_data"
    },
    {
     "data": {
      "application/vnd.jupyter.widget-view+json": {
       "model_id": "d08603dcdf774db28801ddd473f48acd",
       "version_major": 2,
       "version_minor": 0
      },
      "text/plain": [
       "Epoch 1108:   0%|          | 0/196 [00:00<?, ?it/s]"
      ]
     },
     "metadata": {},
     "output_type": "display_data"
    },
    {
     "data": {
      "application/vnd.jupyter.widget-view+json": {
       "model_id": "3a9af4932ad545a29028596af865946a",
       "version_major": 2,
       "version_minor": 0
      },
      "text/plain": [
       "Epoch 1109:   0%|          | 0/196 [00:00<?, ?it/s]"
      ]
     },
     "metadata": {},
     "output_type": "display_data"
    },
    {
     "data": {
      "application/vnd.jupyter.widget-view+json": {
       "model_id": "72a8b71096ee4371837724337234269d",
       "version_major": 2,
       "version_minor": 0
      },
      "text/plain": [
       "Epoch 1110:   0%|          | 0/196 [00:00<?, ?it/s]"
      ]
     },
     "metadata": {},
     "output_type": "display_data"
    },
    {
     "data": {
      "application/vnd.jupyter.widget-view+json": {
       "model_id": "15850b2ab2e442479333efc672d96849",
       "version_major": 2,
       "version_minor": 0
      },
      "text/plain": [
       "Epoch 1111:   0%|          | 0/196 [00:00<?, ?it/s]"
      ]
     },
     "metadata": {},
     "output_type": "display_data"
    },
    {
     "data": {
      "application/vnd.jupyter.widget-view+json": {
       "model_id": "2000a03c1f7746e9b63cba50b61ad3f7",
       "version_major": 2,
       "version_minor": 0
      },
      "text/plain": [
       "Epoch 1112:   0%|          | 0/196 [00:00<?, ?it/s]"
      ]
     },
     "metadata": {},
     "output_type": "display_data"
    },
    {
     "data": {
      "application/vnd.jupyter.widget-view+json": {
       "model_id": "cf3da8132e054a74b8bcaa42c26c467d",
       "version_major": 2,
       "version_minor": 0
      },
      "text/plain": [
       "Epoch 1113:   0%|          | 0/196 [00:00<?, ?it/s]"
      ]
     },
     "metadata": {},
     "output_type": "display_data"
    },
    {
     "data": {
      "application/vnd.jupyter.widget-view+json": {
       "model_id": "2702733f15e0464bbfcf10f0418c2dfe",
       "version_major": 2,
       "version_minor": 0
      },
      "text/plain": [
       "Epoch 1114:   0%|          | 0/196 [00:00<?, ?it/s]"
      ]
     },
     "metadata": {},
     "output_type": "display_data"
    },
    {
     "data": {
      "application/vnd.jupyter.widget-view+json": {
       "model_id": "88a758d6833344b48d08c6fce29f08de",
       "version_major": 2,
       "version_minor": 0
      },
      "text/plain": [
       "Epoch 1115:   0%|          | 0/196 [00:00<?, ?it/s]"
      ]
     },
     "metadata": {},
     "output_type": "display_data"
    },
    {
     "data": {
      "application/vnd.jupyter.widget-view+json": {
       "model_id": "961120439e2d48dd89ab1c49f5918dbf",
       "version_major": 2,
       "version_minor": 0
      },
      "text/plain": [
       "Epoch 1116:   0%|          | 0/196 [00:00<?, ?it/s]"
      ]
     },
     "metadata": {},
     "output_type": "display_data"
    },
    {
     "data": {
      "application/vnd.jupyter.widget-view+json": {
       "model_id": "33c555700cc34308bf630a74ca3a2e69",
       "version_major": 2,
       "version_minor": 0
      },
      "text/plain": [
       "Epoch 1117:   0%|          | 0/196 [00:00<?, ?it/s]"
      ]
     },
     "metadata": {},
     "output_type": "display_data"
    },
    {
     "data": {
      "application/vnd.jupyter.widget-view+json": {
       "model_id": "e4df157642e84bdfaf92b76bdbd28dcb",
       "version_major": 2,
       "version_minor": 0
      },
      "text/plain": [
       "Epoch 1118:   0%|          | 0/196 [00:00<?, ?it/s]"
      ]
     },
     "metadata": {},
     "output_type": "display_data"
    },
    {
     "data": {
      "application/vnd.jupyter.widget-view+json": {
       "model_id": "01e2f12055be4e579790b131d0533614",
       "version_major": 2,
       "version_minor": 0
      },
      "text/plain": [
       "Epoch 1119:   0%|          | 0/196 [00:00<?, ?it/s]"
      ]
     },
     "metadata": {},
     "output_type": "display_data"
    },
    {
     "data": {
      "application/vnd.jupyter.widget-view+json": {
       "model_id": "7e7e954d421046cb8350fea726c235b9",
       "version_major": 2,
       "version_minor": 0
      },
      "text/plain": [
       "Epoch 1120:   0%|          | 0/196 [00:00<?, ?it/s]"
      ]
     },
     "metadata": {},
     "output_type": "display_data"
    },
    {
     "data": {
      "application/vnd.jupyter.widget-view+json": {
       "model_id": "89c9a385c613482b88cf2ed7e8e67e56",
       "version_major": 2,
       "version_minor": 0
      },
      "text/plain": [
       "Epoch 1121:   0%|          | 0/196 [00:00<?, ?it/s]"
      ]
     },
     "metadata": {},
     "output_type": "display_data"
    },
    {
     "data": {
      "application/vnd.jupyter.widget-view+json": {
       "model_id": "e34b2fa958cc4ff899ff3aeef7ff80d2",
       "version_major": 2,
       "version_minor": 0
      },
      "text/plain": [
       "Epoch 1122:   0%|          | 0/196 [00:00<?, ?it/s]"
      ]
     },
     "metadata": {},
     "output_type": "display_data"
    },
    {
     "data": {
      "application/vnd.jupyter.widget-view+json": {
       "model_id": "77f8d824679747d0beabaf188c0bfa82",
       "version_major": 2,
       "version_minor": 0
      },
      "text/plain": [
       "Epoch 1123:   0%|          | 0/196 [00:00<?, ?it/s]"
      ]
     },
     "metadata": {},
     "output_type": "display_data"
    },
    {
     "data": {
      "application/vnd.jupyter.widget-view+json": {
       "model_id": "03f1fc394a874c6c9b9b4e67f934c457",
       "version_major": 2,
       "version_minor": 0
      },
      "text/plain": [
       "Epoch 1124:   0%|          | 0/196 [00:00<?, ?it/s]"
      ]
     },
     "metadata": {},
     "output_type": "display_data"
    },
    {
     "data": {
      "application/vnd.jupyter.widget-view+json": {
       "model_id": "1985bc148ef34ee2bcfef1edbe1a5d73",
       "version_major": 2,
       "version_minor": 0
      },
      "text/plain": [
       "Epoch 1125:   0%|          | 0/196 [00:00<?, ?it/s]"
      ]
     },
     "metadata": {},
     "output_type": "display_data"
    },
    {
     "data": {
      "application/vnd.jupyter.widget-view+json": {
       "model_id": "0cf0b158e0f644ce94f30cbb7353dbb9",
       "version_major": 2,
       "version_minor": 0
      },
      "text/plain": [
       "Epoch 1126:   0%|          | 0/196 [00:00<?, ?it/s]"
      ]
     },
     "metadata": {},
     "output_type": "display_data"
    },
    {
     "data": {
      "application/vnd.jupyter.widget-view+json": {
       "model_id": "e99b78515afd4bee89549bc0282c0dea",
       "version_major": 2,
       "version_minor": 0
      },
      "text/plain": [
       "Epoch 1127:   0%|          | 0/196 [00:00<?, ?it/s]"
      ]
     },
     "metadata": {},
     "output_type": "display_data"
    },
    {
     "data": {
      "application/vnd.jupyter.widget-view+json": {
       "model_id": "e8ed23bf798f4b8e978886946337a821",
       "version_major": 2,
       "version_minor": 0
      },
      "text/plain": [
       "Epoch 1128:   0%|          | 0/196 [00:00<?, ?it/s]"
      ]
     },
     "metadata": {},
     "output_type": "display_data"
    },
    {
     "data": {
      "application/vnd.jupyter.widget-view+json": {
       "model_id": "5e2bde8b1b17400cbdaa451781d0616d",
       "version_major": 2,
       "version_minor": 0
      },
      "text/plain": [
       "Epoch 1129:   0%|          | 0/196 [00:00<?, ?it/s]"
      ]
     },
     "metadata": {},
     "output_type": "display_data"
    },
    {
     "data": {
      "application/vnd.jupyter.widget-view+json": {
       "model_id": "e2757ccefba2438b858e47811d8dbb61",
       "version_major": 2,
       "version_minor": 0
      },
      "text/plain": [
       "Epoch 1130:   0%|          | 0/196 [00:00<?, ?it/s]"
      ]
     },
     "metadata": {},
     "output_type": "display_data"
    },
    {
     "data": {
      "application/vnd.jupyter.widget-view+json": {
       "model_id": "9dd49c9f128a431b9fbe2280f89b25d6",
       "version_major": 2,
       "version_minor": 0
      },
      "text/plain": [
       "Epoch 1131:   0%|          | 0/196 [00:00<?, ?it/s]"
      ]
     },
     "metadata": {},
     "output_type": "display_data"
    },
    {
     "data": {
      "application/vnd.jupyter.widget-view+json": {
       "model_id": "f247ff64b5a04fda8a9070dfc2384db1",
       "version_major": 2,
       "version_minor": 0
      },
      "text/plain": [
       "Epoch 1132:   0%|          | 0/196 [00:00<?, ?it/s]"
      ]
     },
     "metadata": {},
     "output_type": "display_data"
    },
    {
     "data": {
      "application/vnd.jupyter.widget-view+json": {
       "model_id": "fa0e3aedbd9249de9dca6f2cdb4e7628",
       "version_major": 2,
       "version_minor": 0
      },
      "text/plain": [
       "Epoch 1133:   0%|          | 0/196 [00:00<?, ?it/s]"
      ]
     },
     "metadata": {},
     "output_type": "display_data"
    },
    {
     "data": {
      "application/vnd.jupyter.widget-view+json": {
       "model_id": "abbec239cfef4841bcbfd356133d7dea",
       "version_major": 2,
       "version_minor": 0
      },
      "text/plain": [
       "Epoch 1134:   0%|          | 0/196 [00:00<?, ?it/s]"
      ]
     },
     "metadata": {},
     "output_type": "display_data"
    },
    {
     "data": {
      "application/vnd.jupyter.widget-view+json": {
       "model_id": "fcdec49f580748e982c11b10ddb0bc92",
       "version_major": 2,
       "version_minor": 0
      },
      "text/plain": [
       "Epoch 1135:   0%|          | 0/196 [00:00<?, ?it/s]"
      ]
     },
     "metadata": {},
     "output_type": "display_data"
    },
    {
     "data": {
      "application/vnd.jupyter.widget-view+json": {
       "model_id": "dad51b510e6e4fe581531c2f02b813f0",
       "version_major": 2,
       "version_minor": 0
      },
      "text/plain": [
       "Epoch 1136:   0%|          | 0/196 [00:00<?, ?it/s]"
      ]
     },
     "metadata": {},
     "output_type": "display_data"
    },
    {
     "data": {
      "application/vnd.jupyter.widget-view+json": {
       "model_id": "80956720505f427bbcecb36a71246d84",
       "version_major": 2,
       "version_minor": 0
      },
      "text/plain": [
       "Epoch 1137:   0%|          | 0/196 [00:00<?, ?it/s]"
      ]
     },
     "metadata": {},
     "output_type": "display_data"
    },
    {
     "data": {
      "application/vnd.jupyter.widget-view+json": {
       "model_id": "bc3df5d0d4674d9589b6227a2106534e",
       "version_major": 2,
       "version_minor": 0
      },
      "text/plain": [
       "Epoch 1138:   0%|          | 0/196 [00:00<?, ?it/s]"
      ]
     },
     "metadata": {},
     "output_type": "display_data"
    },
    {
     "data": {
      "application/vnd.jupyter.widget-view+json": {
       "model_id": "685f9ff4eae54118aa87c1367b4dd65d",
       "version_major": 2,
       "version_minor": 0
      },
      "text/plain": [
       "Epoch 1139:   0%|          | 0/196 [00:00<?, ?it/s]"
      ]
     },
     "metadata": {},
     "output_type": "display_data"
    },
    {
     "data": {
      "application/vnd.jupyter.widget-view+json": {
       "model_id": "06776e54619d4e17807c077db3a4e09d",
       "version_major": 2,
       "version_minor": 0
      },
      "text/plain": [
       "Epoch 1140:   0%|          | 0/196 [00:00<?, ?it/s]"
      ]
     },
     "metadata": {},
     "output_type": "display_data"
    },
    {
     "data": {
      "application/vnd.jupyter.widget-view+json": {
       "model_id": "d6a8ad9025424b95a2d166f8e9e15e70",
       "version_major": 2,
       "version_minor": 0
      },
      "text/plain": [
       "Epoch 1141:   0%|          | 0/196 [00:00<?, ?it/s]"
      ]
     },
     "metadata": {},
     "output_type": "display_data"
    },
    {
     "data": {
      "application/vnd.jupyter.widget-view+json": {
       "model_id": "ac4fe6448c6842439ae7798dbcfece61",
       "version_major": 2,
       "version_minor": 0
      },
      "text/plain": [
       "Epoch 1142:   0%|          | 0/196 [00:00<?, ?it/s]"
      ]
     },
     "metadata": {},
     "output_type": "display_data"
    },
    {
     "data": {
      "application/vnd.jupyter.widget-view+json": {
       "model_id": "8d2b3090371d4629a2c2111ee8e7dd97",
       "version_major": 2,
       "version_minor": 0
      },
      "text/plain": [
       "Epoch 1143:   0%|          | 0/196 [00:00<?, ?it/s]"
      ]
     },
     "metadata": {},
     "output_type": "display_data"
    },
    {
     "data": {
      "application/vnd.jupyter.widget-view+json": {
       "model_id": "77f2d59782a64d20877f6814d3ac76d0",
       "version_major": 2,
       "version_minor": 0
      },
      "text/plain": [
       "Epoch 1144:   0%|          | 0/196 [00:00<?, ?it/s]"
      ]
     },
     "metadata": {},
     "output_type": "display_data"
    },
    {
     "data": {
      "application/vnd.jupyter.widget-view+json": {
       "model_id": "a9a092e309e84b9c88d9b279dd0b3091",
       "version_major": 2,
       "version_minor": 0
      },
      "text/plain": [
       "Epoch 1145:   0%|          | 0/196 [00:00<?, ?it/s]"
      ]
     },
     "metadata": {},
     "output_type": "display_data"
    },
    {
     "data": {
      "application/vnd.jupyter.widget-view+json": {
       "model_id": "a914e89d753249ed98ab6ad52429bdb7",
       "version_major": 2,
       "version_minor": 0
      },
      "text/plain": [
       "Epoch 1146:   0%|          | 0/196 [00:00<?, ?it/s]"
      ]
     },
     "metadata": {},
     "output_type": "display_data"
    },
    {
     "data": {
      "application/vnd.jupyter.widget-view+json": {
       "model_id": "4db3dad330fc4567b09e4665a3bc9ed7",
       "version_major": 2,
       "version_minor": 0
      },
      "text/plain": [
       "Epoch 1147:   0%|          | 0/196 [00:00<?, ?it/s]"
      ]
     },
     "metadata": {},
     "output_type": "display_data"
    },
    {
     "data": {
      "application/vnd.jupyter.widget-view+json": {
       "model_id": "46a4a077c3e74fcabff4d300fb756474",
       "version_major": 2,
       "version_minor": 0
      },
      "text/plain": [
       "Epoch 1148:   0%|          | 0/196 [00:00<?, ?it/s]"
      ]
     },
     "metadata": {},
     "output_type": "display_data"
    },
    {
     "data": {
      "application/vnd.jupyter.widget-view+json": {
       "model_id": "b6c4dc54a13a43f0a1582e7c0293acdb",
       "version_major": 2,
       "version_minor": 0
      },
      "text/plain": [
       "Epoch 1149:   0%|          | 0/196 [00:00<?, ?it/s]"
      ]
     },
     "metadata": {},
     "output_type": "display_data"
    },
    {
     "data": {
      "application/vnd.jupyter.widget-view+json": {
       "model_id": "fb3fd053a6804eabae9df5dcc98ccdc0",
       "version_major": 2,
       "version_minor": 0
      },
      "text/plain": [
       "Epoch 1150:   0%|          | 0/196 [00:00<?, ?it/s]"
      ]
     },
     "metadata": {},
     "output_type": "display_data"
    },
    {
     "data": {
      "application/vnd.jupyter.widget-view+json": {
       "model_id": "83a08c4f69314253bf6243229878aa96",
       "version_major": 2,
       "version_minor": 0
      },
      "text/plain": [
       "Epoch 1151:   0%|          | 0/196 [00:00<?, ?it/s]"
      ]
     },
     "metadata": {},
     "output_type": "display_data"
    },
    {
     "data": {
      "application/vnd.jupyter.widget-view+json": {
       "model_id": "6abfc5425df64d20914eb286849ad41e",
       "version_major": 2,
       "version_minor": 0
      },
      "text/plain": [
       "Epoch 1152:   0%|          | 0/196 [00:00<?, ?it/s]"
      ]
     },
     "metadata": {},
     "output_type": "display_data"
    },
    {
     "data": {
      "application/vnd.jupyter.widget-view+json": {
       "model_id": "dad182f4015e4edba9353ceb1609fc03",
       "version_major": 2,
       "version_minor": 0
      },
      "text/plain": [
       "Epoch 1153:   0%|          | 0/196 [00:00<?, ?it/s]"
      ]
     },
     "metadata": {},
     "output_type": "display_data"
    },
    {
     "data": {
      "application/vnd.jupyter.widget-view+json": {
       "model_id": "7cd83f4973f6441089c1e0c1e458b567",
       "version_major": 2,
       "version_minor": 0
      },
      "text/plain": [
       "Epoch 1154:   0%|          | 0/196 [00:00<?, ?it/s]"
      ]
     },
     "metadata": {},
     "output_type": "display_data"
    },
    {
     "data": {
      "application/vnd.jupyter.widget-view+json": {
       "model_id": "2eadd463bf024163bce6261312f65531",
       "version_major": 2,
       "version_minor": 0
      },
      "text/plain": [
       "Epoch 1155:   0%|          | 0/196 [00:00<?, ?it/s]"
      ]
     },
     "metadata": {},
     "output_type": "display_data"
    },
    {
     "data": {
      "application/vnd.jupyter.widget-view+json": {
       "model_id": "67b829d71456478886c42e38dd4c9dc5",
       "version_major": 2,
       "version_minor": 0
      },
      "text/plain": [
       "Epoch 1156:   0%|          | 0/196 [00:00<?, ?it/s]"
      ]
     },
     "metadata": {},
     "output_type": "display_data"
    },
    {
     "data": {
      "application/vnd.jupyter.widget-view+json": {
       "model_id": "fb6418810f76435aa4e841ff7e079540",
       "version_major": 2,
       "version_minor": 0
      },
      "text/plain": [
       "Epoch 1157:   0%|          | 0/196 [00:00<?, ?it/s]"
      ]
     },
     "metadata": {},
     "output_type": "display_data"
    },
    {
     "data": {
      "application/vnd.jupyter.widget-view+json": {
       "model_id": "359769f94dce41ff82c5e1cc94f3ca15",
       "version_major": 2,
       "version_minor": 0
      },
      "text/plain": [
       "Epoch 1158:   0%|          | 0/196 [00:00<?, ?it/s]"
      ]
     },
     "metadata": {},
     "output_type": "display_data"
    },
    {
     "data": {
      "application/vnd.jupyter.widget-view+json": {
       "model_id": "76b0a5d959704b248fff2cf00fd50c85",
       "version_major": 2,
       "version_minor": 0
      },
      "text/plain": [
       "Epoch 1159:   0%|          | 0/196 [00:00<?, ?it/s]"
      ]
     },
     "metadata": {},
     "output_type": "display_data"
    },
    {
     "data": {
      "application/vnd.jupyter.widget-view+json": {
       "model_id": "af3a222c900d4a9297f5f7649529a5d6",
       "version_major": 2,
       "version_minor": 0
      },
      "text/plain": [
       "Epoch 1160:   0%|          | 0/196 [00:00<?, ?it/s]"
      ]
     },
     "metadata": {},
     "output_type": "display_data"
    },
    {
     "data": {
      "application/vnd.jupyter.widget-view+json": {
       "model_id": "d56a0cda500c4f4ebee29496ca88d6a8",
       "version_major": 2,
       "version_minor": 0
      },
      "text/plain": [
       "Epoch 1161:   0%|          | 0/196 [00:00<?, ?it/s]"
      ]
     },
     "metadata": {},
     "output_type": "display_data"
    },
    {
     "data": {
      "application/vnd.jupyter.widget-view+json": {
       "model_id": "dfbfb75d365d4341a930ecd8bd31be17",
       "version_major": 2,
       "version_minor": 0
      },
      "text/plain": [
       "Epoch 1162:   0%|          | 0/196 [00:00<?, ?it/s]"
      ]
     },
     "metadata": {},
     "output_type": "display_data"
    },
    {
     "data": {
      "application/vnd.jupyter.widget-view+json": {
       "model_id": "48065af78f5d4951907d67a75e4ae02b",
       "version_major": 2,
       "version_minor": 0
      },
      "text/plain": [
       "Epoch 1163:   0%|          | 0/196 [00:00<?, ?it/s]"
      ]
     },
     "metadata": {},
     "output_type": "display_data"
    },
    {
     "data": {
      "application/vnd.jupyter.widget-view+json": {
       "model_id": "d7c35a0d2568414b8ed275ace7a8346e",
       "version_major": 2,
       "version_minor": 0
      },
      "text/plain": [
       "Epoch 1164:   0%|          | 0/196 [00:00<?, ?it/s]"
      ]
     },
     "metadata": {},
     "output_type": "display_data"
    },
    {
     "data": {
      "application/vnd.jupyter.widget-view+json": {
       "model_id": "daecdb3ec1fb4450a5839bb7971526d4",
       "version_major": 2,
       "version_minor": 0
      },
      "text/plain": [
       "Epoch 1165:   0%|          | 0/196 [00:00<?, ?it/s]"
      ]
     },
     "metadata": {},
     "output_type": "display_data"
    },
    {
     "data": {
      "application/vnd.jupyter.widget-view+json": {
       "model_id": "24264b4e74fa4106b7e776b87d21fcef",
       "version_major": 2,
       "version_minor": 0
      },
      "text/plain": [
       "Epoch 1166:   0%|          | 0/196 [00:00<?, ?it/s]"
      ]
     },
     "metadata": {},
     "output_type": "display_data"
    },
    {
     "data": {
      "application/vnd.jupyter.widget-view+json": {
       "model_id": "6fe686e84d284a2e8b619f4a44f1e9d2",
       "version_major": 2,
       "version_minor": 0
      },
      "text/plain": [
       "Epoch 1167:   0%|          | 0/196 [00:00<?, ?it/s]"
      ]
     },
     "metadata": {},
     "output_type": "display_data"
    },
    {
     "data": {
      "application/vnd.jupyter.widget-view+json": {
       "model_id": "abba0715b25b4d8ea9122f07ed75a845",
       "version_major": 2,
       "version_minor": 0
      },
      "text/plain": [
       "Epoch 1168:   0%|          | 0/196 [00:00<?, ?it/s]"
      ]
     },
     "metadata": {},
     "output_type": "display_data"
    },
    {
     "data": {
      "application/vnd.jupyter.widget-view+json": {
       "model_id": "9f392920360e4582a78820d128258df7",
       "version_major": 2,
       "version_minor": 0
      },
      "text/plain": [
       "Epoch 1169:   0%|          | 0/196 [00:00<?, ?it/s]"
      ]
     },
     "metadata": {},
     "output_type": "display_data"
    },
    {
     "data": {
      "application/vnd.jupyter.widget-view+json": {
       "model_id": "074904aa303f4f63aeea5eda357f29bf",
       "version_major": 2,
       "version_minor": 0
      },
      "text/plain": [
       "Epoch 1170:   0%|          | 0/196 [00:00<?, ?it/s]"
      ]
     },
     "metadata": {},
     "output_type": "display_data"
    },
    {
     "data": {
      "application/vnd.jupyter.widget-view+json": {
       "model_id": "d7d1ab55bd8c4970a5628a6a48e3fb1a",
       "version_major": 2,
       "version_minor": 0
      },
      "text/plain": [
       "Epoch 1171:   0%|          | 0/196 [00:00<?, ?it/s]"
      ]
     },
     "metadata": {},
     "output_type": "display_data"
    },
    {
     "data": {
      "application/vnd.jupyter.widget-view+json": {
       "model_id": "3b92bad3aa9949be8ecde68c50f8d41f",
       "version_major": 2,
       "version_minor": 0
      },
      "text/plain": [
       "Epoch 1172:   0%|          | 0/196 [00:00<?, ?it/s]"
      ]
     },
     "metadata": {},
     "output_type": "display_data"
    },
    {
     "data": {
      "application/vnd.jupyter.widget-view+json": {
       "model_id": "22968c99b2584d52bf21a34e639bf449",
       "version_major": 2,
       "version_minor": 0
      },
      "text/plain": [
       "Epoch 1173:   0%|          | 0/196 [00:00<?, ?it/s]"
      ]
     },
     "metadata": {},
     "output_type": "display_data"
    },
    {
     "data": {
      "application/vnd.jupyter.widget-view+json": {
       "model_id": "7ac155b5ab194172940d9afa63ec2d3a",
       "version_major": 2,
       "version_minor": 0
      },
      "text/plain": [
       "Epoch 1174:   0%|          | 0/196 [00:00<?, ?it/s]"
      ]
     },
     "metadata": {},
     "output_type": "display_data"
    },
    {
     "data": {
      "application/vnd.jupyter.widget-view+json": {
       "model_id": "2041259453a34275ba1474ff816fe3ff",
       "version_major": 2,
       "version_minor": 0
      },
      "text/plain": [
       "Epoch 1175:   0%|          | 0/196 [00:00<?, ?it/s]"
      ]
     },
     "metadata": {},
     "output_type": "display_data"
    },
    {
     "data": {
      "application/vnd.jupyter.widget-view+json": {
       "model_id": "e9fcdf73fbbd453a8d1dc2f808fb6121",
       "version_major": 2,
       "version_minor": 0
      },
      "text/plain": [
       "Epoch 1176:   0%|          | 0/196 [00:00<?, ?it/s]"
      ]
     },
     "metadata": {},
     "output_type": "display_data"
    },
    {
     "data": {
      "application/vnd.jupyter.widget-view+json": {
       "model_id": "e774b7d2fb38495d9ed41db3ebca3657",
       "version_major": 2,
       "version_minor": 0
      },
      "text/plain": [
       "Epoch 1177:   0%|          | 0/196 [00:00<?, ?it/s]"
      ]
     },
     "metadata": {},
     "output_type": "display_data"
    },
    {
     "data": {
      "application/vnd.jupyter.widget-view+json": {
       "model_id": "0ba774b1f8aa4b6bb213f29ecd8428d9",
       "version_major": 2,
       "version_minor": 0
      },
      "text/plain": [
       "Epoch 1178:   0%|          | 0/196 [00:00<?, ?it/s]"
      ]
     },
     "metadata": {},
     "output_type": "display_data"
    },
    {
     "data": {
      "application/vnd.jupyter.widget-view+json": {
       "model_id": "1e40195227e2435eab76e0ba7ecf4d01",
       "version_major": 2,
       "version_minor": 0
      },
      "text/plain": [
       "Epoch 1179:   0%|          | 0/196 [00:00<?, ?it/s]"
      ]
     },
     "metadata": {},
     "output_type": "display_data"
    },
    {
     "data": {
      "application/vnd.jupyter.widget-view+json": {
       "model_id": "616c793781394de9b52c7d123212ff5b",
       "version_major": 2,
       "version_minor": 0
      },
      "text/plain": [
       "Epoch 1180:   0%|          | 0/196 [00:00<?, ?it/s]"
      ]
     },
     "metadata": {},
     "output_type": "display_data"
    },
    {
     "data": {
      "application/vnd.jupyter.widget-view+json": {
       "model_id": "bef1b48f07d347cbb80dc62597d83dec",
       "version_major": 2,
       "version_minor": 0
      },
      "text/plain": [
       "Epoch 1181:   0%|          | 0/196 [00:00<?, ?it/s]"
      ]
     },
     "metadata": {},
     "output_type": "display_data"
    },
    {
     "data": {
      "application/vnd.jupyter.widget-view+json": {
       "model_id": "d6141c85637542d095c1f30e490d45c2",
       "version_major": 2,
       "version_minor": 0
      },
      "text/plain": [
       "Epoch 1182:   0%|          | 0/196 [00:00<?, ?it/s]"
      ]
     },
     "metadata": {},
     "output_type": "display_data"
    },
    {
     "data": {
      "application/vnd.jupyter.widget-view+json": {
       "model_id": "528b658b26994b85817c51ec97bfd465",
       "version_major": 2,
       "version_minor": 0
      },
      "text/plain": [
       "Epoch 1183:   0%|          | 0/196 [00:00<?, ?it/s]"
      ]
     },
     "metadata": {},
     "output_type": "display_data"
    },
    {
     "data": {
      "application/vnd.jupyter.widget-view+json": {
       "model_id": "07c1ddc11c584115b0e84ed75b070afe",
       "version_major": 2,
       "version_minor": 0
      },
      "text/plain": [
       "Epoch 1184:   0%|          | 0/196 [00:00<?, ?it/s]"
      ]
     },
     "metadata": {},
     "output_type": "display_data"
    },
    {
     "data": {
      "application/vnd.jupyter.widget-view+json": {
       "model_id": "1f785f2238034005950b89a6a29921e9",
       "version_major": 2,
       "version_minor": 0
      },
      "text/plain": [
       "Epoch 1185:   0%|          | 0/196 [00:00<?, ?it/s]"
      ]
     },
     "metadata": {},
     "output_type": "display_data"
    },
    {
     "data": {
      "application/vnd.jupyter.widget-view+json": {
       "model_id": "37c29b7775c44098b25bb67754d37138",
       "version_major": 2,
       "version_minor": 0
      },
      "text/plain": [
       "Epoch 1186:   0%|          | 0/196 [00:00<?, ?it/s]"
      ]
     },
     "metadata": {},
     "output_type": "display_data"
    },
    {
     "data": {
      "application/vnd.jupyter.widget-view+json": {
       "model_id": "4c8aeb9206a743a5a0e850a7b7ee1123",
       "version_major": 2,
       "version_minor": 0
      },
      "text/plain": [
       "Epoch 1187:   0%|          | 0/196 [00:00<?, ?it/s]"
      ]
     },
     "metadata": {},
     "output_type": "display_data"
    },
    {
     "data": {
      "application/vnd.jupyter.widget-view+json": {
       "model_id": "be8452d3f99f4449b94a1eb27ea0eb50",
       "version_major": 2,
       "version_minor": 0
      },
      "text/plain": [
       "Epoch 1188:   0%|          | 0/196 [00:00<?, ?it/s]"
      ]
     },
     "metadata": {},
     "output_type": "display_data"
    },
    {
     "data": {
      "application/vnd.jupyter.widget-view+json": {
       "model_id": "bca1752faff6493a93a05477f38756a1",
       "version_major": 2,
       "version_minor": 0
      },
      "text/plain": [
       "Epoch 1189:   0%|          | 0/196 [00:00<?, ?it/s]"
      ]
     },
     "metadata": {},
     "output_type": "display_data"
    },
    {
     "data": {
      "application/vnd.jupyter.widget-view+json": {
       "model_id": "495cc559178844abbf56f3048eedc5fe",
       "version_major": 2,
       "version_minor": 0
      },
      "text/plain": [
       "Epoch 1190:   0%|          | 0/196 [00:00<?, ?it/s]"
      ]
     },
     "metadata": {},
     "output_type": "display_data"
    },
    {
     "data": {
      "application/vnd.jupyter.widget-view+json": {
       "model_id": "2ebb5a9064944c75b82d86e8ce2af528",
       "version_major": 2,
       "version_minor": 0
      },
      "text/plain": [
       "Epoch 1191:   0%|          | 0/196 [00:00<?, ?it/s]"
      ]
     },
     "metadata": {},
     "output_type": "display_data"
    },
    {
     "data": {
      "application/vnd.jupyter.widget-view+json": {
       "model_id": "e9916d6bca644e3fa627fb5bbc57306b",
       "version_major": 2,
       "version_minor": 0
      },
      "text/plain": [
       "Epoch 1192:   0%|          | 0/196 [00:00<?, ?it/s]"
      ]
     },
     "metadata": {},
     "output_type": "display_data"
    },
    {
     "data": {
      "application/vnd.jupyter.widget-view+json": {
       "model_id": "9ce7c7527f0a4a96a498f06348ad358c",
       "version_major": 2,
       "version_minor": 0
      },
      "text/plain": [
       "Epoch 1193:   0%|          | 0/196 [00:00<?, ?it/s]"
      ]
     },
     "metadata": {},
     "output_type": "display_data"
    },
    {
     "data": {
      "application/vnd.jupyter.widget-view+json": {
       "model_id": "9d998ec66382478793da625f1fc6afc5",
       "version_major": 2,
       "version_minor": 0
      },
      "text/plain": [
       "Epoch 1194:   0%|          | 0/196 [00:00<?, ?it/s]"
      ]
     },
     "metadata": {},
     "output_type": "display_data"
    },
    {
     "data": {
      "application/vnd.jupyter.widget-view+json": {
       "model_id": "f84231fa49f34a579266ca77ab1cd083",
       "version_major": 2,
       "version_minor": 0
      },
      "text/plain": [
       "Epoch 1195:   0%|          | 0/196 [00:00<?, ?it/s]"
      ]
     },
     "metadata": {},
     "output_type": "display_data"
    },
    {
     "data": {
      "application/vnd.jupyter.widget-view+json": {
       "model_id": "a7354e98684445f78b39884fa751703a",
       "version_major": 2,
       "version_minor": 0
      },
      "text/plain": [
       "Epoch 1196:   0%|          | 0/196 [00:00<?, ?it/s]"
      ]
     },
     "metadata": {},
     "output_type": "display_data"
    },
    {
     "data": {
      "application/vnd.jupyter.widget-view+json": {
       "model_id": "c3e6a82336f74aadbd5befa55e67c370",
       "version_major": 2,
       "version_minor": 0
      },
      "text/plain": [
       "Epoch 1197:   0%|          | 0/196 [00:00<?, ?it/s]"
      ]
     },
     "metadata": {},
     "output_type": "display_data"
    },
    {
     "data": {
      "application/vnd.jupyter.widget-view+json": {
       "model_id": "49d37c3a7be84ada935a12224d8e3e9f",
       "version_major": 2,
       "version_minor": 0
      },
      "text/plain": [
       "Epoch 1198:   0%|          | 0/196 [00:00<?, ?it/s]"
      ]
     },
     "metadata": {},
     "output_type": "display_data"
    },
    {
     "data": {
      "application/vnd.jupyter.widget-view+json": {
       "model_id": "58eb33ca57d54c1c8ae9ed94877561d4",
       "version_major": 2,
       "version_minor": 0
      },
      "text/plain": [
       "Epoch 1199:   0%|          | 0/196 [00:00<?, ?it/s]"
      ]
     },
     "metadata": {},
     "output_type": "display_data"
    },
    {
     "data": {
      "application/vnd.jupyter.widget-view+json": {
       "model_id": "32e3f3e8e1d04990bf93979e03101a90",
       "version_major": 2,
       "version_minor": 0
      },
      "text/plain": [
       "Epoch 1200:   0%|          | 0/196 [00:00<?, ?it/s]"
      ]
     },
     "metadata": {},
     "output_type": "display_data"
    },
    {
     "data": {
      "application/vnd.jupyter.widget-view+json": {
       "model_id": "8f38d4a9d7dd44d7b78fbc0e23c34487",
       "version_major": 2,
       "version_minor": 0
      },
      "text/plain": [
       "Epoch 1201:   0%|          | 0/196 [00:00<?, ?it/s]"
      ]
     },
     "metadata": {},
     "output_type": "display_data"
    },
    {
     "data": {
      "application/vnd.jupyter.widget-view+json": {
       "model_id": "339307fa436646e6ab42ced41660fbab",
       "version_major": 2,
       "version_minor": 0
      },
      "text/plain": [
       "Epoch 1202:   0%|          | 0/196 [00:00<?, ?it/s]"
      ]
     },
     "metadata": {},
     "output_type": "display_data"
    },
    {
     "data": {
      "application/vnd.jupyter.widget-view+json": {
       "model_id": "7035a2b244a9401daaab91d5d2c4eef3",
       "version_major": 2,
       "version_minor": 0
      },
      "text/plain": [
       "Epoch 1203:   0%|          | 0/196 [00:00<?, ?it/s]"
      ]
     },
     "metadata": {},
     "output_type": "display_data"
    },
    {
     "data": {
      "application/vnd.jupyter.widget-view+json": {
       "model_id": "f3973137fef941618aafd0470fd5bd0d",
       "version_major": 2,
       "version_minor": 0
      },
      "text/plain": [
       "Epoch 1204:   0%|          | 0/196 [00:00<?, ?it/s]"
      ]
     },
     "metadata": {},
     "output_type": "display_data"
    },
    {
     "data": {
      "application/vnd.jupyter.widget-view+json": {
       "model_id": "98133b008b1d419689342b046efece9f",
       "version_major": 2,
       "version_minor": 0
      },
      "text/plain": [
       "Epoch 1205:   0%|          | 0/196 [00:00<?, ?it/s]"
      ]
     },
     "metadata": {},
     "output_type": "display_data"
    },
    {
     "data": {
      "application/vnd.jupyter.widget-view+json": {
       "model_id": "3354325cb4994e87ac4a00a5a59e02bb",
       "version_major": 2,
       "version_minor": 0
      },
      "text/plain": [
       "Epoch 1206:   0%|          | 0/196 [00:00<?, ?it/s]"
      ]
     },
     "metadata": {},
     "output_type": "display_data"
    },
    {
     "data": {
      "application/vnd.jupyter.widget-view+json": {
       "model_id": "71af5c5ea23e4a9a88487564fb8529d2",
       "version_major": 2,
       "version_minor": 0
      },
      "text/plain": [
       "Epoch 1207:   0%|          | 0/196 [00:00<?, ?it/s]"
      ]
     },
     "metadata": {},
     "output_type": "display_data"
    },
    {
     "data": {
      "application/vnd.jupyter.widget-view+json": {
       "model_id": "ee7712b9e0d34d80beafe8c8000d4be9",
       "version_major": 2,
       "version_minor": 0
      },
      "text/plain": [
       "Epoch 1208:   0%|          | 0/196 [00:00<?, ?it/s]"
      ]
     },
     "metadata": {},
     "output_type": "display_data"
    },
    {
     "data": {
      "application/vnd.jupyter.widget-view+json": {
       "model_id": "566d37ce7d524559a7a5585c22c2bf2e",
       "version_major": 2,
       "version_minor": 0
      },
      "text/plain": [
       "Epoch 1209:   0%|          | 0/196 [00:00<?, ?it/s]"
      ]
     },
     "metadata": {},
     "output_type": "display_data"
    },
    {
     "data": {
      "application/vnd.jupyter.widget-view+json": {
       "model_id": "cd8dbdc29adf466ab7b21a4478fa14e7",
       "version_major": 2,
       "version_minor": 0
      },
      "text/plain": [
       "Epoch 1210:   0%|          | 0/196 [00:00<?, ?it/s]"
      ]
     },
     "metadata": {},
     "output_type": "display_data"
    },
    {
     "data": {
      "application/vnd.jupyter.widget-view+json": {
       "model_id": "68a94274bd9f4854bf354a987cc7e9ea",
       "version_major": 2,
       "version_minor": 0
      },
      "text/plain": [
       "Epoch 1211:   0%|          | 0/196 [00:00<?, ?it/s]"
      ]
     },
     "metadata": {},
     "output_type": "display_data"
    },
    {
     "data": {
      "application/vnd.jupyter.widget-view+json": {
       "model_id": "0e464990e6cf453ca372e1cbb82d448e",
       "version_major": 2,
       "version_minor": 0
      },
      "text/plain": [
       "Epoch 1212:   0%|          | 0/196 [00:00<?, ?it/s]"
      ]
     },
     "metadata": {},
     "output_type": "display_data"
    },
    {
     "data": {
      "application/vnd.jupyter.widget-view+json": {
       "model_id": "c16f589f7a8745df904baec9d6141d90",
       "version_major": 2,
       "version_minor": 0
      },
      "text/plain": [
       "Epoch 1213:   0%|          | 0/196 [00:00<?, ?it/s]"
      ]
     },
     "metadata": {},
     "output_type": "display_data"
    },
    {
     "data": {
      "application/vnd.jupyter.widget-view+json": {
       "model_id": "e2a6fe967e1c496f96300acba412fe69",
       "version_major": 2,
       "version_minor": 0
      },
      "text/plain": [
       "Epoch 1214:   0%|          | 0/196 [00:00<?, ?it/s]"
      ]
     },
     "metadata": {},
     "output_type": "display_data"
    },
    {
     "data": {
      "application/vnd.jupyter.widget-view+json": {
       "model_id": "296a7498e1b6427db698e19f02e2f5a2",
       "version_major": 2,
       "version_minor": 0
      },
      "text/plain": [
       "Epoch 1215:   0%|          | 0/196 [00:00<?, ?it/s]"
      ]
     },
     "metadata": {},
     "output_type": "display_data"
    },
    {
     "data": {
      "application/vnd.jupyter.widget-view+json": {
       "model_id": "22a70b5279cd437ba2632da8b7a04475",
       "version_major": 2,
       "version_minor": 0
      },
      "text/plain": [
       "Epoch 1216:   0%|          | 0/196 [00:00<?, ?it/s]"
      ]
     },
     "metadata": {},
     "output_type": "display_data"
    },
    {
     "data": {
      "application/vnd.jupyter.widget-view+json": {
       "model_id": "cb7f5981543342e5ad4b3837d070ffba",
       "version_major": 2,
       "version_minor": 0
      },
      "text/plain": [
       "Epoch 1217:   0%|          | 0/196 [00:00<?, ?it/s]"
      ]
     },
     "metadata": {},
     "output_type": "display_data"
    },
    {
     "data": {
      "application/vnd.jupyter.widget-view+json": {
       "model_id": "5228ea3cbfc64f5daca3c2c8a1a56e29",
       "version_major": 2,
       "version_minor": 0
      },
      "text/plain": [
       "Epoch 1218:   0%|          | 0/196 [00:00<?, ?it/s]"
      ]
     },
     "metadata": {},
     "output_type": "display_data"
    },
    {
     "data": {
      "application/vnd.jupyter.widget-view+json": {
       "model_id": "08603080f4e04d798ac459d2052f7c50",
       "version_major": 2,
       "version_minor": 0
      },
      "text/plain": [
       "Epoch 1219:   0%|          | 0/196 [00:00<?, ?it/s]"
      ]
     },
     "metadata": {},
     "output_type": "display_data"
    },
    {
     "data": {
      "application/vnd.jupyter.widget-view+json": {
       "model_id": "a6b648ee052f44f7bb2fa7dab6f563b1",
       "version_major": 2,
       "version_minor": 0
      },
      "text/plain": [
       "Epoch 1220:   0%|          | 0/196 [00:00<?, ?it/s]"
      ]
     },
     "metadata": {},
     "output_type": "display_data"
    },
    {
     "data": {
      "application/vnd.jupyter.widget-view+json": {
       "model_id": "7237fbc35dba4f70ab5d34eba7fc00d2",
       "version_major": 2,
       "version_minor": 0
      },
      "text/plain": [
       "Epoch 1221:   0%|          | 0/196 [00:00<?, ?it/s]"
      ]
     },
     "metadata": {},
     "output_type": "display_data"
    },
    {
     "data": {
      "application/vnd.jupyter.widget-view+json": {
       "model_id": "2c2f544ac36543d2af5d7a6b0b728649",
       "version_major": 2,
       "version_minor": 0
      },
      "text/plain": [
       "Epoch 1222:   0%|          | 0/196 [00:00<?, ?it/s]"
      ]
     },
     "metadata": {},
     "output_type": "display_data"
    },
    {
     "data": {
      "application/vnd.jupyter.widget-view+json": {
       "model_id": "6d8a4b00e3a847e79b6b2c8456c9516f",
       "version_major": 2,
       "version_minor": 0
      },
      "text/plain": [
       "Epoch 1223:   0%|          | 0/196 [00:00<?, ?it/s]"
      ]
     },
     "metadata": {},
     "output_type": "display_data"
    },
    {
     "data": {
      "application/vnd.jupyter.widget-view+json": {
       "model_id": "2d54906297604a778d61a241d83a7913",
       "version_major": 2,
       "version_minor": 0
      },
      "text/plain": [
       "Epoch 1224:   0%|          | 0/196 [00:00<?, ?it/s]"
      ]
     },
     "metadata": {},
     "output_type": "display_data"
    },
    {
     "data": {
      "application/vnd.jupyter.widget-view+json": {
       "model_id": "36ed4423a408431cb31d71db6d89d714",
       "version_major": 2,
       "version_minor": 0
      },
      "text/plain": [
       "Epoch 1225:   0%|          | 0/196 [00:00<?, ?it/s]"
      ]
     },
     "metadata": {},
     "output_type": "display_data"
    },
    {
     "data": {
      "application/vnd.jupyter.widget-view+json": {
       "model_id": "6e4f28b64732491384cdc9dc9bbbfccf",
       "version_major": 2,
       "version_minor": 0
      },
      "text/plain": [
       "Epoch 1226:   0%|          | 0/196 [00:00<?, ?it/s]"
      ]
     },
     "metadata": {},
     "output_type": "display_data"
    },
    {
     "data": {
      "application/vnd.jupyter.widget-view+json": {
       "model_id": "967157b8e4384b35913690525df28bf7",
       "version_major": 2,
       "version_minor": 0
      },
      "text/plain": [
       "Epoch 1227:   0%|          | 0/196 [00:00<?, ?it/s]"
      ]
     },
     "metadata": {},
     "output_type": "display_data"
    },
    {
     "data": {
      "application/vnd.jupyter.widget-view+json": {
       "model_id": "cdcf40db40614902ab9a56de7930147a",
       "version_major": 2,
       "version_minor": 0
      },
      "text/plain": [
       "Epoch 1228:   0%|          | 0/196 [00:00<?, ?it/s]"
      ]
     },
     "metadata": {},
     "output_type": "display_data"
    },
    {
     "data": {
      "application/vnd.jupyter.widget-view+json": {
       "model_id": "68e2b799772145618f2d1a356aed7ca1",
       "version_major": 2,
       "version_minor": 0
      },
      "text/plain": [
       "Epoch 1229:   0%|          | 0/196 [00:00<?, ?it/s]"
      ]
     },
     "metadata": {},
     "output_type": "display_data"
    },
    {
     "data": {
      "application/vnd.jupyter.widget-view+json": {
       "model_id": "3c0e7b50cbff4a6894d187f9c4f1491d",
       "version_major": 2,
       "version_minor": 0
      },
      "text/plain": [
       "Epoch 1230:   0%|          | 0/196 [00:00<?, ?it/s]"
      ]
     },
     "metadata": {},
     "output_type": "display_data"
    },
    {
     "data": {
      "application/vnd.jupyter.widget-view+json": {
       "model_id": "91f0f081444d49afa4904e8b42caf364",
       "version_major": 2,
       "version_minor": 0
      },
      "text/plain": [
       "Epoch 1231:   0%|          | 0/196 [00:00<?, ?it/s]"
      ]
     },
     "metadata": {},
     "output_type": "display_data"
    },
    {
     "data": {
      "application/vnd.jupyter.widget-view+json": {
       "model_id": "b778c4622dcb455390de91c1d140d0c1",
       "version_major": 2,
       "version_minor": 0
      },
      "text/plain": [
       "Epoch 1232:   0%|          | 0/196 [00:00<?, ?it/s]"
      ]
     },
     "metadata": {},
     "output_type": "display_data"
    },
    {
     "data": {
      "application/vnd.jupyter.widget-view+json": {
       "model_id": "6a8d76f1ab384b29a407e9b32bca1966",
       "version_major": 2,
       "version_minor": 0
      },
      "text/plain": [
       "Epoch 1233:   0%|          | 0/196 [00:00<?, ?it/s]"
      ]
     },
     "metadata": {},
     "output_type": "display_data"
    },
    {
     "data": {
      "application/vnd.jupyter.widget-view+json": {
       "model_id": "30fb0496c26e4d1f8d8252c3905212fd",
       "version_major": 2,
       "version_minor": 0
      },
      "text/plain": [
       "Epoch 1234:   0%|          | 0/196 [00:00<?, ?it/s]"
      ]
     },
     "metadata": {},
     "output_type": "display_data"
    },
    {
     "data": {
      "application/vnd.jupyter.widget-view+json": {
       "model_id": "2137627bfbf74a7ca853c62e5e2d59cc",
       "version_major": 2,
       "version_minor": 0
      },
      "text/plain": [
       "Epoch 1235:   0%|          | 0/196 [00:00<?, ?it/s]"
      ]
     },
     "metadata": {},
     "output_type": "display_data"
    },
    {
     "data": {
      "application/vnd.jupyter.widget-view+json": {
       "model_id": "10878cc6c61d44f9b2cb792632711ae3",
       "version_major": 2,
       "version_minor": 0
      },
      "text/plain": [
       "Epoch 1236:   0%|          | 0/196 [00:00<?, ?it/s]"
      ]
     },
     "metadata": {},
     "output_type": "display_data"
    },
    {
     "data": {
      "application/vnd.jupyter.widget-view+json": {
       "model_id": "6cc86e9c88a244bbbaaeaa1351dc939a",
       "version_major": 2,
       "version_minor": 0
      },
      "text/plain": [
       "Epoch 1237:   0%|          | 0/196 [00:00<?, ?it/s]"
      ]
     },
     "metadata": {},
     "output_type": "display_data"
    },
    {
     "data": {
      "application/vnd.jupyter.widget-view+json": {
       "model_id": "c66f39a50c6f45c2afa4309a492657f4",
       "version_major": 2,
       "version_minor": 0
      },
      "text/plain": [
       "Epoch 1238:   0%|          | 0/196 [00:00<?, ?it/s]"
      ]
     },
     "metadata": {},
     "output_type": "display_data"
    },
    {
     "data": {
      "application/vnd.jupyter.widget-view+json": {
       "model_id": "efe1ce7ea7d44dde8390d8c634862b8d",
       "version_major": 2,
       "version_minor": 0
      },
      "text/plain": [
       "Epoch 1239:   0%|          | 0/196 [00:00<?, ?it/s]"
      ]
     },
     "metadata": {},
     "output_type": "display_data"
    },
    {
     "data": {
      "application/vnd.jupyter.widget-view+json": {
       "model_id": "72508954b3d742b798155c9731cc21bd",
       "version_major": 2,
       "version_minor": 0
      },
      "text/plain": [
       "Epoch 1240:   0%|          | 0/196 [00:00<?, ?it/s]"
      ]
     },
     "metadata": {},
     "output_type": "display_data"
    },
    {
     "data": {
      "application/vnd.jupyter.widget-view+json": {
       "model_id": "c85ca90207594b1e9edd42fc2c826b93",
       "version_major": 2,
       "version_minor": 0
      },
      "text/plain": [
       "Epoch 1241:   0%|          | 0/196 [00:00<?, ?it/s]"
      ]
     },
     "metadata": {},
     "output_type": "display_data"
    },
    {
     "data": {
      "application/vnd.jupyter.widget-view+json": {
       "model_id": "699a301692a444a2b7e5386a357af70e",
       "version_major": 2,
       "version_minor": 0
      },
      "text/plain": [
       "Epoch 1242:   0%|          | 0/196 [00:00<?, ?it/s]"
      ]
     },
     "metadata": {},
     "output_type": "display_data"
    },
    {
     "data": {
      "application/vnd.jupyter.widget-view+json": {
       "model_id": "345fe941ed0144d79685a8a2aa907949",
       "version_major": 2,
       "version_minor": 0
      },
      "text/plain": [
       "Epoch 1243:   0%|          | 0/196 [00:00<?, ?it/s]"
      ]
     },
     "metadata": {},
     "output_type": "display_data"
    },
    {
     "data": {
      "application/vnd.jupyter.widget-view+json": {
       "model_id": "33a7041b8f2147d2af69a12b0490f5ae",
       "version_major": 2,
       "version_minor": 0
      },
      "text/plain": [
       "Epoch 1244:   0%|          | 0/196 [00:00<?, ?it/s]"
      ]
     },
     "metadata": {},
     "output_type": "display_data"
    },
    {
     "data": {
      "application/vnd.jupyter.widget-view+json": {
       "model_id": "96ea6083e0444ac2a9c2cf2932e5746a",
       "version_major": 2,
       "version_minor": 0
      },
      "text/plain": [
       "Epoch 1245:   0%|          | 0/196 [00:00<?, ?it/s]"
      ]
     },
     "metadata": {},
     "output_type": "display_data"
    },
    {
     "data": {
      "application/vnd.jupyter.widget-view+json": {
       "model_id": "f8848b005dff4e90ab2075d8544d3987",
       "version_major": 2,
       "version_minor": 0
      },
      "text/plain": [
       "Epoch 1246:   0%|          | 0/196 [00:00<?, ?it/s]"
      ]
     },
     "metadata": {},
     "output_type": "display_data"
    },
    {
     "data": {
      "application/vnd.jupyter.widget-view+json": {
       "model_id": "017299549874436591e95bed3b2e1ada",
       "version_major": 2,
       "version_minor": 0
      },
      "text/plain": [
       "Epoch 1247:   0%|          | 0/196 [00:00<?, ?it/s]"
      ]
     },
     "metadata": {},
     "output_type": "display_data"
    },
    {
     "data": {
      "application/vnd.jupyter.widget-view+json": {
       "model_id": "35c5f5eb8eb44e1da052e5d31063e0f5",
       "version_major": 2,
       "version_minor": 0
      },
      "text/plain": [
       "Epoch 1248:   0%|          | 0/196 [00:00<?, ?it/s]"
      ]
     },
     "metadata": {},
     "output_type": "display_data"
    },
    {
     "data": {
      "application/vnd.jupyter.widget-view+json": {
       "model_id": "80801d38c4864f79b6d5dae948d8f688",
       "version_major": 2,
       "version_minor": 0
      },
      "text/plain": [
       "Epoch 1249:   0%|          | 0/196 [00:00<?, ?it/s]"
      ]
     },
     "metadata": {},
     "output_type": "display_data"
    },
    {
     "data": {
      "application/vnd.jupyter.widget-view+json": {
       "model_id": "34d0bd4786ed470aa5ff121039d678f6",
       "version_major": 2,
       "version_minor": 0
      },
      "text/plain": [
       "Epoch 1250:   0%|          | 0/196 [00:00<?, ?it/s]"
      ]
     },
     "metadata": {},
     "output_type": "display_data"
    },
    {
     "data": {
      "application/vnd.jupyter.widget-view+json": {
       "model_id": "a272b629b4114c8d89b1b1dbd8e0001a",
       "version_major": 2,
       "version_minor": 0
      },
      "text/plain": [
       "Epoch 1251:   0%|          | 0/196 [00:00<?, ?it/s]"
      ]
     },
     "metadata": {},
     "output_type": "display_data"
    },
    {
     "data": {
      "application/vnd.jupyter.widget-view+json": {
       "model_id": "160673b4bcdd4f57b1a76684d4d42a52",
       "version_major": 2,
       "version_minor": 0
      },
      "text/plain": [
       "Epoch 1252:   0%|          | 0/196 [00:00<?, ?it/s]"
      ]
     },
     "metadata": {},
     "output_type": "display_data"
    },
    {
     "data": {
      "application/vnd.jupyter.widget-view+json": {
       "model_id": "e240f0f208f840abbb7ec3de98a0dcf7",
       "version_major": 2,
       "version_minor": 0
      },
      "text/plain": [
       "Epoch 1253:   0%|          | 0/196 [00:00<?, ?it/s]"
      ]
     },
     "metadata": {},
     "output_type": "display_data"
    },
    {
     "data": {
      "application/vnd.jupyter.widget-view+json": {
       "model_id": "65f869249ddc4344b3ac3cd0db1e93ca",
       "version_major": 2,
       "version_minor": 0
      },
      "text/plain": [
       "Epoch 1254:   0%|          | 0/196 [00:00<?, ?it/s]"
      ]
     },
     "metadata": {},
     "output_type": "display_data"
    },
    {
     "data": {
      "application/vnd.jupyter.widget-view+json": {
       "model_id": "4fd9745865a5490b81128c2144a7a6b1",
       "version_major": 2,
       "version_minor": 0
      },
      "text/plain": [
       "Epoch 1255:   0%|          | 0/196 [00:00<?, ?it/s]"
      ]
     },
     "metadata": {},
     "output_type": "display_data"
    },
    {
     "data": {
      "application/vnd.jupyter.widget-view+json": {
       "model_id": "5d0931bcb1bf4579a7683cf45368a445",
       "version_major": 2,
       "version_minor": 0
      },
      "text/plain": [
       "Epoch 1256:   0%|          | 0/196 [00:00<?, ?it/s]"
      ]
     },
     "metadata": {},
     "output_type": "display_data"
    },
    {
     "data": {
      "application/vnd.jupyter.widget-view+json": {
       "model_id": "ff23f7390e134a6f860c40340f8921b7",
       "version_major": 2,
       "version_minor": 0
      },
      "text/plain": [
       "Epoch 1257:   0%|          | 0/196 [00:00<?, ?it/s]"
      ]
     },
     "metadata": {},
     "output_type": "display_data"
    },
    {
     "data": {
      "application/vnd.jupyter.widget-view+json": {
       "model_id": "358b328c1c6e43fbbaea2f598755dc74",
       "version_major": 2,
       "version_minor": 0
      },
      "text/plain": [
       "Epoch 1258:   0%|          | 0/196 [00:00<?, ?it/s]"
      ]
     },
     "metadata": {},
     "output_type": "display_data"
    },
    {
     "data": {
      "application/vnd.jupyter.widget-view+json": {
       "model_id": "0ad32cb1ad0f4097936c4f88f77f6546",
       "version_major": 2,
       "version_minor": 0
      },
      "text/plain": [
       "Epoch 1259:   0%|          | 0/196 [00:00<?, ?it/s]"
      ]
     },
     "metadata": {},
     "output_type": "display_data"
    },
    {
     "data": {
      "application/vnd.jupyter.widget-view+json": {
       "model_id": "92d3d5c0ed50478aa62c07b6e6a958cd",
       "version_major": 2,
       "version_minor": 0
      },
      "text/plain": [
       "Epoch 1260:   0%|          | 0/196 [00:00<?, ?it/s]"
      ]
     },
     "metadata": {},
     "output_type": "display_data"
    },
    {
     "data": {
      "application/vnd.jupyter.widget-view+json": {
       "model_id": "a1ce6ea37aec4d35ac73922433c72ebd",
       "version_major": 2,
       "version_minor": 0
      },
      "text/plain": [
       "Epoch 1261:   0%|          | 0/196 [00:00<?, ?it/s]"
      ]
     },
     "metadata": {},
     "output_type": "display_data"
    },
    {
     "data": {
      "application/vnd.jupyter.widget-view+json": {
       "model_id": "c5234b640e544c6cb22d3b2473d4d9be",
       "version_major": 2,
       "version_minor": 0
      },
      "text/plain": [
       "Epoch 1262:   0%|          | 0/196 [00:00<?, ?it/s]"
      ]
     },
     "metadata": {},
     "output_type": "display_data"
    },
    {
     "data": {
      "application/vnd.jupyter.widget-view+json": {
       "model_id": "93a9a7ef138b4b6b8d00bc54dedb459b",
       "version_major": 2,
       "version_minor": 0
      },
      "text/plain": [
       "Epoch 1263:   0%|          | 0/196 [00:00<?, ?it/s]"
      ]
     },
     "metadata": {},
     "output_type": "display_data"
    },
    {
     "data": {
      "application/vnd.jupyter.widget-view+json": {
       "model_id": "e3f734065ad043c5a01344e17326a242",
       "version_major": 2,
       "version_minor": 0
      },
      "text/plain": [
       "Epoch 1264:   0%|          | 0/196 [00:00<?, ?it/s]"
      ]
     },
     "metadata": {},
     "output_type": "display_data"
    },
    {
     "data": {
      "application/vnd.jupyter.widget-view+json": {
       "model_id": "abb884be087742e9b89c9d7e77a38f7a",
       "version_major": 2,
       "version_minor": 0
      },
      "text/plain": [
       "Epoch 1265:   0%|          | 0/196 [00:00<?, ?it/s]"
      ]
     },
     "metadata": {},
     "output_type": "display_data"
    },
    {
     "data": {
      "application/vnd.jupyter.widget-view+json": {
       "model_id": "cb0230fcc1694cf192457ae43edc0234",
       "version_major": 2,
       "version_minor": 0
      },
      "text/plain": [
       "Epoch 1266:   0%|          | 0/196 [00:00<?, ?it/s]"
      ]
     },
     "metadata": {},
     "output_type": "display_data"
    },
    {
     "data": {
      "application/vnd.jupyter.widget-view+json": {
       "model_id": "867aa6daeaf0438fb80b06cd10ec559f",
       "version_major": 2,
       "version_minor": 0
      },
      "text/plain": [
       "Epoch 1267:   0%|          | 0/196 [00:00<?, ?it/s]"
      ]
     },
     "metadata": {},
     "output_type": "display_data"
    },
    {
     "data": {
      "application/vnd.jupyter.widget-view+json": {
       "model_id": "128b96c110884844890a652bf425e8ea",
       "version_major": 2,
       "version_minor": 0
      },
      "text/plain": [
       "Epoch 1268:   0%|          | 0/196 [00:00<?, ?it/s]"
      ]
     },
     "metadata": {},
     "output_type": "display_data"
    },
    {
     "data": {
      "application/vnd.jupyter.widget-view+json": {
       "model_id": "4ec9b74c8d8d40b2b4614588fb3e4690",
       "version_major": 2,
       "version_minor": 0
      },
      "text/plain": [
       "Epoch 1269:   0%|          | 0/196 [00:00<?, ?it/s]"
      ]
     },
     "metadata": {},
     "output_type": "display_data"
    },
    {
     "data": {
      "application/vnd.jupyter.widget-view+json": {
       "model_id": "08668f3ca6244f76a0123c2e21d052f3",
       "version_major": 2,
       "version_minor": 0
      },
      "text/plain": [
       "Epoch 1270:   0%|          | 0/196 [00:00<?, ?it/s]"
      ]
     },
     "metadata": {},
     "output_type": "display_data"
    },
    {
     "data": {
      "application/vnd.jupyter.widget-view+json": {
       "model_id": "33f5845cd1ad4a869c09fb8237eba977",
       "version_major": 2,
       "version_minor": 0
      },
      "text/plain": [
       "Epoch 1271:   0%|          | 0/196 [00:00<?, ?it/s]"
      ]
     },
     "metadata": {},
     "output_type": "display_data"
    },
    {
     "data": {
      "application/vnd.jupyter.widget-view+json": {
       "model_id": "7e87b39bdfba43608a00fe19b499525f",
       "version_major": 2,
       "version_minor": 0
      },
      "text/plain": [
       "Epoch 1272:   0%|          | 0/196 [00:00<?, ?it/s]"
      ]
     },
     "metadata": {},
     "output_type": "display_data"
    },
    {
     "data": {
      "application/vnd.jupyter.widget-view+json": {
       "model_id": "0080a6f6a1a2423e8d4771e8db54d81c",
       "version_major": 2,
       "version_minor": 0
      },
      "text/plain": [
       "Epoch 1273:   0%|          | 0/196 [00:00<?, ?it/s]"
      ]
     },
     "metadata": {},
     "output_type": "display_data"
    },
    {
     "data": {
      "application/vnd.jupyter.widget-view+json": {
       "model_id": "54ed5a2518374e11b07940204ebd53f0",
       "version_major": 2,
       "version_minor": 0
      },
      "text/plain": [
       "Epoch 1274:   0%|          | 0/196 [00:00<?, ?it/s]"
      ]
     },
     "metadata": {},
     "output_type": "display_data"
    },
    {
     "data": {
      "application/vnd.jupyter.widget-view+json": {
       "model_id": "bf4c3514c98843ec8b58aa75af6e1ca9",
       "version_major": 2,
       "version_minor": 0
      },
      "text/plain": [
       "Epoch 1275:   0%|          | 0/196 [00:00<?, ?it/s]"
      ]
     },
     "metadata": {},
     "output_type": "display_data"
    },
    {
     "data": {
      "application/vnd.jupyter.widget-view+json": {
       "model_id": "12e1569e6dec4190b10b7e2552ea25b2",
       "version_major": 2,
       "version_minor": 0
      },
      "text/plain": [
       "Epoch 1276:   0%|          | 0/196 [00:00<?, ?it/s]"
      ]
     },
     "metadata": {},
     "output_type": "display_data"
    },
    {
     "data": {
      "application/vnd.jupyter.widget-view+json": {
       "model_id": "f8f2dc3024ab4aba9c701dceb0729646",
       "version_major": 2,
       "version_minor": 0
      },
      "text/plain": [
       "Epoch 1277:   0%|          | 0/196 [00:00<?, ?it/s]"
      ]
     },
     "metadata": {},
     "output_type": "display_data"
    },
    {
     "data": {
      "application/vnd.jupyter.widget-view+json": {
       "model_id": "caaea10f213d467e95729150a7af6c6b",
       "version_major": 2,
       "version_minor": 0
      },
      "text/plain": [
       "Epoch 1278:   0%|          | 0/196 [00:00<?, ?it/s]"
      ]
     },
     "metadata": {},
     "output_type": "display_data"
    },
    {
     "data": {
      "application/vnd.jupyter.widget-view+json": {
       "model_id": "5ea572464cc143f89517843d3de68f21",
       "version_major": 2,
       "version_minor": 0
      },
      "text/plain": [
       "Epoch 1279:   0%|          | 0/196 [00:00<?, ?it/s]"
      ]
     },
     "metadata": {},
     "output_type": "display_data"
    },
    {
     "data": {
      "application/vnd.jupyter.widget-view+json": {
       "model_id": "8aeb1aeb4d7440558cf04558d7fac652",
       "version_major": 2,
       "version_minor": 0
      },
      "text/plain": [
       "Epoch 1280:   0%|          | 0/196 [00:00<?, ?it/s]"
      ]
     },
     "metadata": {},
     "output_type": "display_data"
    },
    {
     "data": {
      "application/vnd.jupyter.widget-view+json": {
       "model_id": "500c339b58c446bd8e57666802f7085c",
       "version_major": 2,
       "version_minor": 0
      },
      "text/plain": [
       "Epoch 1281:   0%|          | 0/196 [00:00<?, ?it/s]"
      ]
     },
     "metadata": {},
     "output_type": "display_data"
    },
    {
     "data": {
      "application/vnd.jupyter.widget-view+json": {
       "model_id": "7f52827fcce64b09b85c79f94df67db1",
       "version_major": 2,
       "version_minor": 0
      },
      "text/plain": [
       "Epoch 1282:   0%|          | 0/196 [00:00<?, ?it/s]"
      ]
     },
     "metadata": {},
     "output_type": "display_data"
    },
    {
     "data": {
      "application/vnd.jupyter.widget-view+json": {
       "model_id": "43b3d1b9ac144e19be1cc0d8ef1450f6",
       "version_major": 2,
       "version_minor": 0
      },
      "text/plain": [
       "Epoch 1283:   0%|          | 0/196 [00:00<?, ?it/s]"
      ]
     },
     "metadata": {},
     "output_type": "display_data"
    },
    {
     "data": {
      "application/vnd.jupyter.widget-view+json": {
       "model_id": "935429fa46c5421f9485489cc0ecf97e",
       "version_major": 2,
       "version_minor": 0
      },
      "text/plain": [
       "Epoch 1284:   0%|          | 0/196 [00:00<?, ?it/s]"
      ]
     },
     "metadata": {},
     "output_type": "display_data"
    },
    {
     "data": {
      "application/vnd.jupyter.widget-view+json": {
       "model_id": "6447a069e5254799b9160675ac484b51",
       "version_major": 2,
       "version_minor": 0
      },
      "text/plain": [
       "Epoch 1285:   0%|          | 0/196 [00:00<?, ?it/s]"
      ]
     },
     "metadata": {},
     "output_type": "display_data"
    },
    {
     "data": {
      "application/vnd.jupyter.widget-view+json": {
       "model_id": "e06f3af944794fac9ee6a492164f43ff",
       "version_major": 2,
       "version_minor": 0
      },
      "text/plain": [
       "Epoch 1286:   0%|          | 0/196 [00:00<?, ?it/s]"
      ]
     },
     "metadata": {},
     "output_type": "display_data"
    },
    {
     "data": {
      "application/vnd.jupyter.widget-view+json": {
       "model_id": "6d41e5a0b72e4b42a9b8ac3d5c8240a6",
       "version_major": 2,
       "version_minor": 0
      },
      "text/plain": [
       "Epoch 1287:   0%|          | 0/196 [00:00<?, ?it/s]"
      ]
     },
     "metadata": {},
     "output_type": "display_data"
    },
    {
     "data": {
      "application/vnd.jupyter.widget-view+json": {
       "model_id": "8235bbb4a5044276964b132d81433001",
       "version_major": 2,
       "version_minor": 0
      },
      "text/plain": [
       "Epoch 1288:   0%|          | 0/196 [00:00<?, ?it/s]"
      ]
     },
     "metadata": {},
     "output_type": "display_data"
    },
    {
     "data": {
      "application/vnd.jupyter.widget-view+json": {
       "model_id": "3a3774cc48634db49b06968159effab3",
       "version_major": 2,
       "version_minor": 0
      },
      "text/plain": [
       "Epoch 1289:   0%|          | 0/196 [00:00<?, ?it/s]"
      ]
     },
     "metadata": {},
     "output_type": "display_data"
    },
    {
     "data": {
      "application/vnd.jupyter.widget-view+json": {
       "model_id": "14f7a60621754ea391cc0af1fa88e484",
       "version_major": 2,
       "version_minor": 0
      },
      "text/plain": [
       "Epoch 1290:   0%|          | 0/196 [00:00<?, ?it/s]"
      ]
     },
     "metadata": {},
     "output_type": "display_data"
    },
    {
     "data": {
      "application/vnd.jupyter.widget-view+json": {
       "model_id": "fd55f7cd3382436ba1d7951128b4f7b4",
       "version_major": 2,
       "version_minor": 0
      },
      "text/plain": [
       "Epoch 1291:   0%|          | 0/196 [00:00<?, ?it/s]"
      ]
     },
     "metadata": {},
     "output_type": "display_data"
    },
    {
     "data": {
      "application/vnd.jupyter.widget-view+json": {
       "model_id": "cae74f41133a4f5dbf9fda975c943f19",
       "version_major": 2,
       "version_minor": 0
      },
      "text/plain": [
       "Epoch 1292:   0%|          | 0/196 [00:00<?, ?it/s]"
      ]
     },
     "metadata": {},
     "output_type": "display_data"
    },
    {
     "data": {
      "application/vnd.jupyter.widget-view+json": {
       "model_id": "25be1ac11b2f4699bbc76dc33922fa0a",
       "version_major": 2,
       "version_minor": 0
      },
      "text/plain": [
       "Epoch 1293:   0%|          | 0/196 [00:00<?, ?it/s]"
      ]
     },
     "metadata": {},
     "output_type": "display_data"
    },
    {
     "data": {
      "application/vnd.jupyter.widget-view+json": {
       "model_id": "deddf901a46b40bfa083d4634afe28df",
       "version_major": 2,
       "version_minor": 0
      },
      "text/plain": [
       "Epoch 1294:   0%|          | 0/196 [00:00<?, ?it/s]"
      ]
     },
     "metadata": {},
     "output_type": "display_data"
    },
    {
     "data": {
      "application/vnd.jupyter.widget-view+json": {
       "model_id": "ed5c676db3a64e428e573a2391c577dc",
       "version_major": 2,
       "version_minor": 0
      },
      "text/plain": [
       "Epoch 1295:   0%|          | 0/196 [00:00<?, ?it/s]"
      ]
     },
     "metadata": {},
     "output_type": "display_data"
    },
    {
     "data": {
      "application/vnd.jupyter.widget-view+json": {
       "model_id": "34cc4b9d778044b48dc037c3a423c08a",
       "version_major": 2,
       "version_minor": 0
      },
      "text/plain": [
       "Epoch 1296:   0%|          | 0/196 [00:00<?, ?it/s]"
      ]
     },
     "metadata": {},
     "output_type": "display_data"
    },
    {
     "data": {
      "application/vnd.jupyter.widget-view+json": {
       "model_id": "fe27d1bc7cc04abba2aff35a7772c4f5",
       "version_major": 2,
       "version_minor": 0
      },
      "text/plain": [
       "Epoch 1297:   0%|          | 0/196 [00:00<?, ?it/s]"
      ]
     },
     "metadata": {},
     "output_type": "display_data"
    },
    {
     "data": {
      "application/vnd.jupyter.widget-view+json": {
       "model_id": "ce555d0e633a455f9c38fd7fa4aed4f0",
       "version_major": 2,
       "version_minor": 0
      },
      "text/plain": [
       "Epoch 1298:   0%|          | 0/196 [00:00<?, ?it/s]"
      ]
     },
     "metadata": {},
     "output_type": "display_data"
    },
    {
     "data": {
      "application/vnd.jupyter.widget-view+json": {
       "model_id": "1117b6ca69a544b29abd39b734e10f7d",
       "version_major": 2,
       "version_minor": 0
      },
      "text/plain": [
       "Epoch 1299:   0%|          | 0/196 [00:00<?, ?it/s]"
      ]
     },
     "metadata": {},
     "output_type": "display_data"
    },
    {
     "data": {
      "application/vnd.jupyter.widget-view+json": {
       "model_id": "69349e0b2bef4c3a96cbfe1dbf28e2a2",
       "version_major": 2,
       "version_minor": 0
      },
      "text/plain": [
       "Epoch 1300:   0%|          | 0/196 [00:00<?, ?it/s]"
      ]
     },
     "metadata": {},
     "output_type": "display_data"
    },
    {
     "data": {
      "application/vnd.jupyter.widget-view+json": {
       "model_id": "d6c70cb8a12c425a8c1e5a21a5fa665a",
       "version_major": 2,
       "version_minor": 0
      },
      "text/plain": [
       "Epoch 1301:   0%|          | 0/196 [00:00<?, ?it/s]"
      ]
     },
     "metadata": {},
     "output_type": "display_data"
    },
    {
     "data": {
      "application/vnd.jupyter.widget-view+json": {
       "model_id": "2b9c7f3bdb7b4dc79b310a57e35eeece",
       "version_major": 2,
       "version_minor": 0
      },
      "text/plain": [
       "Epoch 1302:   0%|          | 0/196 [00:00<?, ?it/s]"
      ]
     },
     "metadata": {},
     "output_type": "display_data"
    },
    {
     "data": {
      "application/vnd.jupyter.widget-view+json": {
       "model_id": "9c46373d236a4939b82264dc3c1056b0",
       "version_major": 2,
       "version_minor": 0
      },
      "text/plain": [
       "Epoch 1303:   0%|          | 0/196 [00:00<?, ?it/s]"
      ]
     },
     "metadata": {},
     "output_type": "display_data"
    },
    {
     "data": {
      "application/vnd.jupyter.widget-view+json": {
       "model_id": "c4a22b67341f44dea15e09a5febb5996",
       "version_major": 2,
       "version_minor": 0
      },
      "text/plain": [
       "Epoch 1304:   0%|          | 0/196 [00:00<?, ?it/s]"
      ]
     },
     "metadata": {},
     "output_type": "display_data"
    },
    {
     "data": {
      "application/vnd.jupyter.widget-view+json": {
       "model_id": "41d02c9cd4354a34bc042024d3705b11",
       "version_major": 2,
       "version_minor": 0
      },
      "text/plain": [
       "Epoch 1305:   0%|          | 0/196 [00:00<?, ?it/s]"
      ]
     },
     "metadata": {},
     "output_type": "display_data"
    },
    {
     "data": {
      "application/vnd.jupyter.widget-view+json": {
       "model_id": "992881849f924d31aab3d17794f1c110",
       "version_major": 2,
       "version_minor": 0
      },
      "text/plain": [
       "Epoch 1306:   0%|          | 0/196 [00:00<?, ?it/s]"
      ]
     },
     "metadata": {},
     "output_type": "display_data"
    },
    {
     "data": {
      "application/vnd.jupyter.widget-view+json": {
       "model_id": "3e47f183bfe547b3b76d30c8859430f5",
       "version_major": 2,
       "version_minor": 0
      },
      "text/plain": [
       "Epoch 1307:   0%|          | 0/196 [00:00<?, ?it/s]"
      ]
     },
     "metadata": {},
     "output_type": "display_data"
    },
    {
     "data": {
      "application/vnd.jupyter.widget-view+json": {
       "model_id": "1d774d1b095c434b8e44aff3aae67db4",
       "version_major": 2,
       "version_minor": 0
      },
      "text/plain": [
       "Epoch 1308:   0%|          | 0/196 [00:00<?, ?it/s]"
      ]
     },
     "metadata": {},
     "output_type": "display_data"
    },
    {
     "data": {
      "application/vnd.jupyter.widget-view+json": {
       "model_id": "0a0cd6cc0ed94c6eade52443ce1c494c",
       "version_major": 2,
       "version_minor": 0
      },
      "text/plain": [
       "Epoch 1309:   0%|          | 0/196 [00:00<?, ?it/s]"
      ]
     },
     "metadata": {},
     "output_type": "display_data"
    },
    {
     "data": {
      "application/vnd.jupyter.widget-view+json": {
       "model_id": "6f7ec0dff8aa438fa9a97a7cf15abfbe",
       "version_major": 2,
       "version_minor": 0
      },
      "text/plain": [
       "Epoch 1310:   0%|          | 0/196 [00:00<?, ?it/s]"
      ]
     },
     "metadata": {},
     "output_type": "display_data"
    },
    {
     "data": {
      "application/vnd.jupyter.widget-view+json": {
       "model_id": "27da665639834e0c99511a5e4974ad1d",
       "version_major": 2,
       "version_minor": 0
      },
      "text/plain": [
       "Epoch 1311:   0%|          | 0/196 [00:00<?, ?it/s]"
      ]
     },
     "metadata": {},
     "output_type": "display_data"
    },
    {
     "data": {
      "application/vnd.jupyter.widget-view+json": {
       "model_id": "c13a3f7b4ca24ede99dacecc1ab599a6",
       "version_major": 2,
       "version_minor": 0
      },
      "text/plain": [
       "Epoch 1312:   0%|          | 0/196 [00:00<?, ?it/s]"
      ]
     },
     "metadata": {},
     "output_type": "display_data"
    },
    {
     "data": {
      "application/vnd.jupyter.widget-view+json": {
       "model_id": "a3288aee53424b51bf2c22b9b7260550",
       "version_major": 2,
       "version_minor": 0
      },
      "text/plain": [
       "Epoch 1313:   0%|          | 0/196 [00:00<?, ?it/s]"
      ]
     },
     "metadata": {},
     "output_type": "display_data"
    },
    {
     "data": {
      "application/vnd.jupyter.widget-view+json": {
       "model_id": "bc80ee3f476541bb94e24a8bcb56b4a9",
       "version_major": 2,
       "version_minor": 0
      },
      "text/plain": [
       "Epoch 1314:   0%|          | 0/196 [00:00<?, ?it/s]"
      ]
     },
     "metadata": {},
     "output_type": "display_data"
    },
    {
     "data": {
      "application/vnd.jupyter.widget-view+json": {
       "model_id": "f3173a5d7ff44662a0ebe6dad20c3ed7",
       "version_major": 2,
       "version_minor": 0
      },
      "text/plain": [
       "Epoch 1315:   0%|          | 0/196 [00:00<?, ?it/s]"
      ]
     },
     "metadata": {},
     "output_type": "display_data"
    },
    {
     "data": {
      "application/vnd.jupyter.widget-view+json": {
       "model_id": "3e5bd3fb18204f42944c88cca2b158d7",
       "version_major": 2,
       "version_minor": 0
      },
      "text/plain": [
       "Epoch 1316:   0%|          | 0/196 [00:00<?, ?it/s]"
      ]
     },
     "metadata": {},
     "output_type": "display_data"
    },
    {
     "data": {
      "application/vnd.jupyter.widget-view+json": {
       "model_id": "d7a812593ede4a8a93ad04666c8dcfd2",
       "version_major": 2,
       "version_minor": 0
      },
      "text/plain": [
       "Epoch 1317:   0%|          | 0/196 [00:00<?, ?it/s]"
      ]
     },
     "metadata": {},
     "output_type": "display_data"
    },
    {
     "data": {
      "application/vnd.jupyter.widget-view+json": {
       "model_id": "48efc90f26714ed3a6d5530ce481428e",
       "version_major": 2,
       "version_minor": 0
      },
      "text/plain": [
       "Epoch 1318:   0%|          | 0/196 [00:00<?, ?it/s]"
      ]
     },
     "metadata": {},
     "output_type": "display_data"
    },
    {
     "data": {
      "application/vnd.jupyter.widget-view+json": {
       "model_id": "9177d229bd134f83a2f2283998791a73",
       "version_major": 2,
       "version_minor": 0
      },
      "text/plain": [
       "Epoch 1319:   0%|          | 0/196 [00:00<?, ?it/s]"
      ]
     },
     "metadata": {},
     "output_type": "display_data"
    },
    {
     "data": {
      "application/vnd.jupyter.widget-view+json": {
       "model_id": "c0b2cca0589946a8bf9eb9a8f65b6b03",
       "version_major": 2,
       "version_minor": 0
      },
      "text/plain": [
       "Epoch 1320:   0%|          | 0/196 [00:00<?, ?it/s]"
      ]
     },
     "metadata": {},
     "output_type": "display_data"
    },
    {
     "data": {
      "application/vnd.jupyter.widget-view+json": {
       "model_id": "401b1fe3ca434b4d8ff5f5cc64b70d6f",
       "version_major": 2,
       "version_minor": 0
      },
      "text/plain": [
       "Epoch 1321:   0%|          | 0/196 [00:00<?, ?it/s]"
      ]
     },
     "metadata": {},
     "output_type": "display_data"
    },
    {
     "data": {
      "application/vnd.jupyter.widget-view+json": {
       "model_id": "7f5a4bc2c8994001865bb18dbdf8f628",
       "version_major": 2,
       "version_minor": 0
      },
      "text/plain": [
       "Epoch 1322:   0%|          | 0/196 [00:00<?, ?it/s]"
      ]
     },
     "metadata": {},
     "output_type": "display_data"
    },
    {
     "data": {
      "application/vnd.jupyter.widget-view+json": {
       "model_id": "48b039a52bbf43a08efb237432fdd8d6",
       "version_major": 2,
       "version_minor": 0
      },
      "text/plain": [
       "Epoch 1323:   0%|          | 0/196 [00:00<?, ?it/s]"
      ]
     },
     "metadata": {},
     "output_type": "display_data"
    },
    {
     "data": {
      "application/vnd.jupyter.widget-view+json": {
       "model_id": "72c53c76e3874730959a44aa57409e6d",
       "version_major": 2,
       "version_minor": 0
      },
      "text/plain": [
       "Epoch 1324:   0%|          | 0/196 [00:00<?, ?it/s]"
      ]
     },
     "metadata": {},
     "output_type": "display_data"
    },
    {
     "data": {
      "application/vnd.jupyter.widget-view+json": {
       "model_id": "9f6ac58de218437da9e09186c690892c",
       "version_major": 2,
       "version_minor": 0
      },
      "text/plain": [
       "Epoch 1325:   0%|          | 0/196 [00:00<?, ?it/s]"
      ]
     },
     "metadata": {},
     "output_type": "display_data"
    },
    {
     "data": {
      "application/vnd.jupyter.widget-view+json": {
       "model_id": "72b205a50b4a4a729ce0509a8ece3e54",
       "version_major": 2,
       "version_minor": 0
      },
      "text/plain": [
       "Epoch 1326:   0%|          | 0/196 [00:00<?, ?it/s]"
      ]
     },
     "metadata": {},
     "output_type": "display_data"
    },
    {
     "data": {
      "application/vnd.jupyter.widget-view+json": {
       "model_id": "4a5fdeba934a4f8c8ea8f88236e4672f",
       "version_major": 2,
       "version_minor": 0
      },
      "text/plain": [
       "Epoch 1327:   0%|          | 0/196 [00:00<?, ?it/s]"
      ]
     },
     "metadata": {},
     "output_type": "display_data"
    },
    {
     "data": {
      "application/vnd.jupyter.widget-view+json": {
       "model_id": "a76e1ff5ba164e3a873a712e885c7451",
       "version_major": 2,
       "version_minor": 0
      },
      "text/plain": [
       "Epoch 1328:   0%|          | 0/196 [00:00<?, ?it/s]"
      ]
     },
     "metadata": {},
     "output_type": "display_data"
    },
    {
     "data": {
      "application/vnd.jupyter.widget-view+json": {
       "model_id": "7e1ee0ab966a47d1a017073dce0622e1",
       "version_major": 2,
       "version_minor": 0
      },
      "text/plain": [
       "Epoch 1329:   0%|          | 0/196 [00:00<?, ?it/s]"
      ]
     },
     "metadata": {},
     "output_type": "display_data"
    },
    {
     "data": {
      "application/vnd.jupyter.widget-view+json": {
       "model_id": "7c3414cb3dd342ecb019a0338b04f4d7",
       "version_major": 2,
       "version_minor": 0
      },
      "text/plain": [
       "Epoch 1330:   0%|          | 0/196 [00:00<?, ?it/s]"
      ]
     },
     "metadata": {},
     "output_type": "display_data"
    },
    {
     "data": {
      "application/vnd.jupyter.widget-view+json": {
       "model_id": "7b95756c99944d5dab6583945ff63c92",
       "version_major": 2,
       "version_minor": 0
      },
      "text/plain": [
       "Epoch 1331:   0%|          | 0/196 [00:00<?, ?it/s]"
      ]
     },
     "metadata": {},
     "output_type": "display_data"
    },
    {
     "data": {
      "application/vnd.jupyter.widget-view+json": {
       "model_id": "8d367cd1ed4a4a6598ce5f0819e51880",
       "version_major": 2,
       "version_minor": 0
      },
      "text/plain": [
       "Epoch 1332:   0%|          | 0/196 [00:00<?, ?it/s]"
      ]
     },
     "metadata": {},
     "output_type": "display_data"
    },
    {
     "data": {
      "application/vnd.jupyter.widget-view+json": {
       "model_id": "f02b68070c634e0babc42b57b8362fdd",
       "version_major": 2,
       "version_minor": 0
      },
      "text/plain": [
       "Epoch 1333:   0%|          | 0/196 [00:00<?, ?it/s]"
      ]
     },
     "metadata": {},
     "output_type": "display_data"
    },
    {
     "data": {
      "application/vnd.jupyter.widget-view+json": {
       "model_id": "058a1757a49746719b1b02bd2f99acdb",
       "version_major": 2,
       "version_minor": 0
      },
      "text/plain": [
       "Epoch 1334:   0%|          | 0/196 [00:00<?, ?it/s]"
      ]
     },
     "metadata": {},
     "output_type": "display_data"
    },
    {
     "data": {
      "application/vnd.jupyter.widget-view+json": {
       "model_id": "3e4f0034268f4029a1983e07f33575b3",
       "version_major": 2,
       "version_minor": 0
      },
      "text/plain": [
       "Epoch 1335:   0%|          | 0/196 [00:00<?, ?it/s]"
      ]
     },
     "metadata": {},
     "output_type": "display_data"
    },
    {
     "data": {
      "application/vnd.jupyter.widget-view+json": {
       "model_id": "f8acacdfd7c24b2ebdbb3899409f0028",
       "version_major": 2,
       "version_minor": 0
      },
      "text/plain": [
       "Epoch 1336:   0%|          | 0/196 [00:00<?, ?it/s]"
      ]
     },
     "metadata": {},
     "output_type": "display_data"
    },
    {
     "data": {
      "application/vnd.jupyter.widget-view+json": {
       "model_id": "473f997a70864517a06561d9bc6ed5a8",
       "version_major": 2,
       "version_minor": 0
      },
      "text/plain": [
       "Epoch 1337:   0%|          | 0/196 [00:00<?, ?it/s]"
      ]
     },
     "metadata": {},
     "output_type": "display_data"
    },
    {
     "data": {
      "application/vnd.jupyter.widget-view+json": {
       "model_id": "1b84244556384c29b454ec5b1cdc0660",
       "version_major": 2,
       "version_minor": 0
      },
      "text/plain": [
       "Epoch 1338:   0%|          | 0/196 [00:00<?, ?it/s]"
      ]
     },
     "metadata": {},
     "output_type": "display_data"
    },
    {
     "data": {
      "application/vnd.jupyter.widget-view+json": {
       "model_id": "ef8a4be56b73431a81cfcdc6518f5ed7",
       "version_major": 2,
       "version_minor": 0
      },
      "text/plain": [
       "Epoch 1339:   0%|          | 0/196 [00:00<?, ?it/s]"
      ]
     },
     "metadata": {},
     "output_type": "display_data"
    },
    {
     "data": {
      "application/vnd.jupyter.widget-view+json": {
       "model_id": "8be5d81a62284c82813ef11b6e6267b6",
       "version_major": 2,
       "version_minor": 0
      },
      "text/plain": [
       "Epoch 1340:   0%|          | 0/196 [00:00<?, ?it/s]"
      ]
     },
     "metadata": {},
     "output_type": "display_data"
    },
    {
     "data": {
      "application/vnd.jupyter.widget-view+json": {
       "model_id": "b45445c21a5341bc9f9a6f9678632f9b",
       "version_major": 2,
       "version_minor": 0
      },
      "text/plain": [
       "Epoch 1341:   0%|          | 0/196 [00:00<?, ?it/s]"
      ]
     },
     "metadata": {},
     "output_type": "display_data"
    },
    {
     "data": {
      "application/vnd.jupyter.widget-view+json": {
       "model_id": "94b8f037632548f19b944ed384628b78",
       "version_major": 2,
       "version_minor": 0
      },
      "text/plain": [
       "Epoch 1342:   0%|          | 0/196 [00:00<?, ?it/s]"
      ]
     },
     "metadata": {},
     "output_type": "display_data"
    },
    {
     "data": {
      "application/vnd.jupyter.widget-view+json": {
       "model_id": "465c416faa394c2ba75d6e0ab5ec38ff",
       "version_major": 2,
       "version_minor": 0
      },
      "text/plain": [
       "Epoch 1343:   0%|          | 0/196 [00:00<?, ?it/s]"
      ]
     },
     "metadata": {},
     "output_type": "display_data"
    },
    {
     "data": {
      "application/vnd.jupyter.widget-view+json": {
       "model_id": "e03c4f9a0d864b6b8a45ef01a563b4a3",
       "version_major": 2,
       "version_minor": 0
      },
      "text/plain": [
       "Epoch 1344:   0%|          | 0/196 [00:00<?, ?it/s]"
      ]
     },
     "metadata": {},
     "output_type": "display_data"
    },
    {
     "data": {
      "application/vnd.jupyter.widget-view+json": {
       "model_id": "2ebb5a9929d64c3fb92e008cab2dbdcf",
       "version_major": 2,
       "version_minor": 0
      },
      "text/plain": [
       "Epoch 1345:   0%|          | 0/196 [00:00<?, ?it/s]"
      ]
     },
     "metadata": {},
     "output_type": "display_data"
    },
    {
     "data": {
      "application/vnd.jupyter.widget-view+json": {
       "model_id": "359e2904b95746b48fcf64aa937837a4",
       "version_major": 2,
       "version_minor": 0
      },
      "text/plain": [
       "Epoch 1346:   0%|          | 0/196 [00:00<?, ?it/s]"
      ]
     },
     "metadata": {},
     "output_type": "display_data"
    },
    {
     "data": {
      "application/vnd.jupyter.widget-view+json": {
       "model_id": "b066f781d37046c19671ab8ea87bfc65",
       "version_major": 2,
       "version_minor": 0
      },
      "text/plain": [
       "Epoch 1347:   0%|          | 0/196 [00:00<?, ?it/s]"
      ]
     },
     "metadata": {},
     "output_type": "display_data"
    },
    {
     "data": {
      "application/vnd.jupyter.widget-view+json": {
       "model_id": "d130a891fba7456c8a575939e46f9350",
       "version_major": 2,
       "version_minor": 0
      },
      "text/plain": [
       "Epoch 1348:   0%|          | 0/196 [00:00<?, ?it/s]"
      ]
     },
     "metadata": {},
     "output_type": "display_data"
    },
    {
     "data": {
      "application/vnd.jupyter.widget-view+json": {
       "model_id": "7212b026453349488832aadfc26fa03a",
       "version_major": 2,
       "version_minor": 0
      },
      "text/plain": [
       "Epoch 1349:   0%|          | 0/196 [00:00<?, ?it/s]"
      ]
     },
     "metadata": {},
     "output_type": "display_data"
    },
    {
     "data": {
      "application/vnd.jupyter.widget-view+json": {
       "model_id": "daa4321103b944a4805963a98a9a6684",
       "version_major": 2,
       "version_minor": 0
      },
      "text/plain": [
       "Epoch 1350:   0%|          | 0/196 [00:00<?, ?it/s]"
      ]
     },
     "metadata": {},
     "output_type": "display_data"
    },
    {
     "data": {
      "application/vnd.jupyter.widget-view+json": {
       "model_id": "ccc16a50f2d7453c8ed82fcbf7d2f650",
       "version_major": 2,
       "version_minor": 0
      },
      "text/plain": [
       "Epoch 1351:   0%|          | 0/196 [00:00<?, ?it/s]"
      ]
     },
     "metadata": {},
     "output_type": "display_data"
    },
    {
     "data": {
      "application/vnd.jupyter.widget-view+json": {
       "model_id": "028acf26b5c8470a9a60b5c896d36c08",
       "version_major": 2,
       "version_minor": 0
      },
      "text/plain": [
       "Epoch 1352:   0%|          | 0/196 [00:00<?, ?it/s]"
      ]
     },
     "metadata": {},
     "output_type": "display_data"
    },
    {
     "data": {
      "application/vnd.jupyter.widget-view+json": {
       "model_id": "ba82b02f4e5e4f99975e0886754e477e",
       "version_major": 2,
       "version_minor": 0
      },
      "text/plain": [
       "Epoch 1353:   0%|          | 0/196 [00:00<?, ?it/s]"
      ]
     },
     "metadata": {},
     "output_type": "display_data"
    },
    {
     "data": {
      "application/vnd.jupyter.widget-view+json": {
       "model_id": "a48c12c29349442fbf629d7b9e1be385",
       "version_major": 2,
       "version_minor": 0
      },
      "text/plain": [
       "Epoch 1354:   0%|          | 0/196 [00:00<?, ?it/s]"
      ]
     },
     "metadata": {},
     "output_type": "display_data"
    },
    {
     "data": {
      "application/vnd.jupyter.widget-view+json": {
       "model_id": "af06764ebeb24608b2d4bde76deb1894",
       "version_major": 2,
       "version_minor": 0
      },
      "text/plain": [
       "Epoch 1355:   0%|          | 0/196 [00:00<?, ?it/s]"
      ]
     },
     "metadata": {},
     "output_type": "display_data"
    },
    {
     "data": {
      "application/vnd.jupyter.widget-view+json": {
       "model_id": "0c3df81ceb4c4b9f92f51502b3b6339d",
       "version_major": 2,
       "version_minor": 0
      },
      "text/plain": [
       "Epoch 1356:   0%|          | 0/196 [00:00<?, ?it/s]"
      ]
     },
     "metadata": {},
     "output_type": "display_data"
    },
    {
     "data": {
      "application/vnd.jupyter.widget-view+json": {
       "model_id": "ea2c7a51548b4941b2a52149af961ccb",
       "version_major": 2,
       "version_minor": 0
      },
      "text/plain": [
       "Epoch 1357:   0%|          | 0/196 [00:00<?, ?it/s]"
      ]
     },
     "metadata": {},
     "output_type": "display_data"
    },
    {
     "data": {
      "application/vnd.jupyter.widget-view+json": {
       "model_id": "e25076a414fa4818be9da5d18d075e4f",
       "version_major": 2,
       "version_minor": 0
      },
      "text/plain": [
       "Epoch 1358:   0%|          | 0/196 [00:00<?, ?it/s]"
      ]
     },
     "metadata": {},
     "output_type": "display_data"
    },
    {
     "data": {
      "application/vnd.jupyter.widget-view+json": {
       "model_id": "12a353a54c5246aa8df15f9749476772",
       "version_major": 2,
       "version_minor": 0
      },
      "text/plain": [
       "Epoch 1359:   0%|          | 0/196 [00:00<?, ?it/s]"
      ]
     },
     "metadata": {},
     "output_type": "display_data"
    },
    {
     "data": {
      "application/vnd.jupyter.widget-view+json": {
       "model_id": "06683d941d034ed0ae77798ca4dbc213",
       "version_major": 2,
       "version_minor": 0
      },
      "text/plain": [
       "Epoch 1360:   0%|          | 0/196 [00:00<?, ?it/s]"
      ]
     },
     "metadata": {},
     "output_type": "display_data"
    },
    {
     "data": {
      "application/vnd.jupyter.widget-view+json": {
       "model_id": "2d25073ff7f84920a554ebb3928d6555",
       "version_major": 2,
       "version_minor": 0
      },
      "text/plain": [
       "Epoch 1361:   0%|          | 0/196 [00:00<?, ?it/s]"
      ]
     },
     "metadata": {},
     "output_type": "display_data"
    },
    {
     "data": {
      "application/vnd.jupyter.widget-view+json": {
       "model_id": "afa7512b96cd4e09a18ca669b2c1ad92",
       "version_major": 2,
       "version_minor": 0
      },
      "text/plain": [
       "Epoch 1362:   0%|          | 0/196 [00:00<?, ?it/s]"
      ]
     },
     "metadata": {},
     "output_type": "display_data"
    },
    {
     "data": {
      "application/vnd.jupyter.widget-view+json": {
       "model_id": "a439f14b284b4a3faba1d8eccb132415",
       "version_major": 2,
       "version_minor": 0
      },
      "text/plain": [
       "Epoch 1363:   0%|          | 0/196 [00:00<?, ?it/s]"
      ]
     },
     "metadata": {},
     "output_type": "display_data"
    },
    {
     "data": {
      "application/vnd.jupyter.widget-view+json": {
       "model_id": "c63b4ccc4c7140fb8fb162e75c0a1396",
       "version_major": 2,
       "version_minor": 0
      },
      "text/plain": [
       "Epoch 1364:   0%|          | 0/196 [00:00<?, ?it/s]"
      ]
     },
     "metadata": {},
     "output_type": "display_data"
    },
    {
     "data": {
      "application/vnd.jupyter.widget-view+json": {
       "model_id": "4a523b21342244c9b8364837df888acb",
       "version_major": 2,
       "version_minor": 0
      },
      "text/plain": [
       "Epoch 1365:   0%|          | 0/196 [00:00<?, ?it/s]"
      ]
     },
     "metadata": {},
     "output_type": "display_data"
    },
    {
     "data": {
      "application/vnd.jupyter.widget-view+json": {
       "model_id": "e602404a18954c20b38039f5f2b755b7",
       "version_major": 2,
       "version_minor": 0
      },
      "text/plain": [
       "Epoch 1366:   0%|          | 0/196 [00:00<?, ?it/s]"
      ]
     },
     "metadata": {},
     "output_type": "display_data"
    },
    {
     "data": {
      "application/vnd.jupyter.widget-view+json": {
       "model_id": "d949cb9ba48c46cfb046552b1ee2c790",
       "version_major": 2,
       "version_minor": 0
      },
      "text/plain": [
       "Epoch 1367:   0%|          | 0/196 [00:00<?, ?it/s]"
      ]
     },
     "metadata": {},
     "output_type": "display_data"
    },
    {
     "data": {
      "application/vnd.jupyter.widget-view+json": {
       "model_id": "bfd97d100b9f48a2ba6607d88650fbc9",
       "version_major": 2,
       "version_minor": 0
      },
      "text/plain": [
       "Epoch 1368:   0%|          | 0/196 [00:00<?, ?it/s]"
      ]
     },
     "metadata": {},
     "output_type": "display_data"
    },
    {
     "data": {
      "application/vnd.jupyter.widget-view+json": {
       "model_id": "a9995a5f284640d0a60eb680205790c6",
       "version_major": 2,
       "version_minor": 0
      },
      "text/plain": [
       "Epoch 1369:   0%|          | 0/196 [00:00<?, ?it/s]"
      ]
     },
     "metadata": {},
     "output_type": "display_data"
    },
    {
     "data": {
      "application/vnd.jupyter.widget-view+json": {
       "model_id": "613ca3cc80c94ef48df5e28534c9afbe",
       "version_major": 2,
       "version_minor": 0
      },
      "text/plain": [
       "Epoch 1370:   0%|          | 0/196 [00:00<?, ?it/s]"
      ]
     },
     "metadata": {},
     "output_type": "display_data"
    },
    {
     "data": {
      "application/vnd.jupyter.widget-view+json": {
       "model_id": "4828d2e2d49e42878b23ffde0c640bb2",
       "version_major": 2,
       "version_minor": 0
      },
      "text/plain": [
       "Epoch 1371:   0%|          | 0/196 [00:00<?, ?it/s]"
      ]
     },
     "metadata": {},
     "output_type": "display_data"
    },
    {
     "data": {
      "application/vnd.jupyter.widget-view+json": {
       "model_id": "b94ca979c80f4cb189df1a486df1349a",
       "version_major": 2,
       "version_minor": 0
      },
      "text/plain": [
       "Epoch 1372:   0%|          | 0/196 [00:00<?, ?it/s]"
      ]
     },
     "metadata": {},
     "output_type": "display_data"
    },
    {
     "data": {
      "application/vnd.jupyter.widget-view+json": {
       "model_id": "779cbbe701a04b87a7568357b759d710",
       "version_major": 2,
       "version_minor": 0
      },
      "text/plain": [
       "Epoch 1373:   0%|          | 0/196 [00:00<?, ?it/s]"
      ]
     },
     "metadata": {},
     "output_type": "display_data"
    },
    {
     "data": {
      "application/vnd.jupyter.widget-view+json": {
       "model_id": "cac09a3757f9405b9f5b56d4b400fcd1",
       "version_major": 2,
       "version_minor": 0
      },
      "text/plain": [
       "Epoch 1374:   0%|          | 0/196 [00:00<?, ?it/s]"
      ]
     },
     "metadata": {},
     "output_type": "display_data"
    },
    {
     "data": {
      "application/vnd.jupyter.widget-view+json": {
       "model_id": "0b3bfc0897e249bfbd1636ba8b4301e2",
       "version_major": 2,
       "version_minor": 0
      },
      "text/plain": [
       "Epoch 1375:   0%|          | 0/196 [00:00<?, ?it/s]"
      ]
     },
     "metadata": {},
     "output_type": "display_data"
    },
    {
     "data": {
      "application/vnd.jupyter.widget-view+json": {
       "model_id": "9214f150fead44fa8dcad67e22466d04",
       "version_major": 2,
       "version_minor": 0
      },
      "text/plain": [
       "Epoch 1376:   0%|          | 0/196 [00:00<?, ?it/s]"
      ]
     },
     "metadata": {},
     "output_type": "display_data"
    },
    {
     "data": {
      "application/vnd.jupyter.widget-view+json": {
       "model_id": "c94b4ce57a3443c08bb91bf59643e3b9",
       "version_major": 2,
       "version_minor": 0
      },
      "text/plain": [
       "Epoch 1377:   0%|          | 0/196 [00:00<?, ?it/s]"
      ]
     },
     "metadata": {},
     "output_type": "display_data"
    },
    {
     "data": {
      "application/vnd.jupyter.widget-view+json": {
       "model_id": "921e2007c199468facf650a2747580a2",
       "version_major": 2,
       "version_minor": 0
      },
      "text/plain": [
       "Epoch 1378:   0%|          | 0/196 [00:00<?, ?it/s]"
      ]
     },
     "metadata": {},
     "output_type": "display_data"
    },
    {
     "data": {
      "application/vnd.jupyter.widget-view+json": {
       "model_id": "1995f07b43c9456d97cd00bc2440d2e6",
       "version_major": 2,
       "version_minor": 0
      },
      "text/plain": [
       "Epoch 1379:   0%|          | 0/196 [00:00<?, ?it/s]"
      ]
     },
     "metadata": {},
     "output_type": "display_data"
    },
    {
     "data": {
      "application/vnd.jupyter.widget-view+json": {
       "model_id": "b978d20f63a5486ea2c0f056eaa05479",
       "version_major": 2,
       "version_minor": 0
      },
      "text/plain": [
       "Epoch 1380:   0%|          | 0/196 [00:00<?, ?it/s]"
      ]
     },
     "metadata": {},
     "output_type": "display_data"
    },
    {
     "data": {
      "application/vnd.jupyter.widget-view+json": {
       "model_id": "71aa7a317c4843fa9476322c35777543",
       "version_major": 2,
       "version_minor": 0
      },
      "text/plain": [
       "Epoch 1381:   0%|          | 0/196 [00:00<?, ?it/s]"
      ]
     },
     "metadata": {},
     "output_type": "display_data"
    },
    {
     "data": {
      "application/vnd.jupyter.widget-view+json": {
       "model_id": "a910ee94fb76455c9e0b6ae7a5f47923",
       "version_major": 2,
       "version_minor": 0
      },
      "text/plain": [
       "Epoch 1382:   0%|          | 0/196 [00:00<?, ?it/s]"
      ]
     },
     "metadata": {},
     "output_type": "display_data"
    },
    {
     "data": {
      "application/vnd.jupyter.widget-view+json": {
       "model_id": "53f564e574e94ad684192fb7cb592f2c",
       "version_major": 2,
       "version_minor": 0
      },
      "text/plain": [
       "Epoch 1383:   0%|          | 0/196 [00:00<?, ?it/s]"
      ]
     },
     "metadata": {},
     "output_type": "display_data"
    },
    {
     "data": {
      "application/vnd.jupyter.widget-view+json": {
       "model_id": "7895c7df0b1a48d085bb69c63a955386",
       "version_major": 2,
       "version_minor": 0
      },
      "text/plain": [
       "Epoch 1384:   0%|          | 0/196 [00:00<?, ?it/s]"
      ]
     },
     "metadata": {},
     "output_type": "display_data"
    },
    {
     "data": {
      "application/vnd.jupyter.widget-view+json": {
       "model_id": "efe4eaba9c0c4ea9927e73e752e563f2",
       "version_major": 2,
       "version_minor": 0
      },
      "text/plain": [
       "Epoch 1385:   0%|          | 0/196 [00:00<?, ?it/s]"
      ]
     },
     "metadata": {},
     "output_type": "display_data"
    },
    {
     "data": {
      "application/vnd.jupyter.widget-view+json": {
       "model_id": "29313b1e7529463d8762eb2802c1a2c5",
       "version_major": 2,
       "version_minor": 0
      },
      "text/plain": [
       "Epoch 1386:   0%|          | 0/196 [00:00<?, ?it/s]"
      ]
     },
     "metadata": {},
     "output_type": "display_data"
    },
    {
     "data": {
      "application/vnd.jupyter.widget-view+json": {
       "model_id": "c97636e44bbb4742badf5f766a437211",
       "version_major": 2,
       "version_minor": 0
      },
      "text/plain": [
       "Epoch 1387:   0%|          | 0/196 [00:00<?, ?it/s]"
      ]
     },
     "metadata": {},
     "output_type": "display_data"
    },
    {
     "data": {
      "application/vnd.jupyter.widget-view+json": {
       "model_id": "37318d99892642ab95730dfe3a4fede9",
       "version_major": 2,
       "version_minor": 0
      },
      "text/plain": [
       "Epoch 1388:   0%|          | 0/196 [00:00<?, ?it/s]"
      ]
     },
     "metadata": {},
     "output_type": "display_data"
    },
    {
     "data": {
      "application/vnd.jupyter.widget-view+json": {
       "model_id": "69e3e2400cc04048b8907cd8f34aa96e",
       "version_major": 2,
       "version_minor": 0
      },
      "text/plain": [
       "Epoch 1389:   0%|          | 0/196 [00:00<?, ?it/s]"
      ]
     },
     "metadata": {},
     "output_type": "display_data"
    },
    {
     "data": {
      "application/vnd.jupyter.widget-view+json": {
       "model_id": "6dc2d69aca91462c80605b764022a087",
       "version_major": 2,
       "version_minor": 0
      },
      "text/plain": [
       "Epoch 1390:   0%|          | 0/196 [00:00<?, ?it/s]"
      ]
     },
     "metadata": {},
     "output_type": "display_data"
    },
    {
     "data": {
      "application/vnd.jupyter.widget-view+json": {
       "model_id": "4d87bcf0afd046ab8308d76bb672a8a1",
       "version_major": 2,
       "version_minor": 0
      },
      "text/plain": [
       "Epoch 1391:   0%|          | 0/196 [00:00<?, ?it/s]"
      ]
     },
     "metadata": {},
     "output_type": "display_data"
    },
    {
     "data": {
      "application/vnd.jupyter.widget-view+json": {
       "model_id": "ecaac864093a42f3829c0b551422e8c3",
       "version_major": 2,
       "version_minor": 0
      },
      "text/plain": [
       "Epoch 1392:   0%|          | 0/196 [00:00<?, ?it/s]"
      ]
     },
     "metadata": {},
     "output_type": "display_data"
    },
    {
     "data": {
      "application/vnd.jupyter.widget-view+json": {
       "model_id": "754d273d93d64e8b8a0bbafb8c768694",
       "version_major": 2,
       "version_minor": 0
      },
      "text/plain": [
       "Epoch 1393:   0%|          | 0/196 [00:00<?, ?it/s]"
      ]
     },
     "metadata": {},
     "output_type": "display_data"
    },
    {
     "data": {
      "application/vnd.jupyter.widget-view+json": {
       "model_id": "831c4285516b4dc4a5f27bb873c6f7bd",
       "version_major": 2,
       "version_minor": 0
      },
      "text/plain": [
       "Epoch 1394:   0%|          | 0/196 [00:00<?, ?it/s]"
      ]
     },
     "metadata": {},
     "output_type": "display_data"
    },
    {
     "data": {
      "application/vnd.jupyter.widget-view+json": {
       "model_id": "3a210cfe1db949198fdf5187b35b7d31",
       "version_major": 2,
       "version_minor": 0
      },
      "text/plain": [
       "Epoch 1395:   0%|          | 0/196 [00:00<?, ?it/s]"
      ]
     },
     "metadata": {},
     "output_type": "display_data"
    },
    {
     "data": {
      "application/vnd.jupyter.widget-view+json": {
       "model_id": "6867af37b3ae4052b534d049edfc655c",
       "version_major": 2,
       "version_minor": 0
      },
      "text/plain": [
       "Epoch 1396:   0%|          | 0/196 [00:00<?, ?it/s]"
      ]
     },
     "metadata": {},
     "output_type": "display_data"
    },
    {
     "data": {
      "application/vnd.jupyter.widget-view+json": {
       "model_id": "67b2fb7cbc4e4c768c81c521661209f7",
       "version_major": 2,
       "version_minor": 0
      },
      "text/plain": [
       "Epoch 1397:   0%|          | 0/196 [00:00<?, ?it/s]"
      ]
     },
     "metadata": {},
     "output_type": "display_data"
    },
    {
     "data": {
      "application/vnd.jupyter.widget-view+json": {
       "model_id": "3afa3f9ed8d64794a3a3e198936018fb",
       "version_major": 2,
       "version_minor": 0
      },
      "text/plain": [
       "Epoch 1398:   0%|          | 0/196 [00:00<?, ?it/s]"
      ]
     },
     "metadata": {},
     "output_type": "display_data"
    },
    {
     "data": {
      "application/vnd.jupyter.widget-view+json": {
       "model_id": "b00089fe2ba94476858daf3f2298818d",
       "version_major": 2,
       "version_minor": 0
      },
      "text/plain": [
       "Epoch 1399:   0%|          | 0/196 [00:00<?, ?it/s]"
      ]
     },
     "metadata": {},
     "output_type": "display_data"
    },
    {
     "data": {
      "application/vnd.jupyter.widget-view+json": {
       "model_id": "91729ea436fa4feb8a2426399f57fb7a",
       "version_major": 2,
       "version_minor": 0
      },
      "text/plain": [
       "Epoch 1400:   0%|          | 0/196 [00:00<?, ?it/s]"
      ]
     },
     "metadata": {},
     "output_type": "display_data"
    },
    {
     "data": {
      "application/vnd.jupyter.widget-view+json": {
       "model_id": "6ac446e6df26480e9bb3358cd8736b6d",
       "version_major": 2,
       "version_minor": 0
      },
      "text/plain": [
       "Epoch 1401:   0%|          | 0/196 [00:00<?, ?it/s]"
      ]
     },
     "metadata": {},
     "output_type": "display_data"
    },
    {
     "data": {
      "application/vnd.jupyter.widget-view+json": {
       "model_id": "b865cddf68854a73831eba9942eb78ef",
       "version_major": 2,
       "version_minor": 0
      },
      "text/plain": [
       "Epoch 1402:   0%|          | 0/196 [00:00<?, ?it/s]"
      ]
     },
     "metadata": {},
     "output_type": "display_data"
    },
    {
     "data": {
      "application/vnd.jupyter.widget-view+json": {
       "model_id": "22cef14dee164f69bacb5b707dab50a4",
       "version_major": 2,
       "version_minor": 0
      },
      "text/plain": [
       "Epoch 1403:   0%|          | 0/196 [00:00<?, ?it/s]"
      ]
     },
     "metadata": {},
     "output_type": "display_data"
    },
    {
     "data": {
      "application/vnd.jupyter.widget-view+json": {
       "model_id": "690c327714494ca194dacec9bc60fe1b",
       "version_major": 2,
       "version_minor": 0
      },
      "text/plain": [
       "Epoch 1404:   0%|          | 0/196 [00:00<?, ?it/s]"
      ]
     },
     "metadata": {},
     "output_type": "display_data"
    },
    {
     "data": {
      "application/vnd.jupyter.widget-view+json": {
       "model_id": "32c3024f6766431891add6252d8a56c1",
       "version_major": 2,
       "version_minor": 0
      },
      "text/plain": [
       "Epoch 1405:   0%|          | 0/196 [00:00<?, ?it/s]"
      ]
     },
     "metadata": {},
     "output_type": "display_data"
    },
    {
     "data": {
      "application/vnd.jupyter.widget-view+json": {
       "model_id": "8703043d261f466b86fed6f7c4558699",
       "version_major": 2,
       "version_minor": 0
      },
      "text/plain": [
       "Epoch 1406:   0%|          | 0/196 [00:00<?, ?it/s]"
      ]
     },
     "metadata": {},
     "output_type": "display_data"
    },
    {
     "data": {
      "application/vnd.jupyter.widget-view+json": {
       "model_id": "368e2ba1a9f04242b44e24a3ac612615",
       "version_major": 2,
       "version_minor": 0
      },
      "text/plain": [
       "Epoch 1407:   0%|          | 0/196 [00:00<?, ?it/s]"
      ]
     },
     "metadata": {},
     "output_type": "display_data"
    },
    {
     "data": {
      "application/vnd.jupyter.widget-view+json": {
       "model_id": "b3125719cc7849c38d78ab30c4e291c3",
       "version_major": 2,
       "version_minor": 0
      },
      "text/plain": [
       "Epoch 1408:   0%|          | 0/196 [00:00<?, ?it/s]"
      ]
     },
     "metadata": {},
     "output_type": "display_data"
    },
    {
     "data": {
      "application/vnd.jupyter.widget-view+json": {
       "model_id": "5ce4a0f541d24ba4bf6a7817a0cf7c66",
       "version_major": 2,
       "version_minor": 0
      },
      "text/plain": [
       "Epoch 1409:   0%|          | 0/196 [00:00<?, ?it/s]"
      ]
     },
     "metadata": {},
     "output_type": "display_data"
    },
    {
     "data": {
      "application/vnd.jupyter.widget-view+json": {
       "model_id": "3b23e82c66bc443099582032977f7a41",
       "version_major": 2,
       "version_minor": 0
      },
      "text/plain": [
       "Epoch 1410:   0%|          | 0/196 [00:00<?, ?it/s]"
      ]
     },
     "metadata": {},
     "output_type": "display_data"
    },
    {
     "data": {
      "application/vnd.jupyter.widget-view+json": {
       "model_id": "ccff05a4f0f24d93b84b4ff8f7cb6756",
       "version_major": 2,
       "version_minor": 0
      },
      "text/plain": [
       "Epoch 1411:   0%|          | 0/196 [00:00<?, ?it/s]"
      ]
     },
     "metadata": {},
     "output_type": "display_data"
    },
    {
     "data": {
      "application/vnd.jupyter.widget-view+json": {
       "model_id": "f5c05167e2464c06987decb99a743542",
       "version_major": 2,
       "version_minor": 0
      },
      "text/plain": [
       "Epoch 1412:   0%|          | 0/196 [00:00<?, ?it/s]"
      ]
     },
     "metadata": {},
     "output_type": "display_data"
    },
    {
     "data": {
      "application/vnd.jupyter.widget-view+json": {
       "model_id": "407aed28cfae4c8196755bfa5e70400c",
       "version_major": 2,
       "version_minor": 0
      },
      "text/plain": [
       "Epoch 1413:   0%|          | 0/196 [00:00<?, ?it/s]"
      ]
     },
     "metadata": {},
     "output_type": "display_data"
    },
    {
     "data": {
      "application/vnd.jupyter.widget-view+json": {
       "model_id": "7a95948e7a4e4da8a05203d81ca0a1b7",
       "version_major": 2,
       "version_minor": 0
      },
      "text/plain": [
       "Epoch 1414:   0%|          | 0/196 [00:00<?, ?it/s]"
      ]
     },
     "metadata": {},
     "output_type": "display_data"
    },
    {
     "data": {
      "application/vnd.jupyter.widget-view+json": {
       "model_id": "4fe634c4043f4dc084bd98603bc0c7c5",
       "version_major": 2,
       "version_minor": 0
      },
      "text/plain": [
       "Epoch 1415:   0%|          | 0/196 [00:00<?, ?it/s]"
      ]
     },
     "metadata": {},
     "output_type": "display_data"
    },
    {
     "data": {
      "application/vnd.jupyter.widget-view+json": {
       "model_id": "daebb13f553e4c9c8acca79c7ed3cc28",
       "version_major": 2,
       "version_minor": 0
      },
      "text/plain": [
       "Epoch 1416:   0%|          | 0/196 [00:00<?, ?it/s]"
      ]
     },
     "metadata": {},
     "output_type": "display_data"
    },
    {
     "data": {
      "application/vnd.jupyter.widget-view+json": {
       "model_id": "3aaadf48512c4e46ac10b565a5fbcde9",
       "version_major": 2,
       "version_minor": 0
      },
      "text/plain": [
       "Epoch 1417:   0%|          | 0/196 [00:00<?, ?it/s]"
      ]
     },
     "metadata": {},
     "output_type": "display_data"
    },
    {
     "data": {
      "application/vnd.jupyter.widget-view+json": {
       "model_id": "02d063e43e9d4d55bd39dc72b82eb245",
       "version_major": 2,
       "version_minor": 0
      },
      "text/plain": [
       "Epoch 1418:   0%|          | 0/196 [00:00<?, ?it/s]"
      ]
     },
     "metadata": {},
     "output_type": "display_data"
    },
    {
     "data": {
      "application/vnd.jupyter.widget-view+json": {
       "model_id": "dc1e361b309140ebbbe1a5de5ffbb544",
       "version_major": 2,
       "version_minor": 0
      },
      "text/plain": [
       "Epoch 1419:   0%|          | 0/196 [00:00<?, ?it/s]"
      ]
     },
     "metadata": {},
     "output_type": "display_data"
    },
    {
     "data": {
      "application/vnd.jupyter.widget-view+json": {
       "model_id": "7d320db7644a4cb293f04b7bea8c3443",
       "version_major": 2,
       "version_minor": 0
      },
      "text/plain": [
       "Epoch 1420:   0%|          | 0/196 [00:00<?, ?it/s]"
      ]
     },
     "metadata": {},
     "output_type": "display_data"
    },
    {
     "data": {
      "application/vnd.jupyter.widget-view+json": {
       "model_id": "1ac7d368803346398890cc3b35f7b833",
       "version_major": 2,
       "version_minor": 0
      },
      "text/plain": [
       "Epoch 1421:   0%|          | 0/196 [00:00<?, ?it/s]"
      ]
     },
     "metadata": {},
     "output_type": "display_data"
    },
    {
     "data": {
      "application/vnd.jupyter.widget-view+json": {
       "model_id": "2e957c27cb6f4b75ab25536e5527aa55",
       "version_major": 2,
       "version_minor": 0
      },
      "text/plain": [
       "Epoch 1422:   0%|          | 0/196 [00:00<?, ?it/s]"
      ]
     },
     "metadata": {},
     "output_type": "display_data"
    },
    {
     "data": {
      "application/vnd.jupyter.widget-view+json": {
       "model_id": "7b84df4dc3bd4030ad3b5f65c2fcf9b9",
       "version_major": 2,
       "version_minor": 0
      },
      "text/plain": [
       "Epoch 1423:   0%|          | 0/196 [00:00<?, ?it/s]"
      ]
     },
     "metadata": {},
     "output_type": "display_data"
    },
    {
     "data": {
      "application/vnd.jupyter.widget-view+json": {
       "model_id": "c499d3d6e4fb4eba922ce3ee9c85860f",
       "version_major": 2,
       "version_minor": 0
      },
      "text/plain": [
       "Epoch 1424:   0%|          | 0/196 [00:00<?, ?it/s]"
      ]
     },
     "metadata": {},
     "output_type": "display_data"
    },
    {
     "data": {
      "application/vnd.jupyter.widget-view+json": {
       "model_id": "a74aad49780d443aa517dc929a0a61d2",
       "version_major": 2,
       "version_minor": 0
      },
      "text/plain": [
       "Epoch 1425:   0%|          | 0/196 [00:00<?, ?it/s]"
      ]
     },
     "metadata": {},
     "output_type": "display_data"
    },
    {
     "data": {
      "application/vnd.jupyter.widget-view+json": {
       "model_id": "782dcfa6baa74d1da975bb60f9c3f05a",
       "version_major": 2,
       "version_minor": 0
      },
      "text/plain": [
       "Epoch 1426:   0%|          | 0/196 [00:00<?, ?it/s]"
      ]
     },
     "metadata": {},
     "output_type": "display_data"
    },
    {
     "data": {
      "application/vnd.jupyter.widget-view+json": {
       "model_id": "cb61bb4361f6487aaf7b5242c8a14d4e",
       "version_major": 2,
       "version_minor": 0
      },
      "text/plain": [
       "Epoch 1427:   0%|          | 0/196 [00:00<?, ?it/s]"
      ]
     },
     "metadata": {},
     "output_type": "display_data"
    },
    {
     "data": {
      "application/vnd.jupyter.widget-view+json": {
       "model_id": "2f138d29e9a7403cb14fb4e28187a1f2",
       "version_major": 2,
       "version_minor": 0
      },
      "text/plain": [
       "Epoch 1428:   0%|          | 0/196 [00:00<?, ?it/s]"
      ]
     },
     "metadata": {},
     "output_type": "display_data"
    },
    {
     "data": {
      "application/vnd.jupyter.widget-view+json": {
       "model_id": "c7d23868b4c246f283a03a2cae42abdc",
       "version_major": 2,
       "version_minor": 0
      },
      "text/plain": [
       "Epoch 1429:   0%|          | 0/196 [00:00<?, ?it/s]"
      ]
     },
     "metadata": {},
     "output_type": "display_data"
    },
    {
     "data": {
      "application/vnd.jupyter.widget-view+json": {
       "model_id": "f6c36680224342a0a84c314577638c15",
       "version_major": 2,
       "version_minor": 0
      },
      "text/plain": [
       "Epoch 1430:   0%|          | 0/196 [00:00<?, ?it/s]"
      ]
     },
     "metadata": {},
     "output_type": "display_data"
    },
    {
     "data": {
      "application/vnd.jupyter.widget-view+json": {
       "model_id": "0aaf7f4ceab6443f8a4ebf336a027c1d",
       "version_major": 2,
       "version_minor": 0
      },
      "text/plain": [
       "Epoch 1431:   0%|          | 0/196 [00:00<?, ?it/s]"
      ]
     },
     "metadata": {},
     "output_type": "display_data"
    },
    {
     "data": {
      "application/vnd.jupyter.widget-view+json": {
       "model_id": "dc38923b2f6c4d02a4b91eecb595ea31",
       "version_major": 2,
       "version_minor": 0
      },
      "text/plain": [
       "Epoch 1432:   0%|          | 0/196 [00:00<?, ?it/s]"
      ]
     },
     "metadata": {},
     "output_type": "display_data"
    },
    {
     "data": {
      "application/vnd.jupyter.widget-view+json": {
       "model_id": "a78dc2dfae7f4dc9b66fb629c559538e",
       "version_major": 2,
       "version_minor": 0
      },
      "text/plain": [
       "Epoch 1433:   0%|          | 0/196 [00:00<?, ?it/s]"
      ]
     },
     "metadata": {},
     "output_type": "display_data"
    },
    {
     "data": {
      "application/vnd.jupyter.widget-view+json": {
       "model_id": "438ecdc442a84652b4c427965445e64f",
       "version_major": 2,
       "version_minor": 0
      },
      "text/plain": [
       "Epoch 1434:   0%|          | 0/196 [00:00<?, ?it/s]"
      ]
     },
     "metadata": {},
     "output_type": "display_data"
    },
    {
     "data": {
      "application/vnd.jupyter.widget-view+json": {
       "model_id": "6590cec90b4b4a338a2f167c907cc904",
       "version_major": 2,
       "version_minor": 0
      },
      "text/plain": [
       "Epoch 1435:   0%|          | 0/196 [00:00<?, ?it/s]"
      ]
     },
     "metadata": {},
     "output_type": "display_data"
    },
    {
     "data": {
      "application/vnd.jupyter.widget-view+json": {
       "model_id": "44fd8e38323e414692415b0b5bf743da",
       "version_major": 2,
       "version_minor": 0
      },
      "text/plain": [
       "Epoch 1436:   0%|          | 0/196 [00:00<?, ?it/s]"
      ]
     },
     "metadata": {},
     "output_type": "display_data"
    },
    {
     "data": {
      "application/vnd.jupyter.widget-view+json": {
       "model_id": "5d6cb9c2de6b440a9bdf97957d895eb8",
       "version_major": 2,
       "version_minor": 0
      },
      "text/plain": [
       "Epoch 1437:   0%|          | 0/196 [00:00<?, ?it/s]"
      ]
     },
     "metadata": {},
     "output_type": "display_data"
    },
    {
     "data": {
      "application/vnd.jupyter.widget-view+json": {
       "model_id": "2e64a40049dc442ebd1a5645fe8c50ec",
       "version_major": 2,
       "version_minor": 0
      },
      "text/plain": [
       "Epoch 1438:   0%|          | 0/196 [00:00<?, ?it/s]"
      ]
     },
     "metadata": {},
     "output_type": "display_data"
    },
    {
     "data": {
      "application/vnd.jupyter.widget-view+json": {
       "model_id": "718524c5a42d46a7b7b25a16b5bc13f0",
       "version_major": 2,
       "version_minor": 0
      },
      "text/plain": [
       "Epoch 1439:   0%|          | 0/196 [00:00<?, ?it/s]"
      ]
     },
     "metadata": {},
     "output_type": "display_data"
    },
    {
     "data": {
      "application/vnd.jupyter.widget-view+json": {
       "model_id": "ad09f39d86114002afbc37f1549a19b8",
       "version_major": 2,
       "version_minor": 0
      },
      "text/plain": [
       "Epoch 1440:   0%|          | 0/196 [00:00<?, ?it/s]"
      ]
     },
     "metadata": {},
     "output_type": "display_data"
    },
    {
     "data": {
      "application/vnd.jupyter.widget-view+json": {
       "model_id": "7509bb17db3847d5b3c3a98eb01a6dbc",
       "version_major": 2,
       "version_minor": 0
      },
      "text/plain": [
       "Epoch 1441:   0%|          | 0/196 [00:00<?, ?it/s]"
      ]
     },
     "metadata": {},
     "output_type": "display_data"
    },
    {
     "data": {
      "application/vnd.jupyter.widget-view+json": {
       "model_id": "fe5581a3c5bc4b7cb118de13e2c6688f",
       "version_major": 2,
       "version_minor": 0
      },
      "text/plain": [
       "Epoch 1442:   0%|          | 0/196 [00:00<?, ?it/s]"
      ]
     },
     "metadata": {},
     "output_type": "display_data"
    },
    {
     "data": {
      "application/vnd.jupyter.widget-view+json": {
       "model_id": "52f3740a029e4798ac490bcff2b75c65",
       "version_major": 2,
       "version_minor": 0
      },
      "text/plain": [
       "Epoch 1443:   0%|          | 0/196 [00:00<?, ?it/s]"
      ]
     },
     "metadata": {},
     "output_type": "display_data"
    },
    {
     "data": {
      "application/vnd.jupyter.widget-view+json": {
       "model_id": "5ba76c9dd426445aa7b4dc6d6ec96c8a",
       "version_major": 2,
       "version_minor": 0
      },
      "text/plain": [
       "Epoch 1444:   0%|          | 0/196 [00:00<?, ?it/s]"
      ]
     },
     "metadata": {},
     "output_type": "display_data"
    },
    {
     "data": {
      "application/vnd.jupyter.widget-view+json": {
       "model_id": "1c1d324402f14111adde099efaef1c0e",
       "version_major": 2,
       "version_minor": 0
      },
      "text/plain": [
       "Epoch 1445:   0%|          | 0/196 [00:00<?, ?it/s]"
      ]
     },
     "metadata": {},
     "output_type": "display_data"
    },
    {
     "data": {
      "application/vnd.jupyter.widget-view+json": {
       "model_id": "e7ff4ee9d7704925a2230b7611f57a5f",
       "version_major": 2,
       "version_minor": 0
      },
      "text/plain": [
       "Epoch 1446:   0%|          | 0/196 [00:00<?, ?it/s]"
      ]
     },
     "metadata": {},
     "output_type": "display_data"
    },
    {
     "data": {
      "application/vnd.jupyter.widget-view+json": {
       "model_id": "50ff810899e548d08566428da37651d3",
       "version_major": 2,
       "version_minor": 0
      },
      "text/plain": [
       "Epoch 1447:   0%|          | 0/196 [00:00<?, ?it/s]"
      ]
     },
     "metadata": {},
     "output_type": "display_data"
    },
    {
     "data": {
      "application/vnd.jupyter.widget-view+json": {
       "model_id": "c0069a802b71445fb43770606ac9ddcc",
       "version_major": 2,
       "version_minor": 0
      },
      "text/plain": [
       "Epoch 1448:   0%|          | 0/196 [00:00<?, ?it/s]"
      ]
     },
     "metadata": {},
     "output_type": "display_data"
    },
    {
     "data": {
      "application/vnd.jupyter.widget-view+json": {
       "model_id": "bc370e6faf254ed9850a0a66787b5159",
       "version_major": 2,
       "version_minor": 0
      },
      "text/plain": [
       "Epoch 1449:   0%|          | 0/196 [00:00<?, ?it/s]"
      ]
     },
     "metadata": {},
     "output_type": "display_data"
    },
    {
     "data": {
      "application/vnd.jupyter.widget-view+json": {
       "model_id": "8056127d8ff942df846e3c5a0d9dbf2f",
       "version_major": 2,
       "version_minor": 0
      },
      "text/plain": [
       "Epoch 1450:   0%|          | 0/196 [00:00<?, ?it/s]"
      ]
     },
     "metadata": {},
     "output_type": "display_data"
    },
    {
     "data": {
      "application/vnd.jupyter.widget-view+json": {
       "model_id": "a9b88125163542b1a5d86dc869355ce1",
       "version_major": 2,
       "version_minor": 0
      },
      "text/plain": [
       "Epoch 1451:   0%|          | 0/196 [00:00<?, ?it/s]"
      ]
     },
     "metadata": {},
     "output_type": "display_data"
    },
    {
     "data": {
      "application/vnd.jupyter.widget-view+json": {
       "model_id": "6d6566efc3a647d28fcad2cc8db83da1",
       "version_major": 2,
       "version_minor": 0
      },
      "text/plain": [
       "Epoch 1452:   0%|          | 0/196 [00:00<?, ?it/s]"
      ]
     },
     "metadata": {},
     "output_type": "display_data"
    },
    {
     "data": {
      "application/vnd.jupyter.widget-view+json": {
       "model_id": "9725e15adfb64231b6efacd700755e75",
       "version_major": 2,
       "version_minor": 0
      },
      "text/plain": [
       "Epoch 1453:   0%|          | 0/196 [00:00<?, ?it/s]"
      ]
     },
     "metadata": {},
     "output_type": "display_data"
    },
    {
     "data": {
      "application/vnd.jupyter.widget-view+json": {
       "model_id": "a40f29c3289344208ae43e8f8f532609",
       "version_major": 2,
       "version_minor": 0
      },
      "text/plain": [
       "Epoch 1454:   0%|          | 0/196 [00:00<?, ?it/s]"
      ]
     },
     "metadata": {},
     "output_type": "display_data"
    },
    {
     "data": {
      "application/vnd.jupyter.widget-view+json": {
       "model_id": "a1d11b7b146f4eac8b0826aa6ca46f8f",
       "version_major": 2,
       "version_minor": 0
      },
      "text/plain": [
       "Epoch 1455:   0%|          | 0/196 [00:00<?, ?it/s]"
      ]
     },
     "metadata": {},
     "output_type": "display_data"
    },
    {
     "data": {
      "application/vnd.jupyter.widget-view+json": {
       "model_id": "d13b8836d633402d92bbf9015c4dd3ed",
       "version_major": 2,
       "version_minor": 0
      },
      "text/plain": [
       "Epoch 1456:   0%|          | 0/196 [00:00<?, ?it/s]"
      ]
     },
     "metadata": {},
     "output_type": "display_data"
    },
    {
     "data": {
      "application/vnd.jupyter.widget-view+json": {
       "model_id": "7919647d62324c33be21d750c3fc4e88",
       "version_major": 2,
       "version_minor": 0
      },
      "text/plain": [
       "Epoch 1457:   0%|          | 0/196 [00:00<?, ?it/s]"
      ]
     },
     "metadata": {},
     "output_type": "display_data"
    },
    {
     "data": {
      "application/vnd.jupyter.widget-view+json": {
       "model_id": "3d1e75b61b1b4e5e8005a0d847a1dc48",
       "version_major": 2,
       "version_minor": 0
      },
      "text/plain": [
       "Epoch 1458:   0%|          | 0/196 [00:00<?, ?it/s]"
      ]
     },
     "metadata": {},
     "output_type": "display_data"
    },
    {
     "data": {
      "application/vnd.jupyter.widget-view+json": {
       "model_id": "c14afb3fcd3f4b3dac147e9833028ca5",
       "version_major": 2,
       "version_minor": 0
      },
      "text/plain": [
       "Epoch 1459:   0%|          | 0/196 [00:00<?, ?it/s]"
      ]
     },
     "metadata": {},
     "output_type": "display_data"
    },
    {
     "data": {
      "application/vnd.jupyter.widget-view+json": {
       "model_id": "69e31808bb024920b300d106f256d560",
       "version_major": 2,
       "version_minor": 0
      },
      "text/plain": [
       "Epoch 1460:   0%|          | 0/196 [00:00<?, ?it/s]"
      ]
     },
     "metadata": {},
     "output_type": "display_data"
    },
    {
     "data": {
      "application/vnd.jupyter.widget-view+json": {
       "model_id": "52edfa9c30b4403581ea990c7897dd4d",
       "version_major": 2,
       "version_minor": 0
      },
      "text/plain": [
       "Epoch 1461:   0%|          | 0/196 [00:00<?, ?it/s]"
      ]
     },
     "metadata": {},
     "output_type": "display_data"
    },
    {
     "data": {
      "application/vnd.jupyter.widget-view+json": {
       "model_id": "bb5cc74b9fba47cf97de07590eb412cf",
       "version_major": 2,
       "version_minor": 0
      },
      "text/plain": [
       "Epoch 1462:   0%|          | 0/196 [00:00<?, ?it/s]"
      ]
     },
     "metadata": {},
     "output_type": "display_data"
    },
    {
     "data": {
      "application/vnd.jupyter.widget-view+json": {
       "model_id": "a55c7a8b605544d0aec6c056588636d9",
       "version_major": 2,
       "version_minor": 0
      },
      "text/plain": [
       "Epoch 1463:   0%|          | 0/196 [00:00<?, ?it/s]"
      ]
     },
     "metadata": {},
     "output_type": "display_data"
    },
    {
     "data": {
      "application/vnd.jupyter.widget-view+json": {
       "model_id": "9278a00d5ac043208133bfb8d41a46ca",
       "version_major": 2,
       "version_minor": 0
      },
      "text/plain": [
       "Epoch 1464:   0%|          | 0/196 [00:00<?, ?it/s]"
      ]
     },
     "metadata": {},
     "output_type": "display_data"
    },
    {
     "data": {
      "application/vnd.jupyter.widget-view+json": {
       "model_id": "3a53a2e405744715af928542a98427da",
       "version_major": 2,
       "version_minor": 0
      },
      "text/plain": [
       "Epoch 1465:   0%|          | 0/196 [00:00<?, ?it/s]"
      ]
     },
     "metadata": {},
     "output_type": "display_data"
    },
    {
     "data": {
      "application/vnd.jupyter.widget-view+json": {
       "model_id": "d7a47d16cd3749fab191a8e186ed87f7",
       "version_major": 2,
       "version_minor": 0
      },
      "text/plain": [
       "Epoch 1466:   0%|          | 0/196 [00:00<?, ?it/s]"
      ]
     },
     "metadata": {},
     "output_type": "display_data"
    },
    {
     "data": {
      "application/vnd.jupyter.widget-view+json": {
       "model_id": "064493bb28b84fd0869edf354630e64f",
       "version_major": 2,
       "version_minor": 0
      },
      "text/plain": [
       "Epoch 1467:   0%|          | 0/196 [00:00<?, ?it/s]"
      ]
     },
     "metadata": {},
     "output_type": "display_data"
    },
    {
     "data": {
      "application/vnd.jupyter.widget-view+json": {
       "model_id": "5d5f9d701d6e4731a248ca776b4ab36a",
       "version_major": 2,
       "version_minor": 0
      },
      "text/plain": [
       "Epoch 1468:   0%|          | 0/196 [00:00<?, ?it/s]"
      ]
     },
     "metadata": {},
     "output_type": "display_data"
    },
    {
     "data": {
      "application/vnd.jupyter.widget-view+json": {
       "model_id": "35a79583854549a7b67f0c2c0076c7ce",
       "version_major": 2,
       "version_minor": 0
      },
      "text/plain": [
       "Epoch 1469:   0%|          | 0/196 [00:00<?, ?it/s]"
      ]
     },
     "metadata": {},
     "output_type": "display_data"
    },
    {
     "data": {
      "application/vnd.jupyter.widget-view+json": {
       "model_id": "6cf02a4abc3b463980cd2ec62afb8ed1",
       "version_major": 2,
       "version_minor": 0
      },
      "text/plain": [
       "Epoch 1470:   0%|          | 0/196 [00:00<?, ?it/s]"
      ]
     },
     "metadata": {},
     "output_type": "display_data"
    },
    {
     "data": {
      "application/vnd.jupyter.widget-view+json": {
       "model_id": "9af9368ffffc476397a2ef3f019d64a3",
       "version_major": 2,
       "version_minor": 0
      },
      "text/plain": [
       "Epoch 1471:   0%|          | 0/196 [00:00<?, ?it/s]"
      ]
     },
     "metadata": {},
     "output_type": "display_data"
    },
    {
     "data": {
      "application/vnd.jupyter.widget-view+json": {
       "model_id": "80fe7233f84945f49d3b3636a5f39411",
       "version_major": 2,
       "version_minor": 0
      },
      "text/plain": [
       "Epoch 1472:   0%|          | 0/196 [00:00<?, ?it/s]"
      ]
     },
     "metadata": {},
     "output_type": "display_data"
    },
    {
     "data": {
      "application/vnd.jupyter.widget-view+json": {
       "model_id": "2c3b17d6b0b54472af39b6e8243c620c",
       "version_major": 2,
       "version_minor": 0
      },
      "text/plain": [
       "Epoch 1473:   0%|          | 0/196 [00:00<?, ?it/s]"
      ]
     },
     "metadata": {},
     "output_type": "display_data"
    },
    {
     "data": {
      "application/vnd.jupyter.widget-view+json": {
       "model_id": "41114c9496f24257b5c0c1c6666d7eba",
       "version_major": 2,
       "version_minor": 0
      },
      "text/plain": [
       "Epoch 1474:   0%|          | 0/196 [00:00<?, ?it/s]"
      ]
     },
     "metadata": {},
     "output_type": "display_data"
    },
    {
     "data": {
      "application/vnd.jupyter.widget-view+json": {
       "model_id": "f68b5375a1ea48df8b3cbaac9b2951be",
       "version_major": 2,
       "version_minor": 0
      },
      "text/plain": [
       "Epoch 1475:   0%|          | 0/196 [00:00<?, ?it/s]"
      ]
     },
     "metadata": {},
     "output_type": "display_data"
    },
    {
     "data": {
      "application/vnd.jupyter.widget-view+json": {
       "model_id": "93c8bae9a193455cac6bd18847b87f14",
       "version_major": 2,
       "version_minor": 0
      },
      "text/plain": [
       "Epoch 1476:   0%|          | 0/196 [00:00<?, ?it/s]"
      ]
     },
     "metadata": {},
     "output_type": "display_data"
    },
    {
     "data": {
      "application/vnd.jupyter.widget-view+json": {
       "model_id": "f26142464467485a988a280d73e0f118",
       "version_major": 2,
       "version_minor": 0
      },
      "text/plain": [
       "Epoch 1477:   0%|          | 0/196 [00:00<?, ?it/s]"
      ]
     },
     "metadata": {},
     "output_type": "display_data"
    },
    {
     "data": {
      "application/vnd.jupyter.widget-view+json": {
       "model_id": "e75fcf094e79403a9985c94ecf62abc6",
       "version_major": 2,
       "version_minor": 0
      },
      "text/plain": [
       "Epoch 1478:   0%|          | 0/196 [00:00<?, ?it/s]"
      ]
     },
     "metadata": {},
     "output_type": "display_data"
    },
    {
     "data": {
      "application/vnd.jupyter.widget-view+json": {
       "model_id": "6f6cf8d8464f46169ff7be116b4fa5a1",
       "version_major": 2,
       "version_minor": 0
      },
      "text/plain": [
       "Epoch 1479:   0%|          | 0/196 [00:00<?, ?it/s]"
      ]
     },
     "metadata": {},
     "output_type": "display_data"
    },
    {
     "data": {
      "application/vnd.jupyter.widget-view+json": {
       "model_id": "394b6492c7b541cfa67b9a7f29d4ccd9",
       "version_major": 2,
       "version_minor": 0
      },
      "text/plain": [
       "Epoch 1480:   0%|          | 0/196 [00:00<?, ?it/s]"
      ]
     },
     "metadata": {},
     "output_type": "display_data"
    },
    {
     "data": {
      "application/vnd.jupyter.widget-view+json": {
       "model_id": "ea49ddc95c844019bab494855a82576a",
       "version_major": 2,
       "version_minor": 0
      },
      "text/plain": [
       "Epoch 1481:   0%|          | 0/196 [00:00<?, ?it/s]"
      ]
     },
     "metadata": {},
     "output_type": "display_data"
    },
    {
     "data": {
      "application/vnd.jupyter.widget-view+json": {
       "model_id": "7253411105b14abb80ebedff439355b6",
       "version_major": 2,
       "version_minor": 0
      },
      "text/plain": [
       "Epoch 1482:   0%|          | 0/196 [00:00<?, ?it/s]"
      ]
     },
     "metadata": {},
     "output_type": "display_data"
    },
    {
     "data": {
      "application/vnd.jupyter.widget-view+json": {
       "model_id": "c3726aad8dc746eca20a37c0f35b7546",
       "version_major": 2,
       "version_minor": 0
      },
      "text/plain": [
       "Epoch 1483:   0%|          | 0/196 [00:00<?, ?it/s]"
      ]
     },
     "metadata": {},
     "output_type": "display_data"
    },
    {
     "data": {
      "application/vnd.jupyter.widget-view+json": {
       "model_id": "d401aa60617c433fa858a603c19a562d",
       "version_major": 2,
       "version_minor": 0
      },
      "text/plain": [
       "Epoch 1484:   0%|          | 0/196 [00:00<?, ?it/s]"
      ]
     },
     "metadata": {},
     "output_type": "display_data"
    },
    {
     "data": {
      "application/vnd.jupyter.widget-view+json": {
       "model_id": "c5ad5d89884740c98a28daaf350ffd1b",
       "version_major": 2,
       "version_minor": 0
      },
      "text/plain": [
       "Epoch 1485:   0%|          | 0/196 [00:00<?, ?it/s]"
      ]
     },
     "metadata": {},
     "output_type": "display_data"
    },
    {
     "data": {
      "application/vnd.jupyter.widget-view+json": {
       "model_id": "0025bff7e71a481aa3dfe18ea2fd1f43",
       "version_major": 2,
       "version_minor": 0
      },
      "text/plain": [
       "Epoch 1486:   0%|          | 0/196 [00:00<?, ?it/s]"
      ]
     },
     "metadata": {},
     "output_type": "display_data"
    },
    {
     "data": {
      "application/vnd.jupyter.widget-view+json": {
       "model_id": "6b4dcb5374f84dba9b5813db571697e8",
       "version_major": 2,
       "version_minor": 0
      },
      "text/plain": [
       "Epoch 1487:   0%|          | 0/196 [00:00<?, ?it/s]"
      ]
     },
     "metadata": {},
     "output_type": "display_data"
    },
    {
     "data": {
      "application/vnd.jupyter.widget-view+json": {
       "model_id": "374f672048394d7fba170db4c1007c1c",
       "version_major": 2,
       "version_minor": 0
      },
      "text/plain": [
       "Epoch 1488:   0%|          | 0/196 [00:00<?, ?it/s]"
      ]
     },
     "metadata": {},
     "output_type": "display_data"
    },
    {
     "data": {
      "application/vnd.jupyter.widget-view+json": {
       "model_id": "d4c0cec107104ff887d95a4e621dd166",
       "version_major": 2,
       "version_minor": 0
      },
      "text/plain": [
       "Epoch 1489:   0%|          | 0/196 [00:00<?, ?it/s]"
      ]
     },
     "metadata": {},
     "output_type": "display_data"
    },
    {
     "data": {
      "application/vnd.jupyter.widget-view+json": {
       "model_id": "217971b8b43b45d986d59cb83f36bb8e",
       "version_major": 2,
       "version_minor": 0
      },
      "text/plain": [
       "Epoch 1490:   0%|          | 0/196 [00:00<?, ?it/s]"
      ]
     },
     "metadata": {},
     "output_type": "display_data"
    },
    {
     "data": {
      "application/vnd.jupyter.widget-view+json": {
       "model_id": "7e495f3ca34c4b39be8d6ae7480bfdff",
       "version_major": 2,
       "version_minor": 0
      },
      "text/plain": [
       "Epoch 1491:   0%|          | 0/196 [00:00<?, ?it/s]"
      ]
     },
     "metadata": {},
     "output_type": "display_data"
    },
    {
     "data": {
      "application/vnd.jupyter.widget-view+json": {
       "model_id": "78f5f9d8ad2b49838e7f7a653c37c974",
       "version_major": 2,
       "version_minor": 0
      },
      "text/plain": [
       "Epoch 1492:   0%|          | 0/196 [00:00<?, ?it/s]"
      ]
     },
     "metadata": {},
     "output_type": "display_data"
    },
    {
     "data": {
      "application/vnd.jupyter.widget-view+json": {
       "model_id": "8ce3c4c68cbf4c70a50636a3855965ee",
       "version_major": 2,
       "version_minor": 0
      },
      "text/plain": [
       "Epoch 1493:   0%|          | 0/196 [00:00<?, ?it/s]"
      ]
     },
     "metadata": {},
     "output_type": "display_data"
    },
    {
     "data": {
      "application/vnd.jupyter.widget-view+json": {
       "model_id": "c4af86caaab04520a2a0e916a25cd67e",
       "version_major": 2,
       "version_minor": 0
      },
      "text/plain": [
       "Epoch 1494:   0%|          | 0/196 [00:00<?, ?it/s]"
      ]
     },
     "metadata": {},
     "output_type": "display_data"
    },
    {
     "data": {
      "application/vnd.jupyter.widget-view+json": {
       "model_id": "b8271c6e12494a67bf503dc43cdaf445",
       "version_major": 2,
       "version_minor": 0
      },
      "text/plain": [
       "Epoch 1495:   0%|          | 0/196 [00:00<?, ?it/s]"
      ]
     },
     "metadata": {},
     "output_type": "display_data"
    },
    {
     "data": {
      "application/vnd.jupyter.widget-view+json": {
       "model_id": "a48e157391ec470ab4e0ba4b15e2701f",
       "version_major": 2,
       "version_minor": 0
      },
      "text/plain": [
       "Epoch 1496:   0%|          | 0/196 [00:00<?, ?it/s]"
      ]
     },
     "metadata": {},
     "output_type": "display_data"
    },
    {
     "data": {
      "application/vnd.jupyter.widget-view+json": {
       "model_id": "737bdab8ef31488d80a51d886fc8d475",
       "version_major": 2,
       "version_minor": 0
      },
      "text/plain": [
       "Epoch 1497:   0%|          | 0/196 [00:00<?, ?it/s]"
      ]
     },
     "metadata": {},
     "output_type": "display_data"
    },
    {
     "data": {
      "application/vnd.jupyter.widget-view+json": {
       "model_id": "fff5486296c14ce8bf4b22bd416d9371",
       "version_major": 2,
       "version_minor": 0
      },
      "text/plain": [
       "Epoch 1498:   0%|          | 0/196 [00:00<?, ?it/s]"
      ]
     },
     "metadata": {},
     "output_type": "display_data"
    },
    {
     "data": {
      "application/vnd.jupyter.widget-view+json": {
       "model_id": "4faf308130cd4ef8a043ebbaa16ede19",
       "version_major": 2,
       "version_minor": 0
      },
      "text/plain": [
       "Epoch 1499:   0%|          | 0/196 [00:00<?, ?it/s]"
      ]
     },
     "metadata": {},
     "output_type": "display_data"
    },
    {
     "data": {
      "application/vnd.jupyter.widget-view+json": {
       "model_id": "6a0ca7a85b234796938b98526589412a",
       "version_major": 2,
       "version_minor": 0
      },
      "text/plain": [
       "Epoch 1500:   0%|          | 0/196 [00:00<?, ?it/s]"
      ]
     },
     "metadata": {},
     "output_type": "display_data"
    },
    {
     "data": {
      "application/vnd.jupyter.widget-view+json": {
       "model_id": "9a6637d94abd43a6baea05af3c213087",
       "version_major": 2,
       "version_minor": 0
      },
      "text/plain": [
       "Epoch 1501:   0%|          | 0/196 [00:00<?, ?it/s]"
      ]
     },
     "metadata": {},
     "output_type": "display_data"
    },
    {
     "data": {
      "application/vnd.jupyter.widget-view+json": {
       "model_id": "84a153090099453ab4523065538f5318",
       "version_major": 2,
       "version_minor": 0
      },
      "text/plain": [
       "Epoch 1502:   0%|          | 0/196 [00:00<?, ?it/s]"
      ]
     },
     "metadata": {},
     "output_type": "display_data"
    },
    {
     "data": {
      "application/vnd.jupyter.widget-view+json": {
       "model_id": "13ff910b5ab446b0917b38c805a4d18c",
       "version_major": 2,
       "version_minor": 0
      },
      "text/plain": [
       "Epoch 1503:   0%|          | 0/196 [00:00<?, ?it/s]"
      ]
     },
     "metadata": {},
     "output_type": "display_data"
    },
    {
     "data": {
      "application/vnd.jupyter.widget-view+json": {
       "model_id": "6311a1ff167c4faa821244440e621df6",
       "version_major": 2,
       "version_minor": 0
      },
      "text/plain": [
       "Epoch 1504:   0%|          | 0/196 [00:00<?, ?it/s]"
      ]
     },
     "metadata": {},
     "output_type": "display_data"
    },
    {
     "data": {
      "application/vnd.jupyter.widget-view+json": {
       "model_id": "344d138cb6954c6bb2651a650da88cde",
       "version_major": 2,
       "version_minor": 0
      },
      "text/plain": [
       "Epoch 1505:   0%|          | 0/196 [00:00<?, ?it/s]"
      ]
     },
     "metadata": {},
     "output_type": "display_data"
    },
    {
     "data": {
      "application/vnd.jupyter.widget-view+json": {
       "model_id": "e10b31640d1a41ad928b93b1b4a87117",
       "version_major": 2,
       "version_minor": 0
      },
      "text/plain": [
       "Epoch 1506:   0%|          | 0/196 [00:00<?, ?it/s]"
      ]
     },
     "metadata": {},
     "output_type": "display_data"
    },
    {
     "data": {
      "application/vnd.jupyter.widget-view+json": {
       "model_id": "14853064af844c6186fccdc071bab505",
       "version_major": 2,
       "version_minor": 0
      },
      "text/plain": [
       "Epoch 1507:   0%|          | 0/196 [00:00<?, ?it/s]"
      ]
     },
     "metadata": {},
     "output_type": "display_data"
    },
    {
     "data": {
      "application/vnd.jupyter.widget-view+json": {
       "model_id": "3b71396d42a845b883fef5311e28c825",
       "version_major": 2,
       "version_minor": 0
      },
      "text/plain": [
       "Epoch 1508:   0%|          | 0/196 [00:00<?, ?it/s]"
      ]
     },
     "metadata": {},
     "output_type": "display_data"
    },
    {
     "data": {
      "application/vnd.jupyter.widget-view+json": {
       "model_id": "0c6ebf4dc19a468e85f116c829ae9290",
       "version_major": 2,
       "version_minor": 0
      },
      "text/plain": [
       "Epoch 1509:   0%|          | 0/196 [00:00<?, ?it/s]"
      ]
     },
     "metadata": {},
     "output_type": "display_data"
    },
    {
     "data": {
      "application/vnd.jupyter.widget-view+json": {
       "model_id": "c22d4b0936c2497c8b851a39ee3974e2",
       "version_major": 2,
       "version_minor": 0
      },
      "text/plain": [
       "Epoch 1510:   0%|          | 0/196 [00:00<?, ?it/s]"
      ]
     },
     "metadata": {},
     "output_type": "display_data"
    },
    {
     "data": {
      "application/vnd.jupyter.widget-view+json": {
       "model_id": "d2ae79d98233400ba5d5a21fc566d2f9",
       "version_major": 2,
       "version_minor": 0
      },
      "text/plain": [
       "Epoch 1511:   0%|          | 0/196 [00:00<?, ?it/s]"
      ]
     },
     "metadata": {},
     "output_type": "display_data"
    },
    {
     "data": {
      "application/vnd.jupyter.widget-view+json": {
       "model_id": "dc832c54677b484684ee837df77f319d",
       "version_major": 2,
       "version_minor": 0
      },
      "text/plain": [
       "Epoch 1512:   0%|          | 0/196 [00:00<?, ?it/s]"
      ]
     },
     "metadata": {},
     "output_type": "display_data"
    },
    {
     "data": {
      "application/vnd.jupyter.widget-view+json": {
       "model_id": "b90eac5441cd4f4ea88c75e7b7661bb6",
       "version_major": 2,
       "version_minor": 0
      },
      "text/plain": [
       "Epoch 1513:   0%|          | 0/196 [00:00<?, ?it/s]"
      ]
     },
     "metadata": {},
     "output_type": "display_data"
    },
    {
     "data": {
      "application/vnd.jupyter.widget-view+json": {
       "model_id": "c2cc3630530c4acd9be492f9fbe2bc8a",
       "version_major": 2,
       "version_minor": 0
      },
      "text/plain": [
       "Epoch 1514:   0%|          | 0/196 [00:00<?, ?it/s]"
      ]
     },
     "metadata": {},
     "output_type": "display_data"
    },
    {
     "data": {
      "application/vnd.jupyter.widget-view+json": {
       "model_id": "ef256ec8e71540c0a5347f45309d86e1",
       "version_major": 2,
       "version_minor": 0
      },
      "text/plain": [
       "Epoch 1515:   0%|          | 0/196 [00:00<?, ?it/s]"
      ]
     },
     "metadata": {},
     "output_type": "display_data"
    },
    {
     "data": {
      "application/vnd.jupyter.widget-view+json": {
       "model_id": "d7cf033186254f069f661daa632af028",
       "version_major": 2,
       "version_minor": 0
      },
      "text/plain": [
       "Epoch 1516:   0%|          | 0/196 [00:00<?, ?it/s]"
      ]
     },
     "metadata": {},
     "output_type": "display_data"
    },
    {
     "data": {
      "application/vnd.jupyter.widget-view+json": {
       "model_id": "26a237df2ec24403b64bfa2e37c6bcd4",
       "version_major": 2,
       "version_minor": 0
      },
      "text/plain": [
       "Epoch 1517:   0%|          | 0/196 [00:00<?, ?it/s]"
      ]
     },
     "metadata": {},
     "output_type": "display_data"
    },
    {
     "data": {
      "application/vnd.jupyter.widget-view+json": {
       "model_id": "1b7543f9b9e5491f907a63a45339ff83",
       "version_major": 2,
       "version_minor": 0
      },
      "text/plain": [
       "Epoch 1518:   0%|          | 0/196 [00:00<?, ?it/s]"
      ]
     },
     "metadata": {},
     "output_type": "display_data"
    },
    {
     "data": {
      "application/vnd.jupyter.widget-view+json": {
       "model_id": "2a03598b4d144259a6a958e6911587ff",
       "version_major": 2,
       "version_minor": 0
      },
      "text/plain": [
       "Epoch 1519:   0%|          | 0/196 [00:00<?, ?it/s]"
      ]
     },
     "metadata": {},
     "output_type": "display_data"
    },
    {
     "data": {
      "application/vnd.jupyter.widget-view+json": {
       "model_id": "80a7adfa6bc140bab3aed123b54f19b3",
       "version_major": 2,
       "version_minor": 0
      },
      "text/plain": [
       "Epoch 1520:   0%|          | 0/196 [00:00<?, ?it/s]"
      ]
     },
     "metadata": {},
     "output_type": "display_data"
    },
    {
     "data": {
      "application/vnd.jupyter.widget-view+json": {
       "model_id": "516ae1adbbab48618cd87a87a46e6dda",
       "version_major": 2,
       "version_minor": 0
      },
      "text/plain": [
       "Epoch 1521:   0%|          | 0/196 [00:00<?, ?it/s]"
      ]
     },
     "metadata": {},
     "output_type": "display_data"
    },
    {
     "data": {
      "application/vnd.jupyter.widget-view+json": {
       "model_id": "d8b3ce0783eb4a069ae5dc324727580b",
       "version_major": 2,
       "version_minor": 0
      },
      "text/plain": [
       "Epoch 1522:   0%|          | 0/196 [00:00<?, ?it/s]"
      ]
     },
     "metadata": {},
     "output_type": "display_data"
    },
    {
     "data": {
      "application/vnd.jupyter.widget-view+json": {
       "model_id": "60bab5c741ee4e25a929fbc580689f6f",
       "version_major": 2,
       "version_minor": 0
      },
      "text/plain": [
       "Epoch 1523:   0%|          | 0/196 [00:00<?, ?it/s]"
      ]
     },
     "metadata": {},
     "output_type": "display_data"
    },
    {
     "data": {
      "application/vnd.jupyter.widget-view+json": {
       "model_id": "ffb989ece9454a59b7d0a02e091cdb5f",
       "version_major": 2,
       "version_minor": 0
      },
      "text/plain": [
       "Epoch 1524:   0%|          | 0/196 [00:00<?, ?it/s]"
      ]
     },
     "metadata": {},
     "output_type": "display_data"
    },
    {
     "data": {
      "application/vnd.jupyter.widget-view+json": {
       "model_id": "f77ad8e2f671472d9a7934ffad1defc8",
       "version_major": 2,
       "version_minor": 0
      },
      "text/plain": [
       "Epoch 1525:   0%|          | 0/196 [00:00<?, ?it/s]"
      ]
     },
     "metadata": {},
     "output_type": "display_data"
    },
    {
     "data": {
      "application/vnd.jupyter.widget-view+json": {
       "model_id": "42e88ad0c0384bd695eea9d901f50a8b",
       "version_major": 2,
       "version_minor": 0
      },
      "text/plain": [
       "Epoch 1526:   0%|          | 0/196 [00:00<?, ?it/s]"
      ]
     },
     "metadata": {},
     "output_type": "display_data"
    },
    {
     "data": {
      "application/vnd.jupyter.widget-view+json": {
       "model_id": "1f8bd7f6dad8404e82c91f618491c512",
       "version_major": 2,
       "version_minor": 0
      },
      "text/plain": [
       "Epoch 1527:   0%|          | 0/196 [00:00<?, ?it/s]"
      ]
     },
     "metadata": {},
     "output_type": "display_data"
    },
    {
     "data": {
      "application/vnd.jupyter.widget-view+json": {
       "model_id": "5b451c45826e41ddb436944a7eabac15",
       "version_major": 2,
       "version_minor": 0
      },
      "text/plain": [
       "Epoch 1528:   0%|          | 0/196 [00:00<?, ?it/s]"
      ]
     },
     "metadata": {},
     "output_type": "display_data"
    },
    {
     "data": {
      "application/vnd.jupyter.widget-view+json": {
       "model_id": "224e9578d36840b88ae5b8d258d19981",
       "version_major": 2,
       "version_minor": 0
      },
      "text/plain": [
       "Epoch 1529:   0%|          | 0/196 [00:00<?, ?it/s]"
      ]
     },
     "metadata": {},
     "output_type": "display_data"
    },
    {
     "data": {
      "application/vnd.jupyter.widget-view+json": {
       "model_id": "4741b08c471b4faba2adf37e7a8a2635",
       "version_major": 2,
       "version_minor": 0
      },
      "text/plain": [
       "Epoch 1530:   0%|          | 0/196 [00:00<?, ?it/s]"
      ]
     },
     "metadata": {},
     "output_type": "display_data"
    },
    {
     "data": {
      "application/vnd.jupyter.widget-view+json": {
       "model_id": "74fd562a4b8e418aa4b9084132b271f0",
       "version_major": 2,
       "version_minor": 0
      },
      "text/plain": [
       "Epoch 1531:   0%|          | 0/196 [00:00<?, ?it/s]"
      ]
     },
     "metadata": {},
     "output_type": "display_data"
    },
    {
     "data": {
      "application/vnd.jupyter.widget-view+json": {
       "model_id": "9e0a4bedf49c40b08cb3b80443e926d7",
       "version_major": 2,
       "version_minor": 0
      },
      "text/plain": [
       "Epoch 1532:   0%|          | 0/196 [00:00<?, ?it/s]"
      ]
     },
     "metadata": {},
     "output_type": "display_data"
    },
    {
     "data": {
      "application/vnd.jupyter.widget-view+json": {
       "model_id": "7bc53f0015714cb195f57e61d4207acd",
       "version_major": 2,
       "version_minor": 0
      },
      "text/plain": [
       "Epoch 1533:   0%|          | 0/196 [00:00<?, ?it/s]"
      ]
     },
     "metadata": {},
     "output_type": "display_data"
    },
    {
     "data": {
      "application/vnd.jupyter.widget-view+json": {
       "model_id": "e8ffc7c3fe6e4a509802ff08d2d690a3",
       "version_major": 2,
       "version_minor": 0
      },
      "text/plain": [
       "Epoch 1534:   0%|          | 0/196 [00:00<?, ?it/s]"
      ]
     },
     "metadata": {},
     "output_type": "display_data"
    },
    {
     "data": {
      "application/vnd.jupyter.widget-view+json": {
       "model_id": "e9910411645e4795a94258adf64499f9",
       "version_major": 2,
       "version_minor": 0
      },
      "text/plain": [
       "Epoch 1535:   0%|          | 0/196 [00:00<?, ?it/s]"
      ]
     },
     "metadata": {},
     "output_type": "display_data"
    },
    {
     "data": {
      "application/vnd.jupyter.widget-view+json": {
       "model_id": "1d33b69d197e45279140f448ed807adf",
       "version_major": 2,
       "version_minor": 0
      },
      "text/plain": [
       "Epoch 1536:   0%|          | 0/196 [00:00<?, ?it/s]"
      ]
     },
     "metadata": {},
     "output_type": "display_data"
    },
    {
     "data": {
      "application/vnd.jupyter.widget-view+json": {
       "model_id": "71476ef158264cf28df8902181c6cb70",
       "version_major": 2,
       "version_minor": 0
      },
      "text/plain": [
       "Epoch 1537:   0%|          | 0/196 [00:00<?, ?it/s]"
      ]
     },
     "metadata": {},
     "output_type": "display_data"
    },
    {
     "data": {
      "application/vnd.jupyter.widget-view+json": {
       "model_id": "68c414647cb948eb8a39ebd3515c8c8e",
       "version_major": 2,
       "version_minor": 0
      },
      "text/plain": [
       "Epoch 1538:   0%|          | 0/196 [00:00<?, ?it/s]"
      ]
     },
     "metadata": {},
     "output_type": "display_data"
    },
    {
     "data": {
      "application/vnd.jupyter.widget-view+json": {
       "model_id": "8d1508a5a2374435931b440f75c9255b",
       "version_major": 2,
       "version_minor": 0
      },
      "text/plain": [
       "Epoch 1539:   0%|          | 0/196 [00:00<?, ?it/s]"
      ]
     },
     "metadata": {},
     "output_type": "display_data"
    },
    {
     "data": {
      "application/vnd.jupyter.widget-view+json": {
       "model_id": "9908d3adfbbb4b2b8812c7361e6ba812",
       "version_major": 2,
       "version_minor": 0
      },
      "text/plain": [
       "Epoch 1540:   0%|          | 0/196 [00:00<?, ?it/s]"
      ]
     },
     "metadata": {},
     "output_type": "display_data"
    },
    {
     "data": {
      "application/vnd.jupyter.widget-view+json": {
       "model_id": "04f9e39950214a15b73082c6fb75b41d",
       "version_major": 2,
       "version_minor": 0
      },
      "text/plain": [
       "Epoch 1541:   0%|          | 0/196 [00:00<?, ?it/s]"
      ]
     },
     "metadata": {},
     "output_type": "display_data"
    },
    {
     "data": {
      "application/vnd.jupyter.widget-view+json": {
       "model_id": "e4c9eb511943403baad83c22f571cc3c",
       "version_major": 2,
       "version_minor": 0
      },
      "text/plain": [
       "Epoch 1542:   0%|          | 0/196 [00:00<?, ?it/s]"
      ]
     },
     "metadata": {},
     "output_type": "display_data"
    },
    {
     "data": {
      "application/vnd.jupyter.widget-view+json": {
       "model_id": "a5f206f1eba447129239f80a1d683eb3",
       "version_major": 2,
       "version_minor": 0
      },
      "text/plain": [
       "Epoch 1543:   0%|          | 0/196 [00:00<?, ?it/s]"
      ]
     },
     "metadata": {},
     "output_type": "display_data"
    },
    {
     "data": {
      "application/vnd.jupyter.widget-view+json": {
       "model_id": "4399db5b012447c9aca4703c8e762e32",
       "version_major": 2,
       "version_minor": 0
      },
      "text/plain": [
       "Epoch 1544:   0%|          | 0/196 [00:00<?, ?it/s]"
      ]
     },
     "metadata": {},
     "output_type": "display_data"
    },
    {
     "data": {
      "application/vnd.jupyter.widget-view+json": {
       "model_id": "894b5e013d294017a78ba89d1af93c5c",
       "version_major": 2,
       "version_minor": 0
      },
      "text/plain": [
       "Epoch 1545:   0%|          | 0/196 [00:00<?, ?it/s]"
      ]
     },
     "metadata": {},
     "output_type": "display_data"
    },
    {
     "data": {
      "application/vnd.jupyter.widget-view+json": {
       "model_id": "d1a391c0d9a349d9ac8ab6130b903882",
       "version_major": 2,
       "version_minor": 0
      },
      "text/plain": [
       "Epoch 1546:   0%|          | 0/196 [00:00<?, ?it/s]"
      ]
     },
     "metadata": {},
     "output_type": "display_data"
    },
    {
     "data": {
      "application/vnd.jupyter.widget-view+json": {
       "model_id": "9d16aaa69aeb49cbb3471c4a99fa3181",
       "version_major": 2,
       "version_minor": 0
      },
      "text/plain": [
       "Epoch 1547:   0%|          | 0/196 [00:00<?, ?it/s]"
      ]
     },
     "metadata": {},
     "output_type": "display_data"
    },
    {
     "data": {
      "application/vnd.jupyter.widget-view+json": {
       "model_id": "5871c6f8351847dab3b9423c8bb0965d",
       "version_major": 2,
       "version_minor": 0
      },
      "text/plain": [
       "Epoch 1548:   0%|          | 0/196 [00:00<?, ?it/s]"
      ]
     },
     "metadata": {},
     "output_type": "display_data"
    },
    {
     "data": {
      "application/vnd.jupyter.widget-view+json": {
       "model_id": "892e29e3f7d14f7bae3c80e189405130",
       "version_major": 2,
       "version_minor": 0
      },
      "text/plain": [
       "Epoch 1549:   0%|          | 0/196 [00:00<?, ?it/s]"
      ]
     },
     "metadata": {},
     "output_type": "display_data"
    },
    {
     "data": {
      "application/vnd.jupyter.widget-view+json": {
       "model_id": "5015c39c3ad24e0a9668fb592a3b1acd",
       "version_major": 2,
       "version_minor": 0
      },
      "text/plain": [
       "Epoch 1550:   0%|          | 0/196 [00:00<?, ?it/s]"
      ]
     },
     "metadata": {},
     "output_type": "display_data"
    },
    {
     "data": {
      "application/vnd.jupyter.widget-view+json": {
       "model_id": "4f6553bdd3c347438f77f8d55272f144",
       "version_major": 2,
       "version_minor": 0
      },
      "text/plain": [
       "Epoch 1551:   0%|          | 0/196 [00:00<?, ?it/s]"
      ]
     },
     "metadata": {},
     "output_type": "display_data"
    },
    {
     "data": {
      "application/vnd.jupyter.widget-view+json": {
       "model_id": "d5814b3cfb9447c1b5bffdab6494d8b2",
       "version_major": 2,
       "version_minor": 0
      },
      "text/plain": [
       "Epoch 1552:   0%|          | 0/196 [00:00<?, ?it/s]"
      ]
     },
     "metadata": {},
     "output_type": "display_data"
    },
    {
     "data": {
      "application/vnd.jupyter.widget-view+json": {
       "model_id": "93581efd1e3946fda99c8fabf32c7782",
       "version_major": 2,
       "version_minor": 0
      },
      "text/plain": [
       "Epoch 1553:   0%|          | 0/196 [00:00<?, ?it/s]"
      ]
     },
     "metadata": {},
     "output_type": "display_data"
    },
    {
     "data": {
      "application/vnd.jupyter.widget-view+json": {
       "model_id": "29132a08f16d46e5b41dcdaceadd574f",
       "version_major": 2,
       "version_minor": 0
      },
      "text/plain": [
       "Epoch 1554:   0%|          | 0/196 [00:00<?, ?it/s]"
      ]
     },
     "metadata": {},
     "output_type": "display_data"
    },
    {
     "data": {
      "application/vnd.jupyter.widget-view+json": {
       "model_id": "1b195ec7c0dc46ddb362a7c51d18d954",
       "version_major": 2,
       "version_minor": 0
      },
      "text/plain": [
       "Epoch 1555:   0%|          | 0/196 [00:00<?, ?it/s]"
      ]
     },
     "metadata": {},
     "output_type": "display_data"
    },
    {
     "data": {
      "application/vnd.jupyter.widget-view+json": {
       "model_id": "98ebe0f1fdaf49328c715b35da9c595a",
       "version_major": 2,
       "version_minor": 0
      },
      "text/plain": [
       "Epoch 1556:   0%|          | 0/196 [00:00<?, ?it/s]"
      ]
     },
     "metadata": {},
     "output_type": "display_data"
    },
    {
     "data": {
      "application/vnd.jupyter.widget-view+json": {
       "model_id": "cc84252c95544ec5b3fb48d1a3141f16",
       "version_major": 2,
       "version_minor": 0
      },
      "text/plain": [
       "Epoch 1557:   0%|          | 0/196 [00:00<?, ?it/s]"
      ]
     },
     "metadata": {},
     "output_type": "display_data"
    },
    {
     "data": {
      "application/vnd.jupyter.widget-view+json": {
       "model_id": "dcbbd017f5954e3d930320ebc27e7b90",
       "version_major": 2,
       "version_minor": 0
      },
      "text/plain": [
       "Epoch 1558:   0%|          | 0/196 [00:00<?, ?it/s]"
      ]
     },
     "metadata": {},
     "output_type": "display_data"
    },
    {
     "data": {
      "application/vnd.jupyter.widget-view+json": {
       "model_id": "c137089495904599a1a6453a3e23a42c",
       "version_major": 2,
       "version_minor": 0
      },
      "text/plain": [
       "Epoch 1559:   0%|          | 0/196 [00:00<?, ?it/s]"
      ]
     },
     "metadata": {},
     "output_type": "display_data"
    },
    {
     "data": {
      "application/vnd.jupyter.widget-view+json": {
       "model_id": "ce89f14f454844bc9df6de671bde3137",
       "version_major": 2,
       "version_minor": 0
      },
      "text/plain": [
       "Epoch 1560:   0%|          | 0/196 [00:00<?, ?it/s]"
      ]
     },
     "metadata": {},
     "output_type": "display_data"
    },
    {
     "data": {
      "application/vnd.jupyter.widget-view+json": {
       "model_id": "6e700bffb60c489f9ba5deae624a1b36",
       "version_major": 2,
       "version_minor": 0
      },
      "text/plain": [
       "Epoch 1561:   0%|          | 0/196 [00:00<?, ?it/s]"
      ]
     },
     "metadata": {},
     "output_type": "display_data"
    },
    {
     "data": {
      "application/vnd.jupyter.widget-view+json": {
       "model_id": "3972f2e8826540998b2d6ebfee88e9e9",
       "version_major": 2,
       "version_minor": 0
      },
      "text/plain": [
       "Epoch 1562:   0%|          | 0/196 [00:00<?, ?it/s]"
      ]
     },
     "metadata": {},
     "output_type": "display_data"
    },
    {
     "data": {
      "application/vnd.jupyter.widget-view+json": {
       "model_id": "d28eea6e37a44bd9bd223cc9070850f3",
       "version_major": 2,
       "version_minor": 0
      },
      "text/plain": [
       "Epoch 1563:   0%|          | 0/196 [00:00<?, ?it/s]"
      ]
     },
     "metadata": {},
     "output_type": "display_data"
    },
    {
     "data": {
      "application/vnd.jupyter.widget-view+json": {
       "model_id": "62b22dbe570d49e6916e517a90329685",
       "version_major": 2,
       "version_minor": 0
      },
      "text/plain": [
       "Epoch 1564:   0%|          | 0/196 [00:00<?, ?it/s]"
      ]
     },
     "metadata": {},
     "output_type": "display_data"
    },
    {
     "data": {
      "application/vnd.jupyter.widget-view+json": {
       "model_id": "ad5497195e4b44deace3cea82ff74fc7",
       "version_major": 2,
       "version_minor": 0
      },
      "text/plain": [
       "Epoch 1565:   0%|          | 0/196 [00:00<?, ?it/s]"
      ]
     },
     "metadata": {},
     "output_type": "display_data"
    },
    {
     "data": {
      "application/vnd.jupyter.widget-view+json": {
       "model_id": "98c488682ba341b99f92e76f542ae6d5",
       "version_major": 2,
       "version_minor": 0
      },
      "text/plain": [
       "Epoch 1566:   0%|          | 0/196 [00:00<?, ?it/s]"
      ]
     },
     "metadata": {},
     "output_type": "display_data"
    },
    {
     "data": {
      "application/vnd.jupyter.widget-view+json": {
       "model_id": "cca46e45d6574a6c898a790b9273837b",
       "version_major": 2,
       "version_minor": 0
      },
      "text/plain": [
       "Epoch 1567:   0%|          | 0/196 [00:00<?, ?it/s]"
      ]
     },
     "metadata": {},
     "output_type": "display_data"
    },
    {
     "data": {
      "application/vnd.jupyter.widget-view+json": {
       "model_id": "dfbaf08b427d424e9ca49e2007501489",
       "version_major": 2,
       "version_minor": 0
      },
      "text/plain": [
       "Epoch 1568:   0%|          | 0/196 [00:00<?, ?it/s]"
      ]
     },
     "metadata": {},
     "output_type": "display_data"
    },
    {
     "data": {
      "application/vnd.jupyter.widget-view+json": {
       "model_id": "73d0908b22304fec926fcce63a977a92",
       "version_major": 2,
       "version_minor": 0
      },
      "text/plain": [
       "Epoch 1569:   0%|          | 0/196 [00:00<?, ?it/s]"
      ]
     },
     "metadata": {},
     "output_type": "display_data"
    },
    {
     "data": {
      "application/vnd.jupyter.widget-view+json": {
       "model_id": "e303a0940705452da16c80f7cb9e4c4a",
       "version_major": 2,
       "version_minor": 0
      },
      "text/plain": [
       "Epoch 1570:   0%|          | 0/196 [00:00<?, ?it/s]"
      ]
     },
     "metadata": {},
     "output_type": "display_data"
    },
    {
     "data": {
      "application/vnd.jupyter.widget-view+json": {
       "model_id": "dc0b8c2d822942abb71feea1fa912229",
       "version_major": 2,
       "version_minor": 0
      },
      "text/plain": [
       "Epoch 1571:   0%|          | 0/196 [00:00<?, ?it/s]"
      ]
     },
     "metadata": {},
     "output_type": "display_data"
    },
    {
     "data": {
      "application/vnd.jupyter.widget-view+json": {
       "model_id": "35090dd4633c46f2a965fb7565e99d43",
       "version_major": 2,
       "version_minor": 0
      },
      "text/plain": [
       "Epoch 1572:   0%|          | 0/196 [00:00<?, ?it/s]"
      ]
     },
     "metadata": {},
     "output_type": "display_data"
    },
    {
     "data": {
      "application/vnd.jupyter.widget-view+json": {
       "model_id": "973461533dcb4648a7ef5a19f241dba3",
       "version_major": 2,
       "version_minor": 0
      },
      "text/plain": [
       "Epoch 1573:   0%|          | 0/196 [00:00<?, ?it/s]"
      ]
     },
     "metadata": {},
     "output_type": "display_data"
    },
    {
     "data": {
      "application/vnd.jupyter.widget-view+json": {
       "model_id": "f32e524548bb4c0180b4c3c8c8adac2c",
       "version_major": 2,
       "version_minor": 0
      },
      "text/plain": [
       "Epoch 1574:   0%|          | 0/196 [00:00<?, ?it/s]"
      ]
     },
     "metadata": {},
     "output_type": "display_data"
    },
    {
     "data": {
      "application/vnd.jupyter.widget-view+json": {
       "model_id": "84c8264be70e49a3969a4276f2dcb6c8",
       "version_major": 2,
       "version_minor": 0
      },
      "text/plain": [
       "Epoch 1575:   0%|          | 0/196 [00:00<?, ?it/s]"
      ]
     },
     "metadata": {},
     "output_type": "display_data"
    },
    {
     "data": {
      "application/vnd.jupyter.widget-view+json": {
       "model_id": "d5647deef111493c8c908274b2919215",
       "version_major": 2,
       "version_minor": 0
      },
      "text/plain": [
       "Epoch 1576:   0%|          | 0/196 [00:00<?, ?it/s]"
      ]
     },
     "metadata": {},
     "output_type": "display_data"
    },
    {
     "data": {
      "application/vnd.jupyter.widget-view+json": {
       "model_id": "ae5e9ef4786648d38373122820b9fbfc",
       "version_major": 2,
       "version_minor": 0
      },
      "text/plain": [
       "Epoch 1577:   0%|          | 0/196 [00:00<?, ?it/s]"
      ]
     },
     "metadata": {},
     "output_type": "display_data"
    },
    {
     "data": {
      "application/vnd.jupyter.widget-view+json": {
       "model_id": "372837dc69fe47569bf1f3c63fd4a1cf",
       "version_major": 2,
       "version_minor": 0
      },
      "text/plain": [
       "Epoch 1578:   0%|          | 0/196 [00:00<?, ?it/s]"
      ]
     },
     "metadata": {},
     "output_type": "display_data"
    },
    {
     "data": {
      "application/vnd.jupyter.widget-view+json": {
       "model_id": "3613f2ed057f4eb6b8c12fc021c197af",
       "version_major": 2,
       "version_minor": 0
      },
      "text/plain": [
       "Epoch 1579:   0%|          | 0/196 [00:00<?, ?it/s]"
      ]
     },
     "metadata": {},
     "output_type": "display_data"
    },
    {
     "data": {
      "application/vnd.jupyter.widget-view+json": {
       "model_id": "975b7749c1f84e5b9c5a2b2472a7ff5b",
       "version_major": 2,
       "version_minor": 0
      },
      "text/plain": [
       "Epoch 1580:   0%|          | 0/196 [00:00<?, ?it/s]"
      ]
     },
     "metadata": {},
     "output_type": "display_data"
    },
    {
     "data": {
      "application/vnd.jupyter.widget-view+json": {
       "model_id": "2ed29c8bba874ae88d5bb25d3219029b",
       "version_major": 2,
       "version_minor": 0
      },
      "text/plain": [
       "Epoch 1581:   0%|          | 0/196 [00:00<?, ?it/s]"
      ]
     },
     "metadata": {},
     "output_type": "display_data"
    },
    {
     "data": {
      "application/vnd.jupyter.widget-view+json": {
       "model_id": "b107e84eeb724859ad7c0cfcf5959ca6",
       "version_major": 2,
       "version_minor": 0
      },
      "text/plain": [
       "Epoch 1582:   0%|          | 0/196 [00:00<?, ?it/s]"
      ]
     },
     "metadata": {},
     "output_type": "display_data"
    },
    {
     "data": {
      "application/vnd.jupyter.widget-view+json": {
       "model_id": "41f1b66b0dca42d2a9d9bee8a2744c91",
       "version_major": 2,
       "version_minor": 0
      },
      "text/plain": [
       "Epoch 1583:   0%|          | 0/196 [00:00<?, ?it/s]"
      ]
     },
     "metadata": {},
     "output_type": "display_data"
    },
    {
     "data": {
      "application/vnd.jupyter.widget-view+json": {
       "model_id": "3ec1bf406df44e45b4b207d9334d8467",
       "version_major": 2,
       "version_minor": 0
      },
      "text/plain": [
       "Epoch 1584:   0%|          | 0/196 [00:00<?, ?it/s]"
      ]
     },
     "metadata": {},
     "output_type": "display_data"
    },
    {
     "data": {
      "application/vnd.jupyter.widget-view+json": {
       "model_id": "b93d4632778440249f0342a90275430e",
       "version_major": 2,
       "version_minor": 0
      },
      "text/plain": [
       "Epoch 1585:   0%|          | 0/196 [00:00<?, ?it/s]"
      ]
     },
     "metadata": {},
     "output_type": "display_data"
    },
    {
     "data": {
      "application/vnd.jupyter.widget-view+json": {
       "model_id": "2bb6ad64eaa94073a2a12721f7a7b783",
       "version_major": 2,
       "version_minor": 0
      },
      "text/plain": [
       "Epoch 1586:   0%|          | 0/196 [00:00<?, ?it/s]"
      ]
     },
     "metadata": {},
     "output_type": "display_data"
    },
    {
     "data": {
      "application/vnd.jupyter.widget-view+json": {
       "model_id": "22732be79de5419e94d8d40a78786baa",
       "version_major": 2,
       "version_minor": 0
      },
      "text/plain": [
       "Epoch 1587:   0%|          | 0/196 [00:00<?, ?it/s]"
      ]
     },
     "metadata": {},
     "output_type": "display_data"
    },
    {
     "data": {
      "application/vnd.jupyter.widget-view+json": {
       "model_id": "74a734306dd34b9f99327a8f53ff8180",
       "version_major": 2,
       "version_minor": 0
      },
      "text/plain": [
       "Epoch 1588:   0%|          | 0/196 [00:00<?, ?it/s]"
      ]
     },
     "metadata": {},
     "output_type": "display_data"
    },
    {
     "data": {
      "application/vnd.jupyter.widget-view+json": {
       "model_id": "695da8c6196b4d07afe36b48f0956dee",
       "version_major": 2,
       "version_minor": 0
      },
      "text/plain": [
       "Epoch 1589:   0%|          | 0/196 [00:00<?, ?it/s]"
      ]
     },
     "metadata": {},
     "output_type": "display_data"
    },
    {
     "data": {
      "application/vnd.jupyter.widget-view+json": {
       "model_id": "99040091c5e84838b23c72c3d4639307",
       "version_major": 2,
       "version_minor": 0
      },
      "text/plain": [
       "Epoch 1590:   0%|          | 0/196 [00:00<?, ?it/s]"
      ]
     },
     "metadata": {},
     "output_type": "display_data"
    },
    {
     "data": {
      "application/vnd.jupyter.widget-view+json": {
       "model_id": "4fb2a25f49364750b179f81d0d53f167",
       "version_major": 2,
       "version_minor": 0
      },
      "text/plain": [
       "Epoch 1591:   0%|          | 0/196 [00:00<?, ?it/s]"
      ]
     },
     "metadata": {},
     "output_type": "display_data"
    },
    {
     "data": {
      "application/vnd.jupyter.widget-view+json": {
       "model_id": "b951980b5de54d2c9fca7cfd25a636a2",
       "version_major": 2,
       "version_minor": 0
      },
      "text/plain": [
       "Epoch 1592:   0%|          | 0/196 [00:00<?, ?it/s]"
      ]
     },
     "metadata": {},
     "output_type": "display_data"
    },
    {
     "data": {
      "application/vnd.jupyter.widget-view+json": {
       "model_id": "41d56d32069c4a188165fdc40ca8f6ab",
       "version_major": 2,
       "version_minor": 0
      },
      "text/plain": [
       "Epoch 1593:   0%|          | 0/196 [00:00<?, ?it/s]"
      ]
     },
     "metadata": {},
     "output_type": "display_data"
    },
    {
     "data": {
      "application/vnd.jupyter.widget-view+json": {
       "model_id": "f617f0e15cda4311a99f3f2b341d7531",
       "version_major": 2,
       "version_minor": 0
      },
      "text/plain": [
       "Epoch 1594:   0%|          | 0/196 [00:00<?, ?it/s]"
      ]
     },
     "metadata": {},
     "output_type": "display_data"
    },
    {
     "data": {
      "application/vnd.jupyter.widget-view+json": {
       "model_id": "66c363390b2649899a2e4dad678fdd69",
       "version_major": 2,
       "version_minor": 0
      },
      "text/plain": [
       "Epoch 1595:   0%|          | 0/196 [00:00<?, ?it/s]"
      ]
     },
     "metadata": {},
     "output_type": "display_data"
    },
    {
     "data": {
      "application/vnd.jupyter.widget-view+json": {
       "model_id": "d41ff5700c284123bfa0ba148caa703c",
       "version_major": 2,
       "version_minor": 0
      },
      "text/plain": [
       "Epoch 1596:   0%|          | 0/196 [00:00<?, ?it/s]"
      ]
     },
     "metadata": {},
     "output_type": "display_data"
    },
    {
     "data": {
      "application/vnd.jupyter.widget-view+json": {
       "model_id": "9c5626e8f58c4830a593d1d71b876f38",
       "version_major": 2,
       "version_minor": 0
      },
      "text/plain": [
       "Epoch 1597:   0%|          | 0/196 [00:00<?, ?it/s]"
      ]
     },
     "metadata": {},
     "output_type": "display_data"
    },
    {
     "data": {
      "application/vnd.jupyter.widget-view+json": {
       "model_id": "865cced261614c9595a0ed8c7ae0b0c3",
       "version_major": 2,
       "version_minor": 0
      },
      "text/plain": [
       "Epoch 1598:   0%|          | 0/196 [00:00<?, ?it/s]"
      ]
     },
     "metadata": {},
     "output_type": "display_data"
    },
    {
     "data": {
      "application/vnd.jupyter.widget-view+json": {
       "model_id": "39d63663a8be497a83b744c19aa2d9be",
       "version_major": 2,
       "version_minor": 0
      },
      "text/plain": [
       "Epoch 1599:   0%|          | 0/196 [00:00<?, ?it/s]"
      ]
     },
     "metadata": {},
     "output_type": "display_data"
    },
    {
     "data": {
      "application/vnd.jupyter.widget-view+json": {
       "model_id": "ebb4f9db2bac4e21958fd64c010e24d1",
       "version_major": 2,
       "version_minor": 0
      },
      "text/plain": [
       "Epoch 1600:   0%|          | 0/196 [00:00<?, ?it/s]"
      ]
     },
     "metadata": {},
     "output_type": "display_data"
    },
    {
     "data": {
      "application/vnd.jupyter.widget-view+json": {
       "model_id": "b9fdcf701919466182d2c52d603e2aa8",
       "version_major": 2,
       "version_minor": 0
      },
      "text/plain": [
       "Epoch 1601:   0%|          | 0/196 [00:00<?, ?it/s]"
      ]
     },
     "metadata": {},
     "output_type": "display_data"
    },
    {
     "data": {
      "application/vnd.jupyter.widget-view+json": {
       "model_id": "5707467196624cdb9a2c396f7b92b51d",
       "version_major": 2,
       "version_minor": 0
      },
      "text/plain": [
       "Epoch 1602:   0%|          | 0/196 [00:00<?, ?it/s]"
      ]
     },
     "metadata": {},
     "output_type": "display_data"
    },
    {
     "data": {
      "application/vnd.jupyter.widget-view+json": {
       "model_id": "fc229e6248774b999c5fae83278dac13",
       "version_major": 2,
       "version_minor": 0
      },
      "text/plain": [
       "Epoch 1603:   0%|          | 0/196 [00:00<?, ?it/s]"
      ]
     },
     "metadata": {},
     "output_type": "display_data"
    },
    {
     "data": {
      "application/vnd.jupyter.widget-view+json": {
       "model_id": "1d3d5dcbce2045338882f77b8e8a753f",
       "version_major": 2,
       "version_minor": 0
      },
      "text/plain": [
       "Epoch 1604:   0%|          | 0/196 [00:00<?, ?it/s]"
      ]
     },
     "metadata": {},
     "output_type": "display_data"
    },
    {
     "data": {
      "application/vnd.jupyter.widget-view+json": {
       "model_id": "3b7e9dbdd3c5436e9783733ebbe9a83c",
       "version_major": 2,
       "version_minor": 0
      },
      "text/plain": [
       "Epoch 1605:   0%|          | 0/196 [00:00<?, ?it/s]"
      ]
     },
     "metadata": {},
     "output_type": "display_data"
    },
    {
     "data": {
      "application/vnd.jupyter.widget-view+json": {
       "model_id": "842d706921f3422dabdc011b8f265540",
       "version_major": 2,
       "version_minor": 0
      },
      "text/plain": [
       "Epoch 1606:   0%|          | 0/196 [00:00<?, ?it/s]"
      ]
     },
     "metadata": {},
     "output_type": "display_data"
    },
    {
     "data": {
      "application/vnd.jupyter.widget-view+json": {
       "model_id": "5c801a3683ba42b4a768fcec028baf96",
       "version_major": 2,
       "version_minor": 0
      },
      "text/plain": [
       "Epoch 1607:   0%|          | 0/196 [00:00<?, ?it/s]"
      ]
     },
     "metadata": {},
     "output_type": "display_data"
    },
    {
     "data": {
      "application/vnd.jupyter.widget-view+json": {
       "model_id": "bb2669bbae554b27912c61b8132a2e18",
       "version_major": 2,
       "version_minor": 0
      },
      "text/plain": [
       "Epoch 1608:   0%|          | 0/196 [00:00<?, ?it/s]"
      ]
     },
     "metadata": {},
     "output_type": "display_data"
    },
    {
     "data": {
      "application/vnd.jupyter.widget-view+json": {
       "model_id": "8ca73ebbcddb4eb9972bfc3630a17a37",
       "version_major": 2,
       "version_minor": 0
      },
      "text/plain": [
       "Epoch 1609:   0%|          | 0/196 [00:00<?, ?it/s]"
      ]
     },
     "metadata": {},
     "output_type": "display_data"
    },
    {
     "data": {
      "application/vnd.jupyter.widget-view+json": {
       "model_id": "685aa1d9965940f387b0878d0ed03374",
       "version_major": 2,
       "version_minor": 0
      },
      "text/plain": [
       "Epoch 1610:   0%|          | 0/196 [00:00<?, ?it/s]"
      ]
     },
     "metadata": {},
     "output_type": "display_data"
    },
    {
     "data": {
      "application/vnd.jupyter.widget-view+json": {
       "model_id": "cf8a7d707f5e45449f1933f3343095c4",
       "version_major": 2,
       "version_minor": 0
      },
      "text/plain": [
       "Epoch 1611:   0%|          | 0/196 [00:00<?, ?it/s]"
      ]
     },
     "metadata": {},
     "output_type": "display_data"
    },
    {
     "data": {
      "application/vnd.jupyter.widget-view+json": {
       "model_id": "1ba3fe6059f84f0fb5dbb5235e4116fc",
       "version_major": 2,
       "version_minor": 0
      },
      "text/plain": [
       "Epoch 1612:   0%|          | 0/196 [00:00<?, ?it/s]"
      ]
     },
     "metadata": {},
     "output_type": "display_data"
    },
    {
     "data": {
      "application/vnd.jupyter.widget-view+json": {
       "model_id": "5a3692846524486b8be90c621c78f286",
       "version_major": 2,
       "version_minor": 0
      },
      "text/plain": [
       "Epoch 1613:   0%|          | 0/196 [00:00<?, ?it/s]"
      ]
     },
     "metadata": {},
     "output_type": "display_data"
    },
    {
     "data": {
      "application/vnd.jupyter.widget-view+json": {
       "model_id": "3443c1418eff44b1a2cb6329ac82152c",
       "version_major": 2,
       "version_minor": 0
      },
      "text/plain": [
       "Epoch 1614:   0%|          | 0/196 [00:00<?, ?it/s]"
      ]
     },
     "metadata": {},
     "output_type": "display_data"
    },
    {
     "data": {
      "application/vnd.jupyter.widget-view+json": {
       "model_id": "6177e122193945aa8d106a110c97d53a",
       "version_major": 2,
       "version_minor": 0
      },
      "text/plain": [
       "Epoch 1615:   0%|          | 0/196 [00:00<?, ?it/s]"
      ]
     },
     "metadata": {},
     "output_type": "display_data"
    },
    {
     "data": {
      "application/vnd.jupyter.widget-view+json": {
       "model_id": "b026fb3010a84046982d40a2b5c4b9dc",
       "version_major": 2,
       "version_minor": 0
      },
      "text/plain": [
       "Epoch 1616:   0%|          | 0/196 [00:00<?, ?it/s]"
      ]
     },
     "metadata": {},
     "output_type": "display_data"
    },
    {
     "data": {
      "application/vnd.jupyter.widget-view+json": {
       "model_id": "474a498519b545de8b2c45f759164826",
       "version_major": 2,
       "version_minor": 0
      },
      "text/plain": [
       "Epoch 1617:   0%|          | 0/196 [00:00<?, ?it/s]"
      ]
     },
     "metadata": {},
     "output_type": "display_data"
    },
    {
     "data": {
      "application/vnd.jupyter.widget-view+json": {
       "model_id": "27d69615bf594f388b9624a62265d660",
       "version_major": 2,
       "version_minor": 0
      },
      "text/plain": [
       "Epoch 1618:   0%|          | 0/196 [00:00<?, ?it/s]"
      ]
     },
     "metadata": {},
     "output_type": "display_data"
    },
    {
     "data": {
      "application/vnd.jupyter.widget-view+json": {
       "model_id": "154a1f6194e04239b6d26abb5c1189d3",
       "version_major": 2,
       "version_minor": 0
      },
      "text/plain": [
       "Epoch 1619:   0%|          | 0/196 [00:00<?, ?it/s]"
      ]
     },
     "metadata": {},
     "output_type": "display_data"
    },
    {
     "data": {
      "application/vnd.jupyter.widget-view+json": {
       "model_id": "a946a256694c439ab0997392b3715170",
       "version_major": 2,
       "version_minor": 0
      },
      "text/plain": [
       "Epoch 1620:   0%|          | 0/196 [00:00<?, ?it/s]"
      ]
     },
     "metadata": {},
     "output_type": "display_data"
    },
    {
     "data": {
      "application/vnd.jupyter.widget-view+json": {
       "model_id": "cbe3c422e0f04d1fada804e32c0aeb0c",
       "version_major": 2,
       "version_minor": 0
      },
      "text/plain": [
       "Epoch 1621:   0%|          | 0/196 [00:00<?, ?it/s]"
      ]
     },
     "metadata": {},
     "output_type": "display_data"
    },
    {
     "data": {
      "application/vnd.jupyter.widget-view+json": {
       "model_id": "076615016f32443186ffe93948b538e8",
       "version_major": 2,
       "version_minor": 0
      },
      "text/plain": [
       "Epoch 1622:   0%|          | 0/196 [00:00<?, ?it/s]"
      ]
     },
     "metadata": {},
     "output_type": "display_data"
    },
    {
     "data": {
      "application/vnd.jupyter.widget-view+json": {
       "model_id": "5b97d273384144e58c2626c134fd4f5d",
       "version_major": 2,
       "version_minor": 0
      },
      "text/plain": [
       "Epoch 1623:   0%|          | 0/196 [00:00<?, ?it/s]"
      ]
     },
     "metadata": {},
     "output_type": "display_data"
    },
    {
     "data": {
      "application/vnd.jupyter.widget-view+json": {
       "model_id": "47f98520733c4d7d99d69da801a43efe",
       "version_major": 2,
       "version_minor": 0
      },
      "text/plain": [
       "Epoch 1624:   0%|          | 0/196 [00:00<?, ?it/s]"
      ]
     },
     "metadata": {},
     "output_type": "display_data"
    },
    {
     "data": {
      "application/vnd.jupyter.widget-view+json": {
       "model_id": "973e32cdc76b4cb18b57b99d2441e582",
       "version_major": 2,
       "version_minor": 0
      },
      "text/plain": [
       "Epoch 1625:   0%|          | 0/196 [00:00<?, ?it/s]"
      ]
     },
     "metadata": {},
     "output_type": "display_data"
    },
    {
     "data": {
      "application/vnd.jupyter.widget-view+json": {
       "model_id": "65be170bffee4e21b3a5d62fa4120378",
       "version_major": 2,
       "version_minor": 0
      },
      "text/plain": [
       "Epoch 1626:   0%|          | 0/196 [00:00<?, ?it/s]"
      ]
     },
     "metadata": {},
     "output_type": "display_data"
    },
    {
     "data": {
      "application/vnd.jupyter.widget-view+json": {
       "model_id": "40040218efce476491fbfeb617fb4dbb",
       "version_major": 2,
       "version_minor": 0
      },
      "text/plain": [
       "Epoch 1627:   0%|          | 0/196 [00:00<?, ?it/s]"
      ]
     },
     "metadata": {},
     "output_type": "display_data"
    },
    {
     "data": {
      "application/vnd.jupyter.widget-view+json": {
       "model_id": "c6cc90cf72604095a7ba70b61a2eaa84",
       "version_major": 2,
       "version_minor": 0
      },
      "text/plain": [
       "Epoch 1628:   0%|          | 0/196 [00:00<?, ?it/s]"
      ]
     },
     "metadata": {},
     "output_type": "display_data"
    },
    {
     "data": {
      "application/vnd.jupyter.widget-view+json": {
       "model_id": "17a343aa59f24ac59a4e23e7995a850a",
       "version_major": 2,
       "version_minor": 0
      },
      "text/plain": [
       "Epoch 1629:   0%|          | 0/196 [00:00<?, ?it/s]"
      ]
     },
     "metadata": {},
     "output_type": "display_data"
    },
    {
     "data": {
      "application/vnd.jupyter.widget-view+json": {
       "model_id": "5bce41478201450bbf16f7c4ec1994af",
       "version_major": 2,
       "version_minor": 0
      },
      "text/plain": [
       "Epoch 1630:   0%|          | 0/196 [00:00<?, ?it/s]"
      ]
     },
     "metadata": {},
     "output_type": "display_data"
    },
    {
     "data": {
      "application/vnd.jupyter.widget-view+json": {
       "model_id": "f74160b385b44eab8d1c13e70381749d",
       "version_major": 2,
       "version_minor": 0
      },
      "text/plain": [
       "Epoch 1631:   0%|          | 0/196 [00:00<?, ?it/s]"
      ]
     },
     "metadata": {},
     "output_type": "display_data"
    },
    {
     "data": {
      "application/vnd.jupyter.widget-view+json": {
       "model_id": "d62c1f92e72245088b491b25bfac5f7c",
       "version_major": 2,
       "version_minor": 0
      },
      "text/plain": [
       "Epoch 1632:   0%|          | 0/196 [00:00<?, ?it/s]"
      ]
     },
     "metadata": {},
     "output_type": "display_data"
    },
    {
     "data": {
      "application/vnd.jupyter.widget-view+json": {
       "model_id": "7f8e778cd4f9480a925102c9ee64785d",
       "version_major": 2,
       "version_minor": 0
      },
      "text/plain": [
       "Epoch 1633:   0%|          | 0/196 [00:00<?, ?it/s]"
      ]
     },
     "metadata": {},
     "output_type": "display_data"
    },
    {
     "data": {
      "application/vnd.jupyter.widget-view+json": {
       "model_id": "ff16999455364e82833ee0df8d95ece4",
       "version_major": 2,
       "version_minor": 0
      },
      "text/plain": [
       "Epoch 1634:   0%|          | 0/196 [00:00<?, ?it/s]"
      ]
     },
     "metadata": {},
     "output_type": "display_data"
    },
    {
     "data": {
      "application/vnd.jupyter.widget-view+json": {
       "model_id": "e3c962400cf949148ae33b7aacd80d35",
       "version_major": 2,
       "version_minor": 0
      },
      "text/plain": [
       "Epoch 1635:   0%|          | 0/196 [00:00<?, ?it/s]"
      ]
     },
     "metadata": {},
     "output_type": "display_data"
    },
    {
     "data": {
      "application/vnd.jupyter.widget-view+json": {
       "model_id": "19b343b128804f60a7a8992b41772c9d",
       "version_major": 2,
       "version_minor": 0
      },
      "text/plain": [
       "Epoch 1636:   0%|          | 0/196 [00:00<?, ?it/s]"
      ]
     },
     "metadata": {},
     "output_type": "display_data"
    },
    {
     "data": {
      "application/vnd.jupyter.widget-view+json": {
       "model_id": "c737e297c23e4eb2b1b213265b518417",
       "version_major": 2,
       "version_minor": 0
      },
      "text/plain": [
       "Epoch 1637:   0%|          | 0/196 [00:00<?, ?it/s]"
      ]
     },
     "metadata": {},
     "output_type": "display_data"
    },
    {
     "data": {
      "application/vnd.jupyter.widget-view+json": {
       "model_id": "a9e5ddaa5af64d90bcb347cdf5b9fb9d",
       "version_major": 2,
       "version_minor": 0
      },
      "text/plain": [
       "Epoch 1638:   0%|          | 0/196 [00:00<?, ?it/s]"
      ]
     },
     "metadata": {},
     "output_type": "display_data"
    },
    {
     "data": {
      "application/vnd.jupyter.widget-view+json": {
       "model_id": "400ceaa80fcb4755acced23611790acf",
       "version_major": 2,
       "version_minor": 0
      },
      "text/plain": [
       "Epoch 1639:   0%|          | 0/196 [00:00<?, ?it/s]"
      ]
     },
     "metadata": {},
     "output_type": "display_data"
    },
    {
     "data": {
      "application/vnd.jupyter.widget-view+json": {
       "model_id": "9a6670a198fc44c992ad9574c282fc66",
       "version_major": 2,
       "version_minor": 0
      },
      "text/plain": [
       "Epoch 1640:   0%|          | 0/196 [00:00<?, ?it/s]"
      ]
     },
     "metadata": {},
     "output_type": "display_data"
    },
    {
     "data": {
      "application/vnd.jupyter.widget-view+json": {
       "model_id": "23b5597f612e48698162bb1bf8b3f1e3",
       "version_major": 2,
       "version_minor": 0
      },
      "text/plain": [
       "Epoch 1641:   0%|          | 0/196 [00:00<?, ?it/s]"
      ]
     },
     "metadata": {},
     "output_type": "display_data"
    },
    {
     "data": {
      "application/vnd.jupyter.widget-view+json": {
       "model_id": "83d29d8f324a4b438884cad19fc6e568",
       "version_major": 2,
       "version_minor": 0
      },
      "text/plain": [
       "Epoch 1642:   0%|          | 0/196 [00:00<?, ?it/s]"
      ]
     },
     "metadata": {},
     "output_type": "display_data"
    },
    {
     "data": {
      "application/vnd.jupyter.widget-view+json": {
       "model_id": "e84c026159194456b8a59d713a91565d",
       "version_major": 2,
       "version_minor": 0
      },
      "text/plain": [
       "Epoch 1643:   0%|          | 0/196 [00:00<?, ?it/s]"
      ]
     },
     "metadata": {},
     "output_type": "display_data"
    },
    {
     "data": {
      "application/vnd.jupyter.widget-view+json": {
       "model_id": "0bf6783a2b164decb2fcd1c40f8af532",
       "version_major": 2,
       "version_minor": 0
      },
      "text/plain": [
       "Epoch 1644:   0%|          | 0/196 [00:00<?, ?it/s]"
      ]
     },
     "metadata": {},
     "output_type": "display_data"
    },
    {
     "data": {
      "application/vnd.jupyter.widget-view+json": {
       "model_id": "6c5ffdcf79e949e7b61d1e51de9d1afe",
       "version_major": 2,
       "version_minor": 0
      },
      "text/plain": [
       "Epoch 1645:   0%|          | 0/196 [00:00<?, ?it/s]"
      ]
     },
     "metadata": {},
     "output_type": "display_data"
    },
    {
     "data": {
      "application/vnd.jupyter.widget-view+json": {
       "model_id": "545cae286a9243e482191cf57d8a0a27",
       "version_major": 2,
       "version_minor": 0
      },
      "text/plain": [
       "Epoch 1646:   0%|          | 0/196 [00:00<?, ?it/s]"
      ]
     },
     "metadata": {},
     "output_type": "display_data"
    },
    {
     "data": {
      "application/vnd.jupyter.widget-view+json": {
       "model_id": "06f72ad9c5534b1e9b51e1181c6be151",
       "version_major": 2,
       "version_minor": 0
      },
      "text/plain": [
       "Epoch 1647:   0%|          | 0/196 [00:00<?, ?it/s]"
      ]
     },
     "metadata": {},
     "output_type": "display_data"
    },
    {
     "data": {
      "application/vnd.jupyter.widget-view+json": {
       "model_id": "6109a29f7f8742bfb7b8d978a6c9cf8e",
       "version_major": 2,
       "version_minor": 0
      },
      "text/plain": [
       "Epoch 1648:   0%|          | 0/196 [00:00<?, ?it/s]"
      ]
     },
     "metadata": {},
     "output_type": "display_data"
    },
    {
     "data": {
      "application/vnd.jupyter.widget-view+json": {
       "model_id": "7145a5fd7e4b4748935a7889e68aa6da",
       "version_major": 2,
       "version_minor": 0
      },
      "text/plain": [
       "Epoch 1649:   0%|          | 0/196 [00:00<?, ?it/s]"
      ]
     },
     "metadata": {},
     "output_type": "display_data"
    },
    {
     "data": {
      "application/vnd.jupyter.widget-view+json": {
       "model_id": "1a573b7838ff45b8886bf18aa2a35213",
       "version_major": 2,
       "version_minor": 0
      },
      "text/plain": [
       "Epoch 1650:   0%|          | 0/196 [00:00<?, ?it/s]"
      ]
     },
     "metadata": {},
     "output_type": "display_data"
    },
    {
     "data": {
      "application/vnd.jupyter.widget-view+json": {
       "model_id": "dc7b672c19024bfa986a1bbe26fb5b37",
       "version_major": 2,
       "version_minor": 0
      },
      "text/plain": [
       "Epoch 1651:   0%|          | 0/196 [00:00<?, ?it/s]"
      ]
     },
     "metadata": {},
     "output_type": "display_data"
    },
    {
     "data": {
      "application/vnd.jupyter.widget-view+json": {
       "model_id": "ee54c4ec001847839474b759383d8f25",
       "version_major": 2,
       "version_minor": 0
      },
      "text/plain": [
       "Epoch 1652:   0%|          | 0/196 [00:00<?, ?it/s]"
      ]
     },
     "metadata": {},
     "output_type": "display_data"
    },
    {
     "data": {
      "application/vnd.jupyter.widget-view+json": {
       "model_id": "5d904abe44d3496f908558b1df6ef214",
       "version_major": 2,
       "version_minor": 0
      },
      "text/plain": [
       "Epoch 1653:   0%|          | 0/196 [00:00<?, ?it/s]"
      ]
     },
     "metadata": {},
     "output_type": "display_data"
    },
    {
     "data": {
      "application/vnd.jupyter.widget-view+json": {
       "model_id": "c59460f4814144f3b71a1d351e64d1d2",
       "version_major": 2,
       "version_minor": 0
      },
      "text/plain": [
       "Epoch 1654:   0%|          | 0/196 [00:00<?, ?it/s]"
      ]
     },
     "metadata": {},
     "output_type": "display_data"
    },
    {
     "data": {
      "application/vnd.jupyter.widget-view+json": {
       "model_id": "b7b6550e98b24a42a8e13d162722f570",
       "version_major": 2,
       "version_minor": 0
      },
      "text/plain": [
       "Epoch 1655:   0%|          | 0/196 [00:00<?, ?it/s]"
      ]
     },
     "metadata": {},
     "output_type": "display_data"
    },
    {
     "data": {
      "application/vnd.jupyter.widget-view+json": {
       "model_id": "09fefa939f934c578009f478d7fe4844",
       "version_major": 2,
       "version_minor": 0
      },
      "text/plain": [
       "Epoch 1656:   0%|          | 0/196 [00:00<?, ?it/s]"
      ]
     },
     "metadata": {},
     "output_type": "display_data"
    },
    {
     "data": {
      "application/vnd.jupyter.widget-view+json": {
       "model_id": "372e0f763b6448abaccd683805b9c90c",
       "version_major": 2,
       "version_minor": 0
      },
      "text/plain": [
       "Epoch 1657:   0%|          | 0/196 [00:00<?, ?it/s]"
      ]
     },
     "metadata": {},
     "output_type": "display_data"
    },
    {
     "data": {
      "application/vnd.jupyter.widget-view+json": {
       "model_id": "c6cb91cd90d9400993a86761a6d0e47b",
       "version_major": 2,
       "version_minor": 0
      },
      "text/plain": [
       "Epoch 1658:   0%|          | 0/196 [00:00<?, ?it/s]"
      ]
     },
     "metadata": {},
     "output_type": "display_data"
    },
    {
     "data": {
      "application/vnd.jupyter.widget-view+json": {
       "model_id": "4888b3657a4349829b12939e79e28ab0",
       "version_major": 2,
       "version_minor": 0
      },
      "text/plain": [
       "Epoch 1659:   0%|          | 0/196 [00:00<?, ?it/s]"
      ]
     },
     "metadata": {},
     "output_type": "display_data"
    },
    {
     "data": {
      "application/vnd.jupyter.widget-view+json": {
       "model_id": "b751d3012c014720b72c39a9b9cb8fc7",
       "version_major": 2,
       "version_minor": 0
      },
      "text/plain": [
       "Epoch 1660:   0%|          | 0/196 [00:00<?, ?it/s]"
      ]
     },
     "metadata": {},
     "output_type": "display_data"
    },
    {
     "data": {
      "application/vnd.jupyter.widget-view+json": {
       "model_id": "e9353701055244f0af0a390e090c08c8",
       "version_major": 2,
       "version_minor": 0
      },
      "text/plain": [
       "Epoch 1661:   0%|          | 0/196 [00:00<?, ?it/s]"
      ]
     },
     "metadata": {},
     "output_type": "display_data"
    },
    {
     "data": {
      "application/vnd.jupyter.widget-view+json": {
       "model_id": "1bdc61515be7417dba01770bad0ebe3b",
       "version_major": 2,
       "version_minor": 0
      },
      "text/plain": [
       "Epoch 1662:   0%|          | 0/196 [00:00<?, ?it/s]"
      ]
     },
     "metadata": {},
     "output_type": "display_data"
    },
    {
     "data": {
      "application/vnd.jupyter.widget-view+json": {
       "model_id": "76971b4445f14e88b022ecf5a6abe7bd",
       "version_major": 2,
       "version_minor": 0
      },
      "text/plain": [
       "Epoch 1663:   0%|          | 0/196 [00:00<?, ?it/s]"
      ]
     },
     "metadata": {},
     "output_type": "display_data"
    },
    {
     "data": {
      "application/vnd.jupyter.widget-view+json": {
       "model_id": "d1d3183ee1b24234b260bb19689b53e5",
       "version_major": 2,
       "version_minor": 0
      },
      "text/plain": [
       "Epoch 1664:   0%|          | 0/196 [00:00<?, ?it/s]"
      ]
     },
     "metadata": {},
     "output_type": "display_data"
    },
    {
     "data": {
      "application/vnd.jupyter.widget-view+json": {
       "model_id": "b02b9c4f571f4f698c88b3f283cacc4d",
       "version_major": 2,
       "version_minor": 0
      },
      "text/plain": [
       "Epoch 1665:   0%|          | 0/196 [00:00<?, ?it/s]"
      ]
     },
     "metadata": {},
     "output_type": "display_data"
    },
    {
     "data": {
      "application/vnd.jupyter.widget-view+json": {
       "model_id": "a9a96cf873a34e10a767eca446cbc233",
       "version_major": 2,
       "version_minor": 0
      },
      "text/plain": [
       "Epoch 1666:   0%|          | 0/196 [00:00<?, ?it/s]"
      ]
     },
     "metadata": {},
     "output_type": "display_data"
    },
    {
     "data": {
      "application/vnd.jupyter.widget-view+json": {
       "model_id": "6e8876697aba47b9b0f9866d02bd518a",
       "version_major": 2,
       "version_minor": 0
      },
      "text/plain": [
       "Epoch 1667:   0%|          | 0/196 [00:00<?, ?it/s]"
      ]
     },
     "metadata": {},
     "output_type": "display_data"
    },
    {
     "data": {
      "application/vnd.jupyter.widget-view+json": {
       "model_id": "4738bda8228b49eea7d8380fe48dcac3",
       "version_major": 2,
       "version_minor": 0
      },
      "text/plain": [
       "Epoch 1668:   0%|          | 0/196 [00:00<?, ?it/s]"
      ]
     },
     "metadata": {},
     "output_type": "display_data"
    },
    {
     "data": {
      "application/vnd.jupyter.widget-view+json": {
       "model_id": "3fcd64b916a44d20b9badf449682e918",
       "version_major": 2,
       "version_minor": 0
      },
      "text/plain": [
       "Epoch 1669:   0%|          | 0/196 [00:00<?, ?it/s]"
      ]
     },
     "metadata": {},
     "output_type": "display_data"
    },
    {
     "data": {
      "application/vnd.jupyter.widget-view+json": {
       "model_id": "a0c08b0ad52a47b0b2a7b826c9957533",
       "version_major": 2,
       "version_minor": 0
      },
      "text/plain": [
       "Epoch 1670:   0%|          | 0/196 [00:00<?, ?it/s]"
      ]
     },
     "metadata": {},
     "output_type": "display_data"
    },
    {
     "data": {
      "application/vnd.jupyter.widget-view+json": {
       "model_id": "2943b1fe7196448d8a4034b1e4ea1493",
       "version_major": 2,
       "version_minor": 0
      },
      "text/plain": [
       "Epoch 1671:   0%|          | 0/196 [00:00<?, ?it/s]"
      ]
     },
     "metadata": {},
     "output_type": "display_data"
    },
    {
     "data": {
      "application/vnd.jupyter.widget-view+json": {
       "model_id": "3bfab91290dc4c859f214f3f171a52cf",
       "version_major": 2,
       "version_minor": 0
      },
      "text/plain": [
       "Epoch 1672:   0%|          | 0/196 [00:00<?, ?it/s]"
      ]
     },
     "metadata": {},
     "output_type": "display_data"
    },
    {
     "data": {
      "application/vnd.jupyter.widget-view+json": {
       "model_id": "9ec5b15d96014c4bbdc49eb6076e4ea2",
       "version_major": 2,
       "version_minor": 0
      },
      "text/plain": [
       "Epoch 1673:   0%|          | 0/196 [00:00<?, ?it/s]"
      ]
     },
     "metadata": {},
     "output_type": "display_data"
    },
    {
     "data": {
      "application/vnd.jupyter.widget-view+json": {
       "model_id": "324978504fad4cd29f5404c57e9042c9",
       "version_major": 2,
       "version_minor": 0
      },
      "text/plain": [
       "Epoch 1674:   0%|          | 0/196 [00:00<?, ?it/s]"
      ]
     },
     "metadata": {},
     "output_type": "display_data"
    },
    {
     "data": {
      "application/vnd.jupyter.widget-view+json": {
       "model_id": "6eebc1f4d7da423393c780047fac3275",
       "version_major": 2,
       "version_minor": 0
      },
      "text/plain": [
       "Epoch 1675:   0%|          | 0/196 [00:00<?, ?it/s]"
      ]
     },
     "metadata": {},
     "output_type": "display_data"
    },
    {
     "data": {
      "application/vnd.jupyter.widget-view+json": {
       "model_id": "0431ecbabc6640aab84bc9e3d25868a7",
       "version_major": 2,
       "version_minor": 0
      },
      "text/plain": [
       "Epoch 1676:   0%|          | 0/196 [00:00<?, ?it/s]"
      ]
     },
     "metadata": {},
     "output_type": "display_data"
    },
    {
     "data": {
      "application/vnd.jupyter.widget-view+json": {
       "model_id": "809c95d5993f4af4b37c5506f52e3dca",
       "version_major": 2,
       "version_minor": 0
      },
      "text/plain": [
       "Epoch 1677:   0%|          | 0/196 [00:00<?, ?it/s]"
      ]
     },
     "metadata": {},
     "output_type": "display_data"
    },
    {
     "data": {
      "application/vnd.jupyter.widget-view+json": {
       "model_id": "97756520aecb4eaba3c6ae892dada985",
       "version_major": 2,
       "version_minor": 0
      },
      "text/plain": [
       "Epoch 1678:   0%|          | 0/196 [00:00<?, ?it/s]"
      ]
     },
     "metadata": {},
     "output_type": "display_data"
    },
    {
     "data": {
      "application/vnd.jupyter.widget-view+json": {
       "model_id": "12872b1167364e2fba1c287bd3503c2a",
       "version_major": 2,
       "version_minor": 0
      },
      "text/plain": [
       "Epoch 1679:   0%|          | 0/196 [00:00<?, ?it/s]"
      ]
     },
     "metadata": {},
     "output_type": "display_data"
    },
    {
     "data": {
      "application/vnd.jupyter.widget-view+json": {
       "model_id": "e0e2eaca5f9e4270b1a99a67e03c38b3",
       "version_major": 2,
       "version_minor": 0
      },
      "text/plain": [
       "Epoch 1680:   0%|          | 0/196 [00:00<?, ?it/s]"
      ]
     },
     "metadata": {},
     "output_type": "display_data"
    },
    {
     "data": {
      "application/vnd.jupyter.widget-view+json": {
       "model_id": "ac391240ab8a4a3baf5b0cacb0891717",
       "version_major": 2,
       "version_minor": 0
      },
      "text/plain": [
       "Epoch 1681:   0%|          | 0/196 [00:00<?, ?it/s]"
      ]
     },
     "metadata": {},
     "output_type": "display_data"
    },
    {
     "data": {
      "application/vnd.jupyter.widget-view+json": {
       "model_id": "215579918aae483fb9ec58cc4476f994",
       "version_major": 2,
       "version_minor": 0
      },
      "text/plain": [
       "Epoch 1682:   0%|          | 0/196 [00:00<?, ?it/s]"
      ]
     },
     "metadata": {},
     "output_type": "display_data"
    },
    {
     "data": {
      "application/vnd.jupyter.widget-view+json": {
       "model_id": "914344cf3540438193254f29a0df2596",
       "version_major": 2,
       "version_minor": 0
      },
      "text/plain": [
       "Epoch 1683:   0%|          | 0/196 [00:00<?, ?it/s]"
      ]
     },
     "metadata": {},
     "output_type": "display_data"
    },
    {
     "data": {
      "application/vnd.jupyter.widget-view+json": {
       "model_id": "cbc1e6d5eb544529bd5d31bd111dce4d",
       "version_major": 2,
       "version_minor": 0
      },
      "text/plain": [
       "Epoch 1684:   0%|          | 0/196 [00:00<?, ?it/s]"
      ]
     },
     "metadata": {},
     "output_type": "display_data"
    },
    {
     "data": {
      "application/vnd.jupyter.widget-view+json": {
       "model_id": "2d4da6c074114b9e86b0c6eb51f3151b",
       "version_major": 2,
       "version_minor": 0
      },
      "text/plain": [
       "Epoch 1685:   0%|          | 0/196 [00:00<?, ?it/s]"
      ]
     },
     "metadata": {},
     "output_type": "display_data"
    },
    {
     "data": {
      "application/vnd.jupyter.widget-view+json": {
       "model_id": "45126b9ed04d4612a2a75d815a396bad",
       "version_major": 2,
       "version_minor": 0
      },
      "text/plain": [
       "Epoch 1686:   0%|          | 0/196 [00:00<?, ?it/s]"
      ]
     },
     "metadata": {},
     "output_type": "display_data"
    },
    {
     "data": {
      "application/vnd.jupyter.widget-view+json": {
       "model_id": "18791cc28a774e38b6d1c0ef4c9a7487",
       "version_major": 2,
       "version_minor": 0
      },
      "text/plain": [
       "Epoch 1687:   0%|          | 0/196 [00:00<?, ?it/s]"
      ]
     },
     "metadata": {},
     "output_type": "display_data"
    },
    {
     "data": {
      "application/vnd.jupyter.widget-view+json": {
       "model_id": "62516bc67e704921afa038267316e4d1",
       "version_major": 2,
       "version_minor": 0
      },
      "text/plain": [
       "Epoch 1688:   0%|          | 0/196 [00:00<?, ?it/s]"
      ]
     },
     "metadata": {},
     "output_type": "display_data"
    },
    {
     "data": {
      "application/vnd.jupyter.widget-view+json": {
       "model_id": "98733e80392241e880620dfa240221e3",
       "version_major": 2,
       "version_minor": 0
      },
      "text/plain": [
       "Epoch 1689:   0%|          | 0/196 [00:00<?, ?it/s]"
      ]
     },
     "metadata": {},
     "output_type": "display_data"
    },
    {
     "data": {
      "application/vnd.jupyter.widget-view+json": {
       "model_id": "d2d85b3dfc664cf4a25e6f1953c91ecc",
       "version_major": 2,
       "version_minor": 0
      },
      "text/plain": [
       "Epoch 1690:   0%|          | 0/196 [00:00<?, ?it/s]"
      ]
     },
     "metadata": {},
     "output_type": "display_data"
    },
    {
     "data": {
      "application/vnd.jupyter.widget-view+json": {
       "model_id": "ee9dbe4cd6b242a796256f24c9b14dbe",
       "version_major": 2,
       "version_minor": 0
      },
      "text/plain": [
       "Epoch 1691:   0%|          | 0/196 [00:00<?, ?it/s]"
      ]
     },
     "metadata": {},
     "output_type": "display_data"
    },
    {
     "data": {
      "application/vnd.jupyter.widget-view+json": {
       "model_id": "f7206a6179bb463696b99b8fb3cd910c",
       "version_major": 2,
       "version_minor": 0
      },
      "text/plain": [
       "Epoch 1692:   0%|          | 0/196 [00:00<?, ?it/s]"
      ]
     },
     "metadata": {},
     "output_type": "display_data"
    },
    {
     "data": {
      "application/vnd.jupyter.widget-view+json": {
       "model_id": "4a6a3fad387046f5899d90feed1dcfed",
       "version_major": 2,
       "version_minor": 0
      },
      "text/plain": [
       "Epoch 1693:   0%|          | 0/196 [00:00<?, ?it/s]"
      ]
     },
     "metadata": {},
     "output_type": "display_data"
    },
    {
     "data": {
      "application/vnd.jupyter.widget-view+json": {
       "model_id": "385a2a164fac4b859bfe6fc5e1ea56f0",
       "version_major": 2,
       "version_minor": 0
      },
      "text/plain": [
       "Epoch 1694:   0%|          | 0/196 [00:00<?, ?it/s]"
      ]
     },
     "metadata": {},
     "output_type": "display_data"
    },
    {
     "data": {
      "application/vnd.jupyter.widget-view+json": {
       "model_id": "049b93bcded54362828913b30df004e4",
       "version_major": 2,
       "version_minor": 0
      },
      "text/plain": [
       "Epoch 1695:   0%|          | 0/196 [00:00<?, ?it/s]"
      ]
     },
     "metadata": {},
     "output_type": "display_data"
    },
    {
     "data": {
      "application/vnd.jupyter.widget-view+json": {
       "model_id": "74a4bb6281eb457894594018c00c4c6f",
       "version_major": 2,
       "version_minor": 0
      },
      "text/plain": [
       "Epoch 1696:   0%|          | 0/196 [00:00<?, ?it/s]"
      ]
     },
     "metadata": {},
     "output_type": "display_data"
    },
    {
     "name": "stdout",
     "output_type": "stream",
     "text": [
      "⏰ 4-hour limit reached. Saving model and exiting...\n",
      "Model saved to ddpm_superfinal_model_final.pt\n"
     ]
    }
   ],
   "source": [
    "from torchvision.utils import save_image\n",
    "import os\n",
    "import time\n",
    "import torch\n",
    "\n",
    "# Ensure all required variables are defined\n",
    "device = torch.device(\"cuda\" if torch.cuda.is_available() else \"cpu\")\n",
    "\n",
    "model = SimpleUnet()\n",
    "if torch.cuda.device_count() > 1:\n",
    "    print(f\"Using {torch.cuda.device_count()} GPUs\")\n",
    "    model = nn.DataParallel(model)\n",
    "model = model.to(device)\n",
    "\n",
    "optimizer = torch.optim.Adam(model.parameters(), lr=1e-4)\n",
    "\n",
    "# Image saving folder\n",
    "os.makedirs(\"ddpm_superfinal_generated_samples\", exist_ok=True)\n",
    "\n",
    "# Time limit setup (4 hours)\n",
    "start_time = time.time()\n",
    "time_limit = 4 * 60 * 60  # 4 hours in seconds\n",
    "\n",
    "# Training loop\n",
    "losses_epochwise = []\n",
    "\n",
    "print(\"Starting training...\")\n",
    "for epoch in range(5000):\n",
    "    model.train()\n",
    "    pbar = tqdm(dataloader, desc=f\"Epoch {epoch+1}\")\n",
    "    losses = []\n",
    "\n",
    "    for step, (x, _) in enumerate(pbar):\n",
    "        x = x.to(device, non_blocking=True)\n",
    "        t = torch.randint(0, T, (x.shape[0],), device=device).long()\n",
    "        loss = get_loss(model, x, t)\n",
    "\n",
    "        optimizer.zero_grad()\n",
    "        loss.backward()\n",
    "        optimizer.step()\n",
    "\n",
    "        losses.append(loss.item())\n",
    "        pbar.set_description(f\"Epoch {epoch+1} | Loss: {np.mean(losses):.4f}\")\n",
    "\n",
    "    losses_epochwise.append(np.mean(losses))\n",
    "\n",
    "    # Save generated samples every 10 epochs\n",
    "    if (epoch + 1) % 10 == 0:\n",
    "        model.eval()\n",
    "        with torch.no_grad():\n",
    "            x = torch.randn(16, 3, 32, 32, device=device)\n",
    "            for i in reversed(range(T)):\n",
    "                t = torch.full((x.size(0),), i, device=device, dtype=torch.long)\n",
    "                beta_t = betas[i]\n",
    "                alpha_t = alphas[i]\n",
    "                alpha_hat_t = alpha_hat[i]\n",
    "\n",
    "                predicted_noise = model(x, t)\n",
    "                x = (1 / torch.sqrt(alpha_t)) * (\n",
    "                    x - ((1 - alpha_t) / torch.sqrt(1 - alpha_hat_t)) * predicted_noise\n",
    "                )\n",
    "                if i > 0:\n",
    "                    x += torch.sqrt(beta_t) * torch.randn_like(x)\n",
    "\n",
    "            x = (x.clamp(-1, 1) + 1) / 2\n",
    "            save_image(x, f\"ddpm_superfinal_generated_samples/epoch_{epoch+1}.png\", nrow=4)\n",
    "\n",
    "    # Check time limit\n",
    "    elapsed = time.time() - start_time\n",
    "    if elapsed >= time_limit:\n",
    "        print(\"4-hour limit reached. Saving model and exiting...\")\n",
    "        torch.save({\n",
    "            \"model_state_dict\": model.state_dict(),\n",
    "            \"optimizer_state_dict\": optimizer.state_dict(),\n",
    "            \"epoch\": epoch + 1,\n",
    "            \"losses\": losses_epochwise\n",
    "        }, \"ddpm_superfinal_model_final.pt\")\n",
    "        print(\"Model saved to ddpm_superfinal_model_final.pt\")\n",
    "        break\n",
    "\n",
    "# Save model if time limit not hit\n",
    "if elapsed < time_limit:\n",
    "    print(\"Training completed within time. Saving final model...\")\n",
    "    torch.save({\n",
    "        \"model_state_dict\": model.state_dict(),\n",
    "        \"optimizer_state_dict\": optimizer.state_dict(),\n",
    "        \"epoch\": 5000,\n",
    "        \"losses\": losses_epochwise\n",
    "    }, \"ddpm_superfinal_model_final.pt\")\n",
    "    print(\"Model saved to ddpm_superfinal_model_final.pt\")"
   ]
  },
  {
   "cell_type": "code",
   "execution_count": 21,
   "id": "6b937039-18d6-4eef-87a9-311da24de169",
   "metadata": {},
   "outputs": [
    {
     "data": {
      "image/png": "[encoded data removed]",
      "text/plain": [
       "<Figure size 600x600 with 1 Axes>"
      ]
     },
     "metadata": {},
     "output_type": "display_data"
    }
   ],
   "source": [
    "@torch.no_grad()\n",
    "def sample_plot_image_ddim(model, n=16, img_size=32, eta=0.0):\n",
    "    model.eval()\n",
    "    x = torch.randn((n, 3, img_size, img_size), device=device)\n",
    "\n",
    "    for t in reversed(range(1, T)):\n",
    "        t_batch = torch.full((n,), t, device=device, dtype=torch.long)\n",
    "\n",
    "        predicted_noise = model(x, t_batch)\n",
    "        alpha_t = alpha_hat[t]\n",
    "        alpha_t_prev = alpha_hat[t - 1] if t > 0 else alpha_hat[0]\n",
    "        beta_t = betas[t]\n",
    "\n",
    "        # Estimate x0\n",
    "        x0_pred = (x - torch.sqrt(1 - alpha_t) * predicted_noise) / torch.sqrt(alpha_t)\n",
    "\n",
    "        # DDIM-like update\n",
    "        sigma = eta * torch.sqrt((1 - alpha_t_prev) / (1 - alpha_t) * beta_t)\n",
    "        noise = torch.randn_like(x) if eta > 0 else 0\n",
    "\n",
    "        x = torch.sqrt(alpha_t_prev) * x0_pred + torch.sqrt(1 - alpha_t_prev - sigma**2) * predicted_noise + sigma * noise\n",
    "\n",
    "    # Final normalization\n",
    "    x = (x.clamp(-1, 1) + 1) / 2\n",
    "    grid = make_grid(x, nrow=4)\n",
    "    plt.figure(figsize=(6, 6))\n",
    "    plt.imshow(grid.permute(1, 2, 0).cpu().numpy())\n",
    "    plt.axis('off')\n",
    "    plt.show()\n",
    "sample_plot_image_ddim(model, eta=0.0)"
   ]
  },
  {
   "cell_type": "code",
   "execution_count": 22,
   "id": "486238d2-fb1c-4f9a-802f-6ab3cfdba84e",
   "metadata": {},
   "outputs": [],
   "source": [
    "device = torch.device('cuda' if torch.cuda.is_available() else 'cpu')"
   ]
  },
  {
   "cell_type": "code",
   "execution_count": 23,
   "id": "4d7afd2f-d426-4c3a-b877-019cc113ecb4",
   "metadata": {},
   "outputs": [
    {
     "data": {
      "application/vnd.jupyter.widget-view+json": {
       "model_id": "1ba7cac4fb6f4298b2ed8c825e528eb0",
       "version_major": 2,
       "version_minor": 0
      },
      "text/plain": [
       "Generating fake images:   0%|          | 0/1000 [00:00<?, ?it/s]"
      ]
     },
     "metadata": {},
     "output_type": "display_data"
    },
    {
     "ename": "NameError",
     "evalue": "name 'CIFAR10' is not defined",
     "output_type": "error",
     "traceback": [
      "\u001b[0;31m---------------------------------------------------------------------------\u001b[0m",
      "\u001b[0;31mNameError\u001b[0m                                 Traceback (most recent call last)",
      "Cell \u001b[0;32mIn[23], line 53\u001b[0m\n\u001b[1;32m     49\u001b[0m \u001b[38;5;66;03m# ----------------------------\u001b[39;00m\n\u001b[1;32m     50\u001b[0m \u001b[38;5;66;03m# FULL EXECUTION\u001b[39;00m\n\u001b[1;32m     51\u001b[0m \u001b[38;5;66;03m# ----------------------------\u001b[39;00m\n\u001b[1;32m     52\u001b[0m generate_images(model)    \u001b[38;5;66;03m# model must be your trained SimpleUnet or DDPM model\u001b[39;00m\n\u001b[0;32m---> 53\u001b[0m \u001b[43msave_real_images\u001b[49m\u001b[43m(\u001b[49m\u001b[43m)\u001b[49m\n\u001b[1;32m     54\u001b[0m compute_fid(real_dir, gen_dir)\n",
      "Cell \u001b[0;32mIn[23], line 36\u001b[0m, in \u001b[0;36msave_real_images\u001b[0;34m(count)\u001b[0m\n\u001b[1;32m     30\u001b[0m \u001b[38;5;28;01mdef\u001b[39;00m\u001b[38;5;250m \u001b[39m\u001b[38;5;21msave_real_images\u001b[39m(count\u001b[38;5;241m=\u001b[39m\u001b[38;5;241m1000\u001b[39m):\n\u001b[1;32m     31\u001b[0m     transform \u001b[38;5;241m=\u001b[39m TF\u001b[38;5;241m.\u001b[39mCompose([\n\u001b[1;32m     32\u001b[0m         TF\u001b[38;5;241m.\u001b[39mResize(\u001b[38;5;241m32\u001b[39m),\n\u001b[1;32m     33\u001b[0m         TF\u001b[38;5;241m.\u001b[39mToTensor(),\n\u001b[1;32m     34\u001b[0m         TF\u001b[38;5;241m.\u001b[39mLambda(\u001b[38;5;28;01mlambda\u001b[39;00m t: (t \u001b[38;5;241m*\u001b[39m \u001b[38;5;241m2\u001b[39m) \u001b[38;5;241m-\u001b[39m \u001b[38;5;241m1\u001b[39m)  \u001b[38;5;66;03m# Match your model's normalization\u001b[39;00m\n\u001b[1;32m     35\u001b[0m     ])\n\u001b[0;32m---> 36\u001b[0m     real_dataset \u001b[38;5;241m=\u001b[39m \u001b[43mCIFAR10\u001b[49m(root\u001b[38;5;241m=\u001b[39m\u001b[38;5;124m'\u001b[39m\u001b[38;5;124m./data\u001b[39m\u001b[38;5;124m'\u001b[39m, train\u001b[38;5;241m=\u001b[39m\u001b[38;5;28;01mTrue\u001b[39;00m, download\u001b[38;5;241m=\u001b[39m\u001b[38;5;28;01mTrue\u001b[39;00m, transform\u001b[38;5;241m=\u001b[39mtransform)\n\u001b[1;32m     38\u001b[0m     \u001b[38;5;28;01mfor\u001b[39;00m i \u001b[38;5;129;01min\u001b[39;00m tqdm(\u001b[38;5;28mrange\u001b[39m(count), desc\u001b[38;5;241m=\u001b[39m\u001b[38;5;124m\"\u001b[39m\u001b[38;5;124mSaving real CIFAR-10 images\u001b[39m\u001b[38;5;124m\"\u001b[39m):\n\u001b[1;32m     39\u001b[0m         img, _ \u001b[38;5;241m=\u001b[39m real_dataset[i]\n",
      "\u001b[0;31mNameError\u001b[0m: name 'CIFAR10' is not defined"
     ]
    }
   ],
   "source": [
    "import torchvision.transforms as TF\n",
    "\n",
    "gen_dir = './new_generated'\n",
    "real_dir = './real'\n",
    "os.makedirs(gen_dir, exist_ok=True)\n",
    "os.makedirs(real_dir, exist_ok=True)\n",
    "\n",
    "# ----------------------------\n",
    "# IMAGE GENERATION (Reverse Sampling)\n",
    "# ----------------------------\n",
    "@torch.no_grad()\n",
    "def generate_images(model, count=1000):\n",
    "    model.eval()\n",
    "    for i in tqdm(range(count), desc=\"Generating fake images\"):\n",
    "        x = torch.randn((1, 3, 32, 32), device=device)\n",
    "        for t in reversed(range(T)):\n",
    "            t_batch = torch.full((1,), t, device=device, dtype=torch.long)\n",
    "            pred = model(x, t_batch)\n",
    "            alpha = alphas[t]\n",
    "            alpha_hat_t = alpha_hat[t]\n",
    "            beta = betas[t]\n",
    "            noise = torch.randn_like(x) if t > 0 else 0\n",
    "            x = (1 / torch.sqrt(alpha)) * (x - ((1 - alpha) / torch.sqrt(1 - alpha_hat_t)) * pred) + torch.sqrt(beta) * noise\n",
    "        x = (x.clamp(-1, 1) + 1) / 2\n",
    "        save_image(x, os.path.join(gen_dir, f\"{i}.png\"))\n",
    "\n",
    "# ----------------------------\n",
    "# SAVE REAL CIFAR-10 IMAGES\n",
    "# ----------------------------\n",
    "def save_real_images(count=1000):\n",
    "    transform = TF.Compose([\n",
    "        TF.Resize(32),\n",
    "        TF.ToTensor(),\n",
    "        TF.Lambda(lambda t: (t * 2) - 1)  # Match your model's normalization\n",
    "    ])\n",
    "    real_dataset = CIFAR10(root='./data', train=True, download=True, transform=transform)\n",
    "    \n",
    "    for i in tqdm(range(count), desc=\"Saving real CIFAR-10 images\"):\n",
    "        img, _ = real_dataset[i]\n",
    "        save_image((img + 1) / 2, os.path.join(real_dir, f\"{i}.png\"))  # Un-normalize before saving\n",
    "\n",
    "# ----------------------------\n",
    "# COMPUTE FID\n",
    "# ----------------------------\n",
    "def compute_fid(real_dir, gen_dir):\n",
    "    fid = fid_score.calculate_fid_given_paths([real_dir, gen_dir], batch_size=50, device=device, dims=2048)\n",
    "    print(f\"\\nFID Score: {fid:.2f}\")\n",
    "\n",
    "# ----------------------------\n",
    "# FULL EXECUTION\n",
    "# ----------------------------\n",
    "generate_images(model)    # model must be your trained SimpleUnet or DDPM model\n",
    "save_real_images()\n",
    "compute_fid(real_dir, gen_dir)"
   ]
  },
  {
   "cell_type": "code",
   "execution_count": 24,
   "id": "926a6924-1bbc-45d6-93ff-ad459576d78d",
   "metadata": {},
   "outputs": [
    {
     "name": "stderr",
     "output_type": "stream",
     "text": [
      "Saving real CIFAR-10 test images: 100%|██████████| 1000/1000 [00:03<00:00, 308.84it/s]\n"
     ]
    }
   ],
   "source": [
    "import os\n",
    "from torchvision.datasets import CIFAR10\n",
    "from torchvision import transforms as TF\n",
    "from torchvision.utils import save_image\n",
    "from tqdm import tqdm\n",
    "\n",
    "def save_real_images_to_real_dir(count=1000, out_dir='./real'):\n",
    "    os.makedirs(out_dir, exist_ok=True)\n",
    "\n",
    "    transform = TF.Compose([\n",
    "        TF.ToTensor(),\n",
    "        TF.Lambda(lambda t: (t * 2) - 1)  # match DDPM training normalization\n",
    "    ])\n",
    "\n",
    "    dataset = CIFAR10(root=\"./data\", train=False, download=True, transform=transform)\n",
    "\n",
    "    for i in tqdm(range(count), desc=\"Saving real CIFAR-10 test images\"):\n",
    "        img, _ = dataset[i]\n",
    "        save_image((img + 1) / 2, os.path.join(out_dir, f\"{i}.png\"))  # scale to [0,1] for FID\n",
    "\n",
    "# Call the function\n",
    "save_real_images_to_real_dir()"
   ]
  },
  {
   "cell_type": "code",
   "execution_count": 25,
   "id": "f981a705-c4c9-4050-955e-37b3b332b350",
   "metadata": {},
   "outputs": [
    {
     "name": "stderr",
     "output_type": "stream",
     "text": [
      "100%|██████████| 10/10 [00:01<00:00,  7.89it/s]\n",
      "100%|██████████| 10/10 [00:00<00:00, 13.79it/s]\n"
     ]
    },
    {
     "name": "stdout",
     "output_type": "stream",
     "text": [
      "\n",
      " FID Score: 103.92\n"
     ]
    }
   ],
   "source": [
    "import torch\n",
    "from pytorch_fid import fid_score\n",
    "\n",
    "# Paths to image folders\n",
    "gen_dir = './new_generated'\n",
    "real_dir = './real'\n",
    "\n",
    "# Compute FID\n",
    "device = torch.device('cuda' if torch.cuda.is_available() else 'cpu')\n",
    "fid = fid_score.calculate_fid_given_paths([real_dir, gen_dir],\n",
    "                                          batch_size=100,\n",
    "                                          device=device,\n",
    "                                          dims=2048)\n",
    "\n",
    "print(f\"\\n FID Score: {fid:.2f}\")"
   ]
  },
  {
   "cell_type": "code",
   "execution_count": 26,
   "id": "5f00845a-3753-4e3b-95fb-864573525f5f",
   "metadata": {},
   "outputs": [
    {
     "data": {
      "image/png": "[encoded data removed]",
      "text/plain": [
       "<Figure size 800x500 with 1 Axes>"
      ]
     },
     "metadata": {},
     "output_type": "display_data"
    }
   ],
   "source": [
    "import matplotlib.pyplot as plt\n",
    "\n",
    "# Plot training loss curve\n",
    "plt.figure(figsize=(8, 5))\n",
    "plt.plot(losses_epochwise, label=\"Training Loss\")\n",
    "plt.xlabel(\"Epoch\")\n",
    "plt.ylabel(\"MSE Loss\")\n",
    "plt.title(\"Training Loss Curve\")\n",
    "plt.grid(True)\n",
    "plt.legend()\n",
    "plt.tight_layout()\n",
    "plt.show()"
   ]
  },
  {
   "cell_type": "code",
   "execution_count": 27,
   "id": "6de85432-969f-4c1b-ab95-a828f6bbd18b",
   "metadata": {},
   "outputs": [
    {
     "data": {
      "image/png": "[encoded data removed]",
      "text/plain": [
       "<Figure size 1200x250 with 1 Axes>"
      ]
     },
     "metadata": {},
     "output_type": "display_data"
    }
   ],
   "source": [
    "import matplotlib.pyplot as plt\n",
    "from torchvision.utils import make_grid\n",
    "\n",
    "@torch.no_grad()\n",
    "def plot_1x6_generated_samples(model):\n",
    "    model.eval()\n",
    "    x = torch.randn(6, 3, 32, 32).to(device)\n",
    "\n",
    "    for t in reversed(range(T)):\n",
    "        t_batch = torch.full((x.size(0),), t, device=device, dtype=torch.long)\n",
    "        pred = model(x, t_batch)\n",
    "        alpha = alphas[t]\n",
    "        alpha_hat_t = alpha_hat[t]\n",
    "        beta = betas[t]\n",
    "        noise = torch.randn_like(x) if t > 0 else 0\n",
    "        x = (1 / torch.sqrt(alpha)) * (\n",
    "            x - ((1 - alpha) / torch.sqrt(1 - alpha_hat_t)) * pred\n",
    "        ) + torch.sqrt(beta) * noise\n",
    "\n",
    "    x = (x.clamp(-1, 1) + 1) / 2  # scale to [0, 1]\n",
    "    grid = make_grid(x, nrow=6)  # 1 row, 6 columns\n",
    "\n",
    "    plt.figure(figsize=(12, 2.5))\n",
    "    plt.imshow(grid.permute(1, 2, 0).cpu().numpy())\n",
    "    plt.axis(\"off\")\n",
    "    plt.title(\"Generated Samples (1x6 Grid)\")\n",
    "    plt.show()\n",
    "\n",
    "# Run the function\n",
    "plot_1x6_generated_samples(model)"
   ]
  },
  {
   "cell_type": "code",
   "execution_count": null,
   "id": "2f3836e7-a03b-4431-bb68-9cc5a9e854bb",
   "metadata": {},
   "outputs": [],
   "source": []
  }
 ],
 "metadata": {
  "kernelspec": {
   "display_name": "Python 3 (ipykernel)",
   "language": "python",
   "name": "python3"
  },
  "language_info": {
   "codemirror_mode": {
    "name": "ipython",
    "version": 3
   },
   "file_extension": ".py",
   "mimetype": "text/x-python",
   "name": "python",
   "nbconvert_exporter": "python",
   "pygments_lexer": "ipython3",
   "version": "3.12.9"
  }
 },
 "nbformat": 4,
 "nbformat_minor": 5
}
